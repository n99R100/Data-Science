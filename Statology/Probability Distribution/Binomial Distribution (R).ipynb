{
 "cells": [
  {
   "cell_type": "markdown",
   "id": "4191f6f5-0c9b-40e9-aae2-61f482d80486",
   "metadata": {
    "tags": []
   },
   "source": [
    "# Binomial Experiments\n",
    "\n",
    "A binomial experiment is an experiment that has the following properties:\n",
    "\n",
    "- The experiment consists of n repeated trials.\n",
    "- Each trial has only two possible outcomes.\n",
    "- The probability of success, denoted p, is the same for each trial.\n",
    "- Each trial is independent.\n",
    "- The most obvious example of a binomial experiment is a coin flip. \n",
    "\n",
    "For example, suppose we flip a coin 10 times. This is a binomial experiment because it has the following four properties:\n",
    "\n",
    "- The experiment consists of n repeated trials – There are 10 trials.\n",
    "- Each trial has only two possible outcomes – heads or tails.\n",
    "- The probability of success, denoted p, is the same for each trial – If we define “success” as landing on heads, then the probability of success is exactly 0.5 for each trial.\n",
    "- Each trial is independent – The outcome of one coin flip does not affect the outcome of any other coin flip."
   ]
  },
  {
   "cell_type": "markdown",
   "id": "72f96ec0-bf6e-4e95-84ce-d4b5c72f1ba7",
   "metadata": {},
   "source": [
    "The binomial distribution has the following properties:\n",
    "\n",
    "* The mean of the distribution is $\\left(μ\\right) = np$\n",
    "\n",
    "* The variance of the distribution is $\\left(\\sigma^2\\right) = np(1-p)$\n",
    "\n",
    "* The standard deviation of the distribution is $\\left(\\sigma\\right) = \\sqrt{np(1-p)}$"
   ]
  },
  {
   "cell_type": "markdown",
   "id": "14a0db08-862e-4030-ba90-9d71549e5a88",
   "metadata": {},
   "source": [
    "## ```dbinom()``` Function\n",
    "\n",
    "This function is used to find probability at a particular value for a data that follows binomial distribution."
   ]
  },
  {
   "cell_type": "code",
   "execution_count": 1,
   "id": "7d045bce-9251-458d-a774-cb07111ca338",
   "metadata": {
    "tags": []
   },
   "outputs": [
    {
     "data": {
      "text/html": [
       "0.213845355122666"
      ],
      "text/latex": [
       "0.213845355122666"
      ],
      "text/markdown": [
       "0.213845355122666"
      ],
      "text/plain": [
       "[1] 0.2138454"
      ]
     },
     "metadata": {},
     "output_type": "display_data"
    }
   ],
   "source": [
    "dbinom(3, size = 13, prob = 1 / 6)"
   ]
  },
  {
   "cell_type": "code",
   "execution_count": 4,
   "id": "532792fa-8e90-4fe4-96e7-76642b5d29ce",
   "metadata": {
    "tags": []
   },
   "outputs": [
    {
     "data": {
      "image/png": "[encoded data removed]",
      "text/plain": [
       "Plot with title \"Binomial Distribution (n=20, p=0.5)\""
      ]
     },
     "metadata": {
      "image/png": {
       "height": 420,
       "width": 420
      }
     },
     "output_type": "display_data"
    }
   ],
   "source": [
    "success <- 0:20\n",
    "\n",
    "plot(success,dbinom(success,size=20,prob=.5),\n",
    "     type='h',\n",
    "     main='Binomial Distribution (n=20, p=0.5)',\n",
    "     ylab='Probability',\n",
    "     xlab ='Successes',\n",
    "     lwd=3)"
   ]
  },
  {
   "cell_type": "markdown",
   "id": "2509537d-6e58-4ceb-b5db-ea47e43044d8",
   "metadata": {},
   "source": [
    "## `pbinom()` Function\n",
    "The function pbinom() is used to find the cumulative probability of a data following binomial distribution till a given value."
   ]
  },
  {
   "cell_type": "code",
   "execution_count": 18,
   "id": "4e84df2c-28e1-4d4e-b5ac-90c8829d2892",
   "metadata": {
    "tags": []
   },
   "outputs": [
    {
     "data": {
      "text/html": [
       "0.841922621916511"
      ],
      "text/latex": [
       "0.841922621916511"
      ],
      "text/markdown": [
       "0.841922621916511"
      ],
      "text/plain": [
       "[1] 0.8419226"
      ]
     },
     "metadata": {},
     "output_type": "display_data"
    }
   ],
   "source": [
    "pbinom(3, size = 13, prob = 1 / 6)"
   ]
  },
  {
   "cell_type": "code",
   "execution_count": 19,
   "id": "41655725-720e-4f26-b18c-a848facc0601",
   "metadata": {
    "tags": []
   },
   "outputs": [
    {
     "data": {
      "image/png": "[encoded data removed]",
      "text/plain": [
       "plot without title"
      ]
     },
     "metadata": {
      "image/png": {
       "height": 420,
       "width": 420
      }
     },
     "output_type": "display_data"
    }
   ],
   "source": [
    "plot(0:10, pbinom(0:10, size = 10, prob = 1 / 6), type = \"l\")"
   ]
  },
  {
   "cell_type": "markdown",
   "id": "68076bfc-30db-4b0a-b525-dc0e6cf920ec",
   "metadata": {},
   "source": [
    "## `qbinom()` Function\n",
    "\n",
    "This function is used to find the nth quantile, that is if P(x <= k) is given, it finds k."
   ]
  },
  {
   "cell_type": "code",
   "execution_count": 20,
   "id": "43870a2d-7817-4145-bda9-96fdee7663c4",
   "metadata": {
    "tags": []
   },
   "outputs": [
    {
     "data": {
      "text/html": [
       "3"
      ],
      "text/latex": [
       "3"
      ],
      "text/markdown": [
       "3"
      ],
      "text/plain": [
       "[1] 3"
      ]
     },
     "metadata": {},
     "output_type": "display_data"
    }
   ],
   "source": [
    "qbinom(0.8419226, size = 13, prob = 1 / 6)"
   ]
  },
  {
   "cell_type": "code",
   "execution_count": 21,
   "id": "8736bcf0-c166-4224-9b34-d9df36804daf",
   "metadata": {
    "tags": []
   },
   "outputs": [],
   "source": [
    "x <- seq(0, 1, by = 0.1)\n",
    "y <- qbinom(x, size = 13, prob = 1 / 6)"
   ]
  },
  {
   "cell_type": "code",
   "execution_count": 22,
   "id": "5a36a86b-f605-452b-b62f-d8d699e7923c",
   "metadata": {
    "tags": []
   },
   "outputs": [
    {
     "data": {
      "image/png": "[encoded data removed]",
      "text/plain": [
       "plot without title"
      ]
     },
     "metadata": {
      "image/png": {
       "height": 420,
       "width": 420
      }
     },
     "output_type": "display_data"
    }
   ],
   "source": [
    "plot(x, y, type = 'l')"
   ]
  },
  {
   "cell_type": "markdown",
   "id": "fbb870a1-5404-4dd1-b329-9fd05d6f0cbf",
   "metadata": {},
   "source": [
    "## `rbinom()` Function\n",
    "\n",
    "This function generates n random variables of a particular probability."
   ]
  },
  {
   "cell_type": "code",
   "execution_count": 23,
   "id": "554d102e-9a8a-4439-9662-14aff9e19981",
   "metadata": {
    "tags": []
   },
   "outputs": [
    {
     "data": {
      "text/html": [
       "<style>\n",
       ".list-inline {list-style: none; margin:0; padding: 0}\n",
       ".list-inline>li {display: inline-block}\n",
       ".list-inline>li:not(:last-child)::after {content: \"\\00b7\"; padding: 0 .5ex}\n",
       "</style>\n",
       "<ol class=list-inline><li>1</li><li>4</li><li>4</li><li>3</li><li>3</li><li>3</li><li>2</li><li>1</li></ol>\n"
      ],
      "text/latex": [
       "\\begin{enumerate*}\n",
       "\\item 1\n",
       "\\item 4\n",
       "\\item 4\n",
       "\\item 3\n",
       "\\item 3\n",
       "\\item 3\n",
       "\\item 2\n",
       "\\item 1\n",
       "\\end{enumerate*}\n"
      ],
      "text/markdown": [
       "1. 1\n",
       "2. 4\n",
       "3. 4\n",
       "4. 3\n",
       "5. 3\n",
       "6. 3\n",
       "7. 2\n",
       "8. 1\n",
       "\n",
       "\n"
      ],
      "text/plain": [
       "[1] 1 4 4 3 3 3 2 1"
      ]
     },
     "metadata": {},
     "output_type": "display_data"
    }
   ],
   "source": [
    "rbinom(8, size = 13, prob = 1 / 6)"
   ]
  },
  {
   "cell_type": "code",
   "execution_count": 24,
   "id": "14a0f23a-cdf3-4df6-9125-9116849c5269",
   "metadata": {
    "tags": []
   },
   "outputs": [
    {
     "data": {
      "image/png": "[encoded data removed]",
      "text/plain": [
       "Plot with title \"Histogram of rbinom(8, size = 13, prob = 1/6)\""
      ]
     },
     "metadata": {
      "image/png": {
       "height": 420,
       "width": 420
      }
     },
     "output_type": "display_data"
    }
   ],
   "source": [
    "hist(rbinom(8, size = 13, prob = 1 / 6))"
   ]
  },
  {
   "cell_type": "markdown",
   "id": "4f304005-9819-484d-8b32-bae6e071ad2c",
   "metadata": {},
   "source": [
    "# Perform Binomial Trials"
   ]
  },
  {
   "cell_type": "code",
   "execution_count": 26,
   "id": "17aed63f-3408-4970-be0e-4709e5ed7950",
   "metadata": {
    "tags": []
   },
   "outputs": [
    {
     "name": "stdout",
     "output_type": "stream",
     "text": [
      " [1] 0 1 1 1 1 1 1 1 1 1\n"
     ]
    }
   ],
   "source": [
    "result <- rbinom(10, 1, 0.7)\n",
    "print(result)"
   ]
  },
  {
   "cell_type": "code",
   "execution_count": 27,
   "id": "6a5540fc-e4bc-4b93-a45b-b0508d7442a8",
   "metadata": {
    "tags": []
   },
   "outputs": [
    {
     "data": {
      "text/plain": [
       "   Min. 1st Qu.  Median    Mean 3rd Qu.    Max. \n",
       "  0.000   0.000   1.000   0.689   1.000   1.000 "
      ]
     },
     "metadata": {},
     "output_type": "display_data"
    }
   ],
   "source": [
    "result <- rbinom(1000, 1, 0.7)\n",
    "summary(result)"
   ]
  },
  {
   "cell_type": "code",
   "execution_count": 28,
   "id": "53a97b83-241e-4044-8709-3bed2b579e96",
   "metadata": {
    "tags": []
   },
   "outputs": [
    {
     "data": {
      "image/png": "[encoded data removed]",
      "text/plain": [
       "Plot with title \"Histogram of result\""
      ]
     },
     "metadata": {
      "image/png": {
       "height": 420,
       "width": 420
      }
     },
     "output_type": "display_data"
    }
   ],
   "source": [
    "result <- rbinom(100, 1, 0.5)\n",
    "hist(result)"
   ]
  },
  {
   "cell_type": "markdown",
   "id": "dfbcf322-3369-4dc2-971a-2ab038dc2212",
   "metadata": {},
   "source": [
    "# <font color = red> Problem 1 </font>\n",
    "\n",
    "**Question:** Bob makes 60% of his free-throw attempts. If he shoots 12 free throws, what is the probability that he makes exactly 10?"
   ]
  },
  {
   "cell_type": "code",
   "execution_count": 30,
   "id": "e8df3437-4165-4dfe-b725-6fa298f5a525",
   "metadata": {
    "tags": []
   },
   "outputs": [
    {
     "data": {
      "text/html": [
       "0.063852281856"
      ],
      "text/latex": [
       "0.063852281856"
      ],
      "text/markdown": [
       "0.063852281856"
      ],
      "text/plain": [
       "[1] 0.06385228"
      ]
     },
     "metadata": {},
     "output_type": "display_data"
    }
   ],
   "source": [
    "dbinom(10, size = 12, prob = 0.6)"
   ]
  },
  {
   "cell_type": "markdown",
   "id": "9db38f0d-708f-4a7a-97eb-55f84c2f309c",
   "metadata": {},
   "source": [
    "# <font color = red> Problem 2 </font>\n",
    "\n",
    "**Question:** The probability that a given student gets accepted to a certain college is 0.2. If 10 students apply, what is the probability that more than 4 get accepted?"
   ]
  },
  {
   "cell_type": "code",
   "execution_count": 35,
   "id": "2643c452-cf52-4735-b502-bfb9353d8563",
   "metadata": {
    "tags": []
   },
   "outputs": [
    {
     "data": {
      "text/html": [
       "0.0327934975999999"
      ],
      "text/latex": [
       "0.0327934975999999"
      ],
      "text/markdown": [
       "0.0327934975999999"
      ],
      "text/plain": [
       "[1] 0.0327935"
      ]
     },
     "metadata": {},
     "output_type": "display_data"
    }
   ],
   "source": [
    "1-pbinom(4, size = 10, prob = 0.2)"
   ]
  },
  {
   "cell_type": "markdown",
   "id": "8a7373a8-fe98-4d7c-8895-dc852ea1a959",
   "metadata": {},
   "source": [
    "# <font color = red> Problem 3 </font>\n",
    "\n",
    "**Question:** You flip a coin 12 times. What is the mean expected number of heads that will show up?"
   ]
  },
  {
   "cell_type": "code",
   "execution_count": 37,
   "id": "c56000fb-a46a-475b-a938-242439ba34bc",
   "metadata": {
    "tags": []
   },
   "outputs": [
    {
     "data": {
      "text/html": [
       "6"
      ],
      "text/latex": [
       "6"
      ],
      "text/markdown": [
       "6"
      ],
      "text/plain": [
       "[1] 6"
      ]
     },
     "metadata": {},
     "output_type": "display_data"
    }
   ],
   "source": [
    "0.5*12"
   ]
  },
  {
   "cell_type": "code",
   "execution_count": null,
   "id": "363c7870-766e-412b-90b3-adc57cb8adb6",
   "metadata": {},
   "outputs": [],
   "source": []
  }
 ],
 "metadata": {
  "kernelspec": {
   "display_name": "R",
   "language": "R",
   "name": "ir"
  },
  "language_info": {
   "codemirror_mode": "r",
   "file_extension": ".r",
   "mimetype": "text/x-r-source",
   "name": "R",
   "pygments_lexer": "r",
   "version": "4.3.1"
  }
 },
 "nbformat": 4,
 "nbformat_minor": 5
}
