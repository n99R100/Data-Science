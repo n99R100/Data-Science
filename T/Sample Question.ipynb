{
 "cells": [
  {
   "cell_type": "code",
   "execution_count": 1,
   "id": "a62f3902",
   "metadata": {},
   "outputs": [],
   "source": [
    "import numpy as np\n",
    "import sympy as sym\n",
    "\n",
    "import matplotlib as mat\n",
    "import mpl_toolkits as mpl\n",
    "import matplotlib.pyplot as plt\n",
    "from matplotlib.gridspec import GridSpec"
   ]
  },
  {
   "attachments": {
    "image-2.png": {
     "image/png": "[encoded data removed]"
    }
   },
   "cell_type": "markdown",
   "id": "c2339b55",
   "metadata": {},
   "source": [
    "![image-2.png](attachment:image-2.png)"
   ]
  },
  {
   "cell_type": "code",
   "execution_count": 3,
   "id": "12fd7e96",
   "metadata": {},
   "outputs": [],
   "source": [
    "x = sym.symbols('x')"
   ]
  },
  {
   "cell_type": "code",
   "execution_count": 4,
   "id": "39edafb8",
   "metadata": {},
   "outputs": [
    {
     "data": {
      "text/latex": [
       "$\\displaystyle 5 e^{2 x} - \\frac{e^{- 2 x}}{2}$"
      ],
      "text/plain": [
       "5*exp(2*x) - exp(-2*x)/2"
      ]
     },
     "execution_count": 4,
     "metadata": {},
     "output_type": "execute_result"
    }
   ],
   "source": [
    "s1 = sym.integrate(10*sym.exp(2*x) + sym.exp(-2*x),x)\n",
    "s1"
   ]
  },
  {
   "attachments": {
    "image.png": {
     "image/png": "[encoded data removed]"
    }
   },
   "cell_type": "markdown",
   "id": "421e4109",
   "metadata": {},
   "source": [
    "![image.png](attachment:image.png)"
   ]
  },
  {
   "cell_type": "code",
   "execution_count": 68,
   "id": "c797fded",
   "metadata": {},
   "outputs": [],
   "source": [
    "k = sym.symbols(\"k\", real = True)"
   ]
  },
  {
   "cell_type": "code",
   "execution_count": 69,
   "id": "4ebc5533",
   "metadata": {},
   "outputs": [
    {
     "data": {
      "text/latex": [
       "$\\displaystyle - \\frac{11 e^{2 k}}{2} + \\frac{11 e^{- 2 k}}{2}$"
      ],
      "text/plain": [
       "-11*exp(2*k)/2 + 11*exp(-2*k)/2"
      ]
     },
     "execution_count": 69,
     "metadata": {},
     "output_type": "execute_result"
    }
   ],
   "source": [
    "s2 = (s1.subs(x,-k) - s1.subs(x,k))\n",
    "s2"
   ]
  },
  {
   "attachments": {
    "image.png": {
     "image/png": "[encoded data removed]"
    }
   },
   "cell_type": "markdown",
   "id": "eba84cf2",
   "metadata": {},
   "source": [
    "![image.png](attachment:image.png)"
   ]
  },
  {
   "cell_type": "code",
   "execution_count": 70,
   "id": "4e98480e",
   "metadata": {
    "scrolled": true
   },
   "outputs": [
    {
     "data": {
      "text/latex": [
       "$\\displaystyle - \\frac{11 e^{2 k}}{2} + \\frac{11 e^{- 2 k}}{2} = -60$"
      ],
      "text/plain": [
       "Eq(-11*exp(2*k)/2 + 11*exp(-2*k)/2, -60)"
      ]
     },
     "execution_count": 70,
     "metadata": {},
     "output_type": "execute_result"
    }
   ],
   "source": [
    "eq = sym.Eq(s2,-60,evaluate=False)\n",
    "eq"
   ]
  },
  {
   "cell_type": "code",
   "execution_count": 71,
   "id": "e54a1807",
   "metadata": {},
   "outputs": [
    {
     "data": {
      "text/latex": [
       "$\\displaystyle - 11 e^{2 k} - 120 + 11 e^{- 2 k} = 0$"
      ],
      "text/plain": [
       "Eq(-11*exp(2*k) - 120 + 11*exp(-2*k), 0)"
      ]
     },
     "execution_count": 71,
     "metadata": {},
     "output_type": "execute_result"
    }
   ],
   "source": [
    "f = sym.Eq(eq.lhs*2+eq.rhs*2,0)\n",
    "f"
   ]
  },
  {
   "attachments": {
    "image.png": {
     "image/png": "[encoded data removed]"
    }
   },
   "cell_type": "markdown",
   "id": "7de5d60a",
   "metadata": {},
   "source": [
    "![image.png](attachment:image.png)"
   ]
  },
  {
   "cell_type": "code",
   "execution_count": 78,
   "id": "7ea0e6b9",
   "metadata": {},
   "outputs": [],
   "source": [
    "solk = sym.solve(f,k)"
   ]
  },
  {
   "cell_type": "code",
   "execution_count": 79,
   "id": "1e7aefb6",
   "metadata": {},
   "outputs": [
    {
     "data": {
      "text/plain": [
       "[log(sqrt(11)/11)]"
      ]
     },
     "execution_count": 79,
     "metadata": {},
     "output_type": "execute_result"
    }
   ],
   "source": [
    "solk"
   ]
  },
  {
   "cell_type": "code",
   "execution_count": 80,
   "id": "e22cf123",
   "metadata": {},
   "outputs": [
    {
     "data": {
      "text/latex": [
       "$\\displaystyle - \\frac{\\log{\\left(11 \\right)}}{2}$"
      ],
      "text/plain": [
       "-log(11)/2"
      ]
     },
     "execution_count": 80,
     "metadata": {},
     "output_type": "execute_result"
    }
   ],
   "source": [
    "solk[0].simplify()"
   ]
  },
  {
   "cell_type": "code",
   "execution_count": null,
   "id": "977893e2",
   "metadata": {},
   "outputs": [],
   "source": []
  }
 ],
 "metadata": {
  "kernelspec": {
   "display_name": "Python 3 (ipykernel)",
   "language": "python",
   "name": "python3"
  },
  "language_info": {
   "codemirror_mode": {
    "name": "ipython",
    "version": 3
   },
   "file_extension": ".py",
   "mimetype": "text/x-python",
   "name": "python",
   "nbconvert_exporter": "python",
   "pygments_lexer": "ipython3",
   "version": "3.11.3"
  }
 },
 "nbformat": 4,
 "nbformat_minor": 5
}
