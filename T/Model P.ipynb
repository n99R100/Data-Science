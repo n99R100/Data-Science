{
 "cells": [
  {
   "cell_type": "markdown",
   "id": "8efdad45",
   "metadata": {},
   "source": [
    "## Q 1:"
   ]
  },
  {
   "cell_type": "markdown",
   "id": "6604dbb1",
   "metadata": {},
   "source": [
    "You're given: $f: x \\rightarrow - 2x^2 + 6x - 1$ for $x \\in \\mathbb{R}$ where $-1 \\leq x \\leq 2$ and $g: x \\rightarrow - 2x^3 + 6x - 1$ for $x \\in \\mathbb{R}$ where $-1 \\leq x \\leq 2$."
   ]
  },
  {
   "cell_type": "markdown",
   "id": "5755c8e1",
   "metadata": {},
   "source": [
    "1. Plot both graph in a one of two sub figures.\n",
    "2. Plot zeros of both polynomial in one subplot of the second figure in scatter format.\n",
    "3. solve $f(x) = g(x)$ and plot the all real $x$ values in other subplot of the remaining subplot."
   ]
  },
  {
   "cell_type": "code",
   "execution_count": null,
   "id": "7407ce09",
   "metadata": {},
   "outputs": [],
   "source": []
  },
  {
   "cell_type": "markdown",
   "id": "d0d631d9",
   "metadata": {},
   "source": [
    "## Q 2:"
   ]
  },
  {
   "cell_type": "markdown",
   "id": "f878fdd4",
   "metadata": {},
   "source": [
    "You're given:\n",
    "\n",
    "$$\\begin{align*}\n",
    "f&: x \\rightarrow x^2 \\\\\n",
    "g&: x \\rightarrow -x^2  \\\\\n",
    "h&: x \\rightarrow x^2 \\sin(x) \\\\\n",
    "k&: x \\rightarrow -x^2 \\cos(x) \\\\\n",
    "\\end{align*}$$\n",
    "\n",
    "Let, $\\{x| x \\in \\mathbb {R}, -5 \\leq x \\leq 5 \\}$"
   ]
  },
  {
   "cell_type": "markdown",
   "id": "056de93e",
   "metadata": {},
   "source": [
    "* Use following Graph layout in `constrained` mode\n"
   ]
  },
  {
   "cell_type": "markdown",
   "id": "89ee084e",
   "metadata": {},
   "source": [
    "1. Plot $f(x),k(x)$ in one sub plot and plot $g(x), h(x)$ in another subplot.\n",
    "2. Prove that each pair are simulteneous equations and share common roots. (take interval $\\{ -3\\pi \\leq x \\leq 3\\pi \\}$)\n",
    "3. Shade area in both graphs where y values are simulteneously increasing and decreasing."
   ]
  },
  {
   "cell_type": "code",
   "execution_count": null,
   "id": "8eedbd65",
   "metadata": {},
   "outputs": [],
   "source": []
  },
  {
   "cell_type": "markdown",
   "id": "034ea756",
   "metadata": {},
   "source": [
    "## Q 3:"
   ]
  },
  {
   "cell_type": "markdown",
   "id": "00dac87b",
   "metadata": {},
   "source": [
    "* Plot and shade the solution regions\n",
    "    1. $3x^2 -13x -8 < 2$\n",
    "    2. $15 - 2x^2 \\leq -17$"
   ]
  },
  {
   "cell_type": "code",
   "execution_count": null,
   "id": "fe93dc2d",
   "metadata": {},
   "outputs": [],
   "source": []
  },
  {
   "cell_type": "markdown",
   "id": "87c06652",
   "metadata": {},
   "source": [
    "* Draw the graph of $y = x+ \\frac{12}{x} -5$ for $\\{ 1 \\leq x \\leq 8 \\}$. Find approximate solutions to the equations:\n",
    "   1. $x+ \\frac{12}{x} \\leq 9$\n",
    "   2. $2x - \\frac{12}{x} -12 = 0$"
   ]
  },
  {
   "cell_type": "code",
   "execution_count": null,
   "id": "031d2b30",
   "metadata": {},
   "outputs": [],
   "source": []
  }
 ],
 "metadata": {
  "kernelspec": {
   "display_name": "Python 3 (ipykernel)",
   "language": "python",
   "name": "python3"
  },
  "language_info": {
   "codemirror_mode": {
    "name": "ipython",
    "version": 3
   },
   "file_extension": ".py",
   "mimetype": "text/x-python",
   "name": "python",
   "nbconvert_exporter": "python",
   "pygments_lexer": "ipython3",
   "version": "3.11.3"
  }
 },
 "nbformat": 4,
 "nbformat_minor": 5
}
