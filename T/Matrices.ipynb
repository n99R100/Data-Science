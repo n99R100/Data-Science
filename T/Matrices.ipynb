{
 "cells": [
  {
   "cell_type": "markdown",
   "id": "441e63f9",
   "metadata": {},
   "source": [
    "# Matrices"
   ]
  },
  {
   "cell_type": "code",
   "execution_count": 64,
   "id": "a9eefd45",
   "metadata": {},
   "outputs": [],
   "source": [
    "import numpy as np\n",
    "import sympy as sp\n",
    "from sympy.matrices import inverse,"
   ]
  },
  {
   "cell_type": "code",
   "execution_count": 173,
   "id": "d8e54353",
   "metadata": {},
   "outputs": [],
   "source": [
    "import seaborn as sns\n",
    "import matplotlib.pyplot as plt\n",
    "from matplotlib.gridspec import GridSpec\n",
    "from matplotlib.gridspec import GridSpecFromSubplotSpec"
   ]
  },
  {
   "cell_type": "code",
   "execution_count": 174,
   "id": "47f36396",
   "metadata": {},
   "outputs": [],
   "source": [
    "sns.set_theme(context='notebook', style='ticks', palette='pastel', \n",
    "              font='sans-serif', font_scale=1, color_codes=True, rc=None)"
   ]
  },
  {
   "cell_type": "code",
   "execution_count": 387,
   "id": "18ad4587",
   "metadata": {},
   "outputs": [],
   "source": [
    "a = sp.symbols(f'a_0:10')\n",
    "b = sp.symbols(f'b_0:10')\n",
    "c = sp.symbols(f'c_0:10')"
   ]
  },
  {
   "cell_type": "code",
   "execution_count": 6,
   "id": "c34a9320",
   "metadata": {},
   "outputs": [
    {
     "data": {
      "text/latex": [
       "$\\displaystyle \\left[\\begin{matrix}a_{0} & a_{1}\\\\a_{2} & a_{3}\\end{matrix}\\right]$"
      ],
      "text/plain": [
       "Matrix([\n",
       "[a_0, a_1],\n",
       "[a_2, a_3]])"
      ]
     },
     "execution_count": 6,
     "metadata": {},
     "output_type": "execute_result"
    }
   ],
   "source": [
    "A = sp.Matrix([[a[0],a[1]],[a[2],a[3]]])\n",
    "A"
   ]
  },
  {
   "cell_type": "code",
   "execution_count": 8,
   "id": "61dd7bd5",
   "metadata": {
    "scrolled": true
   },
   "outputs": [
    {
     "data": {
      "text/latex": [
       "$\\displaystyle \\left[\\begin{matrix}b_{0} & b_{1}\\\\b_{2} & b_{3}\\end{matrix}\\right]$"
      ],
      "text/plain": [
       "Matrix([\n",
       "[b_0, b_1],\n",
       "[b_2, b_3]])"
      ]
     },
     "execution_count": 8,
     "metadata": {},
     "output_type": "execute_result"
    }
   ],
   "source": [
    "B = sp.Matrix([[b[0],b[1]],[b[2],b[3]]])\n",
    "B"
   ]
  },
  {
   "cell_type": "code",
   "execution_count": 16,
   "id": "b2e835e4",
   "metadata": {},
   "outputs": [
    {
     "data": {
      "text/latex": [
       "$\\displaystyle \\left[\\begin{matrix}c_{0}\\\\c_{1}\\end{matrix}\\right]$"
      ],
      "text/plain": [
       "Matrix([\n",
       "[c_0],\n",
       "[c_1]])"
      ]
     },
     "execution_count": 16,
     "metadata": {},
     "output_type": "execute_result"
    }
   ],
   "source": [
    "C = sp.Matrix([[c[0]],[c[1]]])\n",
    "C"
   ]
  },
  {
   "cell_type": "code",
   "execution_count": 22,
   "id": "d2cfafa8",
   "metadata": {},
   "outputs": [
    {
     "data": {
      "text/plain": [
       "array([[7, 3],\n",
       "       [8, 2]])"
      ]
     },
     "execution_count": 22,
     "metadata": {},
     "output_type": "execute_result"
    }
   ],
   "source": [
    "M = np.random.randint(0,10,(2,2))\n",
    "M"
   ]
  },
  {
   "cell_type": "code",
   "execution_count": 23,
   "id": "c230be69",
   "metadata": {},
   "outputs": [
    {
     "data": {
      "text/plain": [
       "array([[15, 17],\n",
       "       [19, 11]])"
      ]
     },
     "execution_count": 23,
     "metadata": {},
     "output_type": "execute_result"
    }
   ],
   "source": [
    "N = np.random.randint(10,20,(2,2))\n",
    "N"
   ]
  },
  {
   "cell_type": "code",
   "execution_count": 25,
   "id": "d00d27f7",
   "metadata": {},
   "outputs": [
    {
     "data": {
      "text/plain": [
       "array([[5],\n",
       "       [2]])"
      ]
     },
     "execution_count": 25,
     "metadata": {},
     "output_type": "execute_result"
    }
   ],
   "source": [
    "v = np.random.randint(0,10,(2,1))\n",
    "v"
   ]
  },
  {
   "cell_type": "markdown",
   "id": "43e73906",
   "metadata": {},
   "source": [
    "## 1. Sum and Difference"
   ]
  },
  {
   "cell_type": "code",
   "execution_count": 9,
   "id": "61dc8b9e",
   "metadata": {},
   "outputs": [
    {
     "data": {
      "text/latex": [
       "$\\displaystyle \\left[\\begin{matrix}a_{0} + b_{0} & a_{1} + b_{1}\\\\a_{2} + b_{2} & a_{3} + b_{3}\\end{matrix}\\right]$"
      ],
      "text/plain": [
       "Matrix([\n",
       "[a_0 + b_0, a_1 + b_1],\n",
       "[a_2 + b_2, a_3 + b_3]])"
      ]
     },
     "execution_count": 9,
     "metadata": {},
     "output_type": "execute_result"
    }
   ],
   "source": [
    "A+B"
   ]
  },
  {
   "cell_type": "code",
   "execution_count": 10,
   "id": "7be40b27",
   "metadata": {},
   "outputs": [
    {
     "data": {
      "text/latex": [
       "$\\displaystyle \\left[\\begin{matrix}a_{0} - b_{0} & a_{1} - b_{1}\\\\a_{2} - b_{2} & a_{3} - b_{3}\\end{matrix}\\right]$"
      ],
      "text/plain": [
       "Matrix([\n",
       "[a_0 - b_0, a_1 - b_1],\n",
       "[a_2 - b_2, a_3 - b_3]])"
      ]
     },
     "execution_count": 10,
     "metadata": {},
     "output_type": "execute_result"
    }
   ],
   "source": [
    "A-B"
   ]
  },
  {
   "cell_type": "code",
   "execution_count": 26,
   "id": "90f39590",
   "metadata": {},
   "outputs": [
    {
     "data": {
      "text/plain": [
       "array([[22, 20],\n",
       "       [27, 13]])"
      ]
     },
     "execution_count": 26,
     "metadata": {},
     "output_type": "execute_result"
    }
   ],
   "source": [
    "M+N"
   ]
  },
  {
   "cell_type": "code",
   "execution_count": 27,
   "id": "cae6bc5a",
   "metadata": {},
   "outputs": [
    {
     "data": {
      "text/plain": [
       "array([[ -8, -14],\n",
       "       [-11,  -9]])"
      ]
     },
     "execution_count": 27,
     "metadata": {},
     "output_type": "execute_result"
    }
   ],
   "source": [
    "M-N"
   ]
  },
  {
   "cell_type": "markdown",
   "id": "2b18f8ae",
   "metadata": {},
   "source": [
    "## 2. Multiplication"
   ]
  },
  {
   "cell_type": "markdown",
   "id": "4ee28b3a",
   "metadata": {},
   "source": [
    "### 2.1 Scaler Multiplication"
   ]
  },
  {
   "cell_type": "code",
   "execution_count": 11,
   "id": "dc3858be",
   "metadata": {},
   "outputs": [
    {
     "data": {
      "text/latex": [
       "$\\displaystyle \\left[\\begin{matrix}2 a_{0} & 2 a_{1}\\\\2 a_{2} & 2 a_{3}\\end{matrix}\\right]$"
      ],
      "text/plain": [
       "Matrix([\n",
       "[2*a_0, 2*a_1],\n",
       "[2*a_2, 2*a_3]])"
      ]
     },
     "execution_count": 11,
     "metadata": {},
     "output_type": "execute_result"
    }
   ],
   "source": [
    "2*A"
   ]
  },
  {
   "cell_type": "code",
   "execution_count": 13,
   "id": "f245cb60",
   "metadata": {},
   "outputs": [
    {
     "data": {
      "text/latex": [
       "$\\displaystyle \\left[\\begin{matrix}- \\frac{b_{0}}{2} & - \\frac{b_{1}}{2}\\\\- \\frac{b_{2}}{2} & - \\frac{b_{3}}{2}\\end{matrix}\\right]$"
      ],
      "text/plain": [
       "Matrix([\n",
       "[-b_0/2, -b_1/2],\n",
       "[-b_2/2, -b_3/2]])"
      ]
     },
     "execution_count": 13,
     "metadata": {},
     "output_type": "execute_result"
    }
   ],
   "source": [
    "-1*sp.Rational(1/2)*B"
   ]
  },
  {
   "cell_type": "code",
   "execution_count": 28,
   "id": "d62fc859",
   "metadata": {},
   "outputs": [
    {
     "data": {
      "text/plain": [
       "array([[14,  6],\n",
       "       [16,  4]])"
      ]
     },
     "execution_count": 28,
     "metadata": {},
     "output_type": "execute_result"
    }
   ],
   "source": [
    "2*M"
   ]
  },
  {
   "cell_type": "code",
   "execution_count": 29,
   "id": "da4b8895",
   "metadata": {},
   "outputs": [
    {
     "data": {
      "text/plain": [
       "array([[-7.5, -8.5],\n",
       "       [-9.5, -5.5]])"
      ]
     },
     "execution_count": 29,
     "metadata": {},
     "output_type": "execute_result"
    }
   ],
   "source": [
    "-1*(1/2)*N"
   ]
  },
  {
   "cell_type": "markdown",
   "id": "6050a51f",
   "metadata": {},
   "source": [
    "### 2.2 Vector multiplication"
   ]
  },
  {
   "cell_type": "code",
   "execution_count": 17,
   "id": "77ae8c7b",
   "metadata": {},
   "outputs": [
    {
     "data": {
      "text/latex": [
       "$\\displaystyle \\left[\\begin{matrix}a_{0} c_{0} + a_{1} c_{1}\\\\a_{2} c_{0} + a_{3} c_{1}\\end{matrix}\\right]$"
      ],
      "text/plain": [
       "Matrix([\n",
       "[a_0*c_0 + a_1*c_1],\n",
       "[a_2*c_0 + a_3*c_1]])"
      ]
     },
     "execution_count": 17,
     "metadata": {},
     "output_type": "execute_result"
    }
   ],
   "source": [
    "A*C"
   ]
  },
  {
   "cell_type": "code",
   "execution_count": 19,
   "id": "ae46613f",
   "metadata": {},
   "outputs": [
    {
     "data": {
      "text/latex": [
       "$\\displaystyle \\left[\\begin{matrix}b_{0} c_{0} + b_{1} c_{1}\\\\b_{2} c_{0} + b_{3} c_{1}\\end{matrix}\\right]$"
      ],
      "text/plain": [
       "Matrix([\n",
       "[b_0*c_0 + b_1*c_1],\n",
       "[b_2*c_0 + b_3*c_1]])"
      ]
     },
     "execution_count": 19,
     "metadata": {},
     "output_type": "execute_result"
    }
   ],
   "source": [
    "B*C"
   ]
  },
  {
   "cell_type": "code",
   "execution_count": 30,
   "id": "6eef2fc4",
   "metadata": {},
   "outputs": [
    {
     "data": {
      "text/plain": [
       "array([[35, 15],\n",
       "       [16,  4]])"
      ]
     },
     "execution_count": 30,
     "metadata": {},
     "output_type": "execute_result"
    }
   ],
   "source": [
    "M*v"
   ]
  },
  {
   "cell_type": "code",
   "execution_count": 31,
   "id": "9baee6c5",
   "metadata": {},
   "outputs": [
    {
     "data": {
      "text/plain": [
       "array([[75, 85],\n",
       "       [38, 22]])"
      ]
     },
     "execution_count": 31,
     "metadata": {},
     "output_type": "execute_result"
    }
   ],
   "source": [
    "N*v"
   ]
  },
  {
   "cell_type": "markdown",
   "id": "399933cc",
   "metadata": {},
   "source": [
    "### 2.3 Matrix multiplication"
   ]
  },
  {
   "cell_type": "code",
   "execution_count": 21,
   "id": "4e4d6b1b",
   "metadata": {},
   "outputs": [
    {
     "data": {
      "text/latex": [
       "$\\displaystyle \\left[\\begin{matrix}a_{0} b_{0} + a_{1} b_{2} & a_{0} b_{1} + a_{1} b_{3}\\\\a_{2} b_{0} + a_{3} b_{2} & a_{2} b_{1} + a_{3} b_{3}\\end{matrix}\\right]$"
      ],
      "text/plain": [
       "Matrix([\n",
       "[a_0*b_0 + a_1*b_2, a_0*b_1 + a_1*b_3],\n",
       "[a_2*b_0 + a_3*b_2, a_2*b_1 + a_3*b_3]])"
      ]
     },
     "execution_count": 21,
     "metadata": {},
     "output_type": "execute_result"
    }
   ],
   "source": [
    "A*B"
   ]
  },
  {
   "cell_type": "code",
   "execution_count": 32,
   "id": "da4e05ba",
   "metadata": {},
   "outputs": [
    {
     "data": {
      "text/plain": [
       "array([[105,  51],\n",
       "       [152,  22]])"
      ]
     },
     "execution_count": 32,
     "metadata": {},
     "output_type": "execute_result"
    }
   ],
   "source": [
    "M*N"
   ]
  },
  {
   "cell_type": "code",
   "execution_count": 33,
   "id": "1539ccd3",
   "metadata": {},
   "outputs": [
    {
     "data": {
      "text/plain": [
       "array([[5, 5, 3],\n",
       "       [2, 9, 6],\n",
       "       [3, 0, 2]])"
      ]
     },
     "execution_count": 33,
     "metadata": {},
     "output_type": "execute_result"
    }
   ],
   "source": [
    "M = np.random.randint(0,10,(3,3))\n",
    "M"
   ]
  },
  {
   "cell_type": "code",
   "execution_count": 34,
   "id": "c1bcf84a",
   "metadata": {},
   "outputs": [
    {
     "data": {
      "text/plain": [
       "array([[3, 0, 3],\n",
       "       [8, 7, 0],\n",
       "       [3, 2, 2]])"
      ]
     },
     "execution_count": 34,
     "metadata": {},
     "output_type": "execute_result"
    }
   ],
   "source": [
    "N = np.random.randint(0,10,(3,3))\n",
    "N"
   ]
  },
  {
   "cell_type": "code",
   "execution_count": 35,
   "id": "3776b27d",
   "metadata": {},
   "outputs": [
    {
     "data": {
      "text/plain": [
       "array([[15,  0,  9],\n",
       "       [16, 63,  0],\n",
       "       [ 9,  0,  4]])"
      ]
     },
     "execution_count": 35,
     "metadata": {},
     "output_type": "execute_result"
    }
   ],
   "source": [
    "M*N"
   ]
  },
  {
   "cell_type": "markdown",
   "id": "20bd1f1b",
   "metadata": {},
   "source": [
    "## 3. Transpose"
   ]
  },
  {
   "cell_type": "code",
   "execution_count": 36,
   "id": "31522a61",
   "metadata": {},
   "outputs": [
    {
     "data": {
      "text/latex": [
       "$\\displaystyle \\left[\\begin{matrix}a_{0} & a_{2}\\\\a_{1} & a_{3}\\end{matrix}\\right]$"
      ],
      "text/plain": [
       "Matrix([\n",
       "[a_0, a_2],\n",
       "[a_1, a_3]])"
      ]
     },
     "execution_count": 36,
     "metadata": {},
     "output_type": "execute_result"
    }
   ],
   "source": [
    "sp.transpose(A)"
   ]
  },
  {
   "cell_type": "code",
   "execution_count": 37,
   "id": "f9de8fa6",
   "metadata": {},
   "outputs": [
    {
     "data": {
      "text/latex": [
       "$\\displaystyle \\left[\\begin{matrix}b_{0} & b_{2}\\\\b_{1} & b_{3}\\end{matrix}\\right]$"
      ],
      "text/plain": [
       "Matrix([\n",
       "[b_0, b_2],\n",
       "[b_1, b_3]])"
      ]
     },
     "execution_count": 37,
     "metadata": {},
     "output_type": "execute_result"
    }
   ],
   "source": [
    "sp.transpose(B)"
   ]
  },
  {
   "cell_type": "code",
   "execution_count": 38,
   "id": "cbaff92d",
   "metadata": {},
   "outputs": [
    {
     "data": {
      "text/latex": [
       "$\\displaystyle \\left[\\begin{matrix}a_{0} & a_{1}\\\\a_{2} & a_{3}\\end{matrix}\\right]$"
      ],
      "text/plain": [
       "Matrix([\n",
       "[a_0, a_1],\n",
       "[a_2, a_3]])"
      ]
     },
     "execution_count": 38,
     "metadata": {},
     "output_type": "execute_result"
    }
   ],
   "source": [
    "sp.transpose(sp.transpose(A))"
   ]
  },
  {
   "cell_type": "code",
   "execution_count": 39,
   "id": "0edd00da",
   "metadata": {},
   "outputs": [
    {
     "data": {
      "text/latex": [
       "$\\displaystyle \\left[\\begin{matrix}c_{0} & c_{1}\\end{matrix}\\right]$"
      ],
      "text/plain": [
       "Matrix([[c_0, c_1]])"
      ]
     },
     "execution_count": 39,
     "metadata": {},
     "output_type": "execute_result"
    }
   ],
   "source": [
    "sp.transpose(C)"
   ]
  },
  {
   "cell_type": "code",
   "execution_count": 40,
   "id": "f2f33684",
   "metadata": {},
   "outputs": [
    {
     "data": {
      "text/plain": [
       "array([[5, 2, 3],\n",
       "       [5, 9, 0],\n",
       "       [3, 6, 2]])"
      ]
     },
     "execution_count": 40,
     "metadata": {},
     "output_type": "execute_result"
    }
   ],
   "source": [
    "np.transpose(M)"
   ]
  },
  {
   "cell_type": "code",
   "execution_count": 41,
   "id": "b6dc6b4a",
   "metadata": {},
   "outputs": [
    {
     "data": {
      "text/plain": [
       "array([[3, 8, 3],\n",
       "       [0, 7, 2],\n",
       "       [3, 0, 2]])"
      ]
     },
     "execution_count": 41,
     "metadata": {},
     "output_type": "execute_result"
    }
   ],
   "source": [
    "np.transpose(N)"
   ]
  },
  {
   "cell_type": "code",
   "execution_count": 42,
   "id": "4fd6d1f8",
   "metadata": {},
   "outputs": [
    {
     "data": {
      "text/plain": [
       "array([[5, 2]])"
      ]
     },
     "execution_count": 42,
     "metadata": {},
     "output_type": "execute_result"
    }
   ],
   "source": [
    "np.transpose(v)"
   ]
  },
  {
   "cell_type": "markdown",
   "id": "35dacb68",
   "metadata": {},
   "source": [
    "## 4. Trace"
   ]
  },
  {
   "cell_type": "code",
   "execution_count": 43,
   "id": "59d919cc",
   "metadata": {},
   "outputs": [
    {
     "data": {
      "text/latex": [
       "$\\displaystyle a_{0} + a_{3}$"
      ],
      "text/plain": [
       "a_0 + a_3"
      ]
     },
     "execution_count": 43,
     "metadata": {},
     "output_type": "execute_result"
    }
   ],
   "source": [
    "sp.trace(A)"
   ]
  },
  {
   "cell_type": "code",
   "execution_count": 44,
   "id": "25f5a092",
   "metadata": {},
   "outputs": [
    {
     "data": {
      "text/latex": [
       "$\\displaystyle b_{0} + b_{3}$"
      ],
      "text/plain": [
       "b_0 + b_3"
      ]
     },
     "execution_count": 44,
     "metadata": {},
     "output_type": "execute_result"
    }
   ],
   "source": [
    "sp.trace(B)"
   ]
  },
  {
   "cell_type": "code",
   "execution_count": 45,
   "id": "86629e7c",
   "metadata": {},
   "outputs": [
    {
     "data": {
      "text/plain": [
       "16"
      ]
     },
     "execution_count": 45,
     "metadata": {},
     "output_type": "execute_result"
    }
   ],
   "source": [
    "np.trace(M)"
   ]
  },
  {
   "cell_type": "code",
   "execution_count": 46,
   "id": "a959019d",
   "metadata": {},
   "outputs": [
    {
     "data": {
      "text/plain": [
       "12"
      ]
     },
     "execution_count": 46,
     "metadata": {},
     "output_type": "execute_result"
    }
   ],
   "source": [
    "np.trace(N)"
   ]
  },
  {
   "attachments": {
    "image.png": {
     "image/png": "[encoded data removed]"
    }
   },
   "cell_type": "markdown",
   "id": "cf22de70",
   "metadata": {},
   "source": [
    "![image.png](attachment:image.png)"
   ]
  },
  {
   "cell_type": "markdown",
   "id": "8270575d",
   "metadata": {},
   "source": [
    "## Zero / null matrix"
   ]
  },
  {
   "cell_type": "code",
   "execution_count": 47,
   "id": "d37adef2",
   "metadata": {},
   "outputs": [
    {
     "data": {
      "text/plain": [
       "array([[0., 0., 0.],\n",
       "       [0., 0., 0.],\n",
       "       [0., 0., 0.]])"
      ]
     },
     "execution_count": 47,
     "metadata": {},
     "output_type": "execute_result"
    }
   ],
   "source": [
    "np.zeros((3,3))"
   ]
  },
  {
   "cell_type": "code",
   "execution_count": 48,
   "id": "31216cac",
   "metadata": {},
   "outputs": [
    {
     "data": {
      "text/plain": [
       "array([[0., 0.],\n",
       "       [0., 0.]])"
      ]
     },
     "execution_count": 48,
     "metadata": {},
     "output_type": "execute_result"
    }
   ],
   "source": [
    "np.zeros((2,2))"
   ]
  },
  {
   "cell_type": "markdown",
   "id": "b2f7534a",
   "metadata": {},
   "source": [
    "# Identity Matrix"
   ]
  },
  {
   "cell_type": "code",
   "execution_count": 49,
   "id": "8dad9f27",
   "metadata": {},
   "outputs": [
    {
     "data": {
      "text/plain": [
       "array([[1., 0.],\n",
       "       [0., 1.]])"
      ]
     },
     "execution_count": 49,
     "metadata": {},
     "output_type": "execute_result"
    }
   ],
   "source": [
    "np.eye(2,2)"
   ]
  },
  {
   "cell_type": "code",
   "execution_count": 50,
   "id": "76b1d3be",
   "metadata": {},
   "outputs": [
    {
     "data": {
      "text/plain": [
       "array([[1., 0., 0.],\n",
       "       [0., 1., 0.],\n",
       "       [0., 0., 1.]])"
      ]
     },
     "execution_count": 50,
     "metadata": {},
     "output_type": "execute_result"
    }
   ],
   "source": [
    "np.eye(3,3)"
   ]
  },
  {
   "cell_type": "code",
   "execution_count": 51,
   "id": "c3aa5288",
   "metadata": {},
   "outputs": [
    {
     "data": {
      "text/plain": [
       "array([[1., 0., 0., 0.],\n",
       "       [0., 1., 0., 0.],\n",
       "       [0., 0., 1., 0.],\n",
       "       [0., 0., 0., 1.]])"
      ]
     },
     "execution_count": 51,
     "metadata": {},
     "output_type": "execute_result"
    }
   ],
   "source": [
    "np.eye(4,4)"
   ]
  },
  {
   "cell_type": "markdown",
   "id": "9e83a6c2",
   "metadata": {},
   "source": [
    "# Inverse of matrix"
   ]
  },
  {
   "cell_type": "code",
   "execution_count": 52,
   "id": "3e2921e8",
   "metadata": {},
   "outputs": [
    {
     "data": {
      "text/plain": [
       "array([[0.56723312, 0.73348536],\n",
       "       [0.39429185, 0.24176817]])"
      ]
     },
     "execution_count": 52,
     "metadata": {},
     "output_type": "execute_result"
    }
   ],
   "source": [
    "np.random.rand(2,2)"
   ]
  },
  {
   "cell_type": "code",
   "execution_count": 53,
   "id": "3b932c35",
   "metadata": {},
   "outputs": [
    {
     "data": {
      "text/plain": [
       "array([[-1.58986471,  4.82339138],\n",
       "       [ 2.59285871, -3.73011851]])"
      ]
     },
     "execution_count": 53,
     "metadata": {},
     "output_type": "execute_result"
    }
   ],
   "source": [
    "np.linalg.inv(_)"
   ]
  },
  {
   "cell_type": "code",
   "execution_count": 54,
   "id": "5dd248a5",
   "metadata": {},
   "outputs": [
    {
     "data": {
      "text/plain": [
       "array([[0.05503198, 0.9669296 , 0.84394022],\n",
       "       [0.40327662, 0.26009417, 0.622906  ],\n",
       "       [0.65613592, 0.59477234, 0.2785902 ]])"
      ]
     },
     "execution_count": 54,
     "metadata": {},
     "output_type": "execute_result"
    }
   ],
   "source": [
    "np.random.rand(3,3)"
   ]
  },
  {
   "cell_type": "code",
   "execution_count": 55,
   "id": "e5ca9827",
   "metadata": {},
   "outputs": [
    {
     "data": {
      "text/plain": [
       "array([[-0.90706802,  0.70785906,  1.16508595],\n",
       "       [ 0.901999  , -1.63868322,  0.93152015],\n",
       "       [ 0.21061708,  1.831334  , -1.14324613]])"
      ]
     },
     "execution_count": 55,
     "metadata": {},
     "output_type": "execute_result"
    }
   ],
   "source": [
    "np.linalg.inv(_)"
   ]
  },
  {
   "cell_type": "code",
   "execution_count": 56,
   "id": "af07f41d",
   "metadata": {},
   "outputs": [
    {
     "data": {
      "text/plain": [
       "array([[0.71476727, 0.55766908, 0.34370468, 0.32360237],\n",
       "       [0.54282239, 0.78565346, 0.84288634, 0.2220683 ],\n",
       "       [0.77015964, 0.99298091, 0.60042288, 0.2328074 ],\n",
       "       [0.12159635, 0.91691939, 0.29225193, 0.01624725]])"
      ]
     },
     "execution_count": 56,
     "metadata": {},
     "output_type": "execute_result"
    }
   ],
   "source": [
    "np.random.rand(4,4)"
   ]
  },
  {
   "cell_type": "code",
   "execution_count": 57,
   "id": "bcbde640",
   "metadata": {},
   "outputs": [
    {
     "data": {
      "text/plain": [
       "array([[ -2.32863191,  -1.8162993 ,   5.15117922,  -2.60593769],\n",
       "       [  0.57344578,  -0.48190053,  -0.45218177,   1.64444304],\n",
       "       [ -1.31045352,   2.12383778,  -0.14382968,  -0.86701294],\n",
       "       [  8.63728506,   2.5865056 , -10.44581845,   3.84292719]])"
      ]
     },
     "execution_count": 57,
     "metadata": {},
     "output_type": "execute_result"
    }
   ],
   "source": [
    "np.linalg.inv(_)"
   ]
  },
  {
   "cell_type": "code",
   "execution_count": 58,
   "id": "c305ace6",
   "metadata": {},
   "outputs": [
    {
     "data": {
      "text/plain": [
       "array([[0.47755224, 0.39317555, 0.16408674, 0.20701097],\n",
       "       [0.88634553, 0.61016391, 0.53369609, 0.7870504 ],\n",
       "       [0.49042164, 0.54489257, 0.05633388, 0.32993794],\n",
       "       [0.8527878 , 0.21546442, 0.05353832, 0.39059175]])"
      ]
     },
     "execution_count": 58,
     "metadata": {},
     "output_type": "execute_result"
    }
   ],
   "source": [
    "A = np.random.rand(4,4)\n",
    "A"
   ]
  },
  {
   "cell_type": "code",
   "execution_count": 60,
   "id": "7d084093",
   "metadata": {},
   "outputs": [
    {
     "data": {
      "text/plain": [
       "array([[ 1.00000000e+00,  0.00000000e+00,  2.22044605e-16,\n",
       "        -5.55111512e-17],\n",
       "       [ 0.00000000e+00,  1.00000000e+00,  0.00000000e+00,\n",
       "         0.00000000e+00],\n",
       "       [-4.44089210e-16, -1.66533454e-16,  1.00000000e+00,\n",
       "         0.00000000e+00],\n",
       "       [ 0.00000000e+00,  0.00000000e+00,  0.00000000e+00,\n",
       "         1.00000000e+00]])"
      ]
     },
     "execution_count": 60,
     "metadata": {},
     "output_type": "execute_result"
    }
   ],
   "source": [
    "np.dot(A,np.linalg.inv(A))"
   ]
  },
  {
   "cell_type": "code",
   "execution_count": 61,
   "id": "818859f2",
   "metadata": {},
   "outputs": [
    {
     "data": {
      "text/latex": [
       "$\\displaystyle \\left[\\begin{matrix}a_{0} & a_{1} & a_{2}\\\\a_{3} & a_{4} & a_{5}\\\\a_{6} & a_{7} & a_{8}\\end{matrix}\\right]$"
      ],
      "text/plain": [
       "Matrix([\n",
       "[a_0, a_1, a_2],\n",
       "[a_3, a_4, a_5],\n",
       "[a_6, a_7, a_8]])"
      ]
     },
     "execution_count": 61,
     "metadata": {},
     "output_type": "execute_result"
    }
   ],
   "source": [
    "A = sp.Matrix([[a[0],a[1],a[2]],[a[3],a[4],a[5]],[a[6],a[7],a[8]]])\n",
    "A"
   ]
  },
  {
   "cell_type": "code",
   "execution_count": 68,
   "id": "12c44bd8",
   "metadata": {},
   "outputs": [
    {
     "data": {
      "text/latex": [
       "$\\displaystyle \\left[\\begin{matrix}\\frac{a_{4} a_{8} - a_{5} a_{7}}{a_{0} a_{4} a_{8} - a_{0} a_{5} a_{7} - a_{1} a_{3} a_{8} + a_{1} a_{5} a_{6} + a_{2} a_{3} a_{7} - a_{2} a_{4} a_{6}} & \\frac{- a_{1} a_{8} + a_{2} a_{7}}{a_{0} a_{4} a_{8} - a_{0} a_{5} a_{7} - a_{1} a_{3} a_{8} + a_{1} a_{5} a_{6} + a_{2} a_{3} a_{7} - a_{2} a_{4} a_{6}} & \\frac{a_{1} a_{5} - a_{2} a_{4}}{a_{0} a_{4} a_{8} - a_{0} a_{5} a_{7} - a_{1} a_{3} a_{8} + a_{1} a_{5} a_{6} + a_{2} a_{3} a_{7} - a_{2} a_{4} a_{6}}\\\\\\frac{- a_{3} a_{8} + a_{5} a_{6}}{a_{0} a_{4} a_{8} - a_{0} a_{5} a_{7} - a_{1} a_{3} a_{8} + a_{1} a_{5} a_{6} + a_{2} a_{3} a_{7} - a_{2} a_{4} a_{6}} & \\frac{a_{0} a_{8} - a_{2} a_{6}}{a_{0} a_{4} a_{8} - a_{0} a_{5} a_{7} - a_{1} a_{3} a_{8} + a_{1} a_{5} a_{6} + a_{2} a_{3} a_{7} - a_{2} a_{4} a_{6}} & \\frac{- a_{0} a_{5} + a_{2} a_{3}}{a_{0} a_{4} a_{8} - a_{0} a_{5} a_{7} - a_{1} a_{3} a_{8} + a_{1} a_{5} a_{6} + a_{2} a_{3} a_{7} - a_{2} a_{4} a_{6}}\\\\\\frac{a_{3} a_{7} - a_{4} a_{6}}{a_{0} a_{4} a_{8} - a_{0} a_{5} a_{7} - a_{1} a_{3} a_{8} + a_{1} a_{5} a_{6} + a_{2} a_{3} a_{7} - a_{2} a_{4} a_{6}} & \\frac{- a_{0} a_{7} + a_{1} a_{6}}{a_{0} a_{4} a_{8} - a_{0} a_{5} a_{7} - a_{1} a_{3} a_{8} + a_{1} a_{5} a_{6} + a_{2} a_{3} a_{7} - a_{2} a_{4} a_{6}} & \\frac{a_{0} a_{4} - a_{1} a_{3}}{a_{0} a_{4} a_{8} - a_{0} a_{5} a_{7} - a_{1} a_{3} a_{8} + a_{1} a_{5} a_{6} + a_{2} a_{3} a_{7} - a_{2} a_{4} a_{6}}\\end{matrix}\\right]$"
      ],
      "text/plain": [
       "Matrix([\n",
       "[ (a_4*a_8 - a_5*a_7)/(a_0*a_4*a_8 - a_0*a_5*a_7 - a_1*a_3*a_8 + a_1*a_5*a_6 + a_2*a_3*a_7 - a_2*a_4*a_6), (-a_1*a_8 + a_2*a_7)/(a_0*a_4*a_8 - a_0*a_5*a_7 - a_1*a_3*a_8 + a_1*a_5*a_6 + a_2*a_3*a_7 - a_2*a_4*a_6),  (a_1*a_5 - a_2*a_4)/(a_0*a_4*a_8 - a_0*a_5*a_7 - a_1*a_3*a_8 + a_1*a_5*a_6 + a_2*a_3*a_7 - a_2*a_4*a_6)],\n",
       "[(-a_3*a_8 + a_5*a_6)/(a_0*a_4*a_8 - a_0*a_5*a_7 - a_1*a_3*a_8 + a_1*a_5*a_6 + a_2*a_3*a_7 - a_2*a_4*a_6),  (a_0*a_8 - a_2*a_6)/(a_0*a_4*a_8 - a_0*a_5*a_7 - a_1*a_3*a_8 + a_1*a_5*a_6 + a_2*a_3*a_7 - a_2*a_4*a_6), (-a_0*a_5 + a_2*a_3)/(a_0*a_4*a_8 - a_0*a_5*a_7 - a_1*a_3*a_8 + a_1*a_5*a_6 + a_2*a_3*a_7 - a_2*a_4*a_6)],\n",
       "[ (a_3*a_7 - a_4*a_6)/(a_0*a_4*a_8 - a_0*a_5*a_7 - a_1*a_3*a_8 + a_1*a_5*a_6 + a_2*a_3*a_7 - a_2*a_4*a_6), (-a_0*a_7 + a_1*a_6)/(a_0*a_4*a_8 - a_0*a_5*a_7 - a_1*a_3*a_8 + a_1*a_5*a_6 + a_2*a_3*a_7 - a_2*a_4*a_6),  (a_0*a_4 - a_1*a_3)/(a_0*a_4*a_8 - a_0*a_5*a_7 - a_1*a_3*a_8 + a_1*a_5*a_6 + a_2*a_3*a_7 - a_2*a_4*a_6)]])"
      ]
     },
     "execution_count": 68,
     "metadata": {},
     "output_type": "execute_result"
    }
   ],
   "source": [
    "A.inv()"
   ]
  },
  {
   "cell_type": "code",
   "execution_count": 71,
   "id": "921972dc",
   "metadata": {},
   "outputs": [
    {
     "data": {
      "text/latex": [
       "$\\displaystyle \\left[\\begin{matrix}\\frac{a_{0} \\left(a_{4} a_{8} - a_{5} a_{7}\\right)}{a_{0} a_{4} a_{8} - a_{0} a_{5} a_{7} - a_{1} a_{3} a_{8} + a_{1} a_{5} a_{6} + a_{2} a_{3} a_{7} - a_{2} a_{4} a_{6}} + \\frac{a_{1} \\left(- a_{3} a_{8} + a_{5} a_{6}\\right)}{a_{0} a_{4} a_{8} - a_{0} a_{5} a_{7} - a_{1} a_{3} a_{8} + a_{1} a_{5} a_{6} + a_{2} a_{3} a_{7} - a_{2} a_{4} a_{6}} + \\frac{a_{2} \\left(a_{3} a_{7} - a_{4} a_{6}\\right)}{a_{0} a_{4} a_{8} - a_{0} a_{5} a_{7} - a_{1} a_{3} a_{8} + a_{1} a_{5} a_{6} + a_{2} a_{3} a_{7} - a_{2} a_{4} a_{6}} & \\frac{a_{0} \\left(- a_{1} a_{8} + a_{2} a_{7}\\right)}{a_{0} a_{4} a_{8} - a_{0} a_{5} a_{7} - a_{1} a_{3} a_{8} + a_{1} a_{5} a_{6} + a_{2} a_{3} a_{7} - a_{2} a_{4} a_{6}} + \\frac{a_{1} \\left(a_{0} a_{8} - a_{2} a_{6}\\right)}{a_{0} a_{4} a_{8} - a_{0} a_{5} a_{7} - a_{1} a_{3} a_{8} + a_{1} a_{5} a_{6} + a_{2} a_{3} a_{7} - a_{2} a_{4} a_{6}} + \\frac{a_{2} \\left(- a_{0} a_{7} + a_{1} a_{6}\\right)}{a_{0} a_{4} a_{8} - a_{0} a_{5} a_{7} - a_{1} a_{3} a_{8} + a_{1} a_{5} a_{6} + a_{2} a_{3} a_{7} - a_{2} a_{4} a_{6}} & \\frac{a_{0} \\left(a_{1} a_{5} - a_{2} a_{4}\\right)}{a_{0} a_{4} a_{8} - a_{0} a_{5} a_{7} - a_{1} a_{3} a_{8} + a_{1} a_{5} a_{6} + a_{2} a_{3} a_{7} - a_{2} a_{4} a_{6}} + \\frac{a_{1} \\left(- a_{0} a_{5} + a_{2} a_{3}\\right)}{a_{0} a_{4} a_{8} - a_{0} a_{5} a_{7} - a_{1} a_{3} a_{8} + a_{1} a_{5} a_{6} + a_{2} a_{3} a_{7} - a_{2} a_{4} a_{6}} + \\frac{a_{2} \\left(a_{0} a_{4} - a_{1} a_{3}\\right)}{a_{0} a_{4} a_{8} - a_{0} a_{5} a_{7} - a_{1} a_{3} a_{8} + a_{1} a_{5} a_{6} + a_{2} a_{3} a_{7} - a_{2} a_{4} a_{6}}\\\\\\frac{a_{3} \\left(a_{4} a_{8} - a_{5} a_{7}\\right)}{a_{0} a_{4} a_{8} - a_{0} a_{5} a_{7} - a_{1} a_{3} a_{8} + a_{1} a_{5} a_{6} + a_{2} a_{3} a_{7} - a_{2} a_{4} a_{6}} + \\frac{a_{4} \\left(- a_{3} a_{8} + a_{5} a_{6}\\right)}{a_{0} a_{4} a_{8} - a_{0} a_{5} a_{7} - a_{1} a_{3} a_{8} + a_{1} a_{5} a_{6} + a_{2} a_{3} a_{7} - a_{2} a_{4} a_{6}} + \\frac{a_{5} \\left(a_{3} a_{7} - a_{4} a_{6}\\right)}{a_{0} a_{4} a_{8} - a_{0} a_{5} a_{7} - a_{1} a_{3} a_{8} + a_{1} a_{5} a_{6} + a_{2} a_{3} a_{7} - a_{2} a_{4} a_{6}} & \\frac{a_{3} \\left(- a_{1} a_{8} + a_{2} a_{7}\\right)}{a_{0} a_{4} a_{8} - a_{0} a_{5} a_{7} - a_{1} a_{3} a_{8} + a_{1} a_{5} a_{6} + a_{2} a_{3} a_{7} - a_{2} a_{4} a_{6}} + \\frac{a_{4} \\left(a_{0} a_{8} - a_{2} a_{6}\\right)}{a_{0} a_{4} a_{8} - a_{0} a_{5} a_{7} - a_{1} a_{3} a_{8} + a_{1} a_{5} a_{6} + a_{2} a_{3} a_{7} - a_{2} a_{4} a_{6}} + \\frac{a_{5} \\left(- a_{0} a_{7} + a_{1} a_{6}\\right)}{a_{0} a_{4} a_{8} - a_{0} a_{5} a_{7} - a_{1} a_{3} a_{8} + a_{1} a_{5} a_{6} + a_{2} a_{3} a_{7} - a_{2} a_{4} a_{6}} & \\frac{a_{3} \\left(a_{1} a_{5} - a_{2} a_{4}\\right)}{a_{0} a_{4} a_{8} - a_{0} a_{5} a_{7} - a_{1} a_{3} a_{8} + a_{1} a_{5} a_{6} + a_{2} a_{3} a_{7} - a_{2} a_{4} a_{6}} + \\frac{a_{4} \\left(- a_{0} a_{5} + a_{2} a_{3}\\right)}{a_{0} a_{4} a_{8} - a_{0} a_{5} a_{7} - a_{1} a_{3} a_{8} + a_{1} a_{5} a_{6} + a_{2} a_{3} a_{7} - a_{2} a_{4} a_{6}} + \\frac{a_{5} \\left(a_{0} a_{4} - a_{1} a_{3}\\right)}{a_{0} a_{4} a_{8} - a_{0} a_{5} a_{7} - a_{1} a_{3} a_{8} + a_{1} a_{5} a_{6} + a_{2} a_{3} a_{7} - a_{2} a_{4} a_{6}}\\\\\\frac{a_{6} \\left(a_{4} a_{8} - a_{5} a_{7}\\right)}{a_{0} a_{4} a_{8} - a_{0} a_{5} a_{7} - a_{1} a_{3} a_{8} + a_{1} a_{5} a_{6} + a_{2} a_{3} a_{7} - a_{2} a_{4} a_{6}} + \\frac{a_{7} \\left(- a_{3} a_{8} + a_{5} a_{6}\\right)}{a_{0} a_{4} a_{8} - a_{0} a_{5} a_{7} - a_{1} a_{3} a_{8} + a_{1} a_{5} a_{6} + a_{2} a_{3} a_{7} - a_{2} a_{4} a_{6}} + \\frac{a_{8} \\left(a_{3} a_{7} - a_{4} a_{6}\\right)}{a_{0} a_{4} a_{8} - a_{0} a_{5} a_{7} - a_{1} a_{3} a_{8} + a_{1} a_{5} a_{6} + a_{2} a_{3} a_{7} - a_{2} a_{4} a_{6}} & \\frac{a_{6} \\left(- a_{1} a_{8} + a_{2} a_{7}\\right)}{a_{0} a_{4} a_{8} - a_{0} a_{5} a_{7} - a_{1} a_{3} a_{8} + a_{1} a_{5} a_{6} + a_{2} a_{3} a_{7} - a_{2} a_{4} a_{6}} + \\frac{a_{7} \\left(a_{0} a_{8} - a_{2} a_{6}\\right)}{a_{0} a_{4} a_{8} - a_{0} a_{5} a_{7} - a_{1} a_{3} a_{8} + a_{1} a_{5} a_{6} + a_{2} a_{3} a_{7} - a_{2} a_{4} a_{6}} + \\frac{a_{8} \\left(- a_{0} a_{7} + a_{1} a_{6}\\right)}{a_{0} a_{4} a_{8} - a_{0} a_{5} a_{7} - a_{1} a_{3} a_{8} + a_{1} a_{5} a_{6} + a_{2} a_{3} a_{7} - a_{2} a_{4} a_{6}} & \\frac{a_{6} \\left(a_{1} a_{5} - a_{2} a_{4}\\right)}{a_{0} a_{4} a_{8} - a_{0} a_{5} a_{7} - a_{1} a_{3} a_{8} + a_{1} a_{5} a_{6} + a_{2} a_{3} a_{7} - a_{2} a_{4} a_{6}} + \\frac{a_{7} \\left(- a_{0} a_{5} + a_{2} a_{3}\\right)}{a_{0} a_{4} a_{8} - a_{0} a_{5} a_{7} - a_{1} a_{3} a_{8} + a_{1} a_{5} a_{6} + a_{2} a_{3} a_{7} - a_{2} a_{4} a_{6}} + \\frac{a_{8} \\left(a_{0} a_{4} - a_{1} a_{3}\\right)}{a_{0} a_{4} a_{8} - a_{0} a_{5} a_{7} - a_{1} a_{3} a_{8} + a_{1} a_{5} a_{6} + a_{2} a_{3} a_{7} - a_{2} a_{4} a_{6}}\\end{matrix}\\right]$"
      ],
      "text/plain": [
       "Matrix([\n",
       "[a_0*(a_4*a_8 - a_5*a_7)/(a_0*a_4*a_8 - a_0*a_5*a_7 - a_1*a_3*a_8 + a_1*a_5*a_6 + a_2*a_3*a_7 - a_2*a_4*a_6) + a_1*(-a_3*a_8 + a_5*a_6)/(a_0*a_4*a_8 - a_0*a_5*a_7 - a_1*a_3*a_8 + a_1*a_5*a_6 + a_2*a_3*a_7 - a_2*a_4*a_6) + a_2*(a_3*a_7 - a_4*a_6)/(a_0*a_4*a_8 - a_0*a_5*a_7 - a_1*a_3*a_8 + a_1*a_5*a_6 + a_2*a_3*a_7 - a_2*a_4*a_6), a_0*(-a_1*a_8 + a_2*a_7)/(a_0*a_4*a_8 - a_0*a_5*a_7 - a_1*a_3*a_8 + a_1*a_5*a_6 + a_2*a_3*a_7 - a_2*a_4*a_6) + a_1*(a_0*a_8 - a_2*a_6)/(a_0*a_4*a_8 - a_0*a_5*a_7 - a_1*a_3*a_8 + a_1*a_5*a_6 + a_2*a_3*a_7 - a_2*a_4*a_6) + a_2*(-a_0*a_7 + a_1*a_6)/(a_0*a_4*a_8 - a_0*a_5*a_7 - a_1*a_3*a_8 + a_1*a_5*a_6 + a_2*a_3*a_7 - a_2*a_4*a_6), a_0*(a_1*a_5 - a_2*a_4)/(a_0*a_4*a_8 - a_0*a_5*a_7 - a_1*a_3*a_8 + a_1*a_5*a_6 + a_2*a_3*a_7 - a_2*a_4*a_6) + a_1*(-a_0*a_5 + a_2*a_3)/(a_0*a_4*a_8 - a_0*a_5*a_7 - a_1*a_3*a_8 + a_1*a_5*a_6 + a_2*a_3*a_7 - a_2*a_4*a_6) + a_2*(a_0*a_4 - a_1*a_3)/(a_0*a_4*a_8 - a_0*a_5*a_7 - a_1*a_3*a_8 + a_1*a_5*a_6 + a_2*a_3*a_7 - a_2*a_4*a_6)],\n",
       "[a_3*(a_4*a_8 - a_5*a_7)/(a_0*a_4*a_8 - a_0*a_5*a_7 - a_1*a_3*a_8 + a_1*a_5*a_6 + a_2*a_3*a_7 - a_2*a_4*a_6) + a_4*(-a_3*a_8 + a_5*a_6)/(a_0*a_4*a_8 - a_0*a_5*a_7 - a_1*a_3*a_8 + a_1*a_5*a_6 + a_2*a_3*a_7 - a_2*a_4*a_6) + a_5*(a_3*a_7 - a_4*a_6)/(a_0*a_4*a_8 - a_0*a_5*a_7 - a_1*a_3*a_8 + a_1*a_5*a_6 + a_2*a_3*a_7 - a_2*a_4*a_6), a_3*(-a_1*a_8 + a_2*a_7)/(a_0*a_4*a_8 - a_0*a_5*a_7 - a_1*a_3*a_8 + a_1*a_5*a_6 + a_2*a_3*a_7 - a_2*a_4*a_6) + a_4*(a_0*a_8 - a_2*a_6)/(a_0*a_4*a_8 - a_0*a_5*a_7 - a_1*a_3*a_8 + a_1*a_5*a_6 + a_2*a_3*a_7 - a_2*a_4*a_6) + a_5*(-a_0*a_7 + a_1*a_6)/(a_0*a_4*a_8 - a_0*a_5*a_7 - a_1*a_3*a_8 + a_1*a_5*a_6 + a_2*a_3*a_7 - a_2*a_4*a_6), a_3*(a_1*a_5 - a_2*a_4)/(a_0*a_4*a_8 - a_0*a_5*a_7 - a_1*a_3*a_8 + a_1*a_5*a_6 + a_2*a_3*a_7 - a_2*a_4*a_6) + a_4*(-a_0*a_5 + a_2*a_3)/(a_0*a_4*a_8 - a_0*a_5*a_7 - a_1*a_3*a_8 + a_1*a_5*a_6 + a_2*a_3*a_7 - a_2*a_4*a_6) + a_5*(a_0*a_4 - a_1*a_3)/(a_0*a_4*a_8 - a_0*a_5*a_7 - a_1*a_3*a_8 + a_1*a_5*a_6 + a_2*a_3*a_7 - a_2*a_4*a_6)],\n",
       "[a_6*(a_4*a_8 - a_5*a_7)/(a_0*a_4*a_8 - a_0*a_5*a_7 - a_1*a_3*a_8 + a_1*a_5*a_6 + a_2*a_3*a_7 - a_2*a_4*a_6) + a_7*(-a_3*a_8 + a_5*a_6)/(a_0*a_4*a_8 - a_0*a_5*a_7 - a_1*a_3*a_8 + a_1*a_5*a_6 + a_2*a_3*a_7 - a_2*a_4*a_6) + a_8*(a_3*a_7 - a_4*a_6)/(a_0*a_4*a_8 - a_0*a_5*a_7 - a_1*a_3*a_8 + a_1*a_5*a_6 + a_2*a_3*a_7 - a_2*a_4*a_6), a_6*(-a_1*a_8 + a_2*a_7)/(a_0*a_4*a_8 - a_0*a_5*a_7 - a_1*a_3*a_8 + a_1*a_5*a_6 + a_2*a_3*a_7 - a_2*a_4*a_6) + a_7*(a_0*a_8 - a_2*a_6)/(a_0*a_4*a_8 - a_0*a_5*a_7 - a_1*a_3*a_8 + a_1*a_5*a_6 + a_2*a_3*a_7 - a_2*a_4*a_6) + a_8*(-a_0*a_7 + a_1*a_6)/(a_0*a_4*a_8 - a_0*a_5*a_7 - a_1*a_3*a_8 + a_1*a_5*a_6 + a_2*a_3*a_7 - a_2*a_4*a_6), a_6*(a_1*a_5 - a_2*a_4)/(a_0*a_4*a_8 - a_0*a_5*a_7 - a_1*a_3*a_8 + a_1*a_5*a_6 + a_2*a_3*a_7 - a_2*a_4*a_6) + a_7*(-a_0*a_5 + a_2*a_3)/(a_0*a_4*a_8 - a_0*a_5*a_7 - a_1*a_3*a_8 + a_1*a_5*a_6 + a_2*a_3*a_7 - a_2*a_4*a_6) + a_8*(a_0*a_4 - a_1*a_3)/(a_0*a_4*a_8 - a_0*a_5*a_7 - a_1*a_3*a_8 + a_1*a_5*a_6 + a_2*a_3*a_7 - a_2*a_4*a_6)]])"
      ]
     },
     "execution_count": 71,
     "metadata": {},
     "output_type": "execute_result"
    }
   ],
   "source": [
    "A*A.inv()"
   ]
  },
  {
   "cell_type": "code",
   "execution_count": 72,
   "id": "d4d7996e",
   "metadata": {},
   "outputs": [
    {
     "data": {
      "text/plain": [
       "array([[ 1,  5, 12, 17],\n",
       "       [ 2, 14,  7, 17],\n",
       "       [ 9, 19,  9, 13],\n",
       "       [ 4, 13, 10, 17]])"
      ]
     },
     "execution_count": 72,
     "metadata": {},
     "output_type": "execute_result"
    }
   ],
   "source": [
    "A = np.random.randint(1,20,(4,4))\n",
    "A"
   ]
  },
  {
   "cell_type": "code",
   "execution_count": 73,
   "id": "1e56ca6c",
   "metadata": {},
   "outputs": [
    {
     "data": {
      "text/plain": [
       "array([[-2.23502304, -2.26728111, -1.7235023 ,  5.8202765 ],\n",
       "       [ 1.1843318 ,  1.24884793,  1.01843318, -3.21198157],\n",
       "       [ 1.88479263,  1.59447005,  1.48847926, -4.61751152],\n",
       "       [-1.48847926, -1.359447  , -1.24884793,  3.86175115]])"
      ]
     },
     "execution_count": 73,
     "metadata": {},
     "output_type": "execute_result"
    }
   ],
   "source": [
    "np.linalg.inv(A)"
   ]
  },
  {
   "cell_type": "code",
   "execution_count": 74,
   "id": "c83ea8d7",
   "metadata": {},
   "outputs": [
    {
     "data": {
      "text/plain": [
       "array([[ -2.23502304, -11.33640553, -20.68202765,  98.94470046],\n",
       "       [  2.36866359,  17.48387097,   7.12903226, -54.60368664],\n",
       "       [ 16.96313364,  30.29493088,  13.39631336, -60.02764977],\n",
       "       [ -5.95391705, -17.67281106, -12.48847926,  65.64976959]])"
      ]
     },
     "execution_count": 74,
     "metadata": {},
     "output_type": "execute_result"
    }
   ],
   "source": [
    "A*np.linalg.inv(A)"
   ]
  },
  {
   "cell_type": "code",
   "execution_count": 75,
   "id": "901c66a8",
   "metadata": {},
   "outputs": [
    {
     "data": {
      "text/plain": [
       "array([[ -2.23502304, -11.33640553, -20.68202765,  98.94470046],\n",
       "       [  2.36866359,  17.48387097,   7.12903226, -54.60368664],\n",
       "       [ 16.96313364,  30.29493088,  13.39631336, -60.02764977],\n",
       "       [ -5.95391705, -17.67281106, -12.48847926,  65.64976959]])"
      ]
     },
     "execution_count": 75,
     "metadata": {},
     "output_type": "execute_result"
    }
   ],
   "source": [
    "np.linalg.inv(A)*A"
   ]
  },
  {
   "cell_type": "code",
   "execution_count": 76,
   "id": "814038c5",
   "metadata": {},
   "outputs": [
    {
     "data": {
      "text/plain": [
       "array([[10, 13, 17],\n",
       "       [ 9, 15, 17],\n",
       "       [13, 12,  1]])"
      ]
     },
     "execution_count": 76,
     "metadata": {},
     "output_type": "execute_result"
    }
   ],
   "source": [
    "A = np.random.randint(1,20,(3,3))\n",
    "A"
   ]
  },
  {
   "cell_type": "code",
   "execution_count": 78,
   "id": "eff48c00",
   "metadata": {},
   "outputs": [
    {
     "data": {
      "text/plain": [
       "array([[ 6,  7,  3],\n",
       "       [ 5, 17, 12],\n",
       "       [ 3, 10,  4]])"
      ]
     },
     "execution_count": 78,
     "metadata": {},
     "output_type": "execute_result"
    }
   ],
   "source": [
    "B = np.random.randint(1,20,(3,3))\n",
    "B"
   ]
  },
  {
   "cell_type": "code",
   "execution_count": 81,
   "id": "888def5e",
   "metadata": {},
   "outputs": [
    {
     "data": {
      "text/plain": [
       "array([[ 0.0593142 , -0.07021111,  0.02268581],\n",
       "       [ 0.04110448, -0.02332066, -0.02153666],\n",
       "       [-0.1117656 ,  0.0909763 ,  0.02336888]])"
      ]
     },
     "execution_count": 81,
     "metadata": {},
     "output_type": "execute_result"
    }
   ],
   "source": [
    "np.linalg.inv(np.dot(A,B))"
   ]
  },
  {
   "cell_type": "code",
   "execution_count": 83,
   "id": "6620bec3",
   "metadata": {},
   "outputs": [
    {
     "data": {
      "text/plain": [
       "array([[ 0.1038099 ,  0.03064152, -0.15591575],\n",
       "       [-0.11558274, -0.01669894,  0.143717  ],\n",
       "       [ 0.04239025, -0.00583418, -0.02774854]])"
      ]
     },
     "execution_count": 83,
     "metadata": {},
     "output_type": "execute_result"
    }
   ],
   "source": [
    "np.dot(np.linalg.inv(A),np.linalg.inv(B))"
   ]
  },
  {
   "cell_type": "markdown",
   "id": "7dd7aaff",
   "metadata": {},
   "source": [
    "# Powers of a matrix"
   ]
  },
  {
   "cell_type": "code",
   "execution_count": 89,
   "id": "2546f4b3",
   "metadata": {},
   "outputs": [
    {
     "data": {
      "text/latex": [
       "$\\displaystyle \\left[\\begin{matrix}a_{0} & a_{1} & a_{2}\\\\a_{3} & a_{4} & a_{5}\\\\a_{6} & a_{7} & a_{8}\\end{matrix}\\right]$"
      ],
      "text/plain": [
       "Matrix([\n",
       "[a_0, a_1, a_2],\n",
       "[a_3, a_4, a_5],\n",
       "[a_6, a_7, a_8]])"
      ]
     },
     "execution_count": 89,
     "metadata": {},
     "output_type": "execute_result"
    }
   ],
   "source": [
    "A = sp.Matrix([[a[0],a[1],a[2]],[a[3],a[4],a[5]],[a[6],a[7],a[8]]])\n",
    "A"
   ]
  },
  {
   "cell_type": "code",
   "execution_count": 90,
   "id": "7adaabf5",
   "metadata": {},
   "outputs": [
    {
     "data": {
      "text/latex": [
       "$\\displaystyle \\left[\\begin{matrix}a_{0}^{2} + a_{1} a_{3} + a_{2} a_{6} & a_{0} a_{1} + a_{1} a_{4} + a_{2} a_{7} & a_{0} a_{2} + a_{1} a_{5} + a_{2} a_{8}\\\\a_{0} a_{3} + a_{3} a_{4} + a_{5} a_{6} & a_{1} a_{3} + a_{4}^{2} + a_{5} a_{7} & a_{2} a_{3} + a_{4} a_{5} + a_{5} a_{8}\\\\a_{0} a_{6} + a_{3} a_{7} + a_{6} a_{8} & a_{1} a_{6} + a_{4} a_{7} + a_{7} a_{8} & a_{2} a_{6} + a_{5} a_{7} + a_{8}^{2}\\end{matrix}\\right]$"
      ],
      "text/plain": [
       "Matrix([\n",
       "[ a_0**2 + a_1*a_3 + a_2*a_6, a_0*a_1 + a_1*a_4 + a_2*a_7, a_0*a_2 + a_1*a_5 + a_2*a_8],\n",
       "[a_0*a_3 + a_3*a_4 + a_5*a_6,  a_1*a_3 + a_4**2 + a_5*a_7, a_2*a_3 + a_4*a_5 + a_5*a_8],\n",
       "[a_0*a_6 + a_3*a_7 + a_6*a_8, a_1*a_6 + a_4*a_7 + a_7*a_8,  a_2*a_6 + a_5*a_7 + a_8**2]])"
      ]
     },
     "execution_count": 90,
     "metadata": {},
     "output_type": "execute_result"
    }
   ],
   "source": [
    "A**2"
   ]
  },
  {
   "cell_type": "code",
   "execution_count": 91,
   "id": "16d90152",
   "metadata": {},
   "outputs": [
    {
     "data": {
      "text/latex": [
       "$\\displaystyle \\left[\\begin{matrix}\\left(a_{0}^{2} + a_{1} a_{3} + a_{2} a_{6}\\right) \\left(a_{0}^{3} + 2 a_{0} a_{1} a_{3} + 2 a_{0} a_{2} a_{6} + a_{1} a_{3} a_{4} + a_{1} a_{5} a_{6} + a_{2} a_{3} a_{7} + a_{2} a_{6} a_{8}\\right) + \\left(a_{0} a_{1} + a_{1} a_{4} + a_{2} a_{7}\\right) \\left(a_{0}^{2} a_{3} + a_{0} a_{3} a_{4} + a_{0} a_{5} a_{6} + a_{1} a_{3}^{2} + a_{2} a_{3} a_{6} + a_{3} a_{4}^{2} + a_{3} a_{5} a_{7} + a_{4} a_{5} a_{6} + a_{5} a_{6} a_{8}\\right) + \\left(a_{0} a_{2} + a_{1} a_{5} + a_{2} a_{8}\\right) \\left(a_{0}^{2} a_{6} + a_{0} a_{3} a_{7} + a_{0} a_{6} a_{8} + a_{1} a_{3} a_{6} + a_{2} a_{6}^{2} + a_{3} a_{4} a_{7} + a_{3} a_{7} a_{8} + a_{5} a_{6} a_{7} + a_{6} a_{8}^{2}\\right) & \\left(a_{0}^{2} + a_{1} a_{3} + a_{2} a_{6}\\right) \\left(a_{0}^{2} a_{1} + a_{0} a_{1} a_{4} + a_{0} a_{2} a_{7} + a_{1}^{2} a_{3} + a_{1} a_{2} a_{6} + a_{1} a_{4}^{2} + a_{1} a_{5} a_{7} + a_{2} a_{4} a_{7} + a_{2} a_{7} a_{8}\\right) + \\left(a_{0} a_{1} + a_{1} a_{4} + a_{2} a_{7}\\right) \\left(a_{0} a_{1} a_{3} + 2 a_{1} a_{3} a_{4} + a_{1} a_{5} a_{6} + a_{2} a_{3} a_{7} + a_{4}^{3} + 2 a_{4} a_{5} a_{7} + a_{5} a_{7} a_{8}\\right) + \\left(a_{0} a_{2} + a_{1} a_{5} + a_{2} a_{8}\\right) \\left(a_{0} a_{1} a_{6} + a_{1} a_{3} a_{7} + a_{1} a_{4} a_{6} + a_{1} a_{6} a_{8} + a_{2} a_{6} a_{7} + a_{4}^{2} a_{7} + a_{4} a_{7} a_{8} + a_{5} a_{7}^{2} + a_{7} a_{8}^{2}\\right) & \\left(a_{0}^{2} + a_{1} a_{3} + a_{2} a_{6}\\right) \\left(a_{0}^{2} a_{2} + a_{0} a_{1} a_{5} + a_{0} a_{2} a_{8} + a_{1} a_{2} a_{3} + a_{1} a_{4} a_{5} + a_{1} a_{5} a_{8} + a_{2}^{2} a_{6} + a_{2} a_{5} a_{7} + a_{2} a_{8}^{2}\\right) + \\left(a_{0} a_{1} + a_{1} a_{4} + a_{2} a_{7}\\right) \\left(a_{0} a_{2} a_{3} + a_{1} a_{3} a_{5} + a_{2} a_{3} a_{4} + a_{2} a_{3} a_{8} + a_{2} a_{5} a_{6} + a_{4}^{2} a_{5} + a_{4} a_{5} a_{8} + a_{5}^{2} a_{7} + a_{5} a_{8}^{2}\\right) + \\left(a_{0} a_{2} + a_{1} a_{5} + a_{2} a_{8}\\right) \\left(a_{0} a_{2} a_{6} + a_{1} a_{5} a_{6} + a_{2} a_{3} a_{7} + 2 a_{2} a_{6} a_{8} + a_{4} a_{5} a_{7} + 2 a_{5} a_{7} a_{8} + a_{8}^{3}\\right)\\\\\\left(a_{0} a_{3} + a_{3} a_{4} + a_{5} a_{6}\\right) \\left(a_{0}^{3} + 2 a_{0} a_{1} a_{3} + 2 a_{0} a_{2} a_{6} + a_{1} a_{3} a_{4} + a_{1} a_{5} a_{6} + a_{2} a_{3} a_{7} + a_{2} a_{6} a_{8}\\right) + \\left(a_{1} a_{3} + a_{4}^{2} + a_{5} a_{7}\\right) \\left(a_{0}^{2} a_{3} + a_{0} a_{3} a_{4} + a_{0} a_{5} a_{6} + a_{1} a_{3}^{2} + a_{2} a_{3} a_{6} + a_{3} a_{4}^{2} + a_{3} a_{5} a_{7} + a_{4} a_{5} a_{6} + a_{5} a_{6} a_{8}\\right) + \\left(a_{2} a_{3} + a_{4} a_{5} + a_{5} a_{8}\\right) \\left(a_{0}^{2} a_{6} + a_{0} a_{3} a_{7} + a_{0} a_{6} a_{8} + a_{1} a_{3} a_{6} + a_{2} a_{6}^{2} + a_{3} a_{4} a_{7} + a_{3} a_{7} a_{8} + a_{5} a_{6} a_{7} + a_{6} a_{8}^{2}\\right) & \\left(a_{0} a_{3} + a_{3} a_{4} + a_{5} a_{6}\\right) \\left(a_{0}^{2} a_{1} + a_{0} a_{1} a_{4} + a_{0} a_{2} a_{7} + a_{1}^{2} a_{3} + a_{1} a_{2} a_{6} + a_{1} a_{4}^{2} + a_{1} a_{5} a_{7} + a_{2} a_{4} a_{7} + a_{2} a_{7} a_{8}\\right) + \\left(a_{1} a_{3} + a_{4}^{2} + a_{5} a_{7}\\right) \\left(a_{0} a_{1} a_{3} + 2 a_{1} a_{3} a_{4} + a_{1} a_{5} a_{6} + a_{2} a_{3} a_{7} + a_{4}^{3} + 2 a_{4} a_{5} a_{7} + a_{5} a_{7} a_{8}\\right) + \\left(a_{2} a_{3} + a_{4} a_{5} + a_{5} a_{8}\\right) \\left(a_{0} a_{1} a_{6} + a_{1} a_{3} a_{7} + a_{1} a_{4} a_{6} + a_{1} a_{6} a_{8} + a_{2} a_{6} a_{7} + a_{4}^{2} a_{7} + a_{4} a_{7} a_{8} + a_{5} a_{7}^{2} + a_{7} a_{8}^{2}\\right) & \\left(a_{0} a_{3} + a_{3} a_{4} + a_{5} a_{6}\\right) \\left(a_{0}^{2} a_{2} + a_{0} a_{1} a_{5} + a_{0} a_{2} a_{8} + a_{1} a_{2} a_{3} + a_{1} a_{4} a_{5} + a_{1} a_{5} a_{8} + a_{2}^{2} a_{6} + a_{2} a_{5} a_{7} + a_{2} a_{8}^{2}\\right) + \\left(a_{1} a_{3} + a_{4}^{2} + a_{5} a_{7}\\right) \\left(a_{0} a_{2} a_{3} + a_{1} a_{3} a_{5} + a_{2} a_{3} a_{4} + a_{2} a_{3} a_{8} + a_{2} a_{5} a_{6} + a_{4}^{2} a_{5} + a_{4} a_{5} a_{8} + a_{5}^{2} a_{7} + a_{5} a_{8}^{2}\\right) + \\left(a_{2} a_{3} + a_{4} a_{5} + a_{5} a_{8}\\right) \\left(a_{0} a_{2} a_{6} + a_{1} a_{5} a_{6} + a_{2} a_{3} a_{7} + 2 a_{2} a_{6} a_{8} + a_{4} a_{5} a_{7} + 2 a_{5} a_{7} a_{8} + a_{8}^{3}\\right)\\\\\\left(a_{0} a_{6} + a_{3} a_{7} + a_{6} a_{8}\\right) \\left(a_{0}^{3} + 2 a_{0} a_{1} a_{3} + 2 a_{0} a_{2} a_{6} + a_{1} a_{3} a_{4} + a_{1} a_{5} a_{6} + a_{2} a_{3} a_{7} + a_{2} a_{6} a_{8}\\right) + \\left(a_{1} a_{6} + a_{4} a_{7} + a_{7} a_{8}\\right) \\left(a_{0}^{2} a_{3} + a_{0} a_{3} a_{4} + a_{0} a_{5} a_{6} + a_{1} a_{3}^{2} + a_{2} a_{3} a_{6} + a_{3} a_{4}^{2} + a_{3} a_{5} a_{7} + a_{4} a_{5} a_{6} + a_{5} a_{6} a_{8}\\right) + \\left(a_{2} a_{6} + a_{5} a_{7} + a_{8}^{2}\\right) \\left(a_{0}^{2} a_{6} + a_{0} a_{3} a_{7} + a_{0} a_{6} a_{8} + a_{1} a_{3} a_{6} + a_{2} a_{6}^{2} + a_{3} a_{4} a_{7} + a_{3} a_{7} a_{8} + a_{5} a_{6} a_{7} + a_{6} a_{8}^{2}\\right) & \\left(a_{0} a_{6} + a_{3} a_{7} + a_{6} a_{8}\\right) \\left(a_{0}^{2} a_{1} + a_{0} a_{1} a_{4} + a_{0} a_{2} a_{7} + a_{1}^{2} a_{3} + a_{1} a_{2} a_{6} + a_{1} a_{4}^{2} + a_{1} a_{5} a_{7} + a_{2} a_{4} a_{7} + a_{2} a_{7} a_{8}\\right) + \\left(a_{1} a_{6} + a_{4} a_{7} + a_{7} a_{8}\\right) \\left(a_{0} a_{1} a_{3} + 2 a_{1} a_{3} a_{4} + a_{1} a_{5} a_{6} + a_{2} a_{3} a_{7} + a_{4}^{3} + 2 a_{4} a_{5} a_{7} + a_{5} a_{7} a_{8}\\right) + \\left(a_{2} a_{6} + a_{5} a_{7} + a_{8}^{2}\\right) \\left(a_{0} a_{1} a_{6} + a_{1} a_{3} a_{7} + a_{1} a_{4} a_{6} + a_{1} a_{6} a_{8} + a_{2} a_{6} a_{7} + a_{4}^{2} a_{7} + a_{4} a_{7} a_{8} + a_{5} a_{7}^{2} + a_{7} a_{8}^{2}\\right) & \\left(a_{0} a_{6} + a_{3} a_{7} + a_{6} a_{8}\\right) \\left(a_{0}^{2} a_{2} + a_{0} a_{1} a_{5} + a_{0} a_{2} a_{8} + a_{1} a_{2} a_{3} + a_{1} a_{4} a_{5} + a_{1} a_{5} a_{8} + a_{2}^{2} a_{6} + a_{2} a_{5} a_{7} + a_{2} a_{8}^{2}\\right) + \\left(a_{1} a_{6} + a_{4} a_{7} + a_{7} a_{8}\\right) \\left(a_{0} a_{2} a_{3} + a_{1} a_{3} a_{5} + a_{2} a_{3} a_{4} + a_{2} a_{3} a_{8} + a_{2} a_{5} a_{6} + a_{4}^{2} a_{5} + a_{4} a_{5} a_{8} + a_{5}^{2} a_{7} + a_{5} a_{8}^{2}\\right) + \\left(a_{2} a_{6} + a_{5} a_{7} + a_{8}^{2}\\right) \\left(a_{0} a_{2} a_{6} + a_{1} a_{5} a_{6} + a_{2} a_{3} a_{7} + 2 a_{2} a_{6} a_{8} + a_{4} a_{5} a_{7} + 2 a_{5} a_{7} a_{8} + a_{8}^{3}\\right)\\end{matrix}\\right]$"
      ],
      "text/plain": [
       "Matrix([\n",
       "[(a_0**2 + a_1*a_3 + a_2*a_6)*(a_0**3 + 2*a_0*a_1*a_3 + 2*a_0*a_2*a_6 + a_1*a_3*a_4 + a_1*a_5*a_6 + a_2*a_3*a_7 + a_2*a_6*a_8) + (a_0*a_1 + a_1*a_4 + a_2*a_7)*(a_0**2*a_3 + a_0*a_3*a_4 + a_0*a_5*a_6 + a_1*a_3**2 + a_2*a_3*a_6 + a_3*a_4**2 + a_3*a_5*a_7 + a_4*a_5*a_6 + a_5*a_6*a_8) + (a_0*a_2 + a_1*a_5 + a_2*a_8)*(a_0**2*a_6 + a_0*a_3*a_7 + a_0*a_6*a_8 + a_1*a_3*a_6 + a_2*a_6**2 + a_3*a_4*a_7 + a_3*a_7*a_8 + a_5*a_6*a_7 + a_6*a_8**2), (a_0**2 + a_1*a_3 + a_2*a_6)*(a_0**2*a_1 + a_0*a_1*a_4 + a_0*a_2*a_7 + a_1**2*a_3 + a_1*a_2*a_6 + a_1*a_4**2 + a_1*a_5*a_7 + a_2*a_4*a_7 + a_2*a_7*a_8) + (a_0*a_1 + a_1*a_4 + a_2*a_7)*(a_0*a_1*a_3 + 2*a_1*a_3*a_4 + a_1*a_5*a_6 + a_2*a_3*a_7 + a_4**3 + 2*a_4*a_5*a_7 + a_5*a_7*a_8) + (a_0*a_2 + a_1*a_5 + a_2*a_8)*(a_0*a_1*a_6 + a_1*a_3*a_7 + a_1*a_4*a_6 + a_1*a_6*a_8 + a_2*a_6*a_7 + a_4**2*a_7 + a_4*a_7*a_8 + a_5*a_7**2 + a_7*a_8**2), (a_0**2 + a_1*a_3 + a_2*a_6)*(a_0**2*a_2 + a_0*a_1*a_5 + a_0*a_2*a_8 + a_1*a_2*a_3 + a_1*a_4*a_5 + a_1*a_5*a_8 + a_2**2*a_6 + a_2*a_5*a_7 + a_2*a_8**2) + (a_0*a_1 + a_1*a_4 + a_2*a_7)*(a_0*a_2*a_3 + a_1*a_3*a_5 + a_2*a_3*a_4 + a_2*a_3*a_8 + a_2*a_5*a_6 + a_4**2*a_5 + a_4*a_5*a_8 + a_5**2*a_7 + a_5*a_8**2) + (a_0*a_2 + a_1*a_5 + a_2*a_8)*(a_0*a_2*a_6 + a_1*a_5*a_6 + a_2*a_3*a_7 + 2*a_2*a_6*a_8 + a_4*a_5*a_7 + 2*a_5*a_7*a_8 + a_8**3)],\n",
       "[(a_0*a_3 + a_3*a_4 + a_5*a_6)*(a_0**3 + 2*a_0*a_1*a_3 + 2*a_0*a_2*a_6 + a_1*a_3*a_4 + a_1*a_5*a_6 + a_2*a_3*a_7 + a_2*a_6*a_8) + (a_1*a_3 + a_4**2 + a_5*a_7)*(a_0**2*a_3 + a_0*a_3*a_4 + a_0*a_5*a_6 + a_1*a_3**2 + a_2*a_3*a_6 + a_3*a_4**2 + a_3*a_5*a_7 + a_4*a_5*a_6 + a_5*a_6*a_8) + (a_2*a_3 + a_4*a_5 + a_5*a_8)*(a_0**2*a_6 + a_0*a_3*a_7 + a_0*a_6*a_8 + a_1*a_3*a_6 + a_2*a_6**2 + a_3*a_4*a_7 + a_3*a_7*a_8 + a_5*a_6*a_7 + a_6*a_8**2), (a_0*a_3 + a_3*a_4 + a_5*a_6)*(a_0**2*a_1 + a_0*a_1*a_4 + a_0*a_2*a_7 + a_1**2*a_3 + a_1*a_2*a_6 + a_1*a_4**2 + a_1*a_5*a_7 + a_2*a_4*a_7 + a_2*a_7*a_8) + (a_1*a_3 + a_4**2 + a_5*a_7)*(a_0*a_1*a_3 + 2*a_1*a_3*a_4 + a_1*a_5*a_6 + a_2*a_3*a_7 + a_4**3 + 2*a_4*a_5*a_7 + a_5*a_7*a_8) + (a_2*a_3 + a_4*a_5 + a_5*a_8)*(a_0*a_1*a_6 + a_1*a_3*a_7 + a_1*a_4*a_6 + a_1*a_6*a_8 + a_2*a_6*a_7 + a_4**2*a_7 + a_4*a_7*a_8 + a_5*a_7**2 + a_7*a_8**2), (a_0*a_3 + a_3*a_4 + a_5*a_6)*(a_0**2*a_2 + a_0*a_1*a_5 + a_0*a_2*a_8 + a_1*a_2*a_3 + a_1*a_4*a_5 + a_1*a_5*a_8 + a_2**2*a_6 + a_2*a_5*a_7 + a_2*a_8**2) + (a_1*a_3 + a_4**2 + a_5*a_7)*(a_0*a_2*a_3 + a_1*a_3*a_5 + a_2*a_3*a_4 + a_2*a_3*a_8 + a_2*a_5*a_6 + a_4**2*a_5 + a_4*a_5*a_8 + a_5**2*a_7 + a_5*a_8**2) + (a_2*a_3 + a_4*a_5 + a_5*a_8)*(a_0*a_2*a_6 + a_1*a_5*a_6 + a_2*a_3*a_7 + 2*a_2*a_6*a_8 + a_4*a_5*a_7 + 2*a_5*a_7*a_8 + a_8**3)],\n",
       "[(a_0*a_6 + a_3*a_7 + a_6*a_8)*(a_0**3 + 2*a_0*a_1*a_3 + 2*a_0*a_2*a_6 + a_1*a_3*a_4 + a_1*a_5*a_6 + a_2*a_3*a_7 + a_2*a_6*a_8) + (a_1*a_6 + a_4*a_7 + a_7*a_8)*(a_0**2*a_3 + a_0*a_3*a_4 + a_0*a_5*a_6 + a_1*a_3**2 + a_2*a_3*a_6 + a_3*a_4**2 + a_3*a_5*a_7 + a_4*a_5*a_6 + a_5*a_6*a_8) + (a_2*a_6 + a_5*a_7 + a_8**2)*(a_0**2*a_6 + a_0*a_3*a_7 + a_0*a_6*a_8 + a_1*a_3*a_6 + a_2*a_6**2 + a_3*a_4*a_7 + a_3*a_7*a_8 + a_5*a_6*a_7 + a_6*a_8**2), (a_0*a_6 + a_3*a_7 + a_6*a_8)*(a_0**2*a_1 + a_0*a_1*a_4 + a_0*a_2*a_7 + a_1**2*a_3 + a_1*a_2*a_6 + a_1*a_4**2 + a_1*a_5*a_7 + a_2*a_4*a_7 + a_2*a_7*a_8) + (a_1*a_6 + a_4*a_7 + a_7*a_8)*(a_0*a_1*a_3 + 2*a_1*a_3*a_4 + a_1*a_5*a_6 + a_2*a_3*a_7 + a_4**3 + 2*a_4*a_5*a_7 + a_5*a_7*a_8) + (a_2*a_6 + a_5*a_7 + a_8**2)*(a_0*a_1*a_6 + a_1*a_3*a_7 + a_1*a_4*a_6 + a_1*a_6*a_8 + a_2*a_6*a_7 + a_4**2*a_7 + a_4*a_7*a_8 + a_5*a_7**2 + a_7*a_8**2), (a_0*a_6 + a_3*a_7 + a_6*a_8)*(a_0**2*a_2 + a_0*a_1*a_5 + a_0*a_2*a_8 + a_1*a_2*a_3 + a_1*a_4*a_5 + a_1*a_5*a_8 + a_2**2*a_6 + a_2*a_5*a_7 + a_2*a_8**2) + (a_1*a_6 + a_4*a_7 + a_7*a_8)*(a_0*a_2*a_3 + a_1*a_3*a_5 + a_2*a_3*a_4 + a_2*a_3*a_8 + a_2*a_5*a_6 + a_4**2*a_5 + a_4*a_5*a_8 + a_5**2*a_7 + a_5*a_8**2) + (a_2*a_6 + a_5*a_7 + a_8**2)*(a_0*a_2*a_6 + a_1*a_5*a_6 + a_2*a_3*a_7 + 2*a_2*a_6*a_8 + a_4*a_5*a_7 + 2*a_5*a_7*a_8 + a_8**3)]])"
      ]
     },
     "execution_count": 91,
     "metadata": {},
     "output_type": "execute_result"
    }
   ],
   "source": [
    "A**2*A**3"
   ]
  },
  {
   "cell_type": "code",
   "execution_count": 92,
   "id": "a7fce867",
   "metadata": {},
   "outputs": [
    {
     "data": {
      "text/plain": [
       "array([[ 7, 11, 16],\n",
       "       [ 5, 10, 19],\n",
       "       [ 2, 11, 19]])"
      ]
     },
     "execution_count": 92,
     "metadata": {},
     "output_type": "execute_result"
    }
   ],
   "source": [
    "A = np.random.randint(1,20,(3,3))\n",
    "A"
   ]
  },
  {
   "cell_type": "code",
   "execution_count": 93,
   "id": "a1c04ec1",
   "metadata": {},
   "outputs": [
    {
     "data": {
      "text/plain": [
       "array([[ 343, 1331, 4096],\n",
       "       [ 125, 1000, 6859],\n",
       "       [   8, 1331, 6859]], dtype=int32)"
      ]
     },
     "execution_count": 93,
     "metadata": {},
     "output_type": "execute_result"
    }
   ],
   "source": [
    "A**3"
   ]
  },
  {
   "cell_type": "code",
   "execution_count": 94,
   "id": "7877ab2a",
   "metadata": {},
   "outputs": [
    {
     "data": {
      "text/plain": [
       "array([[  16807,  161051, 1048576],\n",
       "       [   3125,  100000, 2476099],\n",
       "       [     32,  161051, 2476099]])"
      ]
     },
     "execution_count": 94,
     "metadata": {},
     "output_type": "execute_result"
    }
   ],
   "source": [
    "A**2*A**3"
   ]
  },
  {
   "cell_type": "code",
   "execution_count": 95,
   "id": "4a9ed12e",
   "metadata": {},
   "outputs": [
    {
     "data": {
      "text/plain": [
       "array([[  117649,  1771561, 16777216],\n",
       "       [   15625,  1000000, 47045881],\n",
       "       [      64,  1771561, 47045881]], dtype=int32)"
      ]
     },
     "execution_count": 95,
     "metadata": {},
     "output_type": "execute_result"
    }
   ],
   "source": [
    "(A**2)**3"
   ]
  },
  {
   "cell_type": "code",
   "execution_count": 98,
   "id": "c0591c7c",
   "metadata": {},
   "outputs": [
    {
     "data": {
      "text/plain": [
       "array([[1225, 3025, 6400],\n",
       "       [ 625, 2500, 9025],\n",
       "       [ 100, 3025, 9025]])"
      ]
     },
     "execution_count": 98,
     "metadata": {},
     "output_type": "execute_result"
    }
   ],
   "source": [
    "(5*A)**2"
   ]
  },
  {
   "cell_type": "code",
   "execution_count": 99,
   "id": "85eb3ef9",
   "metadata": {},
   "outputs": [
    {
     "data": {
      "text/plain": [
       "array([[1225, 3025, 6400],\n",
       "       [ 625, 2500, 9025],\n",
       "       [ 100, 3025, 9025]])"
      ]
     },
     "execution_count": 99,
     "metadata": {},
     "output_type": "execute_result"
    }
   ],
   "source": [
    "5**2*A**2"
   ]
  },
  {
   "cell_type": "code",
   "execution_count": 100,
   "id": "aa8c106a",
   "metadata": {},
   "outputs": [
    {
     "data": {
      "text/latex": [
       "$\\displaystyle \\left[\\begin{matrix}a_{0} & a_{1} & a_{2}\\\\a_{3} & a_{4} & a_{5}\\\\a_{6} & a_{7} & a_{8}\\end{matrix}\\right]$"
      ],
      "text/plain": [
       "Matrix([\n",
       "[a_0, a_1, a_2],\n",
       "[a_3, a_4, a_5],\n",
       "[a_6, a_7, a_8]])"
      ]
     },
     "execution_count": 100,
     "metadata": {},
     "output_type": "execute_result"
    }
   ],
   "source": [
    "A = sp.Matrix([[a[0],a[1],a[2]],[a[3],a[4],a[5]],[a[6],a[7],a[8]]])\n",
    "A"
   ]
  },
  {
   "cell_type": "code",
   "execution_count": 101,
   "id": "b080c65b",
   "metadata": {},
   "outputs": [
    {
     "data": {
      "text/latex": [
       "$\\displaystyle \\left[\\begin{matrix}b_{0} & b_{1} & b_{2}\\\\b_{3} & b_{4} & b_{5}\\\\b_{6} & b_{7} & b_{8}\\end{matrix}\\right]$"
      ],
      "text/plain": [
       "Matrix([\n",
       "[b_0, b_1, b_2],\n",
       "[b_3, b_4, b_5],\n",
       "[b_6, b_7, b_8]])"
      ]
     },
     "execution_count": 101,
     "metadata": {},
     "output_type": "execute_result"
    }
   ],
   "source": [
    "B = sp.Matrix([[b[0],b[1],b[2]],[b[3],b[4],b[5]],[b[6],b[7],b[8]]])\n",
    "B"
   ]
  },
  {
   "cell_type": "code",
   "execution_count": 102,
   "id": "0989ad26",
   "metadata": {},
   "outputs": [
    {
     "data": {
      "text/latex": [
       "$\\displaystyle \\left[\\begin{matrix}a_{0}^{2} + 2 a_{0} b_{0} + a_{1} a_{3} + a_{1} b_{3} + a_{2} a_{6} + a_{2} b_{6} + a_{3} b_{1} + a_{6} b_{2} + b_{0}^{2} + b_{1} b_{3} + b_{2} b_{6} & a_{0} a_{1} + a_{0} b_{1} + a_{1} a_{4} + a_{1} b_{0} + a_{1} b_{4} + a_{2} a_{7} + a_{2} b_{7} + a_{4} b_{1} + a_{7} b_{2} + b_{0} b_{1} + b_{1} b_{4} + b_{2} b_{7} & a_{0} a_{2} + a_{0} b_{2} + a_{1} a_{5} + a_{1} b_{5} + a_{2} a_{8} + a_{2} b_{0} + a_{2} b_{8} + a_{5} b_{1} + a_{8} b_{2} + b_{0} b_{2} + b_{1} b_{5} + b_{2} b_{8}\\\\a_{0} a_{3} + a_{0} b_{3} + a_{3} a_{4} + a_{3} b_{0} + a_{3} b_{4} + a_{4} b_{3} + a_{5} a_{6} + a_{5} b_{6} + a_{6} b_{5} + b_{0} b_{3} + b_{3} b_{4} + b_{5} b_{6} & a_{1} a_{3} + a_{1} b_{3} + a_{3} b_{1} + a_{4}^{2} + 2 a_{4} b_{4} + a_{5} a_{7} + a_{5} b_{7} + a_{7} b_{5} + b_{1} b_{3} + b_{4}^{2} + b_{5} b_{7} & a_{2} a_{3} + a_{2} b_{3} + a_{3} b_{2} + a_{4} a_{5} + a_{4} b_{5} + a_{5} a_{8} + a_{5} b_{4} + a_{5} b_{8} + a_{8} b_{5} + b_{2} b_{3} + b_{4} b_{5} + b_{5} b_{8}\\\\a_{0} a_{6} + a_{0} b_{6} + a_{3} a_{7} + a_{3} b_{7} + a_{6} a_{8} + a_{6} b_{0} + a_{6} b_{8} + a_{7} b_{3} + a_{8} b_{6} + b_{0} b_{6} + b_{3} b_{7} + b_{6} b_{8} & a_{1} a_{6} + a_{1} b_{6} + a_{4} a_{7} + a_{4} b_{7} + a_{6} b_{1} + a_{7} a_{8} + a_{7} b_{4} + a_{7} b_{8} + a_{8} b_{7} + b_{1} b_{6} + b_{4} b_{7} + b_{7} b_{8} & a_{2} a_{6} + a_{2} b_{6} + a_{5} a_{7} + a_{5} b_{7} + a_{6} b_{2} + a_{7} b_{5} + a_{8}^{2} + 2 a_{8} b_{8} + b_{2} b_{6} + b_{5} b_{7} + b_{8}^{2}\\end{matrix}\\right]$"
      ],
      "text/plain": [
       "Matrix([\n",
       "[          a_0**2 + 2*a_0*b_0 + a_1*a_3 + a_1*b_3 + a_2*a_6 + a_2*b_6 + a_3*b_1 + a_6*b_2 + b_0**2 + b_1*b_3 + b_2*b_6, a_0*a_1 + a_0*b_1 + a_1*a_4 + a_1*b_0 + a_1*b_4 + a_2*a_7 + a_2*b_7 + a_4*b_1 + a_7*b_2 + b_0*b_1 + b_1*b_4 + b_2*b_7, a_0*a_2 + a_0*b_2 + a_1*a_5 + a_1*b_5 + a_2*a_8 + a_2*b_0 + a_2*b_8 + a_5*b_1 + a_8*b_2 + b_0*b_2 + b_1*b_5 + b_2*b_8],\n",
       "[a_0*a_3 + a_0*b_3 + a_3*a_4 + a_3*b_0 + a_3*b_4 + a_4*b_3 + a_5*a_6 + a_5*b_6 + a_6*b_5 + b_0*b_3 + b_3*b_4 + b_5*b_6,           a_1*a_3 + a_1*b_3 + a_3*b_1 + a_4**2 + 2*a_4*b_4 + a_5*a_7 + a_5*b_7 + a_7*b_5 + b_1*b_3 + b_4**2 + b_5*b_7, a_2*a_3 + a_2*b_3 + a_3*b_2 + a_4*a_5 + a_4*b_5 + a_5*a_8 + a_5*b_4 + a_5*b_8 + a_8*b_5 + b_2*b_3 + b_4*b_5 + b_5*b_8],\n",
       "[a_0*a_6 + a_0*b_6 + a_3*a_7 + a_3*b_7 + a_6*a_8 + a_6*b_0 + a_6*b_8 + a_7*b_3 + a_8*b_6 + b_0*b_6 + b_3*b_7 + b_6*b_8, a_1*a_6 + a_1*b_6 + a_4*a_7 + a_4*b_7 + a_6*b_1 + a_7*a_8 + a_7*b_4 + a_7*b_8 + a_8*b_7 + b_1*b_6 + b_4*b_7 + b_7*b_8,           a_2*a_6 + a_2*b_6 + a_5*a_7 + a_5*b_7 + a_6*b_2 + a_7*b_5 + a_8**2 + 2*a_8*b_8 + b_2*b_6 + b_5*b_7 + b_8**2]])"
      ]
     },
     "execution_count": 102,
     "metadata": {},
     "output_type": "execute_result"
    }
   ],
   "source": [
    "(A+B)**2"
   ]
  },
  {
   "cell_type": "code",
   "execution_count": 103,
   "id": "469d0a47",
   "metadata": {},
   "outputs": [
    {
     "data": {
      "text/latex": [
       "$\\displaystyle \\left[\\begin{matrix}a_{0}^{2} - 2 a_{0} b_{0} + a_{1} a_{3} - a_{1} b_{3} + a_{2} a_{6} - a_{2} b_{6} - a_{3} b_{1} - a_{6} b_{2} + b_{0}^{2} + b_{1} b_{3} + b_{2} b_{6} & a_{0} a_{1} - a_{0} b_{1} + a_{1} a_{4} - a_{1} b_{0} - a_{1} b_{4} + a_{2} a_{7} - a_{2} b_{7} - a_{4} b_{1} - a_{7} b_{2} + b_{0} b_{1} + b_{1} b_{4} + b_{2} b_{7} & a_{0} a_{2} - a_{0} b_{2} + a_{1} a_{5} - a_{1} b_{5} + a_{2} a_{8} - a_{2} b_{0} - a_{2} b_{8} - a_{5} b_{1} - a_{8} b_{2} + b_{0} b_{2} + b_{1} b_{5} + b_{2} b_{8}\\\\a_{0} a_{3} - a_{0} b_{3} + a_{3} a_{4} - a_{3} b_{0} - a_{3} b_{4} - a_{4} b_{3} + a_{5} a_{6} - a_{5} b_{6} - a_{6} b_{5} + b_{0} b_{3} + b_{3} b_{4} + b_{5} b_{6} & a_{1} a_{3} - a_{1} b_{3} - a_{3} b_{1} + a_{4}^{2} - 2 a_{4} b_{4} + a_{5} a_{7} - a_{5} b_{7} - a_{7} b_{5} + b_{1} b_{3} + b_{4}^{2} + b_{5} b_{7} & a_{2} a_{3} - a_{2} b_{3} - a_{3} b_{2} + a_{4} a_{5} - a_{4} b_{5} + a_{5} a_{8} - a_{5} b_{4} - a_{5} b_{8} - a_{8} b_{5} + b_{2} b_{3} + b_{4} b_{5} + b_{5} b_{8}\\\\a_{0} a_{6} - a_{0} b_{6} + a_{3} a_{7} - a_{3} b_{7} + a_{6} a_{8} - a_{6} b_{0} - a_{6} b_{8} - a_{7} b_{3} - a_{8} b_{6} + b_{0} b_{6} + b_{3} b_{7} + b_{6} b_{8} & a_{1} a_{6} - a_{1} b_{6} + a_{4} a_{7} - a_{4} b_{7} - a_{6} b_{1} + a_{7} a_{8} - a_{7} b_{4} - a_{7} b_{8} - a_{8} b_{7} + b_{1} b_{6} + b_{4} b_{7} + b_{7} b_{8} & a_{2} a_{6} - a_{2} b_{6} + a_{5} a_{7} - a_{5} b_{7} - a_{6} b_{2} - a_{7} b_{5} + a_{8}^{2} - 2 a_{8} b_{8} + b_{2} b_{6} + b_{5} b_{7} + b_{8}^{2}\\end{matrix}\\right]$"
      ],
      "text/plain": [
       "Matrix([\n",
       "[          a_0**2 - 2*a_0*b_0 + a_1*a_3 - a_1*b_3 + a_2*a_6 - a_2*b_6 - a_3*b_1 - a_6*b_2 + b_0**2 + b_1*b_3 + b_2*b_6, a_0*a_1 - a_0*b_1 + a_1*a_4 - a_1*b_0 - a_1*b_4 + a_2*a_7 - a_2*b_7 - a_4*b_1 - a_7*b_2 + b_0*b_1 + b_1*b_4 + b_2*b_7, a_0*a_2 - a_0*b_2 + a_1*a_5 - a_1*b_5 + a_2*a_8 - a_2*b_0 - a_2*b_8 - a_5*b_1 - a_8*b_2 + b_0*b_2 + b_1*b_5 + b_2*b_8],\n",
       "[a_0*a_3 - a_0*b_3 + a_3*a_4 - a_3*b_0 - a_3*b_4 - a_4*b_3 + a_5*a_6 - a_5*b_6 - a_6*b_5 + b_0*b_3 + b_3*b_4 + b_5*b_6,           a_1*a_3 - a_1*b_3 - a_3*b_1 + a_4**2 - 2*a_4*b_4 + a_5*a_7 - a_5*b_7 - a_7*b_5 + b_1*b_3 + b_4**2 + b_5*b_7, a_2*a_3 - a_2*b_3 - a_3*b_2 + a_4*a_5 - a_4*b_5 + a_5*a_8 - a_5*b_4 - a_5*b_8 - a_8*b_5 + b_2*b_3 + b_4*b_5 + b_5*b_8],\n",
       "[a_0*a_6 - a_0*b_6 + a_3*a_7 - a_3*b_7 + a_6*a_8 - a_6*b_0 - a_6*b_8 - a_7*b_3 - a_8*b_6 + b_0*b_6 + b_3*b_7 + b_6*b_8, a_1*a_6 - a_1*b_6 + a_4*a_7 - a_4*b_7 - a_6*b_1 + a_7*a_8 - a_7*b_4 - a_7*b_8 - a_8*b_7 + b_1*b_6 + b_4*b_7 + b_7*b_8,           a_2*a_6 - a_2*b_6 + a_5*a_7 - a_5*b_7 - a_6*b_2 - a_7*b_5 + a_8**2 - 2*a_8*b_8 + b_2*b_6 + b_5*b_7 + b_8**2]])"
      ]
     },
     "execution_count": 103,
     "metadata": {},
     "output_type": "execute_result"
    }
   ],
   "source": [
    "(A-B)**2"
   ]
  },
  {
   "cell_type": "code",
   "execution_count": 104,
   "id": "2b8df788",
   "metadata": {},
   "outputs": [
    {
     "data": {
      "text/plain": [
       "array([[19, 13,  2],\n",
       "       [19, 14,  5],\n",
       "       [12,  3,  2]])"
      ]
     },
     "execution_count": 104,
     "metadata": {},
     "output_type": "execute_result"
    }
   ],
   "source": [
    "A = np.random.randint(1,20,(3,3))\n",
    "A"
   ]
  },
  {
   "cell_type": "code",
   "execution_count": 105,
   "id": "e0616cfc",
   "metadata": {},
   "outputs": [
    {
     "data": {
      "text/plain": [
       "array([[ 3, 15,  1],\n",
       "       [ 1,  1, 16],\n",
       "       [19,  2, 15]])"
      ]
     },
     "execution_count": 105,
     "metadata": {},
     "output_type": "execute_result"
    }
   ],
   "source": [
    "B = np.random.randint(1,20,(3,3))\n",
    "B"
   ]
  },
  {
   "cell_type": "code",
   "execution_count": 106,
   "id": "23d311f5",
   "metadata": {},
   "outputs": [
    {
     "data": {
      "text/plain": [
       "array([[484, 784,   9],\n",
       "       [400, 225, 441],\n",
       "       [961,  25, 289]])"
      ]
     },
     "execution_count": 106,
     "metadata": {},
     "output_type": "execute_result"
    }
   ],
   "source": [
    "(A+B)**2"
   ]
  },
  {
   "cell_type": "code",
   "execution_count": 107,
   "id": "767694c6",
   "metadata": {},
   "outputs": [
    {
     "data": {
      "text/plain": [
       "array([[256,   4,   1],\n",
       "       [324, 169, 121],\n",
       "       [ 49,   1, 169]])"
      ]
     },
     "execution_count": 107,
     "metadata": {},
     "output_type": "execute_result"
    }
   ],
   "source": [
    "(A-B)**2"
   ]
  },
  {
   "cell_type": "code",
   "execution_count": 108,
   "id": "64bc0ca1",
   "metadata": {},
   "outputs": [
    {
     "data": {
      "text/plain": [
       "array([[1225,  121,    9],\n",
       "       [1369,  729,   36],\n",
       "       [  25,   16,  121]])"
      ]
     },
     "execution_count": 108,
     "metadata": {},
     "output_type": "execute_result"
    }
   ],
   "source": [
    "(2*A-B)**2"
   ]
  },
  {
   "cell_type": "code",
   "execution_count": 109,
   "id": "ea97e1db",
   "metadata": {},
   "outputs": [
    {
     "data": {
      "text/plain": [
       "array([[2209, 5041,   49],\n",
       "       [1681,  961, 3364],\n",
       "       [6561,  144, 2401]])"
      ]
     },
     "execution_count": 109,
     "metadata": {},
     "output_type": "execute_result"
    }
   ],
   "source": [
    "(2*A+3*B)**2"
   ]
  },
  {
   "cell_type": "markdown",
   "id": "ab8850bd",
   "metadata": {},
   "source": [
    "# Mathematical functions"
   ]
  },
  {
   "cell_type": "code",
   "execution_count": 110,
   "id": "8935e347",
   "metadata": {
    "scrolled": true
   },
   "outputs": [
    {
     "data": {
      "text/plain": [
       "array([[1.78482301e+08, 4.42413392e+05, 7.38905610e+00],\n",
       "       [1.78482301e+08, 1.20260428e+06, 1.48413159e+02],\n",
       "       [1.62754791e+05, 2.00855369e+01, 7.38905610e+00]])"
      ]
     },
     "execution_count": 110,
     "metadata": {},
     "output_type": "execute_result"
    }
   ],
   "source": [
    "np.exp(A)"
   ]
  },
  {
   "cell_type": "code",
   "execution_count": 111,
   "id": "5a64019b",
   "metadata": {},
   "outputs": [
    {
     "data": {
      "text/plain": [
       "array([[2.94443898, 2.56494936, 0.69314718],\n",
       "       [2.94443898, 2.63905733, 1.60943791],\n",
       "       [2.48490665, 1.09861229, 0.69314718]])"
      ]
     },
     "execution_count": 111,
     "metadata": {},
     "output_type": "execute_result"
    }
   ],
   "source": [
    "np.log(A)"
   ]
  },
  {
   "cell_type": "code",
   "execution_count": 112,
   "id": "2bb0696e",
   "metadata": {},
   "outputs": [
    {
     "data": {
      "text/plain": [
       "array([[ 0.14987721,  0.42016704,  0.90929743],\n",
       "       [ 0.14987721,  0.99060736, -0.95892427],\n",
       "       [-0.53657292,  0.14112001,  0.90929743]])"
      ]
     },
     "execution_count": 112,
     "metadata": {},
     "output_type": "execute_result"
    }
   ],
   "source": [
    "np.sin(A)"
   ]
  },
  {
   "cell_type": "code",
   "execution_count": 113,
   "id": "41501923",
   "metadata": {},
   "outputs": [
    {
     "data": {
      "text/plain": [
       "array([[ 0.98870462,  0.90744678, -0.41614684],\n",
       "       [ 0.98870462,  0.13673722,  0.28366219],\n",
       "       [ 0.84385396, -0.9899925 , -0.41614684]])"
      ]
     },
     "execution_count": 113,
     "metadata": {},
     "output_type": "execute_result"
    }
   ],
   "source": [
    "np.cos(A)"
   ]
  },
  {
   "cell_type": "code",
   "execution_count": 114,
   "id": "37f95deb",
   "metadata": {},
   "outputs": [
    {
     "data": {
      "text/plain": [
       "array([[ 0.15158947,  0.46302113, -2.18503986],\n",
       "       [ 0.15158947,  7.24460662, -3.38051501],\n",
       "       [-0.63585993, -0.14254654, -2.18503986]])"
      ]
     },
     "execution_count": 114,
     "metadata": {},
     "output_type": "execute_result"
    }
   ],
   "source": [
    "np.tan(A)"
   ]
  },
  {
   "cell_type": "code",
   "execution_count": 115,
   "id": "4714751c",
   "metadata": {},
   "outputs": [
    {
     "data": {
      "text/plain": [
       "array([[-0.87232951, -1.92759077,  0.558831  ],\n",
       "       [-0.87232951,  1.8330431 , -1.30057568],\n",
       "       [ 1.98355771, -0.82423697,  0.558831  ]])"
      ]
     },
     "execution_count": 115,
     "metadata": {},
     "output_type": "execute_result"
    }
   ],
   "source": [
    "2*np.sin(3*A-np.pi)"
   ]
  },
  {
   "cell_type": "code",
   "execution_count": 116,
   "id": "870b25da",
   "metadata": {},
   "outputs": [
    {
     "data": {
      "text/plain": [
       "array([[527.78888106, 108.35263137,  -2.44646868],\n",
       "       [527.78888106, 108.77026978,  -3.2796706 ],\n",
       "       [-98.45739673,  -2.46174673,  -2.44646868]])"
      ]
     },
     "execution_count": 116,
     "metadata": {},
     "output_type": "execute_result"
    }
   ],
   "source": [
    "-(1/4)*np.exp(0.5*A)*np.sin(2*A+3)-2"
   ]
  },
  {
   "cell_type": "markdown",
   "id": "ffee6f5b",
   "metadata": {},
   "source": [
    "# Matrix Polynomials"
   ]
  },
  {
   "cell_type": "markdown",
   "id": "9fef8d79",
   "metadata": {},
   "source": [
    "- $p(A) = A^2 + 2A -3I$"
   ]
  },
  {
   "cell_type": "code",
   "execution_count": 120,
   "id": "83ad0e36",
   "metadata": {},
   "outputs": [
    {
     "data": {
      "text/latex": [
       "$\\displaystyle \\left[\\begin{matrix}b_{0} & b_{1} & b_{2}\\\\b_{3} & b_{4} & b_{5}\\\\b_{6} & b_{7} & b_{8}\\end{matrix}\\right]$"
      ],
      "text/plain": [
       "Matrix([\n",
       "[b_0, b_1, b_2],\n",
       "[b_3, b_4, b_5],\n",
       "[b_6, b_7, b_8]])"
      ]
     },
     "execution_count": 120,
     "metadata": {},
     "output_type": "execute_result"
    }
   ],
   "source": [
    "B = sp.Matrix([[b[0],b[1],b[2]],[b[3],b[4],b[5]],[b[6],b[7],b[8]]])\n",
    "B"
   ]
  },
  {
   "cell_type": "code",
   "execution_count": 121,
   "id": "bbb2107a",
   "metadata": {},
   "outputs": [
    {
     "data": {
      "text/latex": [
       "$\\displaystyle \\left[\\begin{matrix}b_{0}^{2} + 2 b_{0} + b_{1} b_{3} + b_{2} b_{6} - 3 & b_{0} b_{1} + b_{1} b_{4} + 2 b_{1} + b_{2} b_{7} & b_{0} b_{2} + b_{1} b_{5} + b_{2} b_{8} + 2 b_{2}\\\\b_{0} b_{3} + b_{3} b_{4} + 2 b_{3} + b_{5} b_{6} & b_{1} b_{3} + b_{4}^{2} + 2 b_{4} + b_{5} b_{7} - 3 & b_{2} b_{3} + b_{4} b_{5} + b_{5} b_{8} + 2 b_{5}\\\\b_{0} b_{6} + b_{3} b_{7} + b_{6} b_{8} + 2 b_{6} & b_{1} b_{6} + b_{4} b_{7} + b_{7} b_{8} + 2 b_{7} & b_{2} b_{6} + b_{5} b_{7} + b_{8}^{2} + 2 b_{8} - 3\\end{matrix}\\right]$"
      ],
      "text/plain": [
       "Matrix([\n",
       "[b_0**2 + 2*b_0 + b_1*b_3 + b_2*b_6 - 3,    b_0*b_1 + b_1*b_4 + 2*b_1 + b_2*b_7,    b_0*b_2 + b_1*b_5 + b_2*b_8 + 2*b_2],\n",
       "[   b_0*b_3 + b_3*b_4 + 2*b_3 + b_5*b_6, b_1*b_3 + b_4**2 + 2*b_4 + b_5*b_7 - 3,    b_2*b_3 + b_4*b_5 + b_5*b_8 + 2*b_5],\n",
       "[   b_0*b_6 + b_3*b_7 + b_6*b_8 + 2*b_6,    b_1*b_6 + b_4*b_7 + b_7*b_8 + 2*b_7, b_2*b_6 + b_5*b_7 + b_8**2 + 2*b_8 - 3]])"
      ]
     },
     "execution_count": 121,
     "metadata": {},
     "output_type": "execute_result"
    }
   ],
   "source": [
    "B**2+2*B-3*sp.eye(3,3)"
   ]
  },
  {
   "cell_type": "code",
   "execution_count": 117,
   "id": "50ba588c",
   "metadata": {},
   "outputs": [
    {
     "data": {
      "text/plain": [
       "array([[2, 2, 3, 3],\n",
       "       [4, 1, 4, 2],\n",
       "       [4, 2, 4, 4],\n",
       "       [3, 1, 4, 3]])"
      ]
     },
     "execution_count": 117,
     "metadata": {},
     "output_type": "execute_result"
    }
   ],
   "source": [
    "A = np.random.randint(1,5,(4,4))\n",
    "A"
   ]
  },
  {
   "cell_type": "code",
   "execution_count": 118,
   "id": "39b6b29a",
   "metadata": {},
   "outputs": [
    {
     "data": {
      "text/plain": [
       "array([[ 5.,  8., 15., 15.],\n",
       "       [24.,  0., 24.,  8.],\n",
       "       [24.,  8., 21., 24.],\n",
       "       [15.,  3., 24., 12.]])"
      ]
     },
     "execution_count": 118,
     "metadata": {},
     "output_type": "execute_result"
    }
   ],
   "source": [
    "A**2+2*A-3*np.eye(4,4)"
   ]
  },
  {
   "cell_type": "markdown",
   "id": "c09048d7",
   "metadata": {},
   "source": [
    "- $p(A) = 2A^2 - 2A +3I$"
   ]
  },
  {
   "cell_type": "code",
   "execution_count": 123,
   "id": "489f9546",
   "metadata": {},
   "outputs": [
    {
     "data": {
      "text/latex": [
       "$\\displaystyle \\left[\\begin{matrix}2 b_{0}^{2} - 2 b_{0} + 2 b_{1} b_{3} + 2 b_{2} b_{6} + 3 & 2 b_{0} b_{1} + 2 b_{1} b_{4} - 2 b_{1} + 2 b_{2} b_{7} & 2 b_{0} b_{2} + 2 b_{1} b_{5} + 2 b_{2} b_{8} - 2 b_{2}\\\\2 b_{0} b_{3} + 2 b_{3} b_{4} - 2 b_{3} + 2 b_{5} b_{6} & 2 b_{1} b_{3} + 2 b_{4}^{2} - 2 b_{4} + 2 b_{5} b_{7} + 3 & 2 b_{2} b_{3} + 2 b_{4} b_{5} + 2 b_{5} b_{8} - 2 b_{5}\\\\2 b_{0} b_{6} + 2 b_{3} b_{7} + 2 b_{6} b_{8} - 2 b_{6} & 2 b_{1} b_{6} + 2 b_{4} b_{7} + 2 b_{7} b_{8} - 2 b_{7} & 2 b_{2} b_{6} + 2 b_{5} b_{7} + 2 b_{8}^{2} - 2 b_{8} + 3\\end{matrix}\\right]$"
      ],
      "text/plain": [
       "Matrix([\n",
       "[2*b_0**2 - 2*b_0 + 2*b_1*b_3 + 2*b_2*b_6 + 3,    2*b_0*b_1 + 2*b_1*b_4 - 2*b_1 + 2*b_2*b_7,    2*b_0*b_2 + 2*b_1*b_5 + 2*b_2*b_8 - 2*b_2],\n",
       "[   2*b_0*b_3 + 2*b_3*b_4 - 2*b_3 + 2*b_5*b_6, 2*b_1*b_3 + 2*b_4**2 - 2*b_4 + 2*b_5*b_7 + 3,    2*b_2*b_3 + 2*b_4*b_5 + 2*b_5*b_8 - 2*b_5],\n",
       "[   2*b_0*b_6 + 2*b_3*b_7 + 2*b_6*b_8 - 2*b_6,    2*b_1*b_6 + 2*b_4*b_7 + 2*b_7*b_8 - 2*b_7, 2*b_2*b_6 + 2*b_5*b_7 + 2*b_8**2 - 2*b_8 + 3]])"
      ]
     },
     "execution_count": 123,
     "metadata": {},
     "output_type": "execute_result"
    }
   ],
   "source": [
    "2*B**2-2*B+3*sp.eye(3,3)"
   ]
  },
  {
   "cell_type": "code",
   "execution_count": 119,
   "id": "7bb5bf7a",
   "metadata": {},
   "outputs": [
    {
     "data": {
      "text/plain": [
       "array([[ 7.,  4., 12., 12.],\n",
       "       [24.,  3., 24.,  4.],\n",
       "       [24.,  4., 27., 24.],\n",
       "       [12.,  0., 24., 15.]])"
      ]
     },
     "execution_count": 119,
     "metadata": {},
     "output_type": "execute_result"
    }
   ],
   "source": [
    "2*A**2-2*A+3*np.eye(4,4)"
   ]
  },
  {
   "cell_type": "markdown",
   "id": "eb0bd7ed",
   "metadata": {},
   "source": [
    "# Linear Equations"
   ]
  },
  {
   "cell_type": "code",
   "execution_count": 124,
   "id": "cbcea5a6",
   "metadata": {},
   "outputs": [
    {
     "data": {
      "text/latex": [
       "$\\displaystyle \\left[\\begin{matrix}a_{0} & a_{1} & a_{2}\\\\a_{3} & a_{4} & a_{5}\\\\a_{6} & a_{7} & a_{8}\\end{matrix}\\right]$"
      ],
      "text/plain": [
       "Matrix([\n",
       "[a_0, a_1, a_2],\n",
       "[a_3, a_4, a_5],\n",
       "[a_6, a_7, a_8]])"
      ]
     },
     "execution_count": 124,
     "metadata": {},
     "output_type": "execute_result"
    }
   ],
   "source": [
    "A = sp.Matrix([[a[0],a[1],a[2]],[a[3],a[4],a[5]],[a[6],a[7],a[8]]])\n",
    "A"
   ]
  },
  {
   "cell_type": "code",
   "execution_count": 126,
   "id": "981f21c3",
   "metadata": {},
   "outputs": [
    {
     "data": {
      "text/latex": [
       "$\\displaystyle \\left[\\begin{matrix}c_{0}\\\\c_{1}\\\\c_{2}\\end{matrix}\\right]$"
      ],
      "text/plain": [
       "Matrix([\n",
       "[c_0],\n",
       "[c_1],\n",
       "[c_2]])"
      ]
     },
     "execution_count": 126,
     "metadata": {},
     "output_type": "execute_result"
    }
   ],
   "source": [
    "C = sp.Matrix([[c[0]],[c[1]],[c[2]]])\n",
    "C"
   ]
  },
  {
   "cell_type": "code",
   "execution_count": 131,
   "id": "4a349da3",
   "metadata": {},
   "outputs": [
    {
     "data": {
      "text/latex": [
       "$\\displaystyle \\left[\\begin{matrix}a_{0} b_{0} + a_{1} b_{1} + a_{2} b_{2}\\\\a_{3} b_{0} + a_{4} b_{1} + a_{5} b_{2}\\\\a_{6} b_{0} + a_{7} b_{1} + a_{8} b_{2}\\end{matrix}\\right] = \\left[\\begin{matrix}c_{0}\\\\c_{1}\\\\c_{2}\\end{matrix}\\right]$"
      ],
      "text/plain": [
       "Eq(Matrix([\n",
       "[a_0*b_0 + a_1*b_1 + a_2*b_2],\n",
       "[a_3*b_0 + a_4*b_1 + a_5*b_2],\n",
       "[a_6*b_0 + a_7*b_1 + a_8*b_2]]), Matrix([\n",
       "[c_0],\n",
       "[c_1],\n",
       "[c_2]]))"
      ]
     },
     "execution_count": 131,
     "metadata": {},
     "output_type": "execute_result"
    }
   ],
   "source": [
    "sp.Eq(A*sp.Matrix([[b[0]],[b[1]],[b[2]]]),C)"
   ]
  },
  {
   "cell_type": "code",
   "execution_count": 132,
   "id": "2ec2cd95",
   "metadata": {},
   "outputs": [],
   "source": [
    "sol = sp.solve(_,b[0],b[1],b[2])"
   ]
  },
  {
   "cell_type": "code",
   "execution_count": 136,
   "id": "2f151cd7",
   "metadata": {},
   "outputs": [
    {
     "data": {
      "text/latex": [
       "$\\displaystyle \\frac{a_{1} a_{5} c_{2} - a_{1} a_{8} c_{1} - a_{2} a_{4} c_{2} + a_{2} a_{7} c_{1} + a_{4} a_{8} c_{0} - a_{5} a_{7} c_{0}}{a_{0} a_{4} a_{8} - a_{0} a_{5} a_{7} - a_{1} a_{3} a_{8} + a_{1} a_{5} a_{6} + a_{2} a_{3} a_{7} - a_{2} a_{4} a_{6}}$"
      ],
      "text/plain": [
       "(a_1*a_5*c_2 - a_1*a_8*c_1 - a_2*a_4*c_2 + a_2*a_7*c_1 + a_4*a_8*c_0 - a_5*a_7*c_0)/(a_0*a_4*a_8 - a_0*a_5*a_7 - a_1*a_3*a_8 + a_1*a_5*a_6 + a_2*a_3*a_7 - a_2*a_4*a_6)"
      ]
     },
     "execution_count": 136,
     "metadata": {},
     "output_type": "execute_result"
    }
   ],
   "source": [
    "sol[b[0]]"
   ]
  },
  {
   "cell_type": "code",
   "execution_count": 137,
   "id": "8f9ee060",
   "metadata": {},
   "outputs": [
    {
     "data": {
      "text/latex": [
       "$\\displaystyle \\frac{- a_{0} a_{5} c_{2} + a_{0} a_{8} c_{1} + a_{2} a_{3} c_{2} - a_{2} a_{6} c_{1} - a_{3} a_{8} c_{0} + a_{5} a_{6} c_{0}}{a_{0} a_{4} a_{8} - a_{0} a_{5} a_{7} - a_{1} a_{3} a_{8} + a_{1} a_{5} a_{6} + a_{2} a_{3} a_{7} - a_{2} a_{4} a_{6}}$"
      ],
      "text/plain": [
       "(-a_0*a_5*c_2 + a_0*a_8*c_1 + a_2*a_3*c_2 - a_2*a_6*c_1 - a_3*a_8*c_0 + a_5*a_6*c_0)/(a_0*a_4*a_8 - a_0*a_5*a_7 - a_1*a_3*a_8 + a_1*a_5*a_6 + a_2*a_3*a_7 - a_2*a_4*a_6)"
      ]
     },
     "execution_count": 137,
     "metadata": {},
     "output_type": "execute_result"
    }
   ],
   "source": [
    "sol[b[1]]"
   ]
  },
  {
   "cell_type": "code",
   "execution_count": 138,
   "id": "13768855",
   "metadata": {},
   "outputs": [
    {
     "data": {
      "text/latex": [
       "$\\displaystyle \\frac{a_{0} a_{4} c_{2} - a_{0} a_{7} c_{1} - a_{1} a_{3} c_{2} + a_{1} a_{6} c_{1} + a_{3} a_{7} c_{0} - a_{4} a_{6} c_{0}}{a_{0} a_{4} a_{8} - a_{0} a_{5} a_{7} - a_{1} a_{3} a_{8} + a_{1} a_{5} a_{6} + a_{2} a_{3} a_{7} - a_{2} a_{4} a_{6}}$"
      ],
      "text/plain": [
       "(a_0*a_4*c_2 - a_0*a_7*c_1 - a_1*a_3*c_2 + a_1*a_6*c_1 + a_3*a_7*c_0 - a_4*a_6*c_0)/(a_0*a_4*a_8 - a_0*a_5*a_7 - a_1*a_3*a_8 + a_1*a_5*a_6 + a_2*a_3*a_7 - a_2*a_4*a_6)"
      ]
     },
     "execution_count": 138,
     "metadata": {},
     "output_type": "execute_result"
    }
   ],
   "source": [
    "sol[b[2]]"
   ]
  },
  {
   "cell_type": "code",
   "execution_count": 139,
   "id": "5d975aba",
   "metadata": {},
   "outputs": [
    {
     "data": {
      "text/plain": [
       "array([[3, 4, 4, 1],\n",
       "       [1, 4, 4, 1],\n",
       "       [4, 2, 3, 1],\n",
       "       [4, 3, 2, 3]])"
      ]
     },
     "execution_count": 139,
     "metadata": {},
     "output_type": "execute_result"
    }
   ],
   "source": [
    "A = np.random.randint(1,5,(4,4))\n",
    "A"
   ]
  },
  {
   "cell_type": "code",
   "execution_count": 140,
   "id": "5e6db1c5",
   "metadata": {},
   "outputs": [
    {
     "data": {
      "text/plain": [
       "array([[1],\n",
       "       [3],\n",
       "       [1],\n",
       "       [2]])"
      ]
     },
     "execution_count": 140,
     "metadata": {},
     "output_type": "execute_result"
    }
   ],
   "source": [
    "C = np.random.randint(1,5,(4,1))\n",
    "C"
   ]
  },
  {
   "cell_type": "code",
   "execution_count": 141,
   "id": "c620074b",
   "metadata": {},
   "outputs": [
    {
     "data": {
      "text/plain": [
       "array([[-1.        ],\n",
       "       [-1.45454545],\n",
       "       [ 1.90909091],\n",
       "       [ 2.18181818]])"
      ]
     },
     "execution_count": 141,
     "metadata": {},
     "output_type": "execute_result"
    }
   ],
   "source": [
    "np.linalg.solve(A,C)"
   ]
  },
  {
   "cell_type": "code",
   "execution_count": 142,
   "id": "448e5851",
   "metadata": {},
   "outputs": [
    {
     "data": {
      "text/plain": [
       "array([[51, 61, 91, 33, 80, 80, 79, 20, 40, 95],\n",
       "       [70, 69, 96, 31, 77, 65, 86, 74, 95, 50],\n",
       "       [71, 79, 13, 90, 87, 37, 91, 26, 58, 58],\n",
       "       [ 9,  8, 37, 26, 64, 21, 16, 18, 58, 83],\n",
       "       [13,  6, 49, 52, 76, 20, 27, 22, 32, 35],\n",
       "       [87, 12, 50, 93, 92, 49, 12, 72, 23, 21],\n",
       "       [ 4, 79, 54, 78, 26, 29, 61, 61, 32, 39],\n",
       "       [55, 48, 26, 60,  2, 35, 28, 86, 91, 22],\n",
       "       [71, 62, 34, 65, 48, 94, 89, 71, 12, 84],\n",
       "       [27, 35, 84, 18, 11, 11, 49,  6, 62, 71]])"
      ]
     },
     "execution_count": 142,
     "metadata": {},
     "output_type": "execute_result"
    }
   ],
   "source": [
    "A = np.random.randint(1,98,(10,10))\n",
    "A"
   ]
  },
  {
   "cell_type": "code",
   "execution_count": 143,
   "id": "20488e71",
   "metadata": {},
   "outputs": [
    {
     "data": {
      "text/plain": [
       "array([[4],\n",
       "       [1],\n",
       "       [2],\n",
       "       [1],\n",
       "       [2],\n",
       "       [2],\n",
       "       [4],\n",
       "       [3],\n",
       "       [2],\n",
       "       [4]])"
      ]
     },
     "execution_count": 143,
     "metadata": {},
     "output_type": "execute_result"
    }
   ],
   "source": [
    "C = np.random.randint(1,5,(10,1))\n",
    "C"
   ]
  },
  {
   "cell_type": "code",
   "execution_count": 144,
   "id": "6922f562",
   "metadata": {},
   "outputs": [
    {
     "data": {
      "text/plain": [
       "array([[-0.0183068 ],\n",
       "       [ 0.00153339],\n",
       "       [ 0.0391498 ],\n",
       "       [ 0.07875239],\n",
       "       [-0.0472487 ],\n",
       "       [ 0.06868759],\n",
       "       [-0.02387   ],\n",
       "       [-0.06793652],\n",
       "       [ 0.02867003],\n",
       "       [-0.00988214]])"
      ]
     },
     "execution_count": 144,
     "metadata": {},
     "output_type": "execute_result"
    }
   ],
   "source": [
    "np.linalg.solve(A,C)"
   ]
  },
  {
   "cell_type": "markdown",
   "id": "eb641d4d",
   "metadata": {},
   "source": [
    "# Matrix Equations"
   ]
  },
  {
   "cell_type": "markdown",
   "id": "92256aa9",
   "metadata": {},
   "source": [
    "- $Ax + By = 2I$\n",
    "- $-Cx + Dy = -3I$\n",
    "\n",
    "$\\begin{bmatrix}\n",
    "A & B \\\\\n",
    "-C & D\n",
    "\\end{bmatrix}\n",
    "\\begin{bmatrix}\n",
    "x \\\\\n",
    "y \\\\\n",
    "\\end{bmatrix}\n",
    "=\n",
    "\\begin{bmatrix}\n",
    " 2I \\\\\n",
    "-3I \\\\\n",
    "\\end{bmatrix}$"
   ]
  },
  {
   "cell_type": "code",
   "execution_count": 145,
   "id": "c7b46b73",
   "metadata": {},
   "outputs": [
    {
     "data": {
      "text/plain": [
       "array([[4, 3, 2, 3],\n",
       "       [2, 3, 4, 4],\n",
       "       [1, 3, 2, 2],\n",
       "       [4, 2, 3, 3]])"
      ]
     },
     "execution_count": 145,
     "metadata": {},
     "output_type": "execute_result"
    }
   ],
   "source": [
    "A = np.random.randint(1,5,(4,4))\n",
    "A"
   ]
  },
  {
   "cell_type": "code",
   "execution_count": 146,
   "id": "c914bbfa",
   "metadata": {},
   "outputs": [
    {
     "data": {
      "text/plain": [
       "array([[1, 4, 1, 1],\n",
       "       [2, 4, 3, 3],\n",
       "       [4, 3, 3, 2],\n",
       "       [2, 1, 4, 2]])"
      ]
     },
     "execution_count": 146,
     "metadata": {},
     "output_type": "execute_result"
    }
   ],
   "source": [
    "B = np.random.randint(1,5,(4,4))\n",
    "B"
   ]
  },
  {
   "cell_type": "code",
   "execution_count": 147,
   "id": "c23f1509",
   "metadata": {},
   "outputs": [
    {
     "data": {
      "text/plain": [
       "array([[4, 2, 1, 1],\n",
       "       [2, 1, 1, 2],\n",
       "       [4, 1, 3, 2],\n",
       "       [3, 4, 2, 2]])"
      ]
     },
     "execution_count": 147,
     "metadata": {},
     "output_type": "execute_result"
    }
   ],
   "source": [
    "C = np.random.randint(1,5,(4,4))\n",
    "C"
   ]
  },
  {
   "cell_type": "code",
   "execution_count": 148,
   "id": "3e276565",
   "metadata": {},
   "outputs": [
    {
     "data": {
      "text/plain": [
       "array([[4, 1, 3, 4],\n",
       "       [4, 3, 1, 3],\n",
       "       [4, 2, 2, 1],\n",
       "       [3, 1, 4, 4]])"
      ]
     },
     "execution_count": 148,
     "metadata": {},
     "output_type": "execute_result"
    }
   ],
   "source": [
    "D = np.random.randint(1,5,(4,4))\n",
    "D"
   ]
  },
  {
   "cell_type": "code",
   "execution_count": 164,
   "id": "556cb6a5",
   "metadata": {},
   "outputs": [
    {
     "data": {
      "text/plain": [
       "array([[2.],\n",
       "       [0.],\n",
       "       [0.],\n",
       "       [0.]])"
      ]
     },
     "execution_count": 164,
     "metadata": {},
     "output_type": "execute_result"
    }
   ],
   "source": [
    "I1 = 2*np.eye(4,1)\n",
    "I1"
   ]
  },
  {
   "cell_type": "code",
   "execution_count": 165,
   "id": "b7a1e4e9",
   "metadata": {},
   "outputs": [
    {
     "data": {
      "text/plain": [
       "array([[-3.],\n",
       "       [-0.],\n",
       "       [-0.],\n",
       "       [-0.]])"
      ]
     },
     "execution_count": 165,
     "metadata": {},
     "output_type": "execute_result"
    }
   ],
   "source": [
    "I2 = -3*np.eye(4,1)\n",
    "I2"
   ]
  },
  {
   "cell_type": "code",
   "execution_count": 166,
   "id": "ca975343",
   "metadata": {},
   "outputs": [
    {
     "data": {
      "text/plain": [
       "array([[[[4, 3, 2, 3],\n",
       "         [2, 3, 4, 4],\n",
       "         [1, 3, 2, 2],\n",
       "         [4, 2, 3, 3]],\n",
       "\n",
       "        [[1, 4, 1, 1],\n",
       "         [2, 4, 3, 3],\n",
       "         [4, 3, 3, 2],\n",
       "         [2, 1, 4, 2]]],\n",
       "\n",
       "\n",
       "       [[[4, 2, 1, 1],\n",
       "         [2, 1, 1, 2],\n",
       "         [4, 1, 3, 2],\n",
       "         [3, 4, 2, 2]],\n",
       "\n",
       "        [[4, 1, 3, 4],\n",
       "         [4, 3, 1, 3],\n",
       "         [4, 2, 2, 1],\n",
       "         [3, 1, 4, 4]]]])"
      ]
     },
     "execution_count": 166,
     "metadata": {},
     "output_type": "execute_result"
    }
   ],
   "source": [
    "T = np.array([[A, B],[C,D]])\n",
    "T"
   ]
  },
  {
   "cell_type": "code",
   "execution_count": 167,
   "id": "20a377bd",
   "metadata": {},
   "outputs": [
    {
     "data": {
      "text/plain": [
       "array([[[[ 2.],\n",
       "         [ 0.],\n",
       "         [ 0.],\n",
       "         [ 0.]]],\n",
       "\n",
       "\n",
       "       [[[-3.],\n",
       "         [-0.],\n",
       "         [-0.],\n",
       "         [-0.]]]])"
      ]
     },
     "execution_count": 167,
     "metadata": {},
     "output_type": "execute_result"
    }
   ],
   "source": [
    "V = np.array([[I1],[I2]])\n",
    "V"
   ]
  },
  {
   "cell_type": "code",
   "execution_count": 168,
   "id": "93170649",
   "metadata": {},
   "outputs": [
    {
     "data": {
      "text/plain": [
       "array([[[[-2.96059473e-16],\n",
       "         [ 9.86864911e-17],\n",
       "         [-2.00000000e+00],\n",
       "         [ 2.00000000e+00]],\n",
       "\n",
       "        [[-4.00000000e-01],\n",
       "         [ 8.00000000e-01],\n",
       "         [ 8.00000000e-01],\n",
       "         [-1.60000000e+00]]],\n",
       "\n",
       "\n",
       "       [[[-1.20000000e+00],\n",
       "         [ 2.22044605e-17],\n",
       "         [ 1.20000000e+00],\n",
       "         [ 6.00000000e-01]],\n",
       "\n",
       "        [[-1.72500000e+00],\n",
       "         [ 2.47500000e+00],\n",
       "         [ 1.27500000e+00],\n",
       "         [-6.00000000e-01]]]])"
      ]
     },
     "execution_count": 168,
     "metadata": {},
     "output_type": "execute_result"
    }
   ],
   "source": [
    "np.linalg.solve(T,V)"
   ]
  },
  {
   "cell_type": "markdown",
   "id": "d1774412",
   "metadata": {},
   "source": [
    "# Trigonometrics"
   ]
  },
  {
   "cell_type": "code",
   "execution_count": 170,
   "id": "06df9309",
   "metadata": {},
   "outputs": [
    {
     "data": {
      "text/plain": [
       "array([[-6.28318531, -5.44542727, -4.60766923, -3.76991118],\n",
       "       [-2.93215314, -2.0943951 , -1.25663706, -0.41887902],\n",
       "       [ 0.41887902,  1.25663706,  2.0943951 ,  2.93215314],\n",
       "       [ 3.76991118,  4.60766923,  5.44542727,  6.28318531]])"
      ]
     },
     "execution_count": 170,
     "metadata": {},
     "output_type": "execute_result"
    }
   ],
   "source": [
    "A = np.linspace(-2*np.pi,2*np.pi,16).reshape(4,4)\n",
    "A"
   ]
  },
  {
   "cell_type": "code",
   "execution_count": 183,
   "id": "001957ca",
   "metadata": {},
   "outputs": [
    {
     "data": {
      "text/plain": [
       "array([[ 2.44929360e-16,  7.43144825e-01,  9.94521895e-01,\n",
       "         5.87785252e-01],\n",
       "       [-2.07911691e-01, -8.66025404e-01, -9.51056516e-01,\n",
       "        -4.06736643e-01],\n",
       "       [ 4.06736643e-01,  9.51056516e-01,  8.66025404e-01,\n",
       "         2.07911691e-01],\n",
       "       [-5.87785252e-01, -9.94521895e-01, -7.43144825e-01,\n",
       "        -2.44929360e-16]])"
      ]
     },
     "execution_count": 183,
     "metadata": {},
     "output_type": "execute_result"
    }
   ],
   "source": [
    "np.sin(A)"
   ]
  },
  {
   "cell_type": "code",
   "execution_count": 184,
   "id": "7f631f86",
   "metadata": {},
   "outputs": [
    {
     "data": {
      "image/png": "[encoded data removed]",
      "text/plain": [
       "<Figure size 640x480 with 2 Axes>"
      ]
     },
     "metadata": {},
     "output_type": "display_data"
    }
   ],
   "source": [
    "fig = plt.figure()\n",
    "plt.imshow(_, cmap='viridis', interpolation='nearest')\n",
    "plt.colorbar()\n",
    "plt.title(\"Matrix sin Visualization\")\n",
    "plt.show()"
   ]
  },
  {
   "cell_type": "code",
   "execution_count": 185,
   "id": "663a6df9",
   "metadata": {},
   "outputs": [
    {
     "data": {
      "text/plain": [
       "array([[ 1.        ,  0.66913061, -0.10452846, -0.80901699],\n",
       "       [-0.9781476 , -0.5       ,  0.30901699,  0.91354546],\n",
       "       [ 0.91354546,  0.30901699, -0.5       , -0.9781476 ],\n",
       "       [-0.80901699, -0.10452846,  0.66913061,  1.        ]])"
      ]
     },
     "execution_count": 185,
     "metadata": {},
     "output_type": "execute_result"
    }
   ],
   "source": [
    "np.cos(A)"
   ]
  },
  {
   "cell_type": "code",
   "execution_count": 186,
   "id": "6e68d4c6",
   "metadata": {},
   "outputs": [
    {
     "data": {
      "image/png": "[encoded data removed]",
      "text/plain": [
       "<Figure size 640x480 with 2 Axes>"
      ]
     },
     "metadata": {},
     "output_type": "display_data"
    }
   ],
   "source": [
    "fig = plt.figure()\n",
    "plt.imshow(_, cmap='viridis', interpolation='nearest')\n",
    "plt.colorbar()\n",
    "plt.title(\"Matrix cos Visualization\")\n",
    "plt.show()"
   ]
  },
  {
   "cell_type": "code",
   "execution_count": 194,
   "id": "2f9c67a4",
   "metadata": {},
   "outputs": [
    {
     "data": {
      "text/plain": [
       "array([[-3.00000000e+00, -7.70565524e-01, -1.64343139e-02,\n",
       "        -1.23664424e+00],\n",
       "       [-6.23735072e-01,  2.59807621e+00, -2.85316955e+00,\n",
       "        -1.22020993e+00],\n",
       "       [ 1.22020993e+00,  2.85316955e+00, -2.59807621e+00,\n",
       "         6.23735072e-01],\n",
       "       [-1.76335576e+00, -2.98356569e+00, -2.22943448e+00,\n",
       "         1.10218212e-15]])"
      ]
     },
     "execution_count": 194,
     "metadata": {},
     "output_type": "execute_result"
    }
   ],
   "source": [
    "3*np.sin(A+np.pi*np.eye(4,4))-3*np.eye(4,1)"
   ]
  },
  {
   "cell_type": "code",
   "execution_count": 195,
   "id": "1d30ff83",
   "metadata": {},
   "outputs": [
    {
     "data": {
      "image/png": "[encoded data removed]",
      "text/plain": [
       "<Figure size 640x480 with 2 Axes>"
      ]
     },
     "metadata": {},
     "output_type": "display_data"
    }
   ],
   "source": [
    "fig = plt.figure()\n",
    "plt.imshow(_, cmap='viridis', interpolation='nearest')\n",
    "plt.colorbar()\n",
    "plt.title(\"Matrix Visualization\")\n",
    "plt.show()"
   ]
  },
  {
   "cell_type": "markdown",
   "id": "b0b07caa",
   "metadata": {},
   "source": [
    "# Inverse By Adjoint"
   ]
  },
  {
   "cell_type": "code",
   "execution_count": 196,
   "id": "e182ccdf",
   "metadata": {},
   "outputs": [
    {
     "data": {
      "text/latex": [
       "$\\displaystyle \\left[\\begin{matrix}a_{0} & a_{1} & a_{2}\\\\a_{3} & a_{4} & a_{5}\\\\a_{6} & a_{7} & a_{8}\\end{matrix}\\right]$"
      ],
      "text/plain": [
       "Matrix([\n",
       "[a_0, a_1, a_2],\n",
       "[a_3, a_4, a_5],\n",
       "[a_6, a_7, a_8]])"
      ]
     },
     "execution_count": 196,
     "metadata": {},
     "output_type": "execute_result"
    }
   ],
   "source": [
    "A = sp.Matrix([[a[0],a[1],a[2]],[a[3],a[4],a[5]],[a[6],a[7],a[8]]])\n",
    "A"
   ]
  },
  {
   "cell_type": "code",
   "execution_count": 197,
   "id": "3e9525d0",
   "metadata": {},
   "outputs": [
    {
     "data": {
      "text/latex": [
       "$\\displaystyle \\left[\\begin{matrix}\\overline{a_{0}} & \\overline{a_{3}} & \\overline{a_{6}}\\\\\\overline{a_{1}} & \\overline{a_{4}} & \\overline{a_{7}}\\\\\\overline{a_{2}} & \\overline{a_{5}} & \\overline{a_{8}}\\end{matrix}\\right]$"
      ],
      "text/plain": [
       "Matrix([\n",
       "[conjugate(a_0), conjugate(a_3), conjugate(a_6)],\n",
       "[conjugate(a_1), conjugate(a_4), conjugate(a_7)],\n",
       "[conjugate(a_2), conjugate(a_5), conjugate(a_8)]])"
      ]
     },
     "execution_count": 197,
     "metadata": {},
     "output_type": "execute_result"
    }
   ],
   "source": [
    "A.adjoint()"
   ]
  },
  {
   "cell_type": "code",
   "execution_count": 198,
   "id": "0929ed35",
   "metadata": {},
   "outputs": [
    {
     "data": {
      "text/latex": [
       "$\\displaystyle a_{0} a_{4} a_{8} - a_{0} a_{5} a_{7} - a_{1} a_{3} a_{8} + a_{1} a_{5} a_{6} + a_{2} a_{3} a_{7} - a_{2} a_{4} a_{6}$"
      ],
      "text/plain": [
       "a_0*a_4*a_8 - a_0*a_5*a_7 - a_1*a_3*a_8 + a_1*a_5*a_6 + a_2*a_3*a_7 - a_2*a_4*a_6"
      ]
     },
     "execution_count": 198,
     "metadata": {},
     "output_type": "execute_result"
    }
   ],
   "source": [
    "A.det()"
   ]
  },
  {
   "cell_type": "code",
   "execution_count": 199,
   "id": "f6feb9f9",
   "metadata": {},
   "outputs": [
    {
     "data": {
      "text/latex": [
       "$\\displaystyle \\left[\\begin{matrix}\\frac{\\overline{a_{0}}}{a_{0} a_{4} a_{8} - a_{0} a_{5} a_{7} - a_{1} a_{3} a_{8} + a_{1} a_{5} a_{6} + a_{2} a_{3} a_{7} - a_{2} a_{4} a_{6}} & \\frac{\\overline{a_{3}}}{a_{0} a_{4} a_{8} - a_{0} a_{5} a_{7} - a_{1} a_{3} a_{8} + a_{1} a_{5} a_{6} + a_{2} a_{3} a_{7} - a_{2} a_{4} a_{6}} & \\frac{\\overline{a_{6}}}{a_{0} a_{4} a_{8} - a_{0} a_{5} a_{7} - a_{1} a_{3} a_{8} + a_{1} a_{5} a_{6} + a_{2} a_{3} a_{7} - a_{2} a_{4} a_{6}}\\\\\\frac{\\overline{a_{1}}}{a_{0} a_{4} a_{8} - a_{0} a_{5} a_{7} - a_{1} a_{3} a_{8} + a_{1} a_{5} a_{6} + a_{2} a_{3} a_{7} - a_{2} a_{4} a_{6}} & \\frac{\\overline{a_{4}}}{a_{0} a_{4} a_{8} - a_{0} a_{5} a_{7} - a_{1} a_{3} a_{8} + a_{1} a_{5} a_{6} + a_{2} a_{3} a_{7} - a_{2} a_{4} a_{6}} & \\frac{\\overline{a_{7}}}{a_{0} a_{4} a_{8} - a_{0} a_{5} a_{7} - a_{1} a_{3} a_{8} + a_{1} a_{5} a_{6} + a_{2} a_{3} a_{7} - a_{2} a_{4} a_{6}}\\\\\\frac{\\overline{a_{2}}}{a_{0} a_{4} a_{8} - a_{0} a_{5} a_{7} - a_{1} a_{3} a_{8} + a_{1} a_{5} a_{6} + a_{2} a_{3} a_{7} - a_{2} a_{4} a_{6}} & \\frac{\\overline{a_{5}}}{a_{0} a_{4} a_{8} - a_{0} a_{5} a_{7} - a_{1} a_{3} a_{8} + a_{1} a_{5} a_{6} + a_{2} a_{3} a_{7} - a_{2} a_{4} a_{6}} & \\frac{\\overline{a_{8}}}{a_{0} a_{4} a_{8} - a_{0} a_{5} a_{7} - a_{1} a_{3} a_{8} + a_{1} a_{5} a_{6} + a_{2} a_{3} a_{7} - a_{2} a_{4} a_{6}}\\end{matrix}\\right]$"
      ],
      "text/plain": [
       "Matrix([\n",
       "[conjugate(a_0)/(a_0*a_4*a_8 - a_0*a_5*a_7 - a_1*a_3*a_8 + a_1*a_5*a_6 + a_2*a_3*a_7 - a_2*a_4*a_6), conjugate(a_3)/(a_0*a_4*a_8 - a_0*a_5*a_7 - a_1*a_3*a_8 + a_1*a_5*a_6 + a_2*a_3*a_7 - a_2*a_4*a_6), conjugate(a_6)/(a_0*a_4*a_8 - a_0*a_5*a_7 - a_1*a_3*a_8 + a_1*a_5*a_6 + a_2*a_3*a_7 - a_2*a_4*a_6)],\n",
       "[conjugate(a_1)/(a_0*a_4*a_8 - a_0*a_5*a_7 - a_1*a_3*a_8 + a_1*a_5*a_6 + a_2*a_3*a_7 - a_2*a_4*a_6), conjugate(a_4)/(a_0*a_4*a_8 - a_0*a_5*a_7 - a_1*a_3*a_8 + a_1*a_5*a_6 + a_2*a_3*a_7 - a_2*a_4*a_6), conjugate(a_7)/(a_0*a_4*a_8 - a_0*a_5*a_7 - a_1*a_3*a_8 + a_1*a_5*a_6 + a_2*a_3*a_7 - a_2*a_4*a_6)],\n",
       "[conjugate(a_2)/(a_0*a_4*a_8 - a_0*a_5*a_7 - a_1*a_3*a_8 + a_1*a_5*a_6 + a_2*a_3*a_7 - a_2*a_4*a_6), conjugate(a_5)/(a_0*a_4*a_8 - a_0*a_5*a_7 - a_1*a_3*a_8 + a_1*a_5*a_6 + a_2*a_3*a_7 - a_2*a_4*a_6), conjugate(a_8)/(a_0*a_4*a_8 - a_0*a_5*a_7 - a_1*a_3*a_8 + a_1*a_5*a_6 + a_2*a_3*a_7 - a_2*a_4*a_6)]])"
      ]
     },
     "execution_count": 199,
     "metadata": {},
     "output_type": "execute_result"
    }
   ],
   "source": [
    "(1/A.det())*A.adjoint()"
   ]
  },
  {
   "cell_type": "code",
   "execution_count": 200,
   "id": "bfdef868",
   "metadata": {},
   "outputs": [
    {
     "data": {
      "text/latex": [
       "$\\displaystyle \\left[\\begin{matrix}\\frac{a_{4} a_{8} - a_{5} a_{7}}{a_{0} a_{4} a_{8} - a_{0} a_{5} a_{7} - a_{1} a_{3} a_{8} + a_{1} a_{5} a_{6} + a_{2} a_{3} a_{7} - a_{2} a_{4} a_{6}} & \\frac{- a_{1} a_{8} + a_{2} a_{7}}{a_{0} a_{4} a_{8} - a_{0} a_{5} a_{7} - a_{1} a_{3} a_{8} + a_{1} a_{5} a_{6} + a_{2} a_{3} a_{7} - a_{2} a_{4} a_{6}} & \\frac{a_{1} a_{5} - a_{2} a_{4}}{a_{0} a_{4} a_{8} - a_{0} a_{5} a_{7} - a_{1} a_{3} a_{8} + a_{1} a_{5} a_{6} + a_{2} a_{3} a_{7} - a_{2} a_{4} a_{6}}\\\\\\frac{- a_{3} a_{8} + a_{5} a_{6}}{a_{0} a_{4} a_{8} - a_{0} a_{5} a_{7} - a_{1} a_{3} a_{8} + a_{1} a_{5} a_{6} + a_{2} a_{3} a_{7} - a_{2} a_{4} a_{6}} & \\frac{a_{0} a_{8} - a_{2} a_{6}}{a_{0} a_{4} a_{8} - a_{0} a_{5} a_{7} - a_{1} a_{3} a_{8} + a_{1} a_{5} a_{6} + a_{2} a_{3} a_{7} - a_{2} a_{4} a_{6}} & \\frac{- a_{0} a_{5} + a_{2} a_{3}}{a_{0} a_{4} a_{8} - a_{0} a_{5} a_{7} - a_{1} a_{3} a_{8} + a_{1} a_{5} a_{6} + a_{2} a_{3} a_{7} - a_{2} a_{4} a_{6}}\\\\\\frac{a_{3} a_{7} - a_{4} a_{6}}{a_{0} a_{4} a_{8} - a_{0} a_{5} a_{7} - a_{1} a_{3} a_{8} + a_{1} a_{5} a_{6} + a_{2} a_{3} a_{7} - a_{2} a_{4} a_{6}} & \\frac{- a_{0} a_{7} + a_{1} a_{6}}{a_{0} a_{4} a_{8} - a_{0} a_{5} a_{7} - a_{1} a_{3} a_{8} + a_{1} a_{5} a_{6} + a_{2} a_{3} a_{7} - a_{2} a_{4} a_{6}} & \\frac{a_{0} a_{4} - a_{1} a_{3}}{a_{0} a_{4} a_{8} - a_{0} a_{5} a_{7} - a_{1} a_{3} a_{8} + a_{1} a_{5} a_{6} + a_{2} a_{3} a_{7} - a_{2} a_{4} a_{6}}\\end{matrix}\\right]$"
      ],
      "text/plain": [
       "Matrix([\n",
       "[ (a_4*a_8 - a_5*a_7)/(a_0*a_4*a_8 - a_0*a_5*a_7 - a_1*a_3*a_8 + a_1*a_5*a_6 + a_2*a_3*a_7 - a_2*a_4*a_6), (-a_1*a_8 + a_2*a_7)/(a_0*a_4*a_8 - a_0*a_5*a_7 - a_1*a_3*a_8 + a_1*a_5*a_6 + a_2*a_3*a_7 - a_2*a_4*a_6),  (a_1*a_5 - a_2*a_4)/(a_0*a_4*a_8 - a_0*a_5*a_7 - a_1*a_3*a_8 + a_1*a_5*a_6 + a_2*a_3*a_7 - a_2*a_4*a_6)],\n",
       "[(-a_3*a_8 + a_5*a_6)/(a_0*a_4*a_8 - a_0*a_5*a_7 - a_1*a_3*a_8 + a_1*a_5*a_6 + a_2*a_3*a_7 - a_2*a_4*a_6),  (a_0*a_8 - a_2*a_6)/(a_0*a_4*a_8 - a_0*a_5*a_7 - a_1*a_3*a_8 + a_1*a_5*a_6 + a_2*a_3*a_7 - a_2*a_4*a_6), (-a_0*a_5 + a_2*a_3)/(a_0*a_4*a_8 - a_0*a_5*a_7 - a_1*a_3*a_8 + a_1*a_5*a_6 + a_2*a_3*a_7 - a_2*a_4*a_6)],\n",
       "[ (a_3*a_7 - a_4*a_6)/(a_0*a_4*a_8 - a_0*a_5*a_7 - a_1*a_3*a_8 + a_1*a_5*a_6 + a_2*a_3*a_7 - a_2*a_4*a_6), (-a_0*a_7 + a_1*a_6)/(a_0*a_4*a_8 - a_0*a_5*a_7 - a_1*a_3*a_8 + a_1*a_5*a_6 + a_2*a_3*a_7 - a_2*a_4*a_6),  (a_0*a_4 - a_1*a_3)/(a_0*a_4*a_8 - a_0*a_5*a_7 - a_1*a_3*a_8 + a_1*a_5*a_6 + a_2*a_3*a_7 - a_2*a_4*a_6)]])"
      ]
     },
     "execution_count": 200,
     "metadata": {},
     "output_type": "execute_result"
    }
   ],
   "source": [
    "A.inv()"
   ]
  },
  {
   "cell_type": "code",
   "execution_count": 202,
   "id": "cde0b84e",
   "metadata": {},
   "outputs": [
    {
     "data": {
      "text/latex": [
       "$\\displaystyle \\left[\\begin{matrix}\\sin{\\left(a_{0} \\right)} & 3 \\cos{\\left(a_{0} \\right)}\\\\- \\cos{\\left(a_{0} \\right)} & \\frac{\\sin{\\left(a_{0} + 3 \\right)}}{6} - 2\\end{matrix}\\right]$"
      ],
      "text/plain": [
       "Matrix([\n",
       "[ sin(a_0),         3*cos(a_0)],\n",
       "[-cos(a_0), sin(a_0 + 3)/6 - 2]])"
      ]
     },
     "execution_count": 202,
     "metadata": {},
     "output_type": "execute_result"
    }
   ],
   "source": [
    "A = sp.Matrix([[sp.sin(a[0]), 3*sp.cos(a[0])],[-sp.cos(a[0]), sp.Rational(1,6)*sp.sin(a[0]+3)-2]])\n",
    "A"
   ]
  },
  {
   "cell_type": "code",
   "execution_count": 211,
   "id": "5faa3d0e",
   "metadata": {},
   "outputs": [
    {
     "data": {
      "text/latex": [
       "$\\displaystyle \\frac{\\sin{\\left(a_{0} \\right)} \\sin{\\left(a_{0} + 3 \\right)}}{6} - 2 \\sin{\\left(a_{0} \\right)} + 3 \\cos^{2}{\\left(a_{0} \\right)}$"
      ],
      "text/plain": [
       "sin(a_0)*sin(a_0 + 3)/6 - 2*sin(a_0) + 3*cos(a_0)**2"
      ]
     },
     "execution_count": 211,
     "metadata": {},
     "output_type": "execute_result"
    }
   ],
   "source": [
    "A.det()"
   ]
  },
  {
   "cell_type": "code",
   "execution_count": 212,
   "id": "d10c56b7",
   "metadata": {},
   "outputs": [
    {
     "data": {
      "text/latex": [
       "$\\displaystyle \\frac{\\sin{\\left(a_{0} \\right)} \\sin{\\left(a_{0} + 3 \\right)} - 12 \\sin{\\left(a_{0} \\right)} + 18 \\cos^{2}{\\left(a_{0} \\right)}}{6}$"
      ],
      "text/plain": [
       "(sin(a_0)*sin(a_0 + 3) - 12*sin(a_0) + 18*cos(a_0)**2)/6"
      ]
     },
     "execution_count": 212,
     "metadata": {},
     "output_type": "execute_result"
    }
   ],
   "source": [
    "_.factor()"
   ]
  },
  {
   "cell_type": "code",
   "execution_count": 213,
   "id": "dde0e258",
   "metadata": {},
   "outputs": [
    {
     "data": {
      "text/latex": [
       "$\\displaystyle -2 + \\frac{\\cos{\\left(3 \\right)}}{6}$"
      ],
      "text/plain": [
       "-2 + cos(3)/6"
      ]
     },
     "execution_count": 213,
     "metadata": {},
     "output_type": "execute_result"
    }
   ],
   "source": [
    "_.subs(a[0],sp.pi/2)"
   ]
  },
  {
   "cell_type": "code",
   "execution_count": 218,
   "id": "3c69a129",
   "metadata": {},
   "outputs": [
    {
     "data": {
      "text/latex": [
       "$\\displaystyle \\left[\\begin{matrix}\\frac{\\sqrt{2}}{2} & \\frac{3 \\sqrt{2}}{2}\\\\- \\frac{\\sqrt{2}}{2} & -2 + \\frac{\\sin{\\left(\\frac{\\pi}{4} + 3 \\right)}}{6}\\end{matrix}\\right]$"
      ],
      "text/plain": [
       "Matrix([\n",
       "[ sqrt(2)/2,          3*sqrt(2)/2],\n",
       "[-sqrt(2)/2, -2 + sin(pi/4 + 3)/6]])"
      ]
     },
     "execution_count": 218,
     "metadata": {},
     "output_type": "execute_result"
    }
   ],
   "source": [
    "A.subs(a[0],sp.pi/4)"
   ]
  },
  {
   "cell_type": "code",
   "execution_count": 219,
   "id": "ee15bbce",
   "metadata": {},
   "outputs": [
    {
     "data": {
      "text/latex": [
       "$\\displaystyle - \\sqrt{2} + \\frac{\\sqrt{2} \\sin{\\left(\\frac{\\pi}{4} + 3 \\right)}}{12} + \\frac{3}{2}$"
      ],
      "text/plain": [
       "-sqrt(2) + sqrt(2)*sin(pi/4 + 3)/12 + 3/2"
      ]
     },
     "execution_count": 219,
     "metadata": {},
     "output_type": "execute_result"
    }
   ],
   "source": [
    "_.det()"
   ]
  },
  {
   "cell_type": "code",
   "execution_count": 220,
   "id": "87dbff93",
   "metadata": {},
   "outputs": [
    {
     "data": {
      "text/latex": [
       "$\\displaystyle \\left[\\begin{matrix}\\sin{\\left(\\overline{a_{0}} \\right)} & - \\cos{\\left(\\overline{a_{0}} \\right)}\\\\3 \\cos{\\left(\\overline{a_{0}} \\right)} & \\frac{\\sin{\\left(\\overline{a_{0}} + 3 \\right)}}{6} - 2\\end{matrix}\\right]$"
      ],
      "text/plain": [
       "Matrix([\n",
       "[  sin(conjugate(a_0)),          -cos(conjugate(a_0))],\n",
       "[3*cos(conjugate(a_0)), sin(conjugate(a_0) + 3)/6 - 2]])"
      ]
     },
     "execution_count": 220,
     "metadata": {},
     "output_type": "execute_result"
    }
   ],
   "source": [
    "A.adjoint()"
   ]
  },
  {
   "cell_type": "code",
   "execution_count": 221,
   "id": "fee03237",
   "metadata": {},
   "outputs": [
    {
     "data": {
      "text/latex": [
       "$\\displaystyle \\left[\\begin{matrix}1 & 0\\\\0 & -2 + \\frac{\\cos{\\left(3 \\right)}}{6}\\end{matrix}\\right]$"
      ],
      "text/plain": [
       "Matrix([\n",
       "[1,             0],\n",
       "[0, -2 + cos(3)/6]])"
      ]
     },
     "execution_count": 221,
     "metadata": {},
     "output_type": "execute_result"
    }
   ],
   "source": [
    "_.subs(a[0],sp.pi/2)"
   ]
  },
  {
   "cell_type": "code",
   "execution_count": 222,
   "id": "fd75af08",
   "metadata": {},
   "outputs": [
    {
     "data": {
      "text/latex": [
       "$\\displaystyle \\left[\\begin{matrix}\\frac{\\sin{\\left(\\overline{a_{0}} \\right)}}{\\frac{\\sin{\\left(a_{0} \\right)} \\sin{\\left(a_{0} + 3 \\right)}}{6} - 2 \\sin{\\left(a_{0} \\right)} + 3 \\cos^{2}{\\left(a_{0} \\right)}} & - \\frac{\\cos{\\left(\\overline{a_{0}} \\right)}}{\\frac{\\sin{\\left(a_{0} \\right)} \\sin{\\left(a_{0} + 3 \\right)}}{6} - 2 \\sin{\\left(a_{0} \\right)} + 3 \\cos^{2}{\\left(a_{0} \\right)}}\\\\\\frac{3 \\cos{\\left(\\overline{a_{0}} \\right)}}{\\frac{\\sin{\\left(a_{0} \\right)} \\sin{\\left(a_{0} + 3 \\right)}}{6} - 2 \\sin{\\left(a_{0} \\right)} + 3 \\cos^{2}{\\left(a_{0} \\right)}} & \\frac{\\frac{\\sin{\\left(\\overline{a_{0}} + 3 \\right)}}{6} - 2}{\\frac{\\sin{\\left(a_{0} \\right)} \\sin{\\left(a_{0} + 3 \\right)}}{6} - 2 \\sin{\\left(a_{0} \\right)} + 3 \\cos^{2}{\\left(a_{0} \\right)}}\\end{matrix}\\right]$"
      ],
      "text/plain": [
       "Matrix([\n",
       "[  sin(conjugate(a_0))/(sin(a_0)*sin(a_0 + 3)/6 - 2*sin(a_0) + 3*cos(a_0)**2),            -cos(conjugate(a_0))/(sin(a_0)*sin(a_0 + 3)/6 - 2*sin(a_0) + 3*cos(a_0)**2)],\n",
       "[3*cos(conjugate(a_0))/(sin(a_0)*sin(a_0 + 3)/6 - 2*sin(a_0) + 3*cos(a_0)**2), (sin(conjugate(a_0) + 3)/6 - 2)/(sin(a_0)*sin(a_0 + 3)/6 - 2*sin(a_0) + 3*cos(a_0)**2)]])"
      ]
     },
     "execution_count": 222,
     "metadata": {},
     "output_type": "execute_result"
    }
   ],
   "source": [
    "(1/A.det())*A.adjoint()"
   ]
  },
  {
   "cell_type": "code",
   "execution_count": 223,
   "id": "d673ce2c",
   "metadata": {},
   "outputs": [
    {
     "data": {
      "text/latex": [
       "$\\displaystyle \\left[\\begin{matrix}\\frac{1}{-2 + \\frac{\\cos{\\left(3 \\right)}}{6}} & 0\\\\0 & 1\\end{matrix}\\right]$"
      ],
      "text/plain": [
       "Matrix([\n",
       "[1/(-2 + cos(3)/6), 0],\n",
       "[                0, 1]])"
      ]
     },
     "execution_count": 223,
     "metadata": {},
     "output_type": "execute_result"
    }
   ],
   "source": [
    "_.subs(a[0],sp.pi/2)"
   ]
  },
  {
   "cell_type": "code",
   "execution_count": 224,
   "id": "ae3f0c18",
   "metadata": {},
   "outputs": [
    {
     "data": {
      "text/latex": [
       "$\\displaystyle \\left[\\begin{matrix}\\frac{\\sin{\\left(a_{0} + 3 \\right)} - 12}{\\sin{\\left(a_{0} \\right)} \\sin{\\left(a_{0} + 3 \\right)} - 12 \\sin{\\left(a_{0} \\right)} + 18 \\cos^{2}{\\left(a_{0} \\right)}} & - \\frac{18 \\cos{\\left(a_{0} \\right)}}{\\sin{\\left(a_{0} \\right)} \\sin{\\left(a_{0} + 3 \\right)} - 12 \\sin{\\left(a_{0} \\right)} + 18 \\cos^{2}{\\left(a_{0} \\right)}}\\\\\\frac{6 \\cos{\\left(a_{0} \\right)}}{\\sin{\\left(a_{0} \\right)} \\sin{\\left(a_{0} + 3 \\right)} - 12 \\sin{\\left(a_{0} \\right)} + 18 \\cos^{2}{\\left(a_{0} \\right)}} & \\frac{6 \\sin{\\left(a_{0} \\right)}}{\\sin{\\left(a_{0} \\right)} \\sin{\\left(a_{0} + 3 \\right)} - 12 \\sin{\\left(a_{0} \\right)} + 18 \\cos^{2}{\\left(a_{0} \\right)}}\\end{matrix}\\right]$"
      ],
      "text/plain": [
       "Matrix([\n",
       "[(sin(a_0 + 3) - 12)/(sin(a_0)*sin(a_0 + 3) - 12*sin(a_0) + 18*cos(a_0)**2), -18*cos(a_0)/(sin(a_0)*sin(a_0 + 3) - 12*sin(a_0) + 18*cos(a_0)**2)],\n",
       "[         6*cos(a_0)/(sin(a_0)*sin(a_0 + 3) - 12*sin(a_0) + 18*cos(a_0)**2),   6*sin(a_0)/(sin(a_0)*sin(a_0 + 3) - 12*sin(a_0) + 18*cos(a_0)**2)]])"
      ]
     },
     "execution_count": 224,
     "metadata": {},
     "output_type": "execute_result"
    }
   ],
   "source": [
    "A.inv()"
   ]
  },
  {
   "cell_type": "code",
   "execution_count": 225,
   "id": "9a498d8f",
   "metadata": {},
   "outputs": [
    {
     "data": {
      "text/latex": [
       "$\\displaystyle \\left[\\begin{matrix}1 & 0\\\\0 & \\frac{6}{-12 + \\cos{\\left(3 \\right)}}\\end{matrix}\\right]$"
      ],
      "text/plain": [
       "Matrix([\n",
       "[1,                0],\n",
       "[0, 6/(-12 + cos(3))]])"
      ]
     },
     "execution_count": 225,
     "metadata": {},
     "output_type": "execute_result"
    }
   ],
   "source": [
    "_.subs(a[0],sp.pi/2)"
   ]
  },
  {
   "cell_type": "code",
   "execution_count": 232,
   "id": "685d8ce6",
   "metadata": {},
   "outputs": [
    {
     "data": {
      "image/png": "[encoded data removed]",
      "text/plain": [
       "<Figure size 640x480 with 1 Axes>"
      ]
     },
     "metadata": {},
     "output_type": "display_data"
    },
    {
     "data": {
      "text/plain": [
       "<sympy.plotting.plot.Plot at 0x25531e5b7d0>"
      ]
     },
     "execution_count": 232,
     "metadata": {},
     "output_type": "execute_result"
    }
   ],
   "source": [
    "sp.plot(A[0,0],A[0,1],A[1,0], A[1,1])"
   ]
  },
  {
   "cell_type": "code",
   "execution_count": 258,
   "id": "2667e999",
   "metadata": {},
   "outputs": [],
   "source": [
    "x = lambda x: np.array([[np.sin(x), np.cos(x)],[np.cos(x+1), np.sin(x-1)]])"
   ]
  },
  {
   "cell_type": "code",
   "execution_count": 259,
   "id": "e464ecc0",
   "metadata": {},
   "outputs": [],
   "source": [
    "p = x(np.linspace(-2*np.pi,2*np.pi,1000))"
   ]
  },
  {
   "cell_type": "code",
   "execution_count": 261,
   "id": "0c235fd3",
   "metadata": {},
   "outputs": [
    {
     "data": {
      "text/plain": [
       "[<matplotlib.lines.Line2D at 0x25538024090>]"
      ]
     },
     "execution_count": 261,
     "metadata": {},
     "output_type": "execute_result"
    },
    {
     "data": {
      "image/png": "[encoded data removed]",
      "text/plain": [
       "<Figure size 640x480 with 1 Axes>"
      ]
     },
     "metadata": {},
     "output_type": "display_data"
    }
   ],
   "source": [
    "plt.plot(p[0,1])\n",
    "plt.plot(p[0,0])\n",
    "plt.plot(p[1,0])\n",
    "plt.plot(p[1,1])"
   ]
  },
  {
   "cell_type": "code",
   "execution_count": 263,
   "id": "674c343e",
   "metadata": {},
   "outputs": [
    {
     "data": {
      "text/plain": [
       "[<matplotlib.lines.Line2D at 0x25538038a10>]"
      ]
     },
     "execution_count": 263,
     "metadata": {},
     "output_type": "execute_result"
    },
    {
     "data": {
      "image/png": "[encoded data removed]",
      "text/plain": [
       "<Figure size 640x480 with 1 Axes>"
      ]
     },
     "metadata": {},
     "output_type": "display_data"
    }
   ],
   "source": [
    "plt.plot([A[0,0].subs(a[0],i) for i in np.linspace(-2*np.pi,2*np.pi,1000)])"
   ]
  },
  {
   "cell_type": "markdown",
   "id": "c7d2d3cc",
   "metadata": {},
   "source": [
    "# Derivatives"
   ]
  },
  {
   "cell_type": "code",
   "execution_count": 264,
   "id": "e984b2b2",
   "metadata": {},
   "outputs": [
    {
     "data": {
      "text/latex": [
       "$\\displaystyle \\left[\\begin{matrix}\\sin{\\left(a_{0} \\right)} & 3 \\cos{\\left(a_{0} \\right)}\\\\- \\cos{\\left(a_{0} \\right)} & \\frac{\\sin{\\left(a_{0} + 3 \\right)}}{6} - 2\\end{matrix}\\right]$"
      ],
      "text/plain": [
       "Matrix([\n",
       "[ sin(a_0),         3*cos(a_0)],\n",
       "[-cos(a_0), sin(a_0 + 3)/6 - 2]])"
      ]
     },
     "execution_count": 264,
     "metadata": {},
     "output_type": "execute_result"
    }
   ],
   "source": [
    "A"
   ]
  },
  {
   "cell_type": "code",
   "execution_count": 265,
   "id": "f26858b3",
   "metadata": {},
   "outputs": [
    {
     "data": {
      "text/latex": [
       "$\\displaystyle \\left[\\begin{matrix}\\cos{\\left(a_{0} \\right)} & - 3 \\sin{\\left(a_{0} \\right)}\\\\\\sin{\\left(a_{0} \\right)} & \\frac{\\cos{\\left(a_{0} + 3 \\right)}}{6}\\end{matrix}\\right]$"
      ],
      "text/plain": [
       "Matrix([\n",
       "[cos(a_0),    -3*sin(a_0)],\n",
       "[sin(a_0), cos(a_0 + 3)/6]])"
      ]
     },
     "execution_count": 265,
     "metadata": {},
     "output_type": "execute_result"
    }
   ],
   "source": [
    "sp.diff(A,a[0])"
   ]
  },
  {
   "cell_type": "code",
   "execution_count": 266,
   "id": "61799308",
   "metadata": {},
   "outputs": [
    {
     "data": {
      "text/latex": [
       "$\\displaystyle \\left[\\begin{matrix}- \\sin{\\left(a_{0} \\right)} & - 3 \\cos{\\left(a_{0} \\right)}\\\\\\cos{\\left(a_{0} \\right)} & - \\frac{\\sin{\\left(a_{0} + 3 \\right)}}{6}\\end{matrix}\\right]$"
      ],
      "text/plain": [
       "Matrix([\n",
       "[-sin(a_0),     -3*cos(a_0)],\n",
       "[ cos(a_0), -sin(a_0 + 3)/6]])"
      ]
     },
     "execution_count": 266,
     "metadata": {},
     "output_type": "execute_result"
    }
   ],
   "source": [
    "sp.diff(_,a[0])"
   ]
  },
  {
   "cell_type": "code",
   "execution_count": 268,
   "id": "5f78e7c7",
   "metadata": {},
   "outputs": [
    {
     "data": {
      "image/png": "[encoded data removed]",
      "text/plain": [
       "<Figure size 640x480 with 1 Axes>"
      ]
     },
     "metadata": {},
     "output_type": "display_data"
    },
    {
     "data": {
      "text/plain": [
       "<sympy.plotting.plot.Plot at 0x2552eab6710>"
      ]
     },
     "execution_count": 268,
     "metadata": {},
     "output_type": "execute_result"
    }
   ],
   "source": [
    "sp.plot(A[0,0],sp.diff(A,a[0])[0,0],sp.diff(A,a[0],2)[0,0])"
   ]
  },
  {
   "cell_type": "code",
   "execution_count": 271,
   "id": "663c94f3",
   "metadata": {},
   "outputs": [
    {
     "data": {
      "text/latex": [
       "$\\displaystyle \\left[\\begin{matrix}- \\frac{216 e^{- \\frac{\\sqrt{\\left(6 \\sin{\\left(a_{0} \\right)} + \\sin{\\left(a_{0} + 3 \\right)} - 12\\right)^{2} - 24 \\sin{\\left(a_{0} \\right)} \\sin{\\left(a_{0} + 3 \\right)} + 288 \\sin{\\left(a_{0} \\right)} - 432 \\cos^{2}{\\left(a_{0} \\right)}}}{12} + \\frac{\\sin{\\left(a_{0} \\right)}}{2} + \\frac{\\sin{\\left(a_{0} + 3 \\right)}}{12} - 1} \\cos^{2}{\\left(a_{0} \\right)}}{\\left(\\sqrt{36 \\sin^{2}{\\left(a_{0} \\right)} - 12 \\sin{\\left(a_{0} \\right)} \\sin{\\left(a_{0} + 3 \\right)} + 144 \\sin{\\left(a_{0} \\right)} + \\sin^{2}{\\left(a_{0} + 3 \\right)} - 24 \\sin{\\left(a_{0} + 3 \\right)} - 432 \\cos^{2}{\\left(a_{0} \\right)} + 144} + 6 \\sin{\\left(a_{0} \\right)} - \\sin{\\left(a_{0} + 3 \\right)} + 12\\right) \\sqrt{36 \\sin^{2}{\\left(a_{0} \\right)} - 12 \\sin{\\left(a_{0} \\right)} \\sin{\\left(a_{0} + 3 \\right)} + 144 \\sin{\\left(a_{0} \\right)} + \\sin^{2}{\\left(a_{0} + 3 \\right)} - 24 \\sin{\\left(a_{0} + 3 \\right)} - 432 \\cos^{2}{\\left(a_{0} \\right)} + 144}} + \\frac{216 e^{\\frac{\\sqrt{\\left(6 \\sin{\\left(a_{0} \\right)} + \\sin{\\left(a_{0} + 3 \\right)} - 12\\right)^{2} - 24 \\sin{\\left(a_{0} \\right)} \\sin{\\left(a_{0} + 3 \\right)} + 288 \\sin{\\left(a_{0} \\right)} - 432 \\cos^{2}{\\left(a_{0} \\right)}}}{12} + \\frac{\\sin{\\left(a_{0} \\right)}}{2} + \\frac{\\sin{\\left(a_{0} + 3 \\right)}}{12} - 1} \\cos^{2}{\\left(a_{0} \\right)}}{\\left(- \\sqrt{36 \\sin^{2}{\\left(a_{0} \\right)} - 12 \\sin{\\left(a_{0} \\right)} \\sin{\\left(a_{0} + 3 \\right)} + 144 \\sin{\\left(a_{0} \\right)} + \\sin^{2}{\\left(a_{0} + 3 \\right)} - 24 \\sin{\\left(a_{0} + 3 \\right)} - 432 \\cos^{2}{\\left(a_{0} \\right)} + 144} + 6 \\sin{\\left(a_{0} \\right)} - \\sin{\\left(a_{0} + 3 \\right)} + 12\\right) \\sqrt{36 \\sin^{2}{\\left(a_{0} \\right)} - 12 \\sin{\\left(a_{0} \\right)} \\sin{\\left(a_{0} + 3 \\right)} + 144 \\sin{\\left(a_{0} \\right)} + \\sin^{2}{\\left(a_{0} + 3 \\right)} - 24 \\sin{\\left(a_{0} + 3 \\right)} - 432 \\cos^{2}{\\left(a_{0} \\right)} + 144}} & - \\frac{36 \\left(- 6 \\sqrt{36 \\sin^{2}{\\left(a_{0} \\right)} - 12 \\sin{\\left(a_{0} \\right)} \\sin{\\left(a_{0} + 3 \\right)} + 144 \\sin{\\left(a_{0} \\right)} + \\sin^{2}{\\left(a_{0} + 3 \\right)} - 24 \\sin{\\left(a_{0} + 3 \\right)} - 432 \\cos^{2}{\\left(a_{0} \\right)} + 144} \\sin{\\left(a_{0} \\right)} + \\sqrt{36 \\sin^{2}{\\left(a_{0} \\right)} - 12 \\sin{\\left(a_{0} \\right)} \\sin{\\left(a_{0} + 3 \\right)} + 144 \\sin{\\left(a_{0} \\right)} + \\sin^{2}{\\left(a_{0} + 3 \\right)} - 24 \\sin{\\left(a_{0} + 3 \\right)} - 432 \\cos^{2}{\\left(a_{0} \\right)} + 144} \\sin{\\left(a_{0} + 3 \\right)} - 12 \\sqrt{36 \\sin^{2}{\\left(a_{0} \\right)} - 12 \\sin{\\left(a_{0} \\right)} \\sin{\\left(a_{0} + 3 \\right)} + 144 \\sin{\\left(a_{0} \\right)} + \\sin^{2}{\\left(a_{0} + 3 \\right)} - 24 \\sin{\\left(a_{0} + 3 \\right)} - 432 \\cos^{2}{\\left(a_{0} \\right)} + 144} - 36 \\sin^{2}{\\left(a_{0} \\right)} + 12 \\sin{\\left(a_{0} \\right)} \\sin{\\left(a_{0} + 3 \\right)} - 144 \\sin{\\left(a_{0} \\right)} - \\sin^{2}{\\left(a_{0} + 3 \\right)} + 24 \\sin{\\left(a_{0} + 3 \\right)} + 216 \\cos^{2}{\\left(a_{0} \\right)} - 144\\right) e^{- \\frac{\\sqrt{\\left(6 \\sin{\\left(a_{0} \\right)} + \\sin{\\left(a_{0} + 3 \\right)} - 12\\right)^{2} - 24 \\sin{\\left(a_{0} \\right)} \\sin{\\left(a_{0} + 3 \\right)} + 288 \\sin{\\left(a_{0} \\right)} - 432 \\cos^{2}{\\left(a_{0} \\right)}}}{12} + \\frac{\\sin{\\left(a_{0} \\right)}}{2} + \\frac{\\sin{\\left(a_{0} + 3 \\right)}}{12} - 1} \\cos{\\left(a_{0} \\right)}}{\\left(\\sqrt{36 \\sin^{2}{\\left(a_{0} \\right)} - 12 \\sin{\\left(a_{0} \\right)} \\sin{\\left(a_{0} + 3 \\right)} + 144 \\sin{\\left(a_{0} \\right)} + \\sin^{2}{\\left(a_{0} + 3 \\right)} - 24 \\sin{\\left(a_{0} + 3 \\right)} - 432 \\cos^{2}{\\left(a_{0} \\right)} + 144} + 6 \\sin{\\left(a_{0} \\right)} - \\sin{\\left(a_{0} + 3 \\right)} + 12\\right) \\left(- 6 \\sqrt{36 \\sin^{2}{\\left(a_{0} \\right)} - 12 \\sin{\\left(a_{0} \\right)} \\sin{\\left(a_{0} + 3 \\right)} + 144 \\sin{\\left(a_{0} \\right)} + \\sin^{2}{\\left(a_{0} + 3 \\right)} - 24 \\sin{\\left(a_{0} + 3 \\right)} - 432 \\cos^{2}{\\left(a_{0} \\right)} + 144} \\sin{\\left(a_{0} \\right)} + \\sqrt{36 \\sin^{2}{\\left(a_{0} \\right)} - 12 \\sin{\\left(a_{0} \\right)} \\sin{\\left(a_{0} + 3 \\right)} + 144 \\sin{\\left(a_{0} \\right)} + \\sin^{2}{\\left(a_{0} + 3 \\right)} - 24 \\sin{\\left(a_{0} + 3 \\right)} - 432 \\cos^{2}{\\left(a_{0} \\right)} + 144} \\sin{\\left(a_{0} + 3 \\right)} - 12 \\sqrt{36 \\sin^{2}{\\left(a_{0} \\right)} - 12 \\sin{\\left(a_{0} \\right)} \\sin{\\left(a_{0} + 3 \\right)} + 144 \\sin{\\left(a_{0} \\right)} + \\sin^{2}{\\left(a_{0} + 3 \\right)} - 24 \\sin{\\left(a_{0} + 3 \\right)} - 432 \\cos^{2}{\\left(a_{0} \\right)} + 144} - 36 \\sin^{2}{\\left(a_{0} \\right)} + 12 \\sin{\\left(a_{0} \\right)} \\sin{\\left(a_{0} + 3 \\right)} - 144 \\sin{\\left(a_{0} \\right)} - \\sin^{2}{\\left(a_{0} + 3 \\right)} + 24 \\sin{\\left(a_{0} + 3 \\right)} + 432 \\cos^{2}{\\left(a_{0} \\right)} - 144\\right)} + \\frac{7776 e^{\\frac{\\sqrt{\\left(6 \\sin{\\left(a_{0} \\right)} + \\sin{\\left(a_{0} + 3 \\right)} - 12\\right)^{2} - 24 \\sin{\\left(a_{0} \\right)} \\sin{\\left(a_{0} + 3 \\right)} + 288 \\sin{\\left(a_{0} \\right)} - 432 \\cos^{2}{\\left(a_{0} \\right)}}}{12} + \\frac{\\sin{\\left(a_{0} \\right)}}{2} + \\frac{\\sin{\\left(a_{0} + 3 \\right)}}{12} - 1} \\cos^{3}{\\left(a_{0} \\right)}}{\\left(- \\sqrt{36 \\sin^{2}{\\left(a_{0} \\right)} - 12 \\sin{\\left(a_{0} \\right)} \\sin{\\left(a_{0} + 3 \\right)} + 144 \\sin{\\left(a_{0} \\right)} + \\sin^{2}{\\left(a_{0} + 3 \\right)} - 24 \\sin{\\left(a_{0} + 3 \\right)} - 432 \\cos^{2}{\\left(a_{0} \\right)} + 144} + 6 \\sin{\\left(a_{0} \\right)} - \\sin{\\left(a_{0} + 3 \\right)} + 12\\right) \\left(6 \\sqrt{36 \\sin^{2}{\\left(a_{0} \\right)} - 12 \\sin{\\left(a_{0} \\right)} \\sin{\\left(a_{0} + 3 \\right)} + 144 \\sin{\\left(a_{0} \\right)} + \\sin^{2}{\\left(a_{0} + 3 \\right)} - 24 \\sin{\\left(a_{0} + 3 \\right)} - 432 \\cos^{2}{\\left(a_{0} \\right)} + 144} \\sin{\\left(a_{0} \\right)} - \\sqrt{36 \\sin^{2}{\\left(a_{0} \\right)} - 12 \\sin{\\left(a_{0} \\right)} \\sin{\\left(a_{0} + 3 \\right)} + 144 \\sin{\\left(a_{0} \\right)} + \\sin^{2}{\\left(a_{0} + 3 \\right)} - 24 \\sin{\\left(a_{0} + 3 \\right)} - 432 \\cos^{2}{\\left(a_{0} \\right)} + 144} \\sin{\\left(a_{0} + 3 \\right)} + 12 \\sqrt{36 \\sin^{2}{\\left(a_{0} \\right)} - 12 \\sin{\\left(a_{0} \\right)} \\sin{\\left(a_{0} + 3 \\right)} + 144 \\sin{\\left(a_{0} \\right)} + \\sin^{2}{\\left(a_{0} + 3 \\right)} - 24 \\sin{\\left(a_{0} + 3 \\right)} - 432 \\cos^{2}{\\left(a_{0} \\right)} + 144} + 36 \\sin^{2}{\\left(a_{0} \\right)} - 12 \\sin{\\left(a_{0} \\right)} \\sin{\\left(a_{0} + 3 \\right)} + 144 \\sin{\\left(a_{0} \\right)} + \\sin^{2}{\\left(a_{0} + 3 \\right)} - 24 \\sin{\\left(a_{0} + 3 \\right)} - 432 \\cos^{2}{\\left(a_{0} \\right)} + 144\\right)}\\\\\\frac{6 e^{- \\frac{\\sqrt{\\left(6 \\sin{\\left(a_{0} \\right)} + \\sin{\\left(a_{0} + 3 \\right)} - 12\\right)^{2} - 24 \\sin{\\left(a_{0} \\right)} \\sin{\\left(a_{0} + 3 \\right)} + 288 \\sin{\\left(a_{0} \\right)} - 432 \\cos^{2}{\\left(a_{0} \\right)}}}{12} + \\frac{\\sin{\\left(a_{0} \\right)}}{2} + \\frac{\\sin{\\left(a_{0} + 3 \\right)}}{12} - 1} \\cos{\\left(a_{0} \\right)}}{\\sqrt{36 \\sin^{2}{\\left(a_{0} \\right)} - 12 \\sin{\\left(a_{0} \\right)} \\sin{\\left(a_{0} + 3 \\right)} + 144 \\sin{\\left(a_{0} \\right)} + \\sin^{2}{\\left(a_{0} + 3 \\right)} - 24 \\sin{\\left(a_{0} + 3 \\right)} - 432 \\cos^{2}{\\left(a_{0} \\right)} + 144}} - \\frac{6 e^{\\frac{\\sqrt{\\left(6 \\sin{\\left(a_{0} \\right)} + \\sin{\\left(a_{0} + 3 \\right)} - 12\\right)^{2} - 24 \\sin{\\left(a_{0} \\right)} \\sin{\\left(a_{0} + 3 \\right)} + 288 \\sin{\\left(a_{0} \\right)} - 432 \\cos^{2}{\\left(a_{0} \\right)}}}{12} + \\frac{\\sin{\\left(a_{0} \\right)}}{2} + \\frac{\\sin{\\left(a_{0} + 3 \\right)}}{12} - 1} \\cos{\\left(a_{0} \\right)}}{\\sqrt{36 \\sin^{2}{\\left(a_{0} \\right)} - 12 \\sin{\\left(a_{0} \\right)} \\sin{\\left(a_{0} + 3 \\right)} + 144 \\sin{\\left(a_{0} \\right)} + \\sin^{2}{\\left(a_{0} + 3 \\right)} - 24 \\sin{\\left(a_{0} + 3 \\right)} - 432 \\cos^{2}{\\left(a_{0} \\right)} + 144}} & \\frac{\\left(- 6 \\sqrt{36 \\sin^{2}{\\left(a_{0} \\right)} - 12 \\sin{\\left(a_{0} \\right)} \\sin{\\left(a_{0} + 3 \\right)} + 144 \\sin{\\left(a_{0} \\right)} + \\sin^{2}{\\left(a_{0} + 3 \\right)} - 24 \\sin{\\left(a_{0} + 3 \\right)} - 432 \\cos^{2}{\\left(a_{0} \\right)} + 144} \\sin{\\left(a_{0} \\right)} + \\sqrt{36 \\sin^{2}{\\left(a_{0} \\right)} - 12 \\sin{\\left(a_{0} \\right)} \\sin{\\left(a_{0} + 3 \\right)} + 144 \\sin{\\left(a_{0} \\right)} + \\sin^{2}{\\left(a_{0} + 3 \\right)} - 24 \\sin{\\left(a_{0} + 3 \\right)} - 432 \\cos^{2}{\\left(a_{0} \\right)} + 144} \\sin{\\left(a_{0} + 3 \\right)} - 12 \\sqrt{36 \\sin^{2}{\\left(a_{0} \\right)} - 12 \\sin{\\left(a_{0} \\right)} \\sin{\\left(a_{0} + 3 \\right)} + 144 \\sin{\\left(a_{0} \\right)} + \\sin^{2}{\\left(a_{0} + 3 \\right)} - 24 \\sin{\\left(a_{0} + 3 \\right)} - 432 \\cos^{2}{\\left(a_{0} \\right)} + 144} - 36 \\sin^{2}{\\left(a_{0} \\right)} + 12 \\sin{\\left(a_{0} \\right)} \\sin{\\left(a_{0} + 3 \\right)} - 144 \\sin{\\left(a_{0} \\right)} - \\sin^{2}{\\left(a_{0} + 3 \\right)} + 24 \\sin{\\left(a_{0} + 3 \\right)} + 216 \\cos^{2}{\\left(a_{0} \\right)} - 144\\right) e^{- \\frac{\\sqrt{\\left(6 \\sin{\\left(a_{0} \\right)} + \\sin{\\left(a_{0} + 3 \\right)} - 12\\right)^{2} - 24 \\sin{\\left(a_{0} \\right)} \\sin{\\left(a_{0} + 3 \\right)} + 288 \\sin{\\left(a_{0} \\right)} - 432 \\cos^{2}{\\left(a_{0} \\right)}}}{12} + \\frac{\\sin{\\left(a_{0} \\right)}}{2} + \\frac{\\sin{\\left(a_{0} + 3 \\right)}}{12} - 1}}{- 6 \\sqrt{36 \\sin^{2}{\\left(a_{0} \\right)} - 12 \\sin{\\left(a_{0} \\right)} \\sin{\\left(a_{0} + 3 \\right)} + 144 \\sin{\\left(a_{0} \\right)} + \\sin^{2}{\\left(a_{0} + 3 \\right)} - 24 \\sin{\\left(a_{0} + 3 \\right)} - 432 \\cos^{2}{\\left(a_{0} \\right)} + 144} \\sin{\\left(a_{0} \\right)} + \\sqrt{36 \\sin^{2}{\\left(a_{0} \\right)} - 12 \\sin{\\left(a_{0} \\right)} \\sin{\\left(a_{0} + 3 \\right)} + 144 \\sin{\\left(a_{0} \\right)} + \\sin^{2}{\\left(a_{0} + 3 \\right)} - 24 \\sin{\\left(a_{0} + 3 \\right)} - 432 \\cos^{2}{\\left(a_{0} \\right)} + 144} \\sin{\\left(a_{0} + 3 \\right)} - 12 \\sqrt{36 \\sin^{2}{\\left(a_{0} \\right)} - 12 \\sin{\\left(a_{0} \\right)} \\sin{\\left(a_{0} + 3 \\right)} + 144 \\sin{\\left(a_{0} \\right)} + \\sin^{2}{\\left(a_{0} + 3 \\right)} - 24 \\sin{\\left(a_{0} + 3 \\right)} - 432 \\cos^{2}{\\left(a_{0} \\right)} + 144} - 36 \\sin^{2}{\\left(a_{0} \\right)} + 12 \\sin{\\left(a_{0} \\right)} \\sin{\\left(a_{0} + 3 \\right)} - 144 \\sin{\\left(a_{0} \\right)} - \\sin^{2}{\\left(a_{0} + 3 \\right)} + 24 \\sin{\\left(a_{0} + 3 \\right)} + 432 \\cos^{2}{\\left(a_{0} \\right)} - 144} - \\frac{216 e^{\\frac{\\sqrt{\\left(6 \\sin{\\left(a_{0} \\right)} + \\sin{\\left(a_{0} + 3 \\right)} - 12\\right)^{2} - 24 \\sin{\\left(a_{0} \\right)} \\sin{\\left(a_{0} + 3 \\right)} + 288 \\sin{\\left(a_{0} \\right)} - 432 \\cos^{2}{\\left(a_{0} \\right)}}}{12} + \\frac{\\sin{\\left(a_{0} \\right)}}{2} + \\frac{\\sin{\\left(a_{0} + 3 \\right)}}{12} - 1} \\cos^{2}{\\left(a_{0} \\right)}}{6 \\sqrt{36 \\sin^{2}{\\left(a_{0} \\right)} - 12 \\sin{\\left(a_{0} \\right)} \\sin{\\left(a_{0} + 3 \\right)} + 144 \\sin{\\left(a_{0} \\right)} + \\sin^{2}{\\left(a_{0} + 3 \\right)} - 24 \\sin{\\left(a_{0} + 3 \\right)} - 432 \\cos^{2}{\\left(a_{0} \\right)} + 144} \\sin{\\left(a_{0} \\right)} - \\sqrt{36 \\sin^{2}{\\left(a_{0} \\right)} - 12 \\sin{\\left(a_{0} \\right)} \\sin{\\left(a_{0} + 3 \\right)} + 144 \\sin{\\left(a_{0} \\right)} + \\sin^{2}{\\left(a_{0} + 3 \\right)} - 24 \\sin{\\left(a_{0} + 3 \\right)} - 432 \\cos^{2}{\\left(a_{0} \\right)} + 144} \\sin{\\left(a_{0} + 3 \\right)} + 12 \\sqrt{36 \\sin^{2}{\\left(a_{0} \\right)} - 12 \\sin{\\left(a_{0} \\right)} \\sin{\\left(a_{0} + 3 \\right)} + 144 \\sin{\\left(a_{0} \\right)} + \\sin^{2}{\\left(a_{0} + 3 \\right)} - 24 \\sin{\\left(a_{0} + 3 \\right)} - 432 \\cos^{2}{\\left(a_{0} \\right)} + 144} + 36 \\sin^{2}{\\left(a_{0} \\right)} - 12 \\sin{\\left(a_{0} \\right)} \\sin{\\left(a_{0} + 3 \\right)} + 144 \\sin{\\left(a_{0} \\right)} + \\sin^{2}{\\left(a_{0} + 3 \\right)} - 24 \\sin{\\left(a_{0} + 3 \\right)} - 432 \\cos^{2}{\\left(a_{0} \\right)} + 144}\\end{matrix}\\right]$"
      ],
      "text/plain": [
       "Matrix([\n",
       "[-216*exp(-sqrt((6*sin(a_0) + sin(a_0 + 3) - 12)**2 - 24*sin(a_0)*sin(a_0 + 3) + 288*sin(a_0) - 432*cos(a_0)**2)/12 + sin(a_0)/2 + sin(a_0 + 3)/12 - 1)*cos(a_0)**2/((sqrt(36*sin(a_0)**2 - 12*sin(a_0)*sin(a_0 + 3) + 144*sin(a_0) + sin(a_0 + 3)**2 - 24*sin(a_0 + 3) - 432*cos(a_0)**2 + 144) + 6*sin(a_0) - sin(a_0 + 3) + 12)*sqrt(36*sin(a_0)**2 - 12*sin(a_0)*sin(a_0 + 3) + 144*sin(a_0) + sin(a_0 + 3)**2 - 24*sin(a_0 + 3) - 432*cos(a_0)**2 + 144)) + 216*exp(sqrt((6*sin(a_0) + sin(a_0 + 3) - 12)**2 - 24*sin(a_0)*sin(a_0 + 3) + 288*sin(a_0) - 432*cos(a_0)**2)/12 + sin(a_0)/2 + sin(a_0 + 3)/12 - 1)*cos(a_0)**2/((-sqrt(36*sin(a_0)**2 - 12*sin(a_0)*sin(a_0 + 3) + 144*sin(a_0) + sin(a_0 + 3)**2 - 24*sin(a_0 + 3) - 432*cos(a_0)**2 + 144) + 6*sin(a_0) - sin(a_0 + 3) + 12)*sqrt(36*sin(a_0)**2 - 12*sin(a_0)*sin(a_0 + 3) + 144*sin(a_0) + sin(a_0 + 3)**2 - 24*sin(a_0 + 3) - 432*cos(a_0)**2 + 144)), -36*(-6*sqrt(36*sin(a_0)**2 - 12*sin(a_0)*sin(a_0 + 3) + 144*sin(a_0) + sin(a_0 + 3)**2 - 24*sin(a_0 + 3) - 432*cos(a_0)**2 + 144)*sin(a_0) + sqrt(36*sin(a_0)**2 - 12*sin(a_0)*sin(a_0 + 3) + 144*sin(a_0) + sin(a_0 + 3)**2 - 24*sin(a_0 + 3) - 432*cos(a_0)**2 + 144)*sin(a_0 + 3) - 12*sqrt(36*sin(a_0)**2 - 12*sin(a_0)*sin(a_0 + 3) + 144*sin(a_0) + sin(a_0 + 3)**2 - 24*sin(a_0 + 3) - 432*cos(a_0)**2 + 144) - 36*sin(a_0)**2 + 12*sin(a_0)*sin(a_0 + 3) - 144*sin(a_0) - sin(a_0 + 3)**2 + 24*sin(a_0 + 3) + 216*cos(a_0)**2 - 144)*exp(-sqrt((6*sin(a_0) + sin(a_0 + 3) - 12)**2 - 24*sin(a_0)*sin(a_0 + 3) + 288*sin(a_0) - 432*cos(a_0)**2)/12 + sin(a_0)/2 + sin(a_0 + 3)/12 - 1)*cos(a_0)/((sqrt(36*sin(a_0)**2 - 12*sin(a_0)*sin(a_0 + 3) + 144*sin(a_0) + sin(a_0 + 3)**2 - 24*sin(a_0 + 3) - 432*cos(a_0)**2 + 144) + 6*sin(a_0) - sin(a_0 + 3) + 12)*(-6*sqrt(36*sin(a_0)**2 - 12*sin(a_0)*sin(a_0 + 3) + 144*sin(a_0) + sin(a_0 + 3)**2 - 24*sin(a_0 + 3) - 432*cos(a_0)**2 + 144)*sin(a_0) + sqrt(36*sin(a_0)**2 - 12*sin(a_0)*sin(a_0 + 3) + 144*sin(a_0) + sin(a_0 + 3)**2 - 24*sin(a_0 + 3) - 432*cos(a_0)**2 + 144)*sin(a_0 + 3) - 12*sqrt(36*sin(a_0)**2 - 12*sin(a_0)*sin(a_0 + 3) + 144*sin(a_0) + sin(a_0 + 3)**2 - 24*sin(a_0 + 3) - 432*cos(a_0)**2 + 144) - 36*sin(a_0)**2 + 12*sin(a_0)*sin(a_0 + 3) - 144*sin(a_0) - sin(a_0 + 3)**2 + 24*sin(a_0 + 3) + 432*cos(a_0)**2 - 144)) + 7776*exp(sqrt((6*sin(a_0) + sin(a_0 + 3) - 12)**2 - 24*sin(a_0)*sin(a_0 + 3) + 288*sin(a_0) - 432*cos(a_0)**2)/12 + sin(a_0)/2 + sin(a_0 + 3)/12 - 1)*cos(a_0)**3/((-sqrt(36*sin(a_0)**2 - 12*sin(a_0)*sin(a_0 + 3) + 144*sin(a_0) + sin(a_0 + 3)**2 - 24*sin(a_0 + 3) - 432*cos(a_0)**2 + 144) + 6*sin(a_0) - sin(a_0 + 3) + 12)*(6*sqrt(36*sin(a_0)**2 - 12*sin(a_0)*sin(a_0 + 3) + 144*sin(a_0) + sin(a_0 + 3)**2 - 24*sin(a_0 + 3) - 432*cos(a_0)**2 + 144)*sin(a_0) - sqrt(36*sin(a_0)**2 - 12*sin(a_0)*sin(a_0 + 3) + 144*sin(a_0) + sin(a_0 + 3)**2 - 24*sin(a_0 + 3) - 432*cos(a_0)**2 + 144)*sin(a_0 + 3) + 12*sqrt(36*sin(a_0)**2 - 12*sin(a_0)*sin(a_0 + 3) + 144*sin(a_0) + sin(a_0 + 3)**2 - 24*sin(a_0 + 3) - 432*cos(a_0)**2 + 144) + 36*sin(a_0)**2 - 12*sin(a_0)*sin(a_0 + 3) + 144*sin(a_0) + sin(a_0 + 3)**2 - 24*sin(a_0 + 3) - 432*cos(a_0)**2 + 144))],\n",
       "[                                                                                                                                                                                                                                                                                                                                            6*exp(-sqrt((6*sin(a_0) + sin(a_0 + 3) - 12)**2 - 24*sin(a_0)*sin(a_0 + 3) + 288*sin(a_0) - 432*cos(a_0)**2)/12 + sin(a_0)/2 + sin(a_0 + 3)/12 - 1)*cos(a_0)/sqrt(36*sin(a_0)**2 - 12*sin(a_0)*sin(a_0 + 3) + 144*sin(a_0) + sin(a_0 + 3)**2 - 24*sin(a_0 + 3) - 432*cos(a_0)**2 + 144) - 6*exp(sqrt((6*sin(a_0) + sin(a_0 + 3) - 12)**2 - 24*sin(a_0)*sin(a_0 + 3) + 288*sin(a_0) - 432*cos(a_0)**2)/12 + sin(a_0)/2 + sin(a_0 + 3)/12 - 1)*cos(a_0)/sqrt(36*sin(a_0)**2 - 12*sin(a_0)*sin(a_0 + 3) + 144*sin(a_0) + sin(a_0 + 3)**2 - 24*sin(a_0 + 3) - 432*cos(a_0)**2 + 144),                                                                                                                                                                                                                                                                                                                                                (-6*sqrt(36*sin(a_0)**2 - 12*sin(a_0)*sin(a_0 + 3) + 144*sin(a_0) + sin(a_0 + 3)**2 - 24*sin(a_0 + 3) - 432*cos(a_0)**2 + 144)*sin(a_0) + sqrt(36*sin(a_0)**2 - 12*sin(a_0)*sin(a_0 + 3) + 144*sin(a_0) + sin(a_0 + 3)**2 - 24*sin(a_0 + 3) - 432*cos(a_0)**2 + 144)*sin(a_0 + 3) - 12*sqrt(36*sin(a_0)**2 - 12*sin(a_0)*sin(a_0 + 3) + 144*sin(a_0) + sin(a_0 + 3)**2 - 24*sin(a_0 + 3) - 432*cos(a_0)**2 + 144) - 36*sin(a_0)**2 + 12*sin(a_0)*sin(a_0 + 3) - 144*sin(a_0) - sin(a_0 + 3)**2 + 24*sin(a_0 + 3) + 216*cos(a_0)**2 - 144)*exp(-sqrt((6*sin(a_0) + sin(a_0 + 3) - 12)**2 - 24*sin(a_0)*sin(a_0 + 3) + 288*sin(a_0) - 432*cos(a_0)**2)/12 + sin(a_0)/2 + sin(a_0 + 3)/12 - 1)/(-6*sqrt(36*sin(a_0)**2 - 12*sin(a_0)*sin(a_0 + 3) + 144*sin(a_0) + sin(a_0 + 3)**2 - 24*sin(a_0 + 3) - 432*cos(a_0)**2 + 144)*sin(a_0) + sqrt(36*sin(a_0)**2 - 12*sin(a_0)*sin(a_0 + 3) + 144*sin(a_0) + sin(a_0 + 3)**2 - 24*sin(a_0 + 3) - 432*cos(a_0)**2 + 144)*sin(a_0 + 3) - 12*sqrt(36*sin(a_0)**2 - 12*sin(a_0)*sin(a_0 + 3) + 144*sin(a_0) + sin(a_0 + 3)**2 - 24*sin(a_0 + 3) - 432*cos(a_0)**2 + 144) - 36*sin(a_0)**2 + 12*sin(a_0)*sin(a_0 + 3) - 144*sin(a_0) - sin(a_0 + 3)**2 + 24*sin(a_0 + 3) + 432*cos(a_0)**2 - 144) - 216*exp(sqrt((6*sin(a_0) + sin(a_0 + 3) - 12)**2 - 24*sin(a_0)*sin(a_0 + 3) + 288*sin(a_0) - 432*cos(a_0)**2)/12 + sin(a_0)/2 + sin(a_0 + 3)/12 - 1)*cos(a_0)**2/(6*sqrt(36*sin(a_0)**2 - 12*sin(a_0)*sin(a_0 + 3) + 144*sin(a_0) + sin(a_0 + 3)**2 - 24*sin(a_0 + 3) - 432*cos(a_0)**2 + 144)*sin(a_0) - sqrt(36*sin(a_0)**2 - 12*sin(a_0)*sin(a_0 + 3) + 144*sin(a_0) + sin(a_0 + 3)**2 - 24*sin(a_0 + 3) - 432*cos(a_0)**2 + 144)*sin(a_0 + 3) + 12*sqrt(36*sin(a_0)**2 - 12*sin(a_0)*sin(a_0 + 3) + 144*sin(a_0) + sin(a_0 + 3)**2 - 24*sin(a_0 + 3) - 432*cos(a_0)**2 + 144) + 36*sin(a_0)**2 - 12*sin(a_0)*sin(a_0 + 3) + 144*sin(a_0) + sin(a_0 + 3)**2 - 24*sin(a_0 + 3) - 432*cos(a_0)**2 + 144)]])"
      ]
     },
     "execution_count": 271,
     "metadata": {},
     "output_type": "execute_result"
    }
   ],
   "source": [
    "sp.exp(A)"
   ]
  },
  {
   "cell_type": "code",
   "execution_count": 272,
   "id": "f6f1282e",
   "metadata": {},
   "outputs": [
    {
     "data": {
      "text/latex": [
       "$\\displaystyle \\left[\\begin{matrix}0.317820422952179 + 2.0 \\cdot 10^{-21} i & -0.765335067860373 - 7.0 \\cdot 10^{-24} i\\\\0.255111689286791 + 2.0 \\cdot 10^{-22} i & -0.198403182896122 - 7.0 \\cdot 10^{-24} i\\end{matrix}\\right]$"
      ],
      "text/plain": [
       "Matrix([\n",
       "[0.317820422952179 + 0.e-21*I, -0.765335067860373 - 0.e-23*I],\n",
       "[0.255111689286791 + 0.e-22*I, -0.198403182896122 - 0.e-23*I]])"
      ]
     },
     "execution_count": 272,
     "metadata": {},
     "output_type": "execute_result"
    }
   ],
   "source": [
    "_.subs(a[0],sp.pi).n()"
   ]
  },
  {
   "cell_type": "code",
   "execution_count": 274,
   "id": "47878357",
   "metadata": {},
   "outputs": [
    {
     "data": {
      "text/latex": [
       "$\\displaystyle \\left[\\begin{matrix}0.317820422952179 & 0.765335067860373\\\\0.255111689286791 & 0.198403182896122\\end{matrix}\\right]$"
      ],
      "text/plain": [
       "Matrix([\n",
       "[0.317820422952179, 0.765335067860373],\n",
       "[0.255111689286791, 0.198403182896122]])"
      ]
     },
     "execution_count": 274,
     "metadata": {},
     "output_type": "execute_result"
    }
   ],
   "source": [
    "sp.Abs(_)"
   ]
  },
  {
   "cell_type": "code",
   "execution_count": 277,
   "id": "33bb8689",
   "metadata": {},
   "outputs": [
    {
     "data": {
      "text/plain": [
       "162.0"
      ]
     },
     "execution_count": 277,
     "metadata": {},
     "output_type": "execute_result"
    }
   ],
   "source": [
    "54*0.5*6"
   ]
  },
  {
   "cell_type": "markdown",
   "id": "084d52ed",
   "metadata": {},
   "source": [
    "# Norm"
   ]
  },
  {
   "cell_type": "code",
   "execution_count": 278,
   "id": "d34c1bfe",
   "metadata": {},
   "outputs": [
    {
     "data": {
      "text/latex": [
       "$\\displaystyle \\left[\\begin{matrix}a_{0} & a_{1} & a_{2}\\\\a_{3} & a_{4} & a_{5}\\\\a_{6} & a_{7} & a_{8}\\end{matrix}\\right]$"
      ],
      "text/plain": [
       "Matrix([\n",
       "[a_0, a_1, a_2],\n",
       "[a_3, a_4, a_5],\n",
       "[a_6, a_7, a_8]])"
      ]
     },
     "execution_count": 278,
     "metadata": {},
     "output_type": "execute_result"
    }
   ],
   "source": [
    "A = sp.Matrix([[a[0],a[1],a[2]],[a[3],a[4],a[5]],[a[6],a[7],a[8]]])\n",
    "A"
   ]
  },
  {
   "cell_type": "code",
   "execution_count": 279,
   "id": "e115c7be",
   "metadata": {},
   "outputs": [
    {
     "data": {
      "text/latex": [
       "$\\displaystyle \\sqrt{\\left|{a_{0}}\\right|^{2} + \\left|{a_{1}}\\right|^{2} + \\left|{a_{2}}\\right|^{2} + \\left|{a_{3}}\\right|^{2} + \\left|{a_{4}}\\right|^{2} + \\left|{a_{5}}\\right|^{2} + \\left|{a_{6}}\\right|^{2} + \\left|{a_{7}}\\right|^{2} + \\left|{a_{8}}\\right|^{2}}$"
      ],
      "text/plain": [
       "sqrt(Abs(a_0)**2 + Abs(a_1)**2 + Abs(a_2)**2 + Abs(a_3)**2 + Abs(a_4)**2 + Abs(a_5)**2 + Abs(a_6)**2 + Abs(a_7)**2 + Abs(a_8)**2)"
      ]
     },
     "execution_count": 279,
     "metadata": {},
     "output_type": "execute_result"
    }
   ],
   "source": [
    "A.norm()"
   ]
  },
  {
   "cell_type": "code",
   "execution_count": 282,
   "id": "fa10c9dd",
   "metadata": {},
   "outputs": [
    {
     "data": {
      "text/latex": [
       "$\\displaystyle \\left[\\begin{matrix}\\frac{a_{0}}{\\sqrt{\\left|{a_{0}}\\right|^{2} + \\left|{a_{1}}\\right|^{2} + \\left|{a_{2}}\\right|^{2} + \\left|{a_{3}}\\right|^{2} + \\left|{a_{4}}\\right|^{2} + \\left|{a_{5}}\\right|^{2} + \\left|{a_{6}}\\right|^{2} + \\left|{a_{7}}\\right|^{2} + \\left|{a_{8}}\\right|^{2}}} & \\frac{a_{1}}{\\sqrt{\\left|{a_{0}}\\right|^{2} + \\left|{a_{1}}\\right|^{2} + \\left|{a_{2}}\\right|^{2} + \\left|{a_{3}}\\right|^{2} + \\left|{a_{4}}\\right|^{2} + \\left|{a_{5}}\\right|^{2} + \\left|{a_{6}}\\right|^{2} + \\left|{a_{7}}\\right|^{2} + \\left|{a_{8}}\\right|^{2}}} & \\frac{a_{2}}{\\sqrt{\\left|{a_{0}}\\right|^{2} + \\left|{a_{1}}\\right|^{2} + \\left|{a_{2}}\\right|^{2} + \\left|{a_{3}}\\right|^{2} + \\left|{a_{4}}\\right|^{2} + \\left|{a_{5}}\\right|^{2} + \\left|{a_{6}}\\right|^{2} + \\left|{a_{7}}\\right|^{2} + \\left|{a_{8}}\\right|^{2}}} & \\frac{a_{3}}{\\sqrt{\\left|{a_{0}}\\right|^{2} + \\left|{a_{1}}\\right|^{2} + \\left|{a_{2}}\\right|^{2} + \\left|{a_{3}}\\right|^{2} + \\left|{a_{4}}\\right|^{2} + \\left|{a_{5}}\\right|^{2} + \\left|{a_{6}}\\right|^{2} + \\left|{a_{7}}\\right|^{2} + \\left|{a_{8}}\\right|^{2}}} & \\frac{a_{4}}{\\sqrt{\\left|{a_{0}}\\right|^{2} + \\left|{a_{1}}\\right|^{2} + \\left|{a_{2}}\\right|^{2} + \\left|{a_{3}}\\right|^{2} + \\left|{a_{4}}\\right|^{2} + \\left|{a_{5}}\\right|^{2} + \\left|{a_{6}}\\right|^{2} + \\left|{a_{7}}\\right|^{2} + \\left|{a_{8}}\\right|^{2}}} & \\frac{a_{5}}{\\sqrt{\\left|{a_{0}}\\right|^{2} + \\left|{a_{1}}\\right|^{2} + \\left|{a_{2}}\\right|^{2} + \\left|{a_{3}}\\right|^{2} + \\left|{a_{4}}\\right|^{2} + \\left|{a_{5}}\\right|^{2} + \\left|{a_{6}}\\right|^{2} + \\left|{a_{7}}\\right|^{2} + \\left|{a_{8}}\\right|^{2}}} & \\frac{a_{6}}{\\sqrt{\\left|{a_{0}}\\right|^{2} + \\left|{a_{1}}\\right|^{2} + \\left|{a_{2}}\\right|^{2} + \\left|{a_{3}}\\right|^{2} + \\left|{a_{4}}\\right|^{2} + \\left|{a_{5}}\\right|^{2} + \\left|{a_{6}}\\right|^{2} + \\left|{a_{7}}\\right|^{2} + \\left|{a_{8}}\\right|^{2}}} & \\frac{a_{7}}{\\sqrt{\\left|{a_{0}}\\right|^{2} + \\left|{a_{1}}\\right|^{2} + \\left|{a_{2}}\\right|^{2} + \\left|{a_{3}}\\right|^{2} + \\left|{a_{4}}\\right|^{2} + \\left|{a_{5}}\\right|^{2} + \\left|{a_{6}}\\right|^{2} + \\left|{a_{7}}\\right|^{2} + \\left|{a_{8}}\\right|^{2}}} & \\frac{a_{8}}{\\sqrt{\\left|{a_{0}}\\right|^{2} + \\left|{a_{1}}\\right|^{2} + \\left|{a_{2}}\\right|^{2} + \\left|{a_{3}}\\right|^{2} + \\left|{a_{4}}\\right|^{2} + \\left|{a_{5}}\\right|^{2} + \\left|{a_{6}}\\right|^{2} + \\left|{a_{7}}\\right|^{2} + \\left|{a_{8}}\\right|^{2}}}\\end{matrix}\\right]$"
      ],
      "text/plain": [
       "Matrix([[a_0/sqrt(Abs(a_0)**2 + Abs(a_1)**2 + Abs(a_2)**2 + Abs(a_3)**2 + Abs(a_4)**2 + Abs(a_5)**2 + Abs(a_6)**2 + Abs(a_7)**2 + Abs(a_8)**2), a_1/sqrt(Abs(a_0)**2 + Abs(a_1)**2 + Abs(a_2)**2 + Abs(a_3)**2 + Abs(a_4)**2 + Abs(a_5)**2 + Abs(a_6)**2 + Abs(a_7)**2 + Abs(a_8)**2), a_2/sqrt(Abs(a_0)**2 + Abs(a_1)**2 + Abs(a_2)**2 + Abs(a_3)**2 + Abs(a_4)**2 + Abs(a_5)**2 + Abs(a_6)**2 + Abs(a_7)**2 + Abs(a_8)**2), a_3/sqrt(Abs(a_0)**2 + Abs(a_1)**2 + Abs(a_2)**2 + Abs(a_3)**2 + Abs(a_4)**2 + Abs(a_5)**2 + Abs(a_6)**2 + Abs(a_7)**2 + Abs(a_8)**2), a_4/sqrt(Abs(a_0)**2 + Abs(a_1)**2 + Abs(a_2)**2 + Abs(a_3)**2 + Abs(a_4)**2 + Abs(a_5)**2 + Abs(a_6)**2 + Abs(a_7)**2 + Abs(a_8)**2), a_5/sqrt(Abs(a_0)**2 + Abs(a_1)**2 + Abs(a_2)**2 + Abs(a_3)**2 + Abs(a_4)**2 + Abs(a_5)**2 + Abs(a_6)**2 + Abs(a_7)**2 + Abs(a_8)**2), a_6/sqrt(Abs(a_0)**2 + Abs(a_1)**2 + Abs(a_2)**2 + Abs(a_3)**2 + Abs(a_4)**2 + Abs(a_5)**2 + Abs(a_6)**2 + Abs(a_7)**2 + Abs(a_8)**2), a_7/sqrt(Abs(a_0)**2 + Abs(a_1)**2 + Abs(a_2)**2 + Abs(a_3)**2 + Abs(a_4)**2 + Abs(a_5)**2 + Abs(a_6)**2 + Abs(a_7)**2 + Abs(a_8)**2), a_8/sqrt(Abs(a_0)**2 + Abs(a_1)**2 + Abs(a_2)**2 + Abs(a_3)**2 + Abs(a_4)**2 + Abs(a_5)**2 + Abs(a_6)**2 + Abs(a_7)**2 + Abs(a_8)**2)]])"
      ]
     },
     "execution_count": 282,
     "metadata": {},
     "output_type": "execute_result"
    }
   ],
   "source": [
    "A.reshape(1,9).normalized()"
   ]
  },
  {
   "cell_type": "code",
   "execution_count": 284,
   "id": "ecff2b03",
   "metadata": {},
   "outputs": [
    {
     "data": {
      "text/latex": [
       "$\\displaystyle \\left[\\begin{matrix}a_{0}\\\\a_{3}\\\\a_{6}\\end{matrix}\\right]$"
      ],
      "text/plain": [
       "Matrix([\n",
       "[a_0],\n",
       "[a_3],\n",
       "[a_6]])"
      ]
     },
     "execution_count": 284,
     "metadata": {},
     "output_type": "execute_result"
    }
   ],
   "source": [
    "B = A[:,0]\n",
    "B"
   ]
  },
  {
   "cell_type": "code",
   "execution_count": 285,
   "id": "0a530889",
   "metadata": {},
   "outputs": [
    {
     "data": {
      "text/latex": [
       "$\\displaystyle \\sqrt{\\left|{a_{0}}\\right|^{2} + \\left|{a_{3}}\\right|^{2} + \\left|{a_{6}}\\right|^{2}}$"
      ],
      "text/plain": [
       "sqrt(Abs(a_0)**2 + Abs(a_3)**2 + Abs(a_6)**2)"
      ]
     },
     "execution_count": 285,
     "metadata": {},
     "output_type": "execute_result"
    }
   ],
   "source": [
    "B.norm()"
   ]
  },
  {
   "cell_type": "code",
   "execution_count": 286,
   "id": "d65ff242",
   "metadata": {},
   "outputs": [
    {
     "data": {
      "text/latex": [
       "$\\displaystyle \\left[\\begin{matrix}\\frac{a_{0}}{\\sqrt{\\left|{a_{0}}\\right|^{2} + \\left|{a_{3}}\\right|^{2} + \\left|{a_{6}}\\right|^{2}}}\\\\\\frac{a_{3}}{\\sqrt{\\left|{a_{0}}\\right|^{2} + \\left|{a_{3}}\\right|^{2} + \\left|{a_{6}}\\right|^{2}}}\\\\\\frac{a_{6}}{\\sqrt{\\left|{a_{0}}\\right|^{2} + \\left|{a_{3}}\\right|^{2} + \\left|{a_{6}}\\right|^{2}}}\\end{matrix}\\right]$"
      ],
      "text/plain": [
       "Matrix([\n",
       "[a_0/sqrt(Abs(a_0)**2 + Abs(a_3)**2 + Abs(a_6)**2)],\n",
       "[a_3/sqrt(Abs(a_0)**2 + Abs(a_3)**2 + Abs(a_6)**2)],\n",
       "[a_6/sqrt(Abs(a_0)**2 + Abs(a_3)**2 + Abs(a_6)**2)]])"
      ]
     },
     "execution_count": 286,
     "metadata": {},
     "output_type": "execute_result"
    }
   ],
   "source": [
    "B.normalized()"
   ]
  },
  {
   "cell_type": "code",
   "execution_count": 287,
   "id": "97217581",
   "metadata": {},
   "outputs": [
    {
     "data": {
      "text/latex": [
       "$\\displaystyle \\left[\\begin{matrix}a_{1}\\\\a_{4}\\\\a_{7}\\end{matrix}\\right]$"
      ],
      "text/plain": [
       "Matrix([\n",
       "[a_1],\n",
       "[a_4],\n",
       "[a_7]])"
      ]
     },
     "execution_count": 287,
     "metadata": {},
     "output_type": "execute_result"
    }
   ],
   "source": [
    "C = A[:,1]\n",
    "C"
   ]
  },
  {
   "cell_type": "code",
   "execution_count": 288,
   "id": "a78be372",
   "metadata": {},
   "outputs": [
    {
     "data": {
      "text/latex": [
       "$\\displaystyle \\sqrt{\\left|{a_{1}}\\right|^{2} + \\left|{a_{4}}\\right|^{2} + \\left|{a_{7}}\\right|^{2}}$"
      ],
      "text/plain": [
       "sqrt(Abs(a_1)**2 + Abs(a_4)**2 + Abs(a_7)**2)"
      ]
     },
     "execution_count": 288,
     "metadata": {},
     "output_type": "execute_result"
    }
   ],
   "source": [
    "C.norm()"
   ]
  },
  {
   "cell_type": "code",
   "execution_count": 289,
   "id": "766b4109",
   "metadata": {},
   "outputs": [
    {
     "data": {
      "text/latex": [
       "$\\displaystyle \\left[\\begin{matrix}\\frac{a_{1}}{\\sqrt{\\left|{a_{1}}\\right|^{2} + \\left|{a_{4}}\\right|^{2} + \\left|{a_{7}}\\right|^{2}}}\\\\\\frac{a_{4}}{\\sqrt{\\left|{a_{1}}\\right|^{2} + \\left|{a_{4}}\\right|^{2} + \\left|{a_{7}}\\right|^{2}}}\\\\\\frac{a_{7}}{\\sqrt{\\left|{a_{1}}\\right|^{2} + \\left|{a_{4}}\\right|^{2} + \\left|{a_{7}}\\right|^{2}}}\\end{matrix}\\right]$"
      ],
      "text/plain": [
       "Matrix([\n",
       "[a_1/sqrt(Abs(a_1)**2 + Abs(a_4)**2 + Abs(a_7)**2)],\n",
       "[a_4/sqrt(Abs(a_1)**2 + Abs(a_4)**2 + Abs(a_7)**2)],\n",
       "[a_7/sqrt(Abs(a_1)**2 + Abs(a_4)**2 + Abs(a_7)**2)]])"
      ]
     },
     "execution_count": 289,
     "metadata": {},
     "output_type": "execute_result"
    }
   ],
   "source": [
    "C.normalized()"
   ]
  },
  {
   "cell_type": "code",
   "execution_count": 290,
   "id": "9017e252",
   "metadata": {},
   "outputs": [
    {
     "data": {
      "text/latex": [
       "$\\displaystyle \\left[\\begin{matrix}\\frac{a_{1} \\left(a_{0} a_{1} + a_{3} a_{4} + a_{6} a_{7}\\right)}{a_{1}^{2} + a_{4}^{2} + a_{7}^{2}}\\\\\\frac{a_{4} \\left(a_{0} a_{1} + a_{3} a_{4} + a_{6} a_{7}\\right)}{a_{1}^{2} + a_{4}^{2} + a_{7}^{2}}\\\\\\frac{a_{7} \\left(a_{0} a_{1} + a_{3} a_{4} + a_{6} a_{7}\\right)}{a_{1}^{2} + a_{4}^{2} + a_{7}^{2}}\\end{matrix}\\right]$"
      ],
      "text/plain": [
       "Matrix([\n",
       "[a_1*(a_0*a_1 + a_3*a_4 + a_6*a_7)/(a_1**2 + a_4**2 + a_7**2)],\n",
       "[a_4*(a_0*a_1 + a_3*a_4 + a_6*a_7)/(a_1**2 + a_4**2 + a_7**2)],\n",
       "[a_7*(a_0*a_1 + a_3*a_4 + a_6*a_7)/(a_1**2 + a_4**2 + a_7**2)]])"
      ]
     },
     "execution_count": 290,
     "metadata": {},
     "output_type": "execute_result"
    }
   ],
   "source": [
    "B.project(C)"
   ]
  },
  {
   "cell_type": "code",
   "execution_count": 291,
   "id": "49739b15",
   "metadata": {},
   "outputs": [
    {
     "data": {
      "text/latex": [
       "$\\displaystyle \\left[\\begin{matrix}\\frac{a_{0} \\left(a_{0} a_{1} + a_{3} a_{4} + a_{6} a_{7}\\right)}{a_{0}^{2} + a_{3}^{2} + a_{6}^{2}}\\\\\\frac{a_{3} \\left(a_{0} a_{1} + a_{3} a_{4} + a_{6} a_{7}\\right)}{a_{0}^{2} + a_{3}^{2} + a_{6}^{2}}\\\\\\frac{a_{6} \\left(a_{0} a_{1} + a_{3} a_{4} + a_{6} a_{7}\\right)}{a_{0}^{2} + a_{3}^{2} + a_{6}^{2}}\\end{matrix}\\right]$"
      ],
      "text/plain": [
       "Matrix([\n",
       "[a_0*(a_0*a_1 + a_3*a_4 + a_6*a_7)/(a_0**2 + a_3**2 + a_6**2)],\n",
       "[a_3*(a_0*a_1 + a_3*a_4 + a_6*a_7)/(a_0**2 + a_3**2 + a_6**2)],\n",
       "[a_6*(a_0*a_1 + a_3*a_4 + a_6*a_7)/(a_0**2 + a_3**2 + a_6**2)]])"
      ]
     },
     "execution_count": 291,
     "metadata": {},
     "output_type": "execute_result"
    }
   ],
   "source": [
    "C.project(B)"
   ]
  },
  {
   "cell_type": "code",
   "execution_count": 297,
   "id": "53b2ef00",
   "metadata": {},
   "outputs": [
    {
     "data": {
      "text/latex": [
       "$\\displaystyle \\left[\\begin{matrix}\\sin{\\left(a_{0} + \\frac{\\pi}{3} \\right)} & a_{0} & \\cos{\\left(a_{0} \\right)}\\\\- \\sin{\\left(a_{0} \\right)} & 2 \\cos{\\left(a_{0} \\right)} & \\tan{\\left(a_{0} \\right)}\\\\\\sin{\\left(a_{0} \\right)} & \\sin{\\left(a_{0} \\right)} + \\pi & \\cos{\\left(a_{0} + \\frac{2 \\pi}{9} \\right)}\\end{matrix}\\right]$"
      ],
      "text/plain": [
       "Matrix([\n",
       "[sin(a_0 + pi/3),           a_0,          cos(a_0)],\n",
       "[      -sin(a_0),    2*cos(a_0),          tan(a_0)],\n",
       "[       sin(a_0), sin(a_0) + pi, cos(a_0 + 2*pi/9)]])"
      ]
     },
     "execution_count": 297,
     "metadata": {},
     "output_type": "execute_result"
    }
   ],
   "source": [
    "A = sp.Matrix([[sp.sin(a[0] + sp.pi/3),a[0],sp.cos(a[0])],\n",
    "               [-sp.sin(a[0]),2*sp.cos(a[0]),sp.tan(a[0])],\n",
    "               [sp.sin(a[0]),sp.sin(a[0])+sp.pi,sp.cos(a[0]+2*sp.pi/9)]])\n",
    "A"
   ]
  },
  {
   "cell_type": "code",
   "execution_count": 301,
   "id": "8420768a",
   "metadata": {},
   "outputs": [
    {
     "data": {
      "text/latex": [
       "$\\displaystyle \\left[\\begin{matrix}\\sin{\\left(a_{0} + \\frac{\\pi}{3} \\right)}\\\\2 \\cos{\\left(a_{0} \\right)}\\\\\\cos{\\left(a_{0} + \\frac{2 \\pi}{9} \\right)}\\end{matrix}\\right]$"
      ],
      "text/plain": [
       "Matrix([\n",
       "[  sin(a_0 + pi/3)],\n",
       "[       2*cos(a_0)],\n",
       "[cos(a_0 + 2*pi/9)]])"
      ]
     },
     "execution_count": 301,
     "metadata": {},
     "output_type": "execute_result"
    }
   ],
   "source": [
    "B = A.diagonal().reshape(3,1)\n",
    "B"
   ]
  },
  {
   "cell_type": "code",
   "execution_count": 302,
   "id": "87ad6df7",
   "metadata": {},
   "outputs": [
    {
     "data": {
      "text/latex": [
       "$\\displaystyle \\left[\\begin{matrix}a_{0}\\\\2 \\cos{\\left(a_{0} \\right)}\\\\\\sin{\\left(a_{0} \\right)} + \\pi\\end{matrix}\\right]$"
      ],
      "text/plain": [
       "Matrix([\n",
       "[          a_0],\n",
       "[   2*cos(a_0)],\n",
       "[sin(a_0) + pi]])"
      ]
     },
     "execution_count": 302,
     "metadata": {},
     "output_type": "execute_result"
    }
   ],
   "source": [
    "C = A[:,1]\n",
    "C"
   ]
  },
  {
   "cell_type": "code",
   "execution_count": 305,
   "id": "b1a5bf49",
   "metadata": {},
   "outputs": [
    {
     "data": {
      "text/latex": [
       "$\\displaystyle \\sqrt{\\left|{\\sin{\\left(a_{0} + \\frac{\\pi}{3} \\right)}}\\right|^{2} + 4 \\left|{\\cos{\\left(a_{0} \\right)}}\\right|^{2} + \\left|{\\cos{\\left(a_{0} + \\frac{2 \\pi}{9} \\right)}}\\right|^{2}}$"
      ],
      "text/plain": [
       "sqrt(Abs(sin(a_0 + pi/3))**2 + 4*Abs(cos(a_0))**2 + Abs(cos(a_0 + 2*pi/9))**2)"
      ]
     },
     "execution_count": 305,
     "metadata": {},
     "output_type": "execute_result"
    }
   ],
   "source": [
    "B.norm()"
   ]
  },
  {
   "cell_type": "code",
   "execution_count": 306,
   "id": "f2f97149",
   "metadata": {},
   "outputs": [
    {
     "data": {
      "text/latex": [
       "$\\displaystyle \\sqrt{\\cos^{2}{\\left(\\frac{2 \\pi}{9} \\right)} + \\frac{19}{4}}$"
      ],
      "text/plain": [
       "sqrt(cos(2*pi/9)**2 + 19/4)"
      ]
     },
     "execution_count": 306,
     "metadata": {},
     "output_type": "execute_result"
    }
   ],
   "source": [
    "_.subs(a[0],sp.pi)"
   ]
  },
  {
   "cell_type": "code",
   "execution_count": 308,
   "id": "c3852722",
   "metadata": {},
   "outputs": [
    {
     "data": {
      "text/latex": [
       "$\\displaystyle \\left[\\begin{matrix}\\frac{\\sin{\\left(a_{0} + \\frac{\\pi}{3} \\right)}}{\\sqrt{\\left|{\\sin{\\left(a_{0} + \\frac{\\pi}{3} \\right)}}\\right|^{2} + 4 \\left|{\\cos{\\left(a_{0} \\right)}}\\right|^{2} + \\left|{\\cos{\\left(a_{0} + \\frac{2 \\pi}{9} \\right)}}\\right|^{2}}}\\\\\\frac{2 \\cos{\\left(a_{0} \\right)}}{\\sqrt{\\left|{\\sin{\\left(a_{0} + \\frac{\\pi}{3} \\right)}}\\right|^{2} + 4 \\left|{\\cos{\\left(a_{0} \\right)}}\\right|^{2} + \\left|{\\cos{\\left(a_{0} + \\frac{2 \\pi}{9} \\right)}}\\right|^{2}}}\\\\\\frac{\\cos{\\left(a_{0} + \\frac{2 \\pi}{9} \\right)}}{\\sqrt{\\left|{\\sin{\\left(a_{0} + \\frac{\\pi}{3} \\right)}}\\right|^{2} + 4 \\left|{\\cos{\\left(a_{0} \\right)}}\\right|^{2} + \\left|{\\cos{\\left(a_{0} + \\frac{2 \\pi}{9} \\right)}}\\right|^{2}}}\\end{matrix}\\right]$"
      ],
      "text/plain": [
       "Matrix([\n",
       "[  sin(a_0 + pi/3)/sqrt(Abs(sin(a_0 + pi/3))**2 + 4*Abs(cos(a_0))**2 + Abs(cos(a_0 + 2*pi/9))**2)],\n",
       "[       2*cos(a_0)/sqrt(Abs(sin(a_0 + pi/3))**2 + 4*Abs(cos(a_0))**2 + Abs(cos(a_0 + 2*pi/9))**2)],\n",
       "[cos(a_0 + 2*pi/9)/sqrt(Abs(sin(a_0 + pi/3))**2 + 4*Abs(cos(a_0))**2 + Abs(cos(a_0 + 2*pi/9))**2)]])"
      ]
     },
     "execution_count": 308,
     "metadata": {},
     "output_type": "execute_result"
    }
   ],
   "source": [
    "B.normalized()"
   ]
  },
  {
   "cell_type": "code",
   "execution_count": 309,
   "id": "9cda0030",
   "metadata": {},
   "outputs": [
    {
     "data": {
      "text/latex": [
       "$\\displaystyle \\left[\\begin{matrix}- \\frac{\\sqrt{3}}{2 \\sqrt{\\cos^{2}{\\left(\\frac{2 \\pi}{9} \\right)} + \\frac{19}{4}}}\\\\- \\frac{2}{\\sqrt{\\cos^{2}{\\left(\\frac{2 \\pi}{9} \\right)} + \\frac{19}{4}}}\\\\- \\frac{\\cos{\\left(\\frac{2 \\pi}{9} \\right)}}{\\sqrt{\\cos^{2}{\\left(\\frac{2 \\pi}{9} \\right)} + \\frac{19}{4}}}\\end{matrix}\\right]$"
      ],
      "text/plain": [
       "Matrix([\n",
       "[-sqrt(3)/(2*sqrt(cos(2*pi/9)**2 + 19/4))],\n",
       "[          -2/sqrt(cos(2*pi/9)**2 + 19/4)],\n",
       "[-cos(2*pi/9)/sqrt(cos(2*pi/9)**2 + 19/4)]])"
      ]
     },
     "execution_count": 309,
     "metadata": {},
     "output_type": "execute_result"
    }
   ],
   "source": [
    "_.subs(a[0],sp.pi)"
   ]
  },
  {
   "cell_type": "code",
   "execution_count": 310,
   "id": "1b345771",
   "metadata": {},
   "outputs": [
    {
     "data": {
      "text/latex": [
       "$\\displaystyle \\sqrt{\\left|{a_{0}}\\right|^{2} + \\left|{\\sin{\\left(a_{0} \\right)} + \\pi}\\right|^{2} + 4 \\left|{\\cos{\\left(a_{0} \\right)}}\\right|^{2}}$"
      ],
      "text/plain": [
       "sqrt(Abs(a_0)**2 + Abs(sin(a_0) + pi)**2 + 4*Abs(cos(a_0))**2)"
      ]
     },
     "execution_count": 310,
     "metadata": {},
     "output_type": "execute_result"
    }
   ],
   "source": [
    "C.norm()"
   ]
  },
  {
   "cell_type": "code",
   "execution_count": 311,
   "id": "ffaa5250",
   "metadata": {},
   "outputs": [
    {
     "data": {
      "text/latex": [
       "$\\displaystyle \\sqrt{4 + 2 \\pi^{2}}$"
      ],
      "text/plain": [
       "sqrt(4 + 2*pi**2)"
      ]
     },
     "execution_count": 311,
     "metadata": {},
     "output_type": "execute_result"
    }
   ],
   "source": [
    "_.subs(a[0],sp.pi)"
   ]
  },
  {
   "cell_type": "code",
   "execution_count": 312,
   "id": "563b2b76",
   "metadata": {},
   "outputs": [
    {
     "data": {
      "text/latex": [
       "$\\displaystyle \\left[\\begin{matrix}\\frac{a_{0}}{\\sqrt{\\left|{a_{0}}\\right|^{2} + \\left|{\\sin{\\left(a_{0} \\right)} + \\pi}\\right|^{2} + 4 \\left|{\\cos{\\left(a_{0} \\right)}}\\right|^{2}}}\\\\\\frac{2 \\cos{\\left(a_{0} \\right)}}{\\sqrt{\\left|{a_{0}}\\right|^{2} + \\left|{\\sin{\\left(a_{0} \\right)} + \\pi}\\right|^{2} + 4 \\left|{\\cos{\\left(a_{0} \\right)}}\\right|^{2}}}\\\\\\frac{\\sin{\\left(a_{0} \\right)} + \\pi}{\\sqrt{\\left|{a_{0}}\\right|^{2} + \\left|{\\sin{\\left(a_{0} \\right)} + \\pi}\\right|^{2} + 4 \\left|{\\cos{\\left(a_{0} \\right)}}\\right|^{2}}}\\end{matrix}\\right]$"
      ],
      "text/plain": [
       "Matrix([\n",
       "[            a_0/sqrt(Abs(a_0)**2 + Abs(sin(a_0) + pi)**2 + 4*Abs(cos(a_0))**2)],\n",
       "[     2*cos(a_0)/sqrt(Abs(a_0)**2 + Abs(sin(a_0) + pi)**2 + 4*Abs(cos(a_0))**2)],\n",
       "[(sin(a_0) + pi)/sqrt(Abs(a_0)**2 + Abs(sin(a_0) + pi)**2 + 4*Abs(cos(a_0))**2)]])"
      ]
     },
     "execution_count": 312,
     "metadata": {},
     "output_type": "execute_result"
    }
   ],
   "source": [
    "C.normalized()"
   ]
  },
  {
   "cell_type": "code",
   "execution_count": 313,
   "id": "5851f498",
   "metadata": {},
   "outputs": [
    {
     "data": {
      "text/latex": [
       "$\\displaystyle \\left[\\begin{matrix}\\frac{\\pi}{\\sqrt{4 + 2 \\pi^{2}}}\\\\- \\frac{2}{\\sqrt{4 + 2 \\pi^{2}}}\\\\\\frac{\\pi}{\\sqrt{4 + 2 \\pi^{2}}}\\end{matrix}\\right]$"
      ],
      "text/plain": [
       "Matrix([\n",
       "[pi/sqrt(4 + 2*pi**2)],\n",
       "[-2/sqrt(4 + 2*pi**2)],\n",
       "[pi/sqrt(4 + 2*pi**2)]])"
      ]
     },
     "execution_count": 313,
     "metadata": {},
     "output_type": "execute_result"
    }
   ],
   "source": [
    "_.subs(a[0],sp.pi)"
   ]
  },
  {
   "cell_type": "code",
   "execution_count": 314,
   "id": "41449403",
   "metadata": {},
   "outputs": [
    {
     "data": {
      "text/latex": [
       "$\\displaystyle \\left[\\begin{matrix}\\frac{a_{0} \\left(a_{0} \\sin{\\left(a_{0} + \\frac{\\pi}{3} \\right)} + \\left(\\sin{\\left(a_{0} \\right)} + \\pi\\right) \\cos{\\left(a_{0} + \\frac{2 \\pi}{9} \\right)} + 4 \\cos^{2}{\\left(a_{0} \\right)}\\right)}{a_{0}^{2} + \\left(\\sin{\\left(a_{0} \\right)} + \\pi\\right)^{2} + 4 \\cos^{2}{\\left(a_{0} \\right)}}\\\\\\frac{2 \\left(a_{0} \\sin{\\left(a_{0} + \\frac{\\pi}{3} \\right)} + \\left(\\sin{\\left(a_{0} \\right)} + \\pi\\right) \\cos{\\left(a_{0} + \\frac{2 \\pi}{9} \\right)} + 4 \\cos^{2}{\\left(a_{0} \\right)}\\right) \\cos{\\left(a_{0} \\right)}}{a_{0}^{2} + \\left(\\sin{\\left(a_{0} \\right)} + \\pi\\right)^{2} + 4 \\cos^{2}{\\left(a_{0} \\right)}}\\\\\\frac{\\left(\\sin{\\left(a_{0} \\right)} + \\pi\\right) \\left(a_{0} \\sin{\\left(a_{0} + \\frac{\\pi}{3} \\right)} + \\left(\\sin{\\left(a_{0} \\right)} + \\pi\\right) \\cos{\\left(a_{0} + \\frac{2 \\pi}{9} \\right)} + 4 \\cos^{2}{\\left(a_{0} \\right)}\\right)}{a_{0}^{2} + \\left(\\sin{\\left(a_{0} \\right)} + \\pi\\right)^{2} + 4 \\cos^{2}{\\left(a_{0} \\right)}}\\end{matrix}\\right]$"
      ],
      "text/plain": [
       "Matrix([\n",
       "[            a_0*(a_0*sin(a_0 + pi/3) + (sin(a_0) + pi)*cos(a_0 + 2*pi/9) + 4*cos(a_0)**2)/(a_0**2 + (sin(a_0) + pi)**2 + 4*cos(a_0)**2)],\n",
       "[     2*(a_0*sin(a_0 + pi/3) + (sin(a_0) + pi)*cos(a_0 + 2*pi/9) + 4*cos(a_0)**2)*cos(a_0)/(a_0**2 + (sin(a_0) + pi)**2 + 4*cos(a_0)**2)],\n",
       "[(sin(a_0) + pi)*(a_0*sin(a_0 + pi/3) + (sin(a_0) + pi)*cos(a_0 + 2*pi/9) + 4*cos(a_0)**2)/(a_0**2 + (sin(a_0) + pi)**2 + 4*cos(a_0)**2)]])"
      ]
     },
     "execution_count": 314,
     "metadata": {},
     "output_type": "execute_result"
    }
   ],
   "source": [
    "B.project(C)"
   ]
  },
  {
   "cell_type": "code",
   "execution_count": 315,
   "id": "db78f1d9",
   "metadata": {},
   "outputs": [
    {
     "data": {
      "text/latex": [
       "$\\displaystyle \\left[\\begin{matrix}\\frac{\\pi \\left(- \\frac{\\sqrt{3} \\pi}{2} - \\pi \\cos{\\left(\\frac{2 \\pi}{9} \\right)} + 4\\right)}{4 + 2 \\pi^{2}}\\\\- \\frac{2 \\left(- \\frac{\\sqrt{3} \\pi}{2} - \\pi \\cos{\\left(\\frac{2 \\pi}{9} \\right)} + 4\\right)}{4 + 2 \\pi^{2}}\\\\\\frac{\\pi \\left(- \\frac{\\sqrt{3} \\pi}{2} - \\pi \\cos{\\left(\\frac{2 \\pi}{9} \\right)} + 4\\right)}{4 + 2 \\pi^{2}}\\end{matrix}\\right]$"
      ],
      "text/plain": [
       "Matrix([\n",
       "[pi*(-sqrt(3)*pi/2 - pi*cos(2*pi/9) + 4)/(4 + 2*pi**2)],\n",
       "[-2*(-sqrt(3)*pi/2 - pi*cos(2*pi/9) + 4)/(4 + 2*pi**2)],\n",
       "[pi*(-sqrt(3)*pi/2 - pi*cos(2*pi/9) + 4)/(4 + 2*pi**2)]])"
      ]
     },
     "execution_count": 315,
     "metadata": {},
     "output_type": "execute_result"
    }
   ],
   "source": [
    "_.subs(a[0],sp.pi)"
   ]
  },
  {
   "cell_type": "code",
   "execution_count": 316,
   "id": "82abc868",
   "metadata": {},
   "outputs": [
    {
     "data": {
      "text/latex": [
       "$\\displaystyle \\left[\\begin{matrix}-0.149184126524006\\\\0.0949735646685691\\\\-0.149184126524006\\end{matrix}\\right]$"
      ],
      "text/plain": [
       "Matrix([\n",
       "[-0.149184126524006],\n",
       "[0.0949735646685691],\n",
       "[-0.149184126524006]])"
      ]
     },
     "execution_count": 316,
     "metadata": {},
     "output_type": "execute_result"
    }
   ],
   "source": [
    "_.n()"
   ]
  },
  {
   "cell_type": "code",
   "execution_count": 317,
   "id": "2f177934",
   "metadata": {},
   "outputs": [
    {
     "data": {
      "text/latex": [
       "$\\displaystyle \\left[\\begin{matrix}\\frac{\\left(a_{0} \\sin{\\left(a_{0} + \\frac{\\pi}{3} \\right)} + \\left(\\sin{\\left(a_{0} \\right)} + \\pi\\right) \\cos{\\left(a_{0} + \\frac{2 \\pi}{9} \\right)} + 4 \\cos^{2}{\\left(a_{0} \\right)}\\right) \\sin{\\left(a_{0} + \\frac{\\pi}{3} \\right)}}{\\sin^{2}{\\left(a_{0} + \\frac{\\pi}{3} \\right)} + 4 \\cos^{2}{\\left(a_{0} \\right)} + \\cos^{2}{\\left(a_{0} + \\frac{2 \\pi}{9} \\right)}}\\\\\\frac{2 \\left(a_{0} \\sin{\\left(a_{0} + \\frac{\\pi}{3} \\right)} + \\left(\\sin{\\left(a_{0} \\right)} + \\pi\\right) \\cos{\\left(a_{0} + \\frac{2 \\pi}{9} \\right)} + 4 \\cos^{2}{\\left(a_{0} \\right)}\\right) \\cos{\\left(a_{0} \\right)}}{\\sin^{2}{\\left(a_{0} + \\frac{\\pi}{3} \\right)} + 4 \\cos^{2}{\\left(a_{0} \\right)} + \\cos^{2}{\\left(a_{0} + \\frac{2 \\pi}{9} \\right)}}\\\\\\frac{\\left(a_{0} \\sin{\\left(a_{0} + \\frac{\\pi}{3} \\right)} + \\left(\\sin{\\left(a_{0} \\right)} + \\pi\\right) \\cos{\\left(a_{0} + \\frac{2 \\pi}{9} \\right)} + 4 \\cos^{2}{\\left(a_{0} \\right)}\\right) \\cos{\\left(a_{0} + \\frac{2 \\pi}{9} \\right)}}{\\sin^{2}{\\left(a_{0} + \\frac{\\pi}{3} \\right)} + 4 \\cos^{2}{\\left(a_{0} \\right)} + \\cos^{2}{\\left(a_{0} + \\frac{2 \\pi}{9} \\right)}}\\end{matrix}\\right]$"
      ],
      "text/plain": [
       "Matrix([\n",
       "[  (a_0*sin(a_0 + pi/3) + (sin(a_0) + pi)*cos(a_0 + 2*pi/9) + 4*cos(a_0)**2)*sin(a_0 + pi/3)/(sin(a_0 + pi/3)**2 + 4*cos(a_0)**2 + cos(a_0 + 2*pi/9)**2)],\n",
       "[       2*(a_0*sin(a_0 + pi/3) + (sin(a_0) + pi)*cos(a_0 + 2*pi/9) + 4*cos(a_0)**2)*cos(a_0)/(sin(a_0 + pi/3)**2 + 4*cos(a_0)**2 + cos(a_0 + 2*pi/9)**2)],\n",
       "[(a_0*sin(a_0 + pi/3) + (sin(a_0) + pi)*cos(a_0 + 2*pi/9) + 4*cos(a_0)**2)*cos(a_0 + 2*pi/9)/(sin(a_0 + pi/3)**2 + 4*cos(a_0)**2 + cos(a_0 + 2*pi/9)**2)]])"
      ]
     },
     "execution_count": 317,
     "metadata": {},
     "output_type": "execute_result"
    }
   ],
   "source": [
    "C.project(B)"
   ]
  },
  {
   "cell_type": "code",
   "execution_count": 318,
   "id": "cd1e9811",
   "metadata": {},
   "outputs": [
    {
     "data": {
      "text/latex": [
       "$\\displaystyle \\left[\\begin{matrix}- \\frac{\\sqrt{3} \\left(- \\frac{\\sqrt{3} \\pi}{2} - \\pi \\cos{\\left(\\frac{2 \\pi}{9} \\right)} + 4\\right)}{2 \\left(\\cos^{2}{\\left(\\frac{2 \\pi}{9} \\right)} + \\frac{19}{4}\\right)}\\\\- \\frac{2 \\left(- \\frac{\\sqrt{3} \\pi}{2} - \\pi \\cos{\\left(\\frac{2 \\pi}{9} \\right)} + 4\\right)}{\\cos^{2}{\\left(\\frac{2 \\pi}{9} \\right)} + \\frac{19}{4}}\\\\- \\frac{\\left(- \\frac{\\sqrt{3} \\pi}{2} - \\pi \\cos{\\left(\\frac{2 \\pi}{9} \\right)} + 4\\right) \\cos{\\left(\\frac{2 \\pi}{9} \\right)}}{\\cos^{2}{\\left(\\frac{2 \\pi}{9} \\right)} + \\frac{19}{4}}\\end{matrix}\\right]$"
      ],
      "text/plain": [
       "Matrix([\n",
       "[-sqrt(3)*(-sqrt(3)*pi/2 - pi*cos(2*pi/9) + 4)/(2*(cos(2*pi/9)**2 + 19/4))],\n",
       "[          -2*(-sqrt(3)*pi/2 - pi*cos(2*pi/9) + 4)/(cos(2*pi/9)**2 + 19/4)],\n",
       "[-(-sqrt(3)*pi/2 - pi*cos(2*pi/9) + 4)*cos(2*pi/9)/(cos(2*pi/9)**2 + 19/4)]])"
      ]
     },
     "execution_count": 318,
     "metadata": {},
     "output_type": "execute_result"
    }
   ],
   "source": [
    "_.subs(a[0],sp.pi)"
   ]
  },
  {
   "cell_type": "code",
   "execution_count": 319,
   "id": "8a864c8d",
   "metadata": {},
   "outputs": [
    {
     "data": {
      "text/latex": [
       "$\\displaystyle \\left[\\begin{matrix}0.182930755194617\\\\0.422460483018694\\\\0.161811752726915\\end{matrix}\\right]$"
      ],
      "text/plain": [
       "Matrix([\n",
       "[0.182930755194617],\n",
       "[0.422460483018694],\n",
       "[0.161811752726915]])"
      ]
     },
     "execution_count": 319,
     "metadata": {},
     "output_type": "execute_result"
    }
   ],
   "source": [
    "_.n()"
   ]
  },
  {
   "cell_type": "code",
   "execution_count": 322,
   "id": "a0614cdc",
   "metadata": {},
   "outputs": [
    {
     "data": {
      "text/latex": [
       "$\\displaystyle \\sqrt{\\left|{a_{0}}\\right|^{2} + \\left|{\\sin{\\left(a_{0} \\right)} + \\pi}\\right|^{2} + 2 \\left|{\\sin{\\left(a_{0} \\right)}}\\right|^{2} + \\left|{\\sin{\\left(a_{0} + \\frac{\\pi}{3} \\right)}}\\right|^{2} + 5 \\left|{\\cos{\\left(a_{0} \\right)}}\\right|^{2} + \\left|{\\cos{\\left(a_{0} + \\frac{2 \\pi}{9} \\right)}}\\right|^{2} + \\left|{\\tan{\\left(a_{0} \\right)}}\\right|^{2}}$"
      ],
      "text/plain": [
       "sqrt(Abs(a_0)**2 + Abs(sin(a_0) + pi)**2 + 2*Abs(sin(a_0))**2 + Abs(sin(a_0 + pi/3))**2 + 5*Abs(cos(a_0))**2 + Abs(cos(a_0 + 2*pi/9))**2 + Abs(tan(a_0))**2)"
      ]
     },
     "execution_count": 322,
     "metadata": {},
     "output_type": "execute_result"
    }
   ],
   "source": [
    "A.norm()"
   ]
  },
  {
   "cell_type": "code",
   "execution_count": 323,
   "id": "d378577d",
   "metadata": {},
   "outputs": [
    {
     "data": {
      "text/latex": [
       "$\\displaystyle \\sqrt{\\cos^{2}{\\left(\\frac{2 \\pi}{9} \\right)} + \\frac{23}{4} + 2 \\pi^{2}}$"
      ],
      "text/plain": [
       "sqrt(cos(2*pi/9)**2 + 23/4 + 2*pi**2)"
      ]
     },
     "execution_count": 323,
     "metadata": {},
     "output_type": "execute_result"
    }
   ],
   "source": [
    "_.subs(a[0],sp.pi)"
   ]
  },
  {
   "cell_type": "code",
   "execution_count": 324,
   "id": "a7d8b24f",
   "metadata": {},
   "outputs": [
    {
     "data": {
      "text/latex": [
       "$\\displaystyle 5.10646970920343$"
      ],
      "text/plain": [
       "5.10646970920343"
      ]
     },
     "execution_count": 324,
     "metadata": {},
     "output_type": "execute_result"
    }
   ],
   "source": [
    "_.n()"
   ]
  },
  {
   "cell_type": "code",
   "execution_count": 327,
   "id": "52c4cd31",
   "metadata": {},
   "outputs": [
    {
     "data": {
      "text/latex": [
       "$\\displaystyle a_{0} \\sin{\\left(a_{0} + \\frac{\\pi}{3} \\right)} + \\left(\\sin{\\left(a_{0} \\right)} + \\pi\\right) \\cos{\\left(a_{0} + \\frac{2 \\pi}{9} \\right)} + 4 \\cos^{2}{\\left(a_{0} \\right)}$"
      ],
      "text/plain": [
       "a_0*sin(a_0 + pi/3) + (sin(a_0) + pi)*cos(a_0 + 2*pi/9) + 4*cos(a_0)**2"
      ]
     },
     "execution_count": 327,
     "metadata": {},
     "output_type": "execute_result"
    }
   ],
   "source": [
    "B.dot(C)"
   ]
  },
  {
   "cell_type": "code",
   "execution_count": 328,
   "id": "5904651b",
   "metadata": {},
   "outputs": [
    {
     "data": {
      "text/latex": [
       "$\\displaystyle - \\frac{\\sqrt{3} \\pi}{2} - \\pi \\cos{\\left(\\frac{2 \\pi}{9} \\right)} + 4$"
      ],
      "text/plain": [
       "-sqrt(3)*pi/2 - pi*cos(2*pi/9) + 4"
      ]
     },
     "execution_count": 328,
     "metadata": {},
     "output_type": "execute_result"
    }
   ],
   "source": [
    "_.subs(a[0],sp.pi)"
   ]
  },
  {
   "cell_type": "code",
   "execution_count": 329,
   "id": "45b7250f",
   "metadata": {},
   "outputs": [
    {
     "data": {
      "text/latex": [
       "$\\displaystyle -1.12729864117719$"
      ],
      "text/plain": [
       "-1.12729864117719"
      ]
     },
     "execution_count": 329,
     "metadata": {},
     "output_type": "execute_result"
    }
   ],
   "source": [
    "_.n()"
   ]
  },
  {
   "cell_type": "code",
   "execution_count": 331,
   "id": "1bdb09de",
   "metadata": {},
   "outputs": [
    {
     "data": {
      "text/latex": [
       "$\\displaystyle \\left[\\begin{matrix}2 \\left(\\sin{\\left(a_{0} \\right)} + \\pi\\right) \\cos{\\left(a_{0} \\right)} - 2 \\cos{\\left(a_{0} \\right)} \\cos{\\left(a_{0} + \\frac{2 \\pi}{9} \\right)}\\\\a_{0} \\cos{\\left(a_{0} + \\frac{2 \\pi}{9} \\right)} - \\left(\\sin{\\left(a_{0} \\right)} + \\pi\\right) \\sin{\\left(a_{0} + \\frac{\\pi}{3} \\right)}\\\\- 2 a_{0} \\cos{\\left(a_{0} \\right)} + 2 \\sin{\\left(a_{0} + \\frac{\\pi}{3} \\right)} \\cos{\\left(a_{0} \\right)}\\end{matrix}\\right]$"
      ],
      "text/plain": [
       "Matrix([\n",
       "[2*(sin(a_0) + pi)*cos(a_0) - 2*cos(a_0)*cos(a_0 + 2*pi/9)],\n",
       "[  a_0*cos(a_0 + 2*pi/9) - (sin(a_0) + pi)*sin(a_0 + pi/3)],\n",
       "[             -2*a_0*cos(a_0) + 2*sin(a_0 + pi/3)*cos(a_0)]])"
      ]
     },
     "execution_count": 331,
     "metadata": {},
     "output_type": "execute_result"
    }
   ],
   "source": [
    "B.cross(C)"
   ]
  },
  {
   "cell_type": "code",
   "execution_count": 332,
   "id": "f4d2261e",
   "metadata": {},
   "outputs": [
    {
     "data": {
      "text/latex": [
       "$\\displaystyle \\left[\\begin{matrix}- 2 \\pi - 2 \\cos{\\left(\\frac{2 \\pi}{9} \\right)}\\\\- \\pi \\cos{\\left(\\frac{2 \\pi}{9} \\right)} + \\frac{\\sqrt{3} \\pi}{2}\\\\\\sqrt{3} + 2 \\pi\\end{matrix}\\right]$"
      ],
      "text/plain": [
       "Matrix([\n",
       "[         -2*pi - 2*cos(2*pi/9)],\n",
       "[-pi*cos(2*pi/9) + sqrt(3)*pi/2],\n",
       "[                sqrt(3) + 2*pi]])"
      ]
     },
     "execution_count": 332,
     "metadata": {},
     "output_type": "execute_result"
    }
   ],
   "source": [
    "_.subs(a[0],sp.pi)"
   ]
  },
  {
   "cell_type": "code",
   "execution_count": 333,
   "id": "1a808fe7",
   "metadata": {},
   "outputs": [
    {
     "data": {
      "text/latex": [
       "$\\displaystyle \\left[\\begin{matrix}-7.81527419341754\\\\0.314099451525461\\\\8.01523611474846\\end{matrix}\\right]$"
      ],
      "text/plain": [
       "Matrix([\n",
       "[-7.81527419341754],\n",
       "[0.314099451525461],\n",
       "[ 8.01523611474846]])"
      ]
     },
     "execution_count": 333,
     "metadata": {},
     "output_type": "execute_result"
    }
   ],
   "source": [
    "_.n()"
   ]
  },
  {
   "cell_type": "code",
   "execution_count": 335,
   "id": "2d73de60",
   "metadata": {},
   "outputs": [
    {
     "data": {
      "text/latex": [
       "$\\displaystyle \\sin^{2}{\\left(a_{0} + \\frac{\\pi}{3} \\right)} + 4 \\cos^{2}{\\left(a_{0} \\right)} + \\cos^{2}{\\left(a_{0} + \\frac{2 \\pi}{9} \\right)}$"
      ],
      "text/plain": [
       "sin(a_0 + pi/3)**2 + 4*cos(a_0)**2 + cos(a_0 + 2*pi/9)**2"
      ]
     },
     "execution_count": 335,
     "metadata": {},
     "output_type": "execute_result"
    }
   ],
   "source": [
    "B.dot(B)"
   ]
  },
  {
   "cell_type": "code",
   "execution_count": 336,
   "id": "14ca2101",
   "metadata": {},
   "outputs": [
    {
     "data": {
      "text/latex": [
       "$\\displaystyle a_{0}^{2} + \\left(\\sin{\\left(a_{0} \\right)} + \\pi\\right)^{2} + 4 \\cos^{2}{\\left(a_{0} \\right)}$"
      ],
      "text/plain": [
       "a_0**2 + (sin(a_0) + pi)**2 + 4*cos(a_0)**2"
      ]
     },
     "execution_count": 336,
     "metadata": {},
     "output_type": "execute_result"
    }
   ],
   "source": [
    "C.dot(C)"
   ]
  },
  {
   "attachments": {
    "image.png": {
     "image/png": "[encoded data removed]"
    }
   },
   "cell_type": "markdown",
   "id": "d4621fa4",
   "metadata": {},
   "source": [
    "![image.png](attachment:image.png)"
   ]
  },
  {
   "cell_type": "markdown",
   "id": "72901313",
   "metadata": {},
   "source": [
    "#  Cauchy—Schwarz Inequality"
   ]
  },
  {
   "attachments": {
    "image.png": {
     "image/png": "[encoded data removed]"
    }
   },
   "cell_type": "markdown",
   "id": "e8893319",
   "metadata": {},
   "source": [
    "![image.png](attachment:image.png)"
   ]
  },
  {
   "cell_type": "code",
   "execution_count": 342,
   "id": "a317c648",
   "metadata": {},
   "outputs": [
    {
     "data": {
      "text/latex": [
       "$\\displaystyle \\left|{a_{0} \\sin{\\left(a_{0} + \\frac{\\pi}{3} \\right)} + \\left(\\sin{\\left(a_{0} \\right)} + \\pi\\right) \\cos{\\left(a_{0} + \\frac{2 \\pi}{9} \\right)} + 4 \\cos^{2}{\\left(a_{0} \\right)}}\\right|$"
      ],
      "text/plain": [
       "Abs(a_0*sin(a_0 + pi/3) + (sin(a_0) + pi)*cos(a_0 + 2*pi/9) + 4*cos(a_0)**2)"
      ]
     },
     "execution_count": 342,
     "metadata": {},
     "output_type": "execute_result"
    }
   ],
   "source": [
    "sp.Abs(B.dot(C))"
   ]
  },
  {
   "cell_type": "code",
   "execution_count": 343,
   "id": "57f07ac8",
   "metadata": {},
   "outputs": [
    {
     "data": {
      "text/latex": [
       "$\\displaystyle -4 + \\pi \\cos{\\left(\\frac{2 \\pi}{9} \\right)} + \\frac{\\sqrt{3} \\pi}{2}$"
      ],
      "text/plain": [
       "-4 + pi*cos(2*pi/9) + sqrt(3)*pi/2"
      ]
     },
     "execution_count": 343,
     "metadata": {},
     "output_type": "execute_result"
    }
   ],
   "source": [
    "_.subs(a[0],sp.pi)"
   ]
  },
  {
   "cell_type": "code",
   "execution_count": 344,
   "id": "fffb8089",
   "metadata": {},
   "outputs": [
    {
     "data": {
      "text/latex": [
       "$\\displaystyle 1.12729864117719$"
      ],
      "text/plain": [
       "1.12729864117719"
      ]
     },
     "execution_count": 344,
     "metadata": {},
     "output_type": "execute_result"
    }
   ],
   "source": [
    "_.n()"
   ]
  },
  {
   "cell_type": "code",
   "execution_count": 346,
   "id": "a6729ea5",
   "metadata": {},
   "outputs": [
    {
     "data": {
      "text/latex": [
       "$\\displaystyle \\sqrt{\\left|{a_{0}}\\right|^{2} + \\left|{\\sin{\\left(a_{0} \\right)} + \\pi}\\right|^{2} + 4 \\left|{\\cos{\\left(a_{0} \\right)}}\\right|^{2}} \\sqrt{\\left|{\\sin{\\left(a_{0} + \\frac{\\pi}{3} \\right)}}\\right|^{2} + 4 \\left|{\\cos{\\left(a_{0} \\right)}}\\right|^{2} + \\left|{\\cos{\\left(a_{0} + \\frac{2 \\pi}{9} \\right)}}\\right|^{2}}$"
      ],
      "text/plain": [
       "sqrt(Abs(a_0)**2 + Abs(sin(a_0) + pi)**2 + 4*Abs(cos(a_0))**2)*sqrt(Abs(sin(a_0 + pi/3))**2 + 4*Abs(cos(a_0))**2 + Abs(cos(a_0 + 2*pi/9))**2)"
      ]
     },
     "execution_count": 346,
     "metadata": {},
     "output_type": "execute_result"
    }
   ],
   "source": [
    "sp.Abs(B.norm())*sp.Abs(C.norm())"
   ]
  },
  {
   "cell_type": "code",
   "execution_count": 347,
   "id": "ad0a4717",
   "metadata": {},
   "outputs": [
    {
     "data": {
      "text/latex": [
       "$\\displaystyle \\sqrt{4 + 2 \\pi^{2}} \\sqrt{\\cos^{2}{\\left(\\frac{2 \\pi}{9} \\right)} + \\frac{19}{4}}$"
      ],
      "text/plain": [
       "sqrt(4 + 2*pi**2)*sqrt(cos(2*pi/9)**2 + 19/4)"
      ]
     },
     "execution_count": 347,
     "metadata": {},
     "output_type": "execute_result"
    }
   ],
   "source": [
    "_.subs(a[0],sp.pi)"
   ]
  },
  {
   "cell_type": "code",
   "execution_count": 348,
   "id": "2338efdf",
   "metadata": {},
   "outputs": [
    {
     "data": {
      "text/latex": [
       "$\\displaystyle 11.2557532571265$"
      ],
      "text/plain": [
       "11.2557532571265"
      ]
     },
     "execution_count": 348,
     "metadata": {},
     "output_type": "execute_result"
    }
   ],
   "source": [
    "_.n()"
   ]
  },
  {
   "attachments": {
    "image.png": {
     "image/png": "[encoded data removed]"
    }
   },
   "cell_type": "markdown",
   "id": "2d36e0a3",
   "metadata": {},
   "source": [
    "![image.png](attachment:image.png)"
   ]
  },
  {
   "attachments": {
    "image.png": {
     "image/png": "[encoded data removed]"
    }
   },
   "cell_type": "markdown",
   "id": "1d1ce2fe",
   "metadata": {},
   "source": [
    "![image.png](attachment:image.png)"
   ]
  },
  {
   "cell_type": "code",
   "execution_count": 352,
   "id": "26a87c95",
   "metadata": {},
   "outputs": [
    {
     "data": {
      "text/latex": [
       "$\\displaystyle \\left[\\begin{matrix}a_{0} + \\sin{\\left(a_{0} + \\frac{\\pi}{3} \\right)}\\\\4 \\cos{\\left(a_{0} \\right)}\\\\\\sin{\\left(a_{0} \\right)} + \\cos{\\left(a_{0} + \\frac{2 \\pi}{9} \\right)} + \\pi\\end{matrix}\\right]$"
      ],
      "text/plain": [
       "Matrix([\n",
       "[            a_0 + sin(a_0 + pi/3)],\n",
       "[                       4*cos(a_0)],\n",
       "[sin(a_0) + cos(a_0 + 2*pi/9) + pi]])"
      ]
     },
     "execution_count": 352,
     "metadata": {},
     "output_type": "execute_result"
    }
   ],
   "source": [
    "(B+C)"
   ]
  },
  {
   "cell_type": "code",
   "execution_count": 359,
   "id": "a3c666dd",
   "metadata": {},
   "outputs": [
    {
     "data": {
      "text/latex": [
       "$\\displaystyle \\left|{a_{0} - \\sin{\\left(a_{0} + \\frac{\\pi}{3} \\right)}}\\right|^{2} + \\left|{a_{0} + \\sin{\\left(a_{0} + \\frac{\\pi}{3} \\right)}}\\right|^{2} + \\left|{\\sin{\\left(a_{0} \\right)} - \\cos{\\left(a_{0} + \\frac{2 \\pi}{9} \\right)} + \\pi}\\right|^{2} + \\left|{\\sin{\\left(a_{0} \\right)} + \\cos{\\left(a_{0} + \\frac{2 \\pi}{9} \\right)} + \\pi}\\right|^{2} + 16 \\left|{\\cos{\\left(a_{0} \\right)}}\\right|^{2}$"
      ],
      "text/plain": [
       "Abs(a_0 - sin(a_0 + pi/3))**2 + Abs(a_0 + sin(a_0 + pi/3))**2 + Abs(sin(a_0) - cos(a_0 + 2*pi/9) + pi)**2 + Abs(sin(a_0) + cos(a_0 + 2*pi/9) + pi)**2 + 16*Abs(cos(a_0))**2"
      ]
     },
     "execution_count": 359,
     "metadata": {},
     "output_type": "execute_result"
    }
   ],
   "source": [
    "((B+C).norm())**2 + ((B-C).norm())**2"
   ]
  },
  {
   "cell_type": "code",
   "execution_count": 360,
   "id": "f27aa1b7",
   "metadata": {},
   "outputs": [
    {
     "data": {
      "text/latex": [
       "$\\displaystyle \\left(\\pi - \\frac{\\sqrt{3}}{2}\\right)^{2} + \\left(\\pi - \\cos{\\left(\\frac{2 \\pi}{9} \\right)}\\right)^{2} + \\left(\\cos{\\left(\\frac{2 \\pi}{9} \\right)} + \\pi\\right)^{2} + 16 + \\left(\\frac{\\sqrt{3}}{2} + \\pi\\right)^{2}$"
      ],
      "text/plain": [
       "(pi - sqrt(3)/2)**2 + (pi - cos(2*pi/9))**2 + (cos(2*pi/9) + pi)**2 + 16 + (sqrt(3)/2 + pi)**2"
      ]
     },
     "execution_count": 360,
     "metadata": {},
     "output_type": "execute_result"
    }
   ],
   "source": [
    "_.subs(a[0],sp.pi)"
   ]
  },
  {
   "cell_type": "code",
   "execution_count": 361,
   "id": "60daf6a9",
   "metadata": {},
   "outputs": [
    {
     "data": {
      "text/latex": [
       "$\\displaystyle 58.1520657820244$"
      ],
      "text/plain": [
       "58.1520657820244"
      ]
     },
     "execution_count": 361,
     "metadata": {},
     "output_type": "execute_result"
    }
   ],
   "source": [
    "_.n()"
   ]
  },
  {
   "cell_type": "code",
   "execution_count": 363,
   "id": "15c1a475",
   "metadata": {},
   "outputs": [
    {
     "data": {
      "text/latex": [
       "$\\displaystyle 2 \\left|{a_{0}}\\right|^{2} + 2 \\left|{\\sin{\\left(a_{0} \\right)} + \\pi}\\right|^{2} + 2 \\left|{\\sin{\\left(a_{0} + \\frac{\\pi}{3} \\right)}}\\right|^{2} + 16 \\left|{\\cos{\\left(a_{0} \\right)}}\\right|^{2} + 2 \\left|{\\cos{\\left(a_{0} + \\frac{2 \\pi}{9} \\right)}}\\right|^{2}$"
      ],
      "text/plain": [
       "2*Abs(a_0)**2 + 2*Abs(sin(a_0) + pi)**2 + 2*Abs(sin(a_0 + pi/3))**2 + 16*Abs(cos(a_0))**2 + 2*Abs(cos(a_0 + 2*pi/9))**2"
      ]
     },
     "execution_count": 363,
     "metadata": {},
     "output_type": "execute_result"
    }
   ],
   "source": [
    "2*((B.norm())**2+((C.norm())**2))"
   ]
  },
  {
   "cell_type": "code",
   "execution_count": 364,
   "id": "973b1a62",
   "metadata": {},
   "outputs": [
    {
     "data": {
      "text/latex": [
       "$\\displaystyle 2 \\cos^{2}{\\left(\\frac{2 \\pi}{9} \\right)} + \\frac{35}{2} + 4 \\pi^{2}$"
      ],
      "text/plain": [
       "2*cos(2*pi/9)**2 + 35/2 + 4*pi**2"
      ]
     },
     "execution_count": 364,
     "metadata": {},
     "output_type": "execute_result"
    }
   ],
   "source": [
    "_.subs(a[0],sp.pi)"
   ]
  },
  {
   "cell_type": "code",
   "execution_count": 365,
   "id": "5fc22be4",
   "metadata": {},
   "outputs": [
    {
     "data": {
      "text/latex": [
       "$\\displaystyle 58.1520657820244$"
      ],
      "text/plain": [
       "58.1520657820244"
      ]
     },
     "execution_count": 365,
     "metadata": {},
     "output_type": "execute_result"
    }
   ],
   "source": [
    "_.n()"
   ]
  },
  {
   "cell_type": "markdown",
   "id": "06530e6c",
   "metadata": {},
   "source": [
    "# Orthogonal Projection on a Line"
   ]
  },
  {
   "cell_type": "code",
   "execution_count": 367,
   "id": "a7656a0f",
   "metadata": {},
   "outputs": [],
   "source": [
    "e1 = sp.Matrix([[1],[0]])\n",
    "e2 = sp.Matrix([[0],[1]])"
   ]
  },
  {
   "cell_type": "code",
   "execution_count": 368,
   "id": "bf28b38c",
   "metadata": {},
   "outputs": [
    {
     "data": {
      "text/latex": [
       "$\\displaystyle \\left[\\begin{matrix}\\sin{\\left(a_{0} \\right)}\\\\\\cos{\\left(a_{0} \\right)}\\end{matrix}\\right]$"
      ],
      "text/plain": [
       "Matrix([\n",
       "[sin(a_0)],\n",
       "[cos(a_0)]])"
      ]
     },
     "execution_count": 368,
     "metadata": {},
     "output_type": "execute_result"
    }
   ],
   "source": [
    "v = sp.Matrix([[sp.sin(a[0])],[sp.cos(a[0])]])\n",
    "v"
   ]
  },
  {
   "cell_type": "markdown",
   "id": "b11f3b91",
   "metadata": {},
   "source": [
    "##  $\\vec {e1}$ on to $\\vec v$"
   ]
  },
  {
   "cell_type": "code",
   "execution_count": 370,
   "id": "fe7a392a",
   "metadata": {},
   "outputs": [
    {
     "data": {
      "text/latex": [
       "$\\displaystyle \\left[\\begin{matrix}\\frac{\\sin^{2}{\\left(a_{0} \\right)}}{\\left|{\\sin{\\left(a_{0} \\right)}}\\right|^{2} + \\left|{\\cos{\\left(a_{0} \\right)}}\\right|^{2}}\\\\\\frac{\\sin{\\left(a_{0} \\right)} \\cos{\\left(a_{0} \\right)}}{\\left|{\\sin{\\left(a_{0} \\right)}}\\right|^{2} + \\left|{\\cos{\\left(a_{0} \\right)}}\\right|^{2}}\\end{matrix}\\right]$"
      ],
      "text/plain": [
       "Matrix([\n",
       "[      sin(a_0)**2/(Abs(sin(a_0))**2 + Abs(cos(a_0))**2)],\n",
       "[sin(a_0)*cos(a_0)/(Abs(sin(a_0))**2 + Abs(cos(a_0))**2)]])"
      ]
     },
     "execution_count": 370,
     "metadata": {},
     "output_type": "execute_result"
    }
   ],
   "source": [
    "((e1.dot(v))/v.norm()**2)*v"
   ]
  },
  {
   "cell_type": "markdown",
   "id": "cb109066",
   "metadata": {},
   "source": [
    "##  $\\vec {e2}$ on to $\\vec v$"
   ]
  },
  {
   "cell_type": "code",
   "execution_count": 371,
   "id": "61922c01",
   "metadata": {},
   "outputs": [
    {
     "data": {
      "text/latex": [
       "$\\displaystyle \\left[\\begin{matrix}\\frac{\\sin{\\left(a_{0} \\right)} \\cos{\\left(a_{0} \\right)}}{\\left|{\\sin{\\left(a_{0} \\right)}}\\right|^{2} + \\left|{\\cos{\\left(a_{0} \\right)}}\\right|^{2}}\\\\\\frac{\\cos^{2}{\\left(a_{0} \\right)}}{\\left|{\\sin{\\left(a_{0} \\right)}}\\right|^{2} + \\left|{\\cos{\\left(a_{0} \\right)}}\\right|^{2}}\\end{matrix}\\right]$"
      ],
      "text/plain": [
       "Matrix([\n",
       "[sin(a_0)*cos(a_0)/(Abs(sin(a_0))**2 + Abs(cos(a_0))**2)],\n",
       "[      cos(a_0)**2/(Abs(sin(a_0))**2 + Abs(cos(a_0))**2)]])"
      ]
     },
     "execution_count": 371,
     "metadata": {},
     "output_type": "execute_result"
    }
   ],
   "source": [
    "((e2.dot(v))/v.norm()**2)*v"
   ]
  },
  {
   "attachments": {
    "image.png": {
     "image/png": "[encoded data removed]"
    }
   },
   "cell_type": "markdown",
   "id": "615620b9",
   "metadata": {},
   "source": [
    "![image.png](attachment:image.png)"
   ]
  },
  {
   "cell_type": "code",
   "execution_count": 372,
   "id": "6af83c06",
   "metadata": {},
   "outputs": [
    {
     "data": {
      "text/latex": [
       "$\\displaystyle \\left[\\begin{matrix}2\\\\-1\\\\3\\end{matrix}\\right]$"
      ],
      "text/plain": [
       "Matrix([\n",
       "[ 2],\n",
       "[-1],\n",
       "[ 3]])"
      ]
     },
     "execution_count": 372,
     "metadata": {},
     "output_type": "execute_result"
    }
   ],
   "source": [
    "u = sp.Matrix([[2],[-1],[3]])\n",
    "u"
   ]
  },
  {
   "cell_type": "code",
   "execution_count": 373,
   "id": "47af4705",
   "metadata": {},
   "outputs": [
    {
     "data": {
      "text/latex": [
       "$\\displaystyle \\left[\\begin{matrix}4\\\\-1\\\\2\\end{matrix}\\right]$"
      ],
      "text/plain": [
       "Matrix([\n",
       "[ 4],\n",
       "[-1],\n",
       "[ 2]])"
      ]
     },
     "execution_count": 373,
     "metadata": {},
     "output_type": "execute_result"
    }
   ],
   "source": [
    "a = sp.Matrix([[4],[-1],[2]])\n",
    "a"
   ]
  },
  {
   "cell_type": "code",
   "execution_count": 377,
   "id": "77879625",
   "metadata": {},
   "outputs": [
    {
     "data": {
      "text/latex": [
       "$\\displaystyle \\left[\\begin{matrix}\\frac{20}{7}\\\\- \\frac{5}{7}\\\\\\frac{10}{7}\\end{matrix}\\right]$"
      ],
      "text/plain": [
       "Matrix([\n",
       "[20/7],\n",
       "[-5/7],\n",
       "[10/7]])"
      ]
     },
     "execution_count": 377,
     "metadata": {},
     "output_type": "execute_result"
    }
   ],
   "source": [
    "O = ((u.dot(a))/a.norm()**2)*a\n",
    "O"
   ]
  },
  {
   "cell_type": "code",
   "execution_count": 378,
   "id": "af8711d2",
   "metadata": {},
   "outputs": [
    {
     "data": {
      "text/latex": [
       "$\\displaystyle \\left[\\begin{matrix}- \\frac{6}{7}\\\\- \\frac{2}{7}\\\\\\frac{11}{7}\\end{matrix}\\right]$"
      ],
      "text/plain": [
       "Matrix([\n",
       "[-6/7],\n",
       "[-2/7],\n",
       "[11/7]])"
      ]
     },
     "execution_count": 378,
     "metadata": {},
     "output_type": "execute_result"
    }
   ],
   "source": [
    "u - O"
   ]
  },
  {
   "cell_type": "markdown",
   "id": "715c6b20",
   "metadata": {},
   "source": [
    "# Point from a line"
   ]
  },
  {
   "attachments": {
    "image.png": {
     "image/png": "[encoded data removed]"
    }
   },
   "cell_type": "markdown",
   "id": "ab4706b4",
   "metadata": {},
   "source": [
    "![image.png](attachment:image.png)"
   ]
  },
  {
   "cell_type": "code",
   "execution_count": 427,
   "id": "073a2f52",
   "metadata": {},
   "outputs": [],
   "source": [
    "x0, y0, z0 = sp.symbols('x_0 y_0 z_0')"
   ]
  },
  {
   "cell_type": "code",
   "execution_count": 411,
   "id": "e50f91b8",
   "metadata": {
    "scrolled": true
   },
   "outputs": [
    {
     "data": {
      "text/latex": [
       "$\\displaystyle \\frac{\\left|{a_{0} x_{0} + b_{0} y_{0} + c_{0}}\\right|}{\\sqrt{a_{0}^{2} + b_{0}^{2}}}$"
      ],
      "text/plain": [
       "Abs(a_0*x_0 + b_0*y_0 + c_0)/sqrt(a_0**2 + b_0**2)"
      ]
     },
     "execution_count": 411,
     "metadata": {},
     "output_type": "execute_result"
    }
   ],
   "source": [
    "D = sp.Abs(a[0]*x0 + b[0]*y0+c[0])/sp.sqrt(a[0]**2 + b[0]**2)\n",
    "D"
   ]
  },
  {
   "cell_type": "markdown",
   "id": "9014f5be",
   "metadata": {},
   "source": [
    "- Line: $2x + 3y -7 = 0$\n",
    "- point: $p(3,4)$"
   ]
  },
  {
   "cell_type": "code",
   "execution_count": 419,
   "id": "d5c47cd0",
   "metadata": {},
   "outputs": [
    {
     "data": {
      "text/latex": [
       "$\\displaystyle 3 x_{0} + y_{0} - 5$"
      ],
      "text/plain": [
       "3*x_0 + y_0 - 5"
      ]
     },
     "execution_count": 419,
     "metadata": {},
     "output_type": "execute_result"
    }
   ],
   "source": [
    "f = 3*x0 + y0 -5\n",
    "f"
   ]
  },
  {
   "cell_type": "code",
   "execution_count": 420,
   "id": "abeea0c8",
   "metadata": {},
   "outputs": [],
   "source": [
    "x = np.linspace(-10,10,21)\n",
    "y = np.linspace(-10,10,21)\n",
    "\n",
    "X,Y = np.meshgrid(x,y)\n",
    "\n",
    "Z = 3*X+Y-5"
   ]
  },
  {
   "cell_type": "code",
   "execution_count": 426,
   "id": "e0c76bbe",
   "metadata": {},
   "outputs": [
    {
     "data": {
      "image/png": "[encoded data removed]",
      "text/plain": [
       "<Figure size 640x480 with 1 Axes>"
      ]
     },
     "metadata": {},
     "output_type": "display_data"
    }
   ],
   "source": [
    "fig,ax = plt.subplots(1,1)\n",
    "ax.contour(X, Y, Z, levels=[0], colors='b')\n",
    "ax.scatter([1],[8])\n",
    "ax.set_xlabel('x')\n",
    "ax.set_ylabel('y')\n",
    "ax.set_title('Implicit Plot: $3x + y -5$')\n",
    "ax.grid(True)\n",
    "plt.show()"
   ]
  },
  {
   "cell_type": "code",
   "execution_count": 422,
   "id": "8b047f2c",
   "metadata": {},
   "outputs": [
    {
     "data": {
      "text/latex": [
       "$\\displaystyle \\frac{\\left|{a_{0} x_{0} + b_{0} y_{0} + c_{0}}\\right|}{\\sqrt{a_{0}^{2} + b_{0}^{2}}}$"
      ],
      "text/plain": [
       "Abs(a_0*x_0 + b_0*y_0 + c_0)/sqrt(a_0**2 + b_0**2)"
      ]
     },
     "execution_count": 422,
     "metadata": {},
     "output_type": "execute_result"
    }
   ],
   "source": [
    "D"
   ]
  },
  {
   "cell_type": "code",
   "execution_count": 423,
   "id": "39c05b5f",
   "metadata": {},
   "outputs": [
    {
     "data": {
      "text/latex": [
       "$\\displaystyle \\frac{3 \\sqrt{10}}{5}$"
      ],
      "text/plain": [
       "3*sqrt(10)/5"
      ]
     },
     "execution_count": 423,
     "metadata": {},
     "output_type": "execute_result"
    }
   ],
   "source": [
    "D.subs({a[0]:3, b[0]:1, c[0]:-5, x0:1, y0:8})"
   ]
  },
  {
   "cell_type": "code",
   "execution_count": 424,
   "id": "9b0db89f",
   "metadata": {},
   "outputs": [
    {
     "data": {
      "text/latex": [
       "$\\displaystyle 1.89736659610103$"
      ],
      "text/plain": [
       "1.89736659610103"
      ]
     },
     "execution_count": 424,
     "metadata": {},
     "output_type": "execute_result"
    }
   ],
   "source": [
    "_.n()"
   ]
  },
  {
   "cell_type": "code",
   "execution_count": 445,
   "id": "c222d446",
   "metadata": {},
   "outputs": [
    {
     "data": {
      "text/latex": [
       "$\\displaystyle x_{0} + 2 y_{0} - 2 z_{0} - 4$"
      ],
      "text/plain": [
       "x_0 + 2*y_0 - 2*z_0 - 4"
      ]
     },
     "execution_count": 445,
     "metadata": {},
     "output_type": "execute_result"
    }
   ],
   "source": [
    "f = x0 + 2*y0 -2*z0 -4\n",
    "f"
   ]
  },
  {
   "cell_type": "code",
   "execution_count": 446,
   "id": "bb1550a2",
   "metadata": {},
   "outputs": [],
   "source": [
    "x = np.linspace(-10,10,21)\n",
    "y = np.linspace(-10,10,21)\n",
    "\n",
    "X,Y = np.meshgrid(x,y)\n",
    "\n",
    "Z = (X+2*Y-4)/2"
   ]
  },
  {
   "cell_type": "code",
   "execution_count": 454,
   "id": "68cf7731",
   "metadata": {},
   "outputs": [
    {
     "data": {
      "image/png": "[encoded data removed]",
      "text/plain": [
       "<Figure size 640x480 with 2 Axes>"
      ]
     },
     "metadata": {},
     "output_type": "display_data"
    }
   ],
   "source": [
    "from mpl_toolkits.mplot3d import Axes3D\n",
    "\n",
    "def f(X, Y):\n",
    "    return (X + 2*Y - 4) / 2\n",
    "\n",
    "X = np.linspace(-5, 5, 100)\n",
    "Y = np.linspace(-5, 5, 100)\n",
    "X, Y = np.meshgrid(X, Y)\n",
    "Z = f(X, Y)\n",
    "\n",
    "fig = plt.figure()\n",
    "ax = fig.add_subplot(111, projection='3d')\n",
    "surf = ax.plot_surface(X, Y, Z, cmap='viridis')\n",
    "ax.scatter([3],[-3],[4], 'r')\n",
    "\n",
    "ax.set_xlabel('X')\n",
    "ax.set_ylabel('Y')\n",
    "ax.set_zlabel('Function Value')\n",
    "ax.set_title('3D Plot of (X + 2Y - 4) / 2')\n",
    "\n",
    "fig.colorbar(surf)\n",
    "plt.show()"
   ]
  },
  {
   "cell_type": "code",
   "execution_count": null,
   "id": "ba742d96",
   "metadata": {},
   "outputs": [],
   "source": []
  }
 ],
 "metadata": {
  "kernelspec": {
   "display_name": "Python 3 (ipykernel)",
   "language": "python",
   "name": "python3"
  },
  "language_info": {
   "codemirror_mode": {
    "name": "ipython",
    "version": 3
   },
   "file_extension": ".py",
   "mimetype": "text/x-python",
   "name": "python",
   "nbconvert_exporter": "python",
   "pygments_lexer": "ipython3",
   "version": "3.11.3"
  }
 },
 "nbformat": 4,
 "nbformat_minor": 5
}
