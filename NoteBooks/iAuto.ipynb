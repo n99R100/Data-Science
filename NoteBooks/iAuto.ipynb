{
 "cells": [
  {
   "cell_type": "code",
   "execution_count": 1,
   "id": "3cac9988",
   "metadata": {},
   "outputs": [],
   "source": [
    "import numpy as np"
   ]
  },
  {
   "cell_type": "code",
   "execution_count": 83,
   "id": "0debe99d",
   "metadata": {},
   "outputs": [],
   "source": [
    "def cal(x,y,l_1,l_2):\n",
    "    theta_2 = np.arccos((x**2+y**2-l_1**2-l_2**2)/(2*l_1*l_2))\n",
    "    theta_1 = (np.arctan(y/x)-(np.arctan((l_2*np.sin(theta_2))/(l_1+(l_2*np.cos(theta_2))))))\n",
    "    return [theta_1, theta_2, theta_1*180/np.pi, theta_2*180/np.pi]"
   ]
  },
  {
   "cell_type": "code",
   "execution_count": 84,
   "id": "90d58c59",
   "metadata": {},
   "outputs": [
    {
     "data": {
      "text/plain": [
       "[0.6759761213144202, 1.4033482475752073, 38.73057880293961, 80.40593177313954]"
      ]
     },
     "execution_count": 84,
     "metadata": {},
     "output_type": "execute_result"
    }
   ],
   "source": [
    "theta = cal(4,7,7,3)\n",
    "theta"
   ]
  },
  {
   "cell_type": "code",
   "execution_count": 90,
   "id": "64ac1a5d",
   "metadata": {},
   "outputs": [],
   "source": [
    "def mat(theta= [0,0], a = 0,d = 0):\n",
    "    A_1 = np.array([[np.cos(theta[0]), -1*np.sin(theta[0])*np.cos(theta[1]), np.sin(theta[0])*np.sin(theta[1]), a*np.cos(theta[0])],\n",
    "                   [np.sin(theta[0]), np.cos(theta[0])*np.cos(theta[1]), -1*np.cos(theta[0])*np.sin(theta[1]), a*np.sin(theta[0])],\n",
    "                   [0, np.sin(theta[1]), np.cos(theta[1]), d],\n",
    "                   [0,0,0,1]])\n",
    "    return A_1"
   ]
  },
  {
   "cell_type": "code",
   "execution_count": 93,
   "id": "31a6eb6f",
   "metadata": {},
   "outputs": [],
   "source": [
    "a_1 = mat([cal(4,7,7,3)[0],0], 7)"
   ]
  },
  {
   "cell_type": "code",
   "execution_count": 94,
   "id": "f7409040",
   "metadata": {},
   "outputs": [],
   "source": [
    "a_2 = mat([cal(4,7,7,3)[1],0], 3)"
   ]
  },
  {
   "cell_type": "code",
   "execution_count": 95,
   "id": "237274ba",
   "metadata": {},
   "outputs": [
    {
     "data": {
      "text/plain": [
       "array([[-0.48689208, -0.87346214,  0.        ,  4.        ],\n",
       "       [ 0.87346214, -0.48689208,  0.        ,  7.        ],\n",
       "       [ 0.        ,  0.        ,  1.        ,  0.        ],\n",
       "       [ 0.        ,  0.        ,  0.        ,  1.        ]])"
      ]
     },
     "execution_count": 95,
     "metadata": {},
     "output_type": "execute_result"
    }
   ],
   "source": [
    "np.dot(a_1,a_2)"
   ]
  },
  {
   "cell_type": "code",
   "execution_count": 31,
   "id": "ad912871",
   "metadata": {},
   "outputs": [],
   "source": [
    "a = np.array([[1,7],[2,4]])\n",
    "b = np.array([[3,3],[5,2]])"
   ]
  },
  {
   "cell_type": "code",
   "execution_count": 36,
   "id": "1d048c3b",
   "metadata": {},
   "outputs": [
    {
     "data": {
      "text/plain": [
       "array([[38, 17],\n",
       "       [26, 14]])"
      ]
     },
     "execution_count": 36,
     "metadata": {},
     "output_type": "execute_result"
    }
   ],
   "source": [
    "np.dot(a,b)"
   ]
  },
  {
   "cell_type": "code",
   "execution_count": 73,
   "id": "8ebe95f6",
   "metadata": {},
   "outputs": [],
   "source": [
    "def rot(a,b):\n",
    "    if (a[0]):\n",
    "        R_x = np.array([[1,0,0],\n",
    "                        [0, np.cos(a[0]), -1*np.sin(a[0])],\n",
    "                        [0, np.sin(a[0]), np.cos(a[0])]])\n",
    "        xyz = np.dot(R_x, np.array(b).T)\n",
    "    elif (a[1]):\n",
    "        R_y = np.array([[np.cos(a[1]), 0, np.sin(a[1])],\n",
    "                        [0,1,0],\n",
    "                        [-np.sin(a[1]), 0, np.cos(a[1])]])\n",
    "        xyz = np.dot(R_y,np.array(b).T)\n",
    "    else:\n",
    "        R_z = np.array([[np.cos(a[2]), -1*np.sin(a[2]), 0],\n",
    "                        [np.sin(a[2]), np.cos(a[1]), 0],\n",
    "                        [0,0,1]])\n",
    "        xyz = np.dot(R_z, np.array(b).T)\n",
    "    \n",
    "    return xyz"
   ]
  },
  {
   "cell_type": "code",
   "execution_count": 77,
   "id": "f6d3dd15",
   "metadata": {},
   "outputs": [
    {
     "data": {
      "text/plain": [
       "array([6.        , 2.46410162, 3.73205081])"
      ]
     },
     "execution_count": 77,
     "metadata": {},
     "output_type": "execute_result"
    }
   ],
   "source": [
    "rot([30*np.pi/180.0, 0, 0],[6,4,2])"
   ]
  },
  {
   "cell_type": "code",
   "execution_count": null,
   "id": "1f43a769",
   "metadata": {},
   "outputs": [],
   "source": []
  }
 ],
 "metadata": {
  "kernelspec": {
   "display_name": "Python 3 (ipykernel)",
   "language": "python",
   "name": "python3"
  },
  "language_info": {
   "codemirror_mode": {
    "name": "ipython",
    "version": 3
   },
   "file_extension": ".py",
   "mimetype": "text/x-python",
   "name": "python",
   "nbconvert_exporter": "python",
   "pygments_lexer": "ipython3",
   "version": "3.11.3"
  }
 },
 "nbformat": 4,
 "nbformat_minor": 5
}
