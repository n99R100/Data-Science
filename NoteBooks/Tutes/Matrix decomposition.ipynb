{
 "cells": [
  {
   "cell_type": "code",
   "execution_count": 1,
   "id": "b010a69b",
   "metadata": {},
   "outputs": [],
   "source": [
    "import numpy as np\n",
    "import scipy as sp"
   ]
  },
  {
   "cell_type": "markdown",
   "id": "e7fc9f53",
   "metadata": {},
   "source": [
    "# LU Decomposition"
   ]
  },
  {
   "cell_type": "markdown",
   "id": "e7199f48",
   "metadata": {},
   "source": [
    "In LU decomposition, a given matrix A is factored into the product of two matrices: a lower triangular matrix (L) and an upper triangular matrix (U). It is often used for solving systems of linear equations and numerical analysis.\n",
    "\n",
    "A = LU"
   ]
  },
  {
   "cell_type": "code",
   "execution_count": 17,
   "id": "fdf6bf64",
   "metadata": {},
   "outputs": [
    {
     "data": {
      "text/plain": [
       "array([[8, 7, 0],\n",
       "       [1, 8, 8],\n",
       "       [4, 8, 4]])"
      ]
     },
     "execution_count": 17,
     "metadata": {},
     "output_type": "execute_result"
    }
   ],
   "source": [
    "A = np.random.randint(0,10,size=(3,3))\n",
    "A"
   ]
  },
  {
   "cell_type": "code",
   "execution_count": 18,
   "id": "2a5f69f9",
   "metadata": {},
   "outputs": [],
   "source": [
    "res = sp.linalg.lu(A)"
   ]
  },
  {
   "cell_type": "code",
   "execution_count": 19,
   "id": "f72d4c9f",
   "metadata": {},
   "outputs": [
    {
     "data": {
      "text/plain": [
       "array([[1., 0., 0.],\n",
       "       [0., 1., 0.],\n",
       "       [0., 0., 1.]])"
      ]
     },
     "execution_count": 19,
     "metadata": {},
     "output_type": "execute_result"
    }
   ],
   "source": [
    "res[0]"
   ]
  },
  {
   "cell_type": "code",
   "execution_count": 20,
   "id": "f1bc2e5c",
   "metadata": {},
   "outputs": [
    {
     "data": {
      "text/plain": [
       "array([[1.        , 0.        , 0.        ],\n",
       "       [0.125     , 1.        , 0.        ],\n",
       "       [0.5       , 0.63157895, 1.        ]])"
      ]
     },
     "execution_count": 20,
     "metadata": {},
     "output_type": "execute_result"
    }
   ],
   "source": [
    "res[1]"
   ]
  },
  {
   "cell_type": "code",
   "execution_count": 21,
   "id": "8e8832d0",
   "metadata": {},
   "outputs": [
    {
     "data": {
      "text/plain": [
       "array([[ 8.        ,  7.        ,  0.        ],\n",
       "       [ 0.        ,  7.125     ,  8.        ],\n",
       "       [ 0.        ,  0.        , -1.05263158]])"
      ]
     },
     "execution_count": 21,
     "metadata": {},
     "output_type": "execute_result"
    }
   ],
   "source": [
    "res[2]"
   ]
  },
  {
   "cell_type": "code",
   "execution_count": 22,
   "id": "0d773a3c",
   "metadata": {},
   "outputs": [
    {
     "data": {
      "text/plain": [
       "array([[8., 7., 0.],\n",
       "       [1., 8., 8.],\n",
       "       [4., 8., 4.]])"
      ]
     },
     "execution_count": 22,
     "metadata": {},
     "output_type": "execute_result"
    }
   ],
   "source": [
    "np.dot(res[1],res[2])"
   ]
  },
  {
   "cell_type": "markdown",
   "id": "81b65e18",
   "metadata": {},
   "source": [
    "# QR Decomposition (QR Factorization)\n",
    "\n",
    "QR decomposition factorizes a matrix A into the product of an orthogonal matrix (Q) and an upper triangular matrix (R). It is used in various applications, including least squares solutions and eigenvalue calculations.\n",
    "\n",
    "A = QR"
   ]
  },
  {
   "cell_type": "code",
   "execution_count": 24,
   "id": "66496c4d",
   "metadata": {},
   "outputs": [],
   "source": [
    "res = sp.linalg.qr(A)"
   ]
  },
  {
   "cell_type": "code",
   "execution_count": 25,
   "id": "90a2fb11",
   "metadata": {},
   "outputs": [
    {
     "data": {
      "text/plain": [
       "array([[-0.88888889,  0.31208735, -0.33537745],\n",
       "       [-0.11111111, -0.8570757 , -0.50306617],\n",
       "       [-0.44444444, -0.40990577,  0.79652144]])"
      ]
     },
     "execution_count": 25,
     "metadata": {},
     "output_type": "execute_result"
    }
   ],
   "source": [
    "res[0]"
   ]
  },
  {
   "cell_type": "code",
   "execution_count": 26,
   "id": "07636cb1",
   "metadata": {},
   "outputs": [
    {
     "data": {
      "text/plain": [
       "array([[ -9.        , -10.66666667,  -2.66666667],\n",
       "       [  0.        ,  -7.95124029,  -8.49622865],\n",
       "       [  0.        ,   0.        ,  -0.83844362]])"
      ]
     },
     "execution_count": 26,
     "metadata": {},
     "output_type": "execute_result"
    }
   ],
   "source": [
    "res[1]"
   ]
  },
  {
   "cell_type": "code",
   "execution_count": 27,
   "id": "b9f4cbed",
   "metadata": {},
   "outputs": [
    {
     "data": {
      "text/plain": [
       "array([[ 8.00000000e+00,  7.00000000e+00, -3.44084138e-16],\n",
       "       [ 1.00000000e+00,  8.00000000e+00,  8.00000000e+00],\n",
       "       [ 4.00000000e+00,  8.00000000e+00,  4.00000000e+00]])"
      ]
     },
     "execution_count": 27,
     "metadata": {},
     "output_type": "execute_result"
    }
   ],
   "source": [
    "np.dot(res[0],res[1])"
   ]
  },
  {
   "cell_type": "markdown",
   "id": "0bfea591",
   "metadata": {},
   "source": [
    "# Singular Value Decomposition (SVD): \n",
    "\n",
    "SVD decomposes a matrix A into three matrices: a left singular vector matrix (U), a diagonal matrix with singular values (Σ), and a right singular vector matrix (V). SVD has numerous applications in data analysis, dimensionality reduction, and image compression.\n",
    "\n",
    "A = UΣV^T"
   ]
  },
  {
   "cell_type": "code",
   "execution_count": 28,
   "id": "cbe43d46",
   "metadata": {},
   "outputs": [],
   "source": [
    "U,S,VT = sp.linalg.svd(A)"
   ]
  },
  {
   "cell_type": "code",
   "execution_count": 29,
   "id": "c17258cb",
   "metadata": {},
   "outputs": [
    {
     "data": {
      "text/plain": [
       "array([[-0.53692859,  0.75112833, -0.38407541],\n",
       "       [-0.60904169, -0.66015279, -0.43962089],\n",
       "       [-0.58376016, -0.00212709,  0.81192337]])"
      ]
     },
     "execution_count": 29,
     "metadata": {},
     "output_type": "execute_result"
    }
   ],
   "source": [
    "U"
   ]
  },
  {
   "cell_type": "code",
   "execution_count": 30,
   "id": "5f6c6f59",
   "metadata": {},
   "outputs": [
    {
     "data": {
      "text/plain": [
       "array([16.77113879,  7.51680661,  0.47594341])"
      ]
     },
     "execution_count": 30,
     "metadata": {},
     "output_type": "execute_result"
    }
   ],
   "source": [
    "S"
   ]
  },
  {
   "cell_type": "code",
   "execution_count": 31,
   "id": "d36f86ed",
   "metadata": {},
   "outputs": [
    {
     "data": {
      "text/plain": [
       "array([[-0.43166484, -0.79308358, -0.42974864],\n",
       "       [ 0.71045669, -0.00536673, -0.70372046],\n",
       "       [-0.5558028 ,  0.60908918, -0.56576816]])"
      ]
     },
     "execution_count": 31,
     "metadata": {},
     "output_type": "execute_result"
    }
   ],
   "source": [
    "VT"
   ]
  },
  {
   "cell_type": "markdown",
   "id": "6595447f",
   "metadata": {},
   "source": [
    "# Eigenvalue Decomposition\n",
    "\n",
    "Eigenvalue decomposition decomposes a square matrix A into its eigenvalues (λ) and eigenvectors (V). It is used for diagonalizing matrices and solving differential equations.\n",
    "\n",
    "A = VΛV^(-1)"
   ]
  },
  {
   "cell_type": "code",
   "execution_count": 33,
   "id": "4fedf117",
   "metadata": {},
   "outputs": [],
   "source": [
    "V,M = sp.linalg.eig(A)"
   ]
  },
  {
   "cell_type": "code",
   "execution_count": 34,
   "id": "210fafa2",
   "metadata": {},
   "outputs": [
    {
     "data": {
      "text/plain": [
       "array([16.26994568+0.j,  4.5419858 +0.j, -0.81193147+0.j])"
      ]
     },
     "execution_count": 34,
     "metadata": {},
     "output_type": "execute_result"
    }
   ],
   "source": [
    "V"
   ]
  },
  {
   "cell_type": "code",
   "execution_count": 35,
   "id": "9c4597bb",
   "metadata": {},
   "outputs": [
    {
     "data": {
      "text/plain": [
       "array([[-0.52722223, -0.89375672,  0.48932936],\n",
       "       [-0.62287131,  0.44151763, -0.61599097],\n",
       "       [-0.57798621, -0.07912719,  0.61734261]])"
      ]
     },
     "execution_count": 35,
     "metadata": {},
     "output_type": "execute_result"
    }
   ],
   "source": [
    "M"
   ]
  },
  {
   "cell_type": "code",
   "execution_count": null,
   "id": "8b2f57c8",
   "metadata": {},
   "outputs": [],
   "source": []
  }
 ],
 "metadata": {
  "kernelspec": {
   "display_name": "Python 3 (ipykernel)",
   "language": "python",
   "name": "python3"
  },
  "language_info": {
   "codemirror_mode": {
    "name": "ipython",
    "version": 3
   },
   "file_extension": ".py",
   "mimetype": "text/x-python",
   "name": "python",
   "nbconvert_exporter": "python",
   "pygments_lexer": "ipython3",
   "version": "3.11.3"
  }
 },
 "nbformat": 4,
 "nbformat_minor": 5
}
