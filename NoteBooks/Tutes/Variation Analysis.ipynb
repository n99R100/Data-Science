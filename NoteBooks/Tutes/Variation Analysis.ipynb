{
 "cells": [
  {
   "cell_type": "markdown",
   "id": "373eb1e3-2dcf-40c3-b614-da8c59210410",
   "metadata": {},
   "source": [
    "<h1> <font face=\"Times\"; size = 15; color = \"blue\">Variation Analysis</font></h1>"
   ]
  },
  {
   "cell_type": "markdown",
   "id": "48dba145-5b98-49b7-8be2-549c3140e857",
   "metadata": {},
   "source": [
    "# 1. Univariate"
   ]
  },
  {
   "cell_type": "markdown",
   "id": "2a103384-46eb-4cc8-990a-4a8e0ba5e0fc",
   "metadata": {},
   "source": [
    "Univariate descriptive statistics focus on only one variable at a time. It’s important to examine data from each variable separately using multiple measures of distribution, central tendency and spread.\n",
    "\n",
    "The description of patterns found in this type of data can be made by drawing conclusions using central tendency measures (mean, median and mode), dispersion or spread of data (range, minimum, maximum, quartiles, variance and standard deviation) and by using frequency distribution tables, histograms, pie charts, frequency polygon and bar charts. "
   ]
  },
  {
   "cell_type": "markdown",
   "id": "717f7e1d-9ee4-4f1a-bda4-b251bed0e3d2",
   "metadata": {},
   "source": [
    "# 2. Bivariate data\n",
    "\n",
    "This type of data involves two different variables. The analysis of this type of data deals with causes and relationships and the analysis is done to find out the relationship among the two variables.\n",
    "\n",
    "Thus bivariate data analysis involves comparisons, relationships, causes and explanations. These variables are often plotted on X and Y axis on the graph for better understanding of data and one of these variables is independent while the other is dependent."
   ]
  },
  {
   "cell_type": "markdown",
   "id": "26ef7cbb-d5cf-46d9-be63-166e22ae496b",
   "metadata": {},
   "source": [
    "# 3. Multivariate data\n",
    "\n",
    "When the data involves three or more variables, it is categorized under multivariate. It is similar to bivariate but contains more than one dependent variable. The ways to perform analysis on this data depends on the goals to be achieved. Some of the techniques are regression analysis, path analysis, factor analysis and multivariate analysis of variance (MANOVA)."
   ]
  },
  {
   "cell_type": "markdown",
   "id": "485aa37e-6c6a-4f2c-9fba-0fcc7e94c9e7",
   "metadata": {},
   "source": [
    "<table><tbody><tr><td><p style=\"text-align:center\"><strong>Univariate</strong></p></td><td><p style=\"text-align:center\"><strong>Bivariate</strong></p></td><td><p style=\"text-align:center\"><strong>Multivariate</strong></p></td></tr><tr><td>It only summarize single variable at a time.</td><td>It only summarize two variables</td><td>It only summarize more than 2 variables.</td></tr><tr><td>It does not deal with causes and relationships.</td><td>It does deal with causes and relationships and analysis is done.</td><td>It does not deal with causes and relationships and analysis is done.</td></tr><tr><td>It does not contain any dependent variable.</td><td>It does contain only one dependent variable.</td><td>It is similar to bivariate but it contains more than 2 variables.</td></tr><tr><td>The main purpose is to describe.</td><td>The main purpose is to explain.</td><td>The main purpose is to study the relationship among them.</td></tr><tr><td>The example of a univariate can be height.</td><td>The example of bivariate can be temperature and ice sales in summer vacation.</td><td><p>Example, Suppose an advertiser wants to compare the popularity of four advertisements on a website.</p><p>Then their click rates could be measured for both men and women and relationships between variable can be examined &nbsp;</p></td></tr></tbody></table>"
   ]
  },
  {
   "cell_type": "code",
   "execution_count": null,
   "id": "cd5bfa2e-d09e-4c93-a914-15c50e9736ef",
   "metadata": {},
   "outputs": [],
   "source": []
  }
 ],
 "metadata": {
  "kernelspec": {
   "display_name": "Python 3 (ipykernel)",
   "language": "python",
   "name": "python3"
  },
  "language_info": {
   "codemirror_mode": {
    "name": "ipython",
    "version": 3
   },
   "file_extension": ".py",
   "mimetype": "text/x-python",
   "name": "python",
   "nbconvert_exporter": "python",
   "pygments_lexer": "ipython3",
   "version": "3.11.3"
  }
 },
 "nbformat": 4,
 "nbformat_minor": 5
}
