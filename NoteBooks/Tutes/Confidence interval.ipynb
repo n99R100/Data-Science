{
 "cells": [
  {
   "cell_type": "code",
   "execution_count": 2,
   "id": "1b3718cb",
   "metadata": {},
   "outputs": [],
   "source": [
    "import numpy as np\n",
    "import scipy as sp"
   ]
  },
  {
   "cell_type": "code",
   "execution_count": 13,
   "id": "2139b896",
   "metadata": {},
   "outputs": [],
   "source": [
    "import plotly.express as px\n",
    "import plotly.graph_objects as go"
   ]
  },
  {
   "cell_type": "markdown",
   "id": "020d5a8b",
   "metadata": {},
   "source": [
    "<h1><font face=\"Times\"; size=20; color = 'navy'> Confidence Interval"
   ]
  },
  {
   "cell_type": "markdown",
   "id": "f4604119",
   "metadata": {},
   "source": [
    "<div class=\"alert alert-block alert-info\">\n",
    "    <b><font face= 'Callibri';color = 'blue'; size = 4> Definition:</font></b> <hr>\n",
    "    <font face = \"verdana\"> A <b>confidence interval</b> is a statistical range or interval constructed around a sample statistic (such as a mean, proportion, or regression coefficient) that is used to estimate a population parameter (such as the true population mean or proportion) with a certain level of confidence. It provides a way to quantify the uncertainty associated with estimating a population parameter based on a sample of data.\n",
    "\n",
    "Key characteristics of a confidence interval include:\n",
    "<ul>\n",
    "<li>Point Estimate: The sample statistic, such as the sample mean or proportion, serves as the point estimate of the population parameter.\n",
    "\n",
    "<li>Margin of Error: The confidence interval includes a margin of error, which is a range of values that are added to and subtracted from the point estimate. This margin of error accounts for the uncertainty in the estimation process.\n",
    "\n",
    "<li>Confidence Level: The confidence level, often expressed as a percentage (e.g., 95% or 99%), represents the probability that the calculated confidence interval contains the true population parameter. \n",
    "        </ul>\n",
    "A common way to express a confidence interval is in the form of \"point estimate ± margin of error.\"\n",
    "    \n",
    "</div>"
   ]
  },
  {
   "cell_type": "markdown",
   "id": "6644e63e",
   "metadata": {},
   "source": [
    "$$\\text{Confidence Interval} = \\text{(point estimate)}  \\pm  \\text{(critical value)} \\times \\text{(standard error)}$$"
   ]
  },
  {
   "cell_type": "markdown",
   "id": "05242f1e",
   "metadata": {},
   "source": [
    "# Confidence interval for a mean"
   ]
  },
  {
   "cell_type": "markdown",
   "id": "f4c9aed5",
   "metadata": {},
   "source": [
    "A confidence interval for a mean is a range of values that is likely to contain a population mean with a certain level of confidence."
   ]
  },
  {
   "cell_type": "markdown",
   "id": "32a6a5c4",
   "metadata": {},
   "source": [
    "$$\\text{Confidence Interval} = \\bar x  \\pm  z \\times \\frac{s}{\\sqrt{n}}$$\n",
    "\n",
    "where:\n",
    "\n",
    "- $\\bar x$: sample mean\n",
    "- z: the chosen z-value\n",
    "- s: sample standard deviation\n",
    "- n: sample size"
   ]
  },
  {
   "cell_type": "markdown",
   "id": "25336a41",
   "metadata": {},
   "source": [
    "## With t-Distribution"
   ]
  },
  {
   "cell_type": "markdown",
   "id": "009c0caa",
   "metadata": {},
   "source": [
    "- Used when n < 30"
   ]
  },
  {
   "cell_type": "code",
   "execution_count": 1,
   "id": "bc0edac4",
   "metadata": {},
   "outputs": [],
   "source": [
    "data = [12, 12, 13, 13, 15, 16, 17, 22, 23, 25, 26, 27, 28, 28, 29]"
   ]
  },
  {
   "cell_type": "code",
   "execution_count": 5,
   "id": "a3aeea11",
   "metadata": {},
   "outputs": [
    {
     "data": {
      "text/plain": [
       "(17.408981355522524, 23.391018644477473)"
      ]
     },
     "execution_count": 5,
     "metadata": {},
     "output_type": "execute_result"
    }
   ],
   "source": [
    "sp.stats.t.interval(confidence=0.90, df=len(data)-1, loc=np.mean(data), scale=sp.stats.sem(data))"
   ]
  },
  {
   "cell_type": "code",
   "execution_count": 4,
   "id": "4483a4a5",
   "metadata": {},
   "outputs": [
    {
     "data": {
      "text/plain": [
       "(16.75776979778498, 24.042230202215016)"
      ]
     },
     "execution_count": 4,
     "metadata": {},
     "output_type": "execute_result"
    }
   ],
   "source": [
    "sp.stats.t.interval(confidence=0.95, df=len(data)-1, loc=np.mean(data), scale=sp.stats.sem(data))"
   ]
  },
  {
   "cell_type": "code",
   "execution_count": 6,
   "id": "22f69074",
   "metadata": {},
   "outputs": [
    {
     "data": {
      "text/plain": [
       "(15.3447902793728, 25.455209720627195)"
      ]
     },
     "execution_count": 6,
     "metadata": {},
     "output_type": "execute_result"
    }
   ],
   "source": [
    "sp.stats.t.interval(confidence=0.99, df=len(data)-1, loc=np.mean(data), scale=sp.stats.sem(data))"
   ]
  },
  {
   "cell_type": "markdown",
   "id": "0b6da7b8",
   "metadata": {},
   "source": [
    "## With normal distribution"
   ]
  },
  {
   "cell_type": "markdown",
   "id": "0024f113",
   "metadata": {},
   "source": [
    "- Used when n > 30"
   ]
  },
  {
   "cell_type": "code",
   "execution_count": 7,
   "id": "28c68a3b",
   "metadata": {},
   "outputs": [],
   "source": [
    "np.random.seed(0)\n",
    "data = np.random.randint(10, 30, 50)"
   ]
  },
  {
   "cell_type": "code",
   "execution_count": 8,
   "id": "99d49311",
   "metadata": {},
   "outputs": [
    {
     "data": {
      "text/plain": [
       "array([22, 25, 10, 13, 13, 17, 19, 29, 28, 14, 16, 22, 11, 16, 17, 24, 27,\n",
       "       15, 23, 18, 19, 29, 26, 29, 15, 25, 25, 10, 28, 13, 27, 29, 29, 29,\n",
       "       24, 17, 10, 11, 19, 10, 20, 13, 21, 28, 12, 10, 10, 14, 15, 16])"
      ]
     },
     "execution_count": 8,
     "metadata": {},
     "output_type": "execute_result"
    }
   ],
   "source": [
    "data"
   ]
  },
  {
   "cell_type": "code",
   "execution_count": 10,
   "id": "5753f60a",
   "metadata": {},
   "outputs": [
    {
     "data": {
      "text/plain": [
       "(17.695874465475686, 20.78412553452431)"
      ]
     },
     "execution_count": 10,
     "metadata": {},
     "output_type": "execute_result"
    }
   ],
   "source": [
    "sp.stats.norm.interval(confidence=0.90, loc=np.mean(data), scale=sp.stats.sem(data))"
   ]
  },
  {
   "cell_type": "code",
   "execution_count": 11,
   "id": "2e0a67e2",
   "metadata": {},
   "outputs": [
    {
     "data": {
      "text/plain": [
       "(17.400060940568054, 21.079939059431943)"
      ]
     },
     "execution_count": 11,
     "metadata": {},
     "output_type": "execute_result"
    }
   ],
   "source": [
    "sp.stats.norm.interval(confidence=0.95, loc=np.mean(data), scale=sp.stats.sem(data))"
   ]
  },
  {
   "cell_type": "code",
   "execution_count": 12,
   "id": "97e2dcf0",
   "metadata": {},
   "outputs": [
    {
     "data": {
      "text/plain": [
       "(16.821910186405187, 21.65808981359481)"
      ]
     },
     "execution_count": 12,
     "metadata": {},
     "output_type": "execute_result"
    }
   ],
   "source": [
    "sp.stats.norm.interval(confidence=0.99, loc=np.mean(data), scale=sp.stats.sem(data))"
   ]
  },
  {
   "cell_type": "markdown",
   "id": "dc772be2",
   "metadata": {},
   "source": [
    "# Confidence Interval for the Difference Between Means"
   ]
  },
  {
   "cell_type": "markdown",
   "id": "95f0861b",
   "metadata": {},
   "source": [
    "A confidence interval (C.I.) for a difference between means is a range of values that is likely to contain the true difference between two population means with a certain level of confidence.\n",
    "\n",
    "$$\\text{Confidence Interval} = (\\bar{X}_1 - \\bar{X}_2) \\pm t \\cdot \\sqrt{\\frac{S_p^2}{n_1} + \\frac{S_p^2}{n_2}}$$\n",
    "\n",
    "where:\n",
    "\n",
    "- $x_1$, $x_2$: sample 1 mean, sample 2 mean\n",
    "- $t$: the t-critical value based on the confidence level and ($n_1+n_2 - 2$) degrees of freedom\n",
    "- $s_p^2$: pooled variance\n",
    "- $n_1$, $n_2$: sample 1 size, sample 2 size\n",
    "\n",
    "where:\n",
    "\n",
    "The pooled variance is calculated as: $S_p^2 = \\frac{{(n_1 - 1) \\cdot S_1^2 + (n_2 - 1) \\cdot S_2^2}}{{n_1 + n_2 - 2}}\n",
    "$"
   ]
  },
  {
   "cell_type": "markdown",
   "id": "b863a105",
   "metadata": {},
   "source": [
    "## With t-Distribution"
   ]
  },
  {
   "cell_type": "code",
   "execution_count": 31,
   "id": "c68ccb94",
   "metadata": {},
   "outputs": [],
   "source": [
    "group1_data = np.array([85, 88, 90, 78, 92])\n",
    "group2_data = np.array([87, 84, 86, 91, 89])\n",
    "\n",
    "mean1 = np.mean(group1_data)\n",
    "mean2 = np.mean(group2_data)\n",
    "std1 = np.std(group1_data, ddof=1)\n",
    "std2 = np.std(group2_data, ddof=1)\n",
    "n1 = len(group1_data)\n",
    "n2 = len(group2_data)\n",
    "\n",
    "confidence_level = 0.95\n",
    "\n",
    "pooled_std = np.sqrt(((n1 - 1) * std1**2 + (n2 - 1) * std2**2) / (n1 + n2 - 2))\n",
    "t_critical = sp.stats.t.ppf(1 - (1 - confidence_level) / 2, df=n1 + n2 - 2)\n",
    "\n",
    "confidence_interval = sp.stats.t.interval(confidence_level, df=n1 + n2 - 2, \n",
    "                                          loc=mean1 - mean2, scale=pooled_std * np.sqrt(1/n1 + 1/n2))"
   ]
  },
  {
   "cell_type": "code",
   "execution_count": 32,
   "id": "d0457ea4",
   "metadata": {},
   "outputs": [
    {
     "data": {
      "text/plain": [
       "(-7.0814807669266475, 5.481480766926625)"
      ]
     },
     "execution_count": 32,
     "metadata": {},
     "output_type": "execute_result"
    }
   ],
   "source": [
    "confidence_interval"
   ]
  },
  {
   "cell_type": "markdown",
   "id": "2ab1857a",
   "metadata": {},
   "source": [
    "## With Normal Distribution"
   ]
  },
  {
   "cell_type": "code",
   "execution_count": 34,
   "id": "49c45d0a",
   "metadata": {},
   "outputs": [],
   "source": [
    "group1_data = np.random.randint(80, 100, 50)\n",
    "group2_data = np.random.randint(80, 95, 50)\n",
    "\n",
    "mean1 = np.mean(group1_data)\n",
    "mean2 = np.mean(group2_data)\n",
    "std1 = np.std(group1_data, ddof=1)\n",
    "std2 = np.std(group2_data, ddof=1)\n",
    "n1 = len(group1_data)\n",
    "n2 = len(group2_data)\n",
    "\n",
    "confidence_level = 0.95\n",
    "\n",
    "pooled_std_error = np.sqrt((std1**2 / n1) + (std2**2 / n2))\n",
    "\n",
    "z_critical = sp.stats.norm.ppf(1 - (1 - confidence_level) / 2)\n",
    "\n",
    "margin_of_error = z_critical * pooled_std_error\n",
    "\n",
    "confidence_interval = (mean1 - mean2 - margin_of_error, mean1 - mean2 + margin_of_error)"
   ]
  },
  {
   "cell_type": "code",
   "execution_count": 35,
   "id": "ef593df1",
   "metadata": {},
   "outputs": [
    {
     "data": {
      "text/plain": [
       "(-0.8124698288723518, 3.1724698288723654)"
      ]
     },
     "execution_count": 35,
     "metadata": {},
     "output_type": "execute_result"
    }
   ],
   "source": [
    "confidence_interval"
   ]
  },
  {
   "cell_type": "markdown",
   "id": "990bcb44",
   "metadata": {},
   "source": [
    "# Confidence Interval for a Standard Deviation"
   ]
  },
  {
   "attachments": {
    "image-2.png": {
     "image/png": "[encoded data removed]"
    }
   },
   "cell_type": "markdown",
   "id": "daabdc8a",
   "metadata": {},
   "source": [
    "The confidence interval for a standard deviation is used to estimate the range within which the true population standard deviation is likely to fall, given a sample from that population. The formula for calculating a confidence interval for a standard deviation involves the chi-square distribution. Here's the formula for a confidence interval for the population standard deviation (σ) at a certain confidence level:\n",
    "\n",
    "![image-2.png](attachment:image-2.png)"
   ]
  },
  {
   "cell_type": "code",
   "execution_count": 36,
   "id": "4abfe968",
   "metadata": {},
   "outputs": [],
   "source": [
    "sample_data = np.array([85, 88, 90, 78, 92, 87, 89, 84, 86, 91])\n",
    "\n",
    "n = len(sample_data)\n",
    "sample_std = np.std(sample_data, ddof=1)\n",
    "confidence_level = 0.95\n",
    "\n",
    "alpha = 1 - confidence_level\n",
    "chi2_lower = sp.stats.chi2.ppf(alpha/2, df=n-1)\n",
    "chi2_upper = sp.stats.chi2.ppf(1 - alpha/2, df=n-1)\n",
    "\n",
    "ci_lower = np.sqrt(((n - 1) * sample_std**2) / chi2_upper)\n",
    "ci_upper = np.sqrt(((n - 1) * sample_std**2) / chi2_lower)"
   ]
  },
  {
   "cell_type": "code",
   "execution_count": 37,
   "id": "f3560b93",
   "metadata": {},
   "outputs": [
    {
     "data": {
      "text/plain": [
       "(2.8080754727613693, 7.453022360670369)"
      ]
     },
     "execution_count": 37,
     "metadata": {},
     "output_type": "execute_result"
    }
   ],
   "source": [
    "(ci_lower, ci_upper)"
   ]
  },
  {
   "cell_type": "code",
   "execution_count": 39,
   "id": "4d59796d",
   "metadata": {},
   "outputs": [
    {
     "name": "stdout",
     "output_type": "stream",
     "text": [
      "Confidence Interval for Standard Deviation: (5.25782129378996, 8.36048337367873)\n"
     ]
    }
   ],
   "source": [
    "n = 27\n",
    "sample_std = 6.43\n",
    "confidence_level = 0.90\n",
    "\n",
    "alpha = 1 - confidence_level\n",
    "chi2_lower = sp.stats.chi2.ppf(alpha/2, df=n-1)\n",
    "chi2_upper = sp.stats.chi2.ppf(1 - alpha/2, df=n-1)\n",
    "\n",
    "ci_lower = np.sqrt(((n - 1) * sample_std**2) / chi2_upper)\n",
    "ci_upper = np.sqrt(((n - 1) * sample_std**2) / chi2_lower)\n",
    "\n",
    "print(f\"Confidence Interval for Standard Deviation: ({ci_lower:}, {ci_upper:})\")"
   ]
  },
  {
   "cell_type": "code",
   "execution_count": 40,
   "id": "7403e1f8",
   "metadata": {},
   "outputs": [
    {
     "name": "stdout",
     "output_type": "stream",
     "text": [
      "Confidence Interval for Standard Deviation: (4.718126418976448, 9.814336181896163)\n"
     ]
    }
   ],
   "source": [
    "n = 27\n",
    "sample_std = 6.43\n",
    "confidence_level = 0.99\n",
    "\n",
    "alpha = 1 - confidence_level\n",
    "chi2_lower = sp.stats.chi2.ppf(alpha/2, df=n-1)\n",
    "chi2_upper = sp.stats.chi2.ppf(1 - alpha/2, df=n-1)\n",
    "\n",
    "ci_lower = np.sqrt(((n - 1) * sample_std**2) / chi2_upper)\n",
    "ci_upper = np.sqrt(((n - 1) * sample_std**2) / chi2_lower)\n",
    "\n",
    "print(f\"Confidence Interval for Standard Deviation: ({ci_lower:}, {ci_upper:})\")"
   ]
  },
  {
   "cell_type": "markdown",
   "id": "b82d80d6",
   "metadata": {},
   "source": [
    "# Confidence Interval for a Correlation Coefficient"
   ]
  },
  {
   "cell_type": "code",
   "execution_count": 43,
   "id": "d86fe475",
   "metadata": {},
   "outputs": [
    {
     "name": "stdout",
     "output_type": "stream",
     "text": [
      "Confidence Interval for Correlation Coefficient: (0.77, 1.00)\n"
     ]
    }
   ],
   "source": [
    "x = np.array([1, 2, 3, 4, 5])\n",
    "y = np.array([2.8, 3, 4.24, 5, 6.07])\n",
    "\n",
    "confidence_level = 0.95\n",
    "\n",
    "r = np.corrcoef(x, y)[0, 1]\n",
    "\n",
    "z_transformed = 0.5 * np.log((1 + r) / (1 - r))\n",
    "\n",
    "n = len(x)\n",
    "std_error_z = 1 / np.sqrt(n - 3)\n",
    "\n",
    "alpha = 1 - confidence_level\n",
    "z_critical_lower = sp.stats.norm.ppf(alpha / 2)\n",
    "z_critical_upper = sp.stats.norm.ppf(1 - alpha / 2)\n",
    "\n",
    "z_lower = z_transformed - z_critical_upper * std_error_z\n",
    "z_upper = z_transformed + z_critical_upper * std_error_z\n",
    "\n",
    "lower_limit = (np.exp(2 * z_lower) - 1) / (np.exp(2 * z_lower) + 1)\n",
    "upper_limit = (np.exp(2 * z_upper) - 1) / (np.exp(2 * z_upper) + 1)\n",
    "\n",
    "print(f\"Confidence Interval for Correlation Coefficient: ({lower_limit:.2f}, {upper_limit:.2f})\")"
   ]
  },
  {
   "cell_type": "code",
   "execution_count": null,
   "id": "f6f88b4d",
   "metadata": {},
   "outputs": [],
   "source": []
  }
 ],
 "metadata": {
  "kernelspec": {
   "display_name": "Python 3 (ipykernel)",
   "language": "python",
   "name": "python3"
  },
  "language_info": {
   "codemirror_mode": {
    "name": "ipython",
    "version": 3
   },
   "file_extension": ".py",
   "mimetype": "text/x-python",
   "name": "python",
   "nbconvert_exporter": "python",
   "pygments_lexer": "ipython3",
   "version": "3.11.3"
  }
 },
 "nbformat": 4,
 "nbformat_minor": 5
}
