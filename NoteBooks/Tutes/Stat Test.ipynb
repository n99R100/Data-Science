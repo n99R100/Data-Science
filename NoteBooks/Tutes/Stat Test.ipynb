{
 "cells": [
  {
   "cell_type": "markdown",
   "id": "c99d751b",
   "metadata": {},
   "source": [
    "<h1><font face = \"Times\"; size = 15; color = \"red\"> Statistical Tests "
   ]
  },
  {
   "cell_type": "markdown",
   "id": "cec478f7",
   "metadata": {},
   "source": [
    "<font face=\"Callibre\">\n",
    "<i>Parametric and non-parametric tests are two broad categories of statistical tests used to analyze data in different ways, depending on the characteristics of the data and the assumptions that can be made about the population from which the data is sampled. Here's an overview of both types:</i><br>\n",
    "    \n",
    "1. Parametric Tests:\n",
    "\n",
    "- T-Test: Used for comparing the means of two groups to determine if they are significantly different. It assumes that the data follows a normal distribution and that the variances of the two groups are approximately equal. Variants include the independent samples t-test and paired samples t-test.\n",
    "\n",
    "- Analysis of Variance (ANOVA): Used to compare the means of three or more groups to determine if there are statistically significant differences among them. ANOVA assumes that the data is normally distributed and that the variances are approximately equal.\n",
    "\n",
    "- Linear Regression: Used to model the relationship between a dependent variable and one or more independent variables. It assumes that the relationship is linear and that the residuals (the differences between observed and predicted values) are normally distributed.\n",
    "\n",
    "- Chi-Square Test: Used for analyzing categorical data, such as frequency counts or proportions. It is used to determine if there is an association between two categorical variables.\n",
    "\n",
    "- F-Test: Often used in ANOVA to test if there are significant differences in variances among groups. It is used to assess the homogeneity of variances assumption.\n",
    "\n",
    "**Parametric tests are powerful when their assumptions are met, but they may produce inaccurate results if these assumptions are violated.**\n",
    "\n",
    "2. Non-Parametric Tests:\n",
    "\n",
    "- Mann-Whitney U Test: A non-parametric alternative to the independent samples t-test, used to compare two independent groups when the assumption of normality is not met.\n",
    "\n",
    "- Wilcoxon Signed-Rank Test: A non-parametric alternative to the paired samples t-test, used to compare two related groups when the assumption of normality is not met.\n",
    "\n",
    "- Kruskal-Wallis Test: A non-parametric alternative to one-way ANOVA, used to compare three or more independent groups when the assumption of normality is not met.\n",
    "\n",
    "- Chi-Square Test of Independence: Non-parametric version of the chi-square test, used to analyze the association between two categorical variables.\n",
    "\n",
    "- Spearman's Rank Correlation: A non-parametric alternative to Pearson's correlation coefficient, used to assess the strength and direction of the relationship between two variables when the assumption of linearity is not met.\n",
    "\n",
    "**Non-parametric tests are less sensitive to data distribution assumptions and are often used when data do not meet the assumptions of parametric tests or when dealing with ordinal or nominal data.**"
   ]
  },
  {
   "cell_type": "markdown",
   "id": "a654b3ad",
   "metadata": {},
   "source": [
    "# T-test"
   ]
  },
  {
   "cell_type": "code",
   "execution_count": 1,
   "id": "39bf3123",
   "metadata": {},
   "outputs": [
    {
     "name": "stdout",
     "output_type": "stream",
     "text": [
      "T-Statistic: -0.3097891054043949\n",
      "P-Value: 0.7646371797244251\n"
     ]
    }
   ],
   "source": [
    "import numpy as np\n",
    "from scipy import stats\n",
    "\n",
    "class_a_scores = [85, 92, 88, 78, 95]\n",
    "class_b_scores = [88, 90, 84, 92, 89]\n",
    "\n",
    "t_stat, p_value = stats.ttest_ind(class_a_scores, class_b_scores)\n",
    "print(f\"T-Statistic: {t_stat}\")\n",
    "print(f\"P-Value: {p_value}\")"
   ]
  },
  {
   "cell_type": "markdown",
   "id": "b68a480d",
   "metadata": {},
   "source": [
    "**Interpretation: If the p-value is less than the significance level (e.g., 0.05), we can conclude that there is a significant difference in test scores between the two classes.**"
   ]
  },
  {
   "cell_type": "markdown",
   "id": "4e4534fd",
   "metadata": {},
   "source": [
    "# ANOVA"
   ]
  },
  {
   "cell_type": "code",
   "execution_count": 2,
   "id": "ed77cf6c",
   "metadata": {},
   "outputs": [
    {
     "name": "stdout",
     "output_type": "stream",
     "text": [
      "F-Statistic: 1.6337625178826896\n",
      "P-Value: 0.23576299034013118\n"
     ]
    }
   ],
   "source": [
    "import numpy as np\n",
    "from scipy import stats\n",
    "\n",
    "school_a_scores = [85, 92, 88, 78, 95]\n",
    "school_b_scores = [88, 90, 84, 92, 89]\n",
    "school_c_scores = [78, 85, 80, 88, 86]\n",
    "\n",
    "f_stat, p_value = stats.f_oneway(school_a_scores, school_b_scores, school_c_scores)\n",
    "print(f\"F-Statistic: {f_stat}\")\n",
    "print(f\"P-Value: {p_value}\")"
   ]
  },
  {
   "cell_type": "markdown",
   "id": "e156e02b",
   "metadata": {},
   "source": [
    "**Interpretation: If the p-value is less than the significance level (e.g., 0.05), we can conclude that there is a significant difference in mean test scores among the three schools.**"
   ]
  },
  {
   "cell_type": "markdown",
   "id": "025113a1",
   "metadata": {},
   "source": [
    "# Linear Regression"
   ]
  },
  {
   "cell_type": "code",
   "execution_count": 8,
   "id": "10769211",
   "metadata": {},
   "outputs": [
    {
     "name": "stdout",
     "output_type": "stream",
     "text": [
      "                            OLS Regression Results                            \n",
      "==============================================================================\n",
      "Dep. Variable:                      y   R-squared:                       0.000\n",
      "Model:                            OLS   Adj. R-squared:                 -0.021\n",
      "Method:                 Least Squares   F-statistic:                 0.0001869\n",
      "Date:                Sun, 27 Aug 2023   Prob (F-statistic):              0.989\n",
      "Time:                        17:18:59   Log-Likelihood:                -642.99\n",
      "No. Observations:                  50   AIC:                             1290.\n",
      "Df Residuals:                      48   BIC:                             1294.\n",
      "Df Model:                           1                                         \n",
      "Covariance Type:            nonrobust                                         \n",
      "==============================================================================\n",
      "                 coef    std err          t      P>|t|      [0.025      0.975]\n",
      "------------------------------------------------------------------------------\n",
      "const       3.042e+05   5.61e+04      5.423      0.000    1.91e+05    4.17e+05\n",
      "x1             0.4482     32.778      0.014      0.989     -65.457      66.353\n",
      "==============================================================================\n",
      "Omnibus:                       19.321   Durbin-Watson:                   1.904\n",
      "Prob(Omnibus):                  0.000   Jarque-Bera (JB):                3.757\n",
      "Skew:                          -0.119   Prob(JB):                        0.153\n",
      "Kurtosis:                       1.678   Cond. No.                     7.15e+03\n",
      "==============================================================================\n",
      "\n",
      "Notes:\n",
      "[1] Standard Errors assume that the covariance matrix of the errors is correctly specified.\n",
      "[2] The condition number is large, 7.15e+03. This might indicate that there are\n",
      "strong multicollinearity or other numerical problems.\n"
     ]
    }
   ],
   "source": [
    "import numpy as np\n",
    "import statsmodels.api as sm\n",
    "\n",
    "# Sample data\n",
    "house_sizes = np.random.randint(1000, 2500, 50)\n",
    "house_prices = np.random.randint(150, 450, 50) * 1000\n",
    "\n",
    "# Add a constant for the intercept\n",
    "X = sm.add_constant(house_sizes)\n",
    "\n",
    "# Create the linear regression model\n",
    "model = sm.OLS(house_prices, X).fit()\n",
    "\n",
    "# Print the regression summary\n",
    "print(model.summary())\n"
   ]
  },
  {
   "cell_type": "markdown",
   "id": "98a8e58e",
   "metadata": {},
   "source": [
    "# Chi-square test"
   ]
  },
  {
   "cell_type": "code",
   "execution_count": 4,
   "id": "915fed5e",
   "metadata": {
    "scrolled": true
   },
   "outputs": [
    {
     "name": "stdout",
     "output_type": "stream",
     "text": [
      "Chi-Square Statistic: 3.247343611357586\n",
      "P-Value: 0.7772233511167025\n"
     ]
    }
   ],
   "source": [
    "import numpy as np\n",
    "from scipy.stats import chi2_contingency\n",
    "\n",
    "data = np.array([[30, 25, 15], [40, 35, 30], [20, 15, 10], [10, 5, 8]])\n",
    "\n",
    "chi2_stat, p_value, dof, expected_data = chi2_contingency(data)\n",
    "print(f\"Chi-Square Statistic: {chi2_stat}\")\n",
    "print(f\"P-Value: {p_value}\")"
   ]
  },
  {
   "cell_type": "markdown",
   "id": "c12c3e3a",
   "metadata": {},
   "source": [
    "**Interpretation: If the p-value is less than the significance level (e.g., 0.05), we can conclude that there is a significant association between \"Region\" and \"Product Type.\"**"
   ]
  },
  {
   "cell_type": "markdown",
   "id": "d0ca080a",
   "metadata": {},
   "source": [
    "# Mann-whitney U test"
   ]
  },
  {
   "cell_type": "code",
   "execution_count": 5,
   "id": "a7ce5a12",
   "metadata": {
    "scrolled": true
   },
   "outputs": [
    {
     "name": "stdout",
     "output_type": "stream",
     "text": [
      "Mann-Whitney U Statistic: 17.5\n",
      "P-Value: 0.345741825860727\n"
     ]
    }
   ],
   "source": [
    "import numpy as np\n",
    "from scipy.stats import mannwhitneyu\n",
    "\n",
    "group_a_scores = [60, 70, 75, 80, 85]\n",
    "group_b_scores = [55, 65, 70, 72, 78]\n",
    "\n",
    "stat, p_value = mannwhitneyu(group_a_scores, group_b_scores)\n",
    "print(f\"Mann-Whitney U Statistic: {stat}\")\n",
    "print(f\"P-Value: {p_value}\")"
   ]
  },
  {
   "cell_type": "markdown",
   "id": "252f13c4",
   "metadata": {},
   "source": [
    "**Interpretation: If the p-value is less than the significance level, we can conclude that there is a significant difference in scores between the two groups.**"
   ]
  },
  {
   "cell_type": "markdown",
   "id": "292ced43",
   "metadata": {},
   "source": [
    "# Wilcoxon Signed-Rank Test"
   ]
  },
  {
   "cell_type": "code",
   "execution_count": 6,
   "id": "bc5cc085",
   "metadata": {
    "scrolled": true
   },
   "outputs": [
    {
     "name": "stdout",
     "output_type": "stream",
     "text": [
      "Wilcoxon Signed-Rank Statistic: 0.0\n",
      "P-Value: 0.0625\n"
     ]
    }
   ],
   "source": [
    "import numpy as np\n",
    "from scipy.stats import wilcoxon\n",
    "\n",
    "scores_before = [60, 70, 75, 80, 85]\n",
    "scores_after = [65, 75, 80, 85, 90]\n",
    "\n",
    "stat, p_value = wilcoxon(scores_before, scores_after)\n",
    "print(f\"Wilcoxon Signed-Rank Statistic: {stat}\")\n",
    "print(f\"P-Value: {p_value}\")"
   ]
  },
  {
   "cell_type": "markdown",
   "id": "2525b41a",
   "metadata": {},
   "source": [
    "**Interpretation: If the p-value is less than the significance level, we can conclude that there is a significant difference in scores before and after the tutoring program.**"
   ]
  },
  {
   "cell_type": "code",
   "execution_count": null,
   "id": "5e8c0155",
   "metadata": {},
   "outputs": [],
   "source": []
  }
 ],
 "metadata": {
  "kernelspec": {
   "display_name": "Python 3 (ipykernel)",
   "language": "python",
   "name": "python3"
  },
  "language_info": {
   "codemirror_mode": {
    "name": "ipython",
    "version": 3
   },
   "file_extension": ".py",
   "mimetype": "text/x-python",
   "name": "python",
   "nbconvert_exporter": "python",
   "pygments_lexer": "ipython3",
   "version": "3.11.3"
  }
 },
 "nbformat": 4,
 "nbformat_minor": 5
}
