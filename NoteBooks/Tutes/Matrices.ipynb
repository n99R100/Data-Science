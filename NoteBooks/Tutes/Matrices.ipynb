{
 "cells": [
  {
   "cell_type": "code",
   "execution_count": 1,
   "id": "c5d60bf1-5b9c-4d95-9327-2812b83584de",
   "metadata": {
    "tags": []
   },
   "outputs": [],
   "source": [
    "import numpy as np"
   ]
  },
  {
   "cell_type": "markdown",
   "id": "b9c0edcf-183c-4f60-b22c-524222653be0",
   "metadata": {},
   "source": [
    "<h1> <font size = 15; color = 'tomato'>1. Applications of Matrices and Determinants"
   ]
  },
  {
   "cell_type": "markdown",
   "id": "8ab455fb-e8bb-44e1-849e-500d886bedfd",
   "metadata": {
    "jp-MarkdownHeadingCollapsed": true,
    "tags": []
   },
   "source": [
    "## 1.1 Matrices"
   ]
  },
  {
   "cell_type": "markdown",
   "id": "923a033c-420a-444a-b0a0-9ac8b1824609",
   "metadata": {},
   "source": [
    "- Row matrices"
   ]
  },
  {
   "cell_type": "code",
   "execution_count": 2,
   "id": "cedf427a-1e6c-4b5c-aa11-7fc439b08b9b",
   "metadata": {
    "tags": []
   },
   "outputs": [],
   "source": [
    "A = np.array([1,2,3])"
   ]
  },
  {
   "cell_type": "code",
   "execution_count": 3,
   "id": "80058404-ba33-462b-9a1f-d91e2af7449f",
   "metadata": {
    "tags": []
   },
   "outputs": [
    {
     "data": {
      "text/plain": [
       "array([1, 2, 3])"
      ]
     },
     "execution_count": 3,
     "metadata": {},
     "output_type": "execute_result"
    }
   ],
   "source": [
    "A"
   ]
  },
  {
   "cell_type": "markdown",
   "id": "ad9ced9b-a8a2-4814-9f3d-c11381e808ef",
   "metadata": {},
   "source": [
    "- coloumn matrices"
   ]
  },
  {
   "cell_type": "code",
   "execution_count": 4,
   "id": "8140eceb-df55-4a82-bad3-e33bd19ed6e6",
   "metadata": {
    "tags": []
   },
   "outputs": [],
   "source": [
    "A = np.ones((3,1))"
   ]
  },
  {
   "cell_type": "code",
   "execution_count": 5,
   "id": "2e251b6c-b4d7-4269-a152-afbd0570fc22",
   "metadata": {
    "tags": []
   },
   "outputs": [
    {
     "data": {
      "text/plain": [
       "array([[1.],\n",
       "       [1.],\n",
       "       [1.]])"
      ]
     },
     "execution_count": 5,
     "metadata": {},
     "output_type": "execute_result"
    }
   ],
   "source": [
    "A"
   ]
  },
  {
   "cell_type": "markdown",
   "id": "bddf131d-d9c6-4072-a0cc-0f60706b55ca",
   "metadata": {
    "tags": []
   },
   "source": [
    "- Square matrices"
   ]
  },
  {
   "cell_type": "code",
   "execution_count": 7,
   "id": "4b3fe2b9-6b6b-4266-8f36-65d3e3b23a75",
   "metadata": {
    "tags": []
   },
   "outputs": [],
   "source": [
    "A = np.random.rand(2,2)"
   ]
  },
  {
   "cell_type": "code",
   "execution_count": 8,
   "id": "23ee20bb-280a-4e8a-a2be-499dcc84a025",
   "metadata": {
    "tags": []
   },
   "outputs": [
    {
     "data": {
      "text/plain": [
       "array([[0.62041954, 0.42004231],\n",
       "       [0.46397923, 0.94473767]])"
      ]
     },
     "execution_count": 8,
     "metadata": {},
     "output_type": "execute_result"
    }
   ],
   "source": [
    "A"
   ]
  },
  {
   "cell_type": "code",
   "execution_count": 9,
   "id": "870ec61a-24bc-4a37-a6c7-f5cadca17a65",
   "metadata": {
    "tags": []
   },
   "outputs": [],
   "source": [
    "A = np.random.rand(3,3)"
   ]
  },
  {
   "cell_type": "code",
   "execution_count": 10,
   "id": "383a6e04-53e4-4490-821e-96215ca73919",
   "metadata": {
    "tags": []
   },
   "outputs": [
    {
     "data": {
      "text/plain": [
       "array([[0.85908373, 0.73668952, 0.97405196],\n",
       "       [0.99999348, 0.21621668, 0.46574237],\n",
       "       [0.54202594, 0.66299458, 0.9998907 ]])"
      ]
     },
     "execution_count": 10,
     "metadata": {},
     "output_type": "execute_result"
    }
   ],
   "source": [
    "A"
   ]
  },
  {
   "cell_type": "markdown",
   "id": "d947a461-31cc-4998-8fb5-fecd8594e6f9",
   "metadata": {},
   "source": [
    "- Identity Matrices"
   ]
  },
  {
   "cell_type": "code",
   "execution_count": 12,
   "id": "d51f6240-d869-4ab5-9101-d5e5f3b1f67d",
   "metadata": {
    "tags": []
   },
   "outputs": [],
   "source": [
    "A = np.identity(3)"
   ]
  },
  {
   "cell_type": "code",
   "execution_count": 13,
   "id": "b78da925-25cb-41b6-b3fb-56c075b1b135",
   "metadata": {
    "tags": []
   },
   "outputs": [
    {
     "data": {
      "text/plain": [
       "array([[1., 0., 0.],\n",
       "       [0., 1., 0.],\n",
       "       [0., 0., 1.]])"
      ]
     },
     "execution_count": 13,
     "metadata": {},
     "output_type": "execute_result"
    }
   ],
   "source": [
    "A"
   ]
  },
  {
   "cell_type": "markdown",
   "id": "7c4b6941-9755-492a-83f2-fb7f44e05b1e",
   "metadata": {},
   "source": [
    "- upper triangular matrices"
   ]
  },
  {
   "cell_type": "code",
   "execution_count": 17,
   "id": "6ac56c50-1785-4150-9c03-f3bdd674ac15",
   "metadata": {
    "tags": []
   },
   "outputs": [
    {
     "data": {
      "text/plain": [
       "array([[0., 0., 0.],\n",
       "       [0., 0., 0.],\n",
       "       [0., 0., 0.]])"
      ]
     },
     "execution_count": 17,
     "metadata": {},
     "output_type": "execute_result"
    }
   ],
   "source": [
    "A = np.zeros((3,3))\n",
    "A"
   ]
  },
  {
   "cell_type": "code",
   "execution_count": 18,
   "id": "e2f600dc-3e1b-4153-89a2-e2d605770180",
   "metadata": {
    "tags": []
   },
   "outputs": [
    {
     "data": {
      "text/plain": [
       "array([[0., 0., 0.],\n",
       "       [1., 0., 0.],\n",
       "       [1., 1., 0.]])"
      ]
     },
     "execution_count": 18,
     "metadata": {},
     "output_type": "execute_result"
    }
   ],
   "source": [
    "A[1][0] = 1\n",
    "A[2][0] = 1\n",
    "A[2][1] = 1\n",
    "\n",
    "A"
   ]
  },
  {
   "cell_type": "markdown",
   "id": "8c8a3c92-fd44-4161-a72c-f263a6f44223",
   "metadata": {},
   "source": [
    "- Lower triangular matrices"
   ]
  },
  {
   "cell_type": "code",
   "execution_count": 19,
   "id": "7f362e30-97fc-4c4e-a20c-d0a16c703c23",
   "metadata": {
    "tags": []
   },
   "outputs": [
    {
     "data": {
      "text/plain": [
       "array([[0., 0., 0.],\n",
       "       [0., 0., 0.],\n",
       "       [0., 0., 0.]])"
      ]
     },
     "execution_count": 19,
     "metadata": {},
     "output_type": "execute_result"
    }
   ],
   "source": [
    "A = np.zeros((3,3))\n",
    "A"
   ]
  },
  {
   "cell_type": "code",
   "execution_count": 20,
   "id": "990f3042-b4af-47d2-885e-c04a799375db",
   "metadata": {
    "tags": []
   },
   "outputs": [
    {
     "data": {
      "text/plain": [
       "array([[0., 1., 1.],\n",
       "       [0., 0., 1.],\n",
       "       [0., 0., 0.]])"
      ]
     },
     "execution_count": 20,
     "metadata": {},
     "output_type": "execute_result"
    }
   ],
   "source": [
    "A[0][1] = 1\n",
    "A[0][2] = 1\n",
    "A[1][2] = 1\n",
    "\n",
    "A"
   ]
  },
  {
   "cell_type": "markdown",
   "id": "c0665ea7-1c2d-4794-859a-32812473dc4b",
   "metadata": {},
   "source": [
    "- Diagonal matrices"
   ]
  },
  {
   "cell_type": "code",
   "execution_count": 22,
   "id": "c7fff11f-32c5-48a7-8ae4-632902019d4a",
   "metadata": {
    "tags": []
   },
   "outputs": [
    {
     "data": {
      "text/plain": [
       "array([[3, 0, 0],\n",
       "       [0, 5, 0],\n",
       "       [0, 0, 7]])"
      ]
     },
     "execution_count": 22,
     "metadata": {},
     "output_type": "execute_result"
    }
   ],
   "source": [
    "A = np.array([[3,0,0],\n",
    "              [0,5,0],\n",
    "              [0,0,7]])\n",
    "\n",
    "A"
   ]
  },
  {
   "cell_type": "markdown",
   "id": "1b96706c-1554-4f4d-899e-dc5041ad039f",
   "metadata": {
    "jp-MarkdownHeadingCollapsed": true,
    "tags": []
   },
   "source": [
    "## 1.2 Determinant of a matrix"
   ]
  },
  {
   "cell_type": "markdown",
   "id": "69d28b63-2962-4be5-bb1b-cb9acb67f584",
   "metadata": {},
   "source": [
    "The determinant of a square matrix is a scalar value that can be computed from the elements of the matrix. It provides important information about the matrix's properties, including whether the matrix is invertible (non-singular) or singular, and how much the matrix scales the space when used as a linear transformation.\n",
    "\n",
    "For a square matrix A of size $n \\times n$ the determinant is usually denoted as $\\vert A \\vert$ or $\\text{det(A)}$."
   ]
  },
  {
   "cell_type": "code",
   "execution_count": 53,
   "id": "df1efba6-2d16-4fe7-a28a-0e31ef62d8d8",
   "metadata": {
    "tags": []
   },
   "outputs": [
    {
     "data": {
      "text/plain": [
       "array([[0.3900384 , 0.43638638],\n",
       "       [0.72176428, 0.90709893]])"
      ]
     },
     "execution_count": 53,
     "metadata": {},
     "output_type": "execute_result"
    }
   ],
   "source": [
    "A = np.random.rand(2,2)\n",
    "A"
   ]
  },
  {
   "cell_type": "code",
   "execution_count": 54,
   "id": "933585e2-5b89-45b5-a1aa-975df5f4208b",
   "metadata": {
    "tags": []
   },
   "outputs": [
    {
     "data": {
      "text/plain": [
       "0.0388353172391506"
      ]
     },
     "execution_count": 54,
     "metadata": {},
     "output_type": "execute_result"
    }
   ],
   "source": [
    " np.linalg.det(A)"
   ]
  },
  {
   "cell_type": "code",
   "execution_count": 56,
   "id": "ff513e68-9ac2-423c-b084-7e6b9577d9e3",
   "metadata": {
    "tags": []
   },
   "outputs": [
    {
     "data": {
      "text/plain": [
       "array([[1, 3, 1],\n",
       "       [4, 2, 3],\n",
       "       [0, 1, 0]])"
      ]
     },
     "execution_count": 56,
     "metadata": {},
     "output_type": "execute_result"
    }
   ],
   "source": [
    "A = np.random.randint(0,5,(3,3))\n",
    "\n",
    "A"
   ]
  },
  {
   "cell_type": "code",
   "execution_count": 57,
   "id": "2b1ed49c-ae55-412f-88fc-c88eeaf03b95",
   "metadata": {
    "tags": []
   },
   "outputs": [
    {
     "data": {
      "text/plain": [
       "1.0000000000000004"
      ]
     },
     "execution_count": 57,
     "metadata": {},
     "output_type": "execute_result"
    }
   ],
   "source": [
    " np.linalg.det(A)"
   ]
  },
  {
   "cell_type": "code",
   "execution_count": 58,
   "id": "29e34f84-6221-4e1d-a2ba-6ac18a43182e",
   "metadata": {
    "tags": []
   },
   "outputs": [
    {
     "data": {
      "text/plain": [
       "array([[0.95045243, 0.95839719, 0.86136212, 0.17431325],\n",
       "       [0.93948705, 0.77872936, 0.3335935 , 0.96448814],\n",
       "       [0.24857614, 0.50710294, 0.85311338, 0.65874935],\n",
       "       [0.25249573, 0.66991961, 0.30506346, 0.84024745]])"
      ]
     },
     "execution_count": 58,
     "metadata": {},
     "output_type": "execute_result"
    }
   ],
   "source": [
    "A = np.random.rand(4,4)\n",
    "\n",
    "A"
   ]
  },
  {
   "cell_type": "code",
   "execution_count": 59,
   "id": "30199102-ed67-4d26-a2ce-b2ce0f83bb50",
   "metadata": {
    "tags": []
   },
   "outputs": [
    {
     "data": {
      "text/plain": [
       "-0.27912298517630363"
      ]
     },
     "execution_count": 59,
     "metadata": {},
     "output_type": "execute_result"
    }
   ],
   "source": [
    " np.linalg.det(A)"
   ]
  },
  {
   "cell_type": "markdown",
   "id": "1d7be174-ebce-454e-99fd-055aaaaf22fc",
   "metadata": {
    "jp-MarkdownHeadingCollapsed": true,
    "tags": []
   },
   "source": [
    "## 1.3 Rank of a matrix"
   ]
  },
  {
   "cell_type": "markdown",
   "id": "4b1be668-8c1e-474c-bdeb-107d0116a6a4",
   "metadata": {},
   "source": [
    "The rank of a matrix *A* is the order of the largest non-zero minor of A and is denoted by $r(A)$. In other words, A positive integer ‘$r$’ is said to be the rank of a non-zero matrix A, if\n",
    "\n",
    "1. there is atleast one minor of A of order ‘$r$’ which is not zero and\n",
    "2. every minor of A of order greater than ‘$r$’ is zero.\n",
    "\n",
    "1. $r(A) \\geq 0$\n",
    "2. If A is a matrix of order $m \\times n$ , then $r(A) \\leq \\text {minimum of {m,n}}$,\n",
    "3. The rank of a zero matrix is ‘$0$’ \n",
    "4. The rank of a non-singular matrix of order $n \\times n$ is ‘$n$’"
   ]
  },
  {
   "cell_type": "code",
   "execution_count": 43,
   "id": "48b2461b-90be-4938-a792-b2f0da492bc6",
   "metadata": {
    "tags": []
   },
   "outputs": [
    {
     "data": {
      "text/plain": [
       "array([[1, 5],\n",
       "       [3, 9]])"
      ]
     },
     "execution_count": 43,
     "metadata": {},
     "output_type": "execute_result"
    }
   ],
   "source": [
    "A = np.array([[1,5],\n",
    "              [3,9]])\n",
    "\n",
    "A"
   ]
  },
  {
   "cell_type": "code",
   "execution_count": 45,
   "id": "e229bca5-233c-4a40-ae72-087a0226d2a5",
   "metadata": {
    "tags": []
   },
   "outputs": [
    {
     "data": {
      "text/plain": [
       "2"
      ]
     },
     "execution_count": 45,
     "metadata": {},
     "output_type": "execute_result"
    }
   ],
   "source": [
    "np.linalg.matrix_rank(A)"
   ]
  },
  {
   "cell_type": "code",
   "execution_count": 46,
   "id": "f1e7d47f-d592-4fe2-9a5a-62e850b0cbb9",
   "metadata": {
    "tags": []
   },
   "outputs": [
    {
     "data": {
      "text/plain": [
       "array([[0.26292669, 0.92643754, 0.94116585, 0.13970339],\n",
       "       [0.97580844, 0.2392863 , 0.64429113, 0.29175236],\n",
       "       [0.94626211, 0.49240124, 0.99446635, 0.16683428],\n",
       "       [0.13286862, 0.57332387, 0.02186093, 0.59438369]])"
      ]
     },
     "execution_count": 46,
     "metadata": {},
     "output_type": "execute_result"
    }
   ],
   "source": [
    "A = np.random.rand(4,4)\n",
    "A"
   ]
  },
  {
   "cell_type": "code",
   "execution_count": 47,
   "id": "74a189d2-ffbc-45ec-9110-bcc267c30aee",
   "metadata": {
    "tags": []
   },
   "outputs": [
    {
     "data": {
      "text/plain": [
       "4"
      ]
     },
     "execution_count": 47,
     "metadata": {},
     "output_type": "execute_result"
    }
   ],
   "source": [
    "np.linalg.matrix_rank(A)"
   ]
  },
  {
   "cell_type": "code",
   "execution_count": 48,
   "id": "acd2eb42-87fe-4636-8640-0720ed625b5f",
   "metadata": {
    "tags": []
   },
   "outputs": [
    {
     "data": {
      "text/plain": [
       "array([[-5, -7],\n",
       "       [ 5,  7]])"
      ]
     },
     "execution_count": 48,
     "metadata": {},
     "output_type": "execute_result"
    }
   ],
   "source": [
    "A = np.array([[-5, -7],\n",
    "              [5, 7]])\n",
    "\n",
    "A"
   ]
  },
  {
   "cell_type": "code",
   "execution_count": 49,
   "id": "b56e7102-b885-4a3e-8042-69c410b8fe5c",
   "metadata": {
    "tags": []
   },
   "outputs": [
    {
     "data": {
      "text/plain": [
       "1"
      ]
     },
     "execution_count": 49,
     "metadata": {},
     "output_type": "execute_result"
    }
   ],
   "source": [
    "np.linalg.matrix_rank(A)"
   ]
  },
  {
   "cell_type": "code",
   "execution_count": 51,
   "id": "098eb0a2-6ee2-4f1d-a265-73339db147d5",
   "metadata": {
    "tags": []
   },
   "outputs": [
    {
     "data": {
      "text/plain": [
       "array([[4, 8, 8],\n",
       "       [4, 3, 3]])"
      ]
     },
     "execution_count": 51,
     "metadata": {},
     "output_type": "execute_result"
    }
   ],
   "source": [
    "A = np.random.randint(0,10,(2,3))\n",
    "A"
   ]
  },
  {
   "cell_type": "code",
   "execution_count": 52,
   "id": "f5b6c828-db4d-45a8-945c-082143a21d98",
   "metadata": {
    "tags": []
   },
   "outputs": [
    {
     "data": {
      "text/plain": [
       "2"
      ]
     },
     "execution_count": 52,
     "metadata": {},
     "output_type": "execute_result"
    }
   ],
   "source": [
    "np.linalg.matrix_rank(A)"
   ]
  },
  {
   "cell_type": "markdown",
   "id": "8fc1461c-1f90-4870-b12a-4900b7f436f5",
   "metadata": {
    "jp-MarkdownHeadingCollapsed": true,
    "tags": []
   },
   "source": [
    "## 1.4 Trigonometrics, Logorithms and exponentials"
   ]
  },
  {
   "cell_type": "code",
   "execution_count": 2,
   "id": "7bae03bc-aa38-4a9c-9be3-5051516bfda7",
   "metadata": {
    "tags": []
   },
   "outputs": [
    {
     "data": {
      "text/plain": [
       "array([[-0.3352518 , -1.06991124, -0.84570017],\n",
       "       [ 0.22527388,  0.59112492, -0.23036776],\n",
       "       [ 1.57424515,  0.07396279, -0.66973478]])"
      ]
     },
     "execution_count": 2,
     "metadata": {},
     "output_type": "execute_result"
    }
   ],
   "source": [
    "A = np.random.randn(3,3)\n",
    "\n",
    "A"
   ]
  },
  {
   "cell_type": "code",
   "execution_count": 3,
   "id": "1e9fb338-f21b-4a1e-a892-096f8171f9ba",
   "metadata": {
    "tags": []
   },
   "outputs": [
    {
     "data": {
      "text/plain": [
       "array([[-0.32900696, -0.87715789, -0.74843565],\n",
       "       [ 0.22337333,  0.55729541, -0.22833558],\n",
       "       [ 0.99999405,  0.07389538, -0.62077808]])"
      ]
     },
     "execution_count": 3,
     "metadata": {},
     "output_type": "execute_result"
    }
   ],
   "source": [
    "np.sin(A)"
   ]
  },
  {
   "cell_type": "code",
   "execution_count": 4,
   "id": "565c843e-fb87-4bd2-86a1-4908a35ca910",
   "metadata": {
    "tags": []
   },
   "outputs": [
    {
     "data": {
      "text/plain": [
       "array([[ 0.9443275 ,  0.48020209,  0.66320741],\n",
       "       [ 0.97473297,  0.83031429,  0.97358249],\n",
       "       [-0.00344882,  0.997266  ,  0.78398633]])"
      ]
     },
     "execution_count": 4,
     "metadata": {},
     "output_type": "execute_result"
    }
   ],
   "source": [
    "np.cos(A)"
   ]
  },
  {
   "cell_type": "code",
   "execution_count": 5,
   "id": "084b4f11-c593-4233-8fdc-eaafc4848a38",
   "metadata": {
    "tags": []
   },
   "outputs": [
    {
     "data": {
      "text/plain": [
       "array([[-3.48403455e-01, -1.82664322e+00, -1.12850918e+00],\n",
       "       [ 2.29163617e-01,  6.71186102e-01, -2.34531314e-01],\n",
       "       [-2.89952515e+02,  7.40979607e-02, -7.91822583e-01]])"
      ]
     },
     "execution_count": 5,
     "metadata": {},
     "output_type": "execute_result"
    }
   ],
   "source": [
    "np.tan(A)"
   ]
  },
  {
   "cell_type": "code",
   "execution_count": 6,
   "id": "3a0c1733-04fe-4de7-8333-05a71a7f55f2",
   "metadata": {
    "tags": []
   },
   "outputs": [
    {
     "data": {
      "text/plain": [
       "array([[-3.48403455e-01, -1.82664322e+00, -1.12850918e+00],\n",
       "       [ 2.29163617e-01,  6.71186102e-01, -2.34531314e-01],\n",
       "       [-2.89952515e+02,  7.40979607e-02, -7.91822583e-01]])"
      ]
     },
     "execution_count": 6,
     "metadata": {},
     "output_type": "execute_result"
    }
   ],
   "source": [
    "np.sin(A)/np.cos(A)"
   ]
  },
  {
   "cell_type": "code",
   "execution_count": 8,
   "id": "cd85cc04-6519-4526-98f7-b41112160962",
   "metadata": {
    "tags": []
   },
   "outputs": [
    {
     "data": {
      "text/plain": [
       "array([[-0.47462888,  0.02934775, -0.07278358],\n",
       "       [-0.64728916, -0.22832073, -0.63757831],\n",
       "       [ 0.19707237, -1.13098669, -0.17409714]])"
      ]
     },
     "execution_count": 8,
     "metadata": {},
     "output_type": "execute_result"
    }
   ],
   "source": [
    "np.log10(np.abs(A))"
   ]
  },
  {
   "cell_type": "code",
   "execution_count": 9,
   "id": "cb6860a8-8e3d-4d67-a6b2-0c4fa7695f10",
   "metadata": {
    "tags": []
   },
   "outputs": [
    {
     "data": {
      "text/plain": [
       "array([[-1.57668302,  0.09749112, -0.24178183],\n",
       "       [-2.15024804, -0.75846505, -2.11798929],\n",
       "       [ 0.65466023, -3.75705647, -0.57833819]])"
      ]
     },
     "execution_count": 9,
     "metadata": {},
     "output_type": "execute_result"
    }
   ],
   "source": [
    "np.log2(np.abs(A))"
   ]
  },
  {
   "cell_type": "code",
   "execution_count": 11,
   "id": "32d3fb57-586e-41be-8629-d734fa2b5407",
   "metadata": {
    "tags": []
   },
   "outputs": [
    {
     "data": {
      "text/plain": [
       "array([[-1.09287339,  0.06757569, -0.16759039],\n",
       "       [-1.49043837, -0.52572791, -1.46807831],\n",
       "       [ 0.45377589, -2.6041931 , -0.40087349]])"
      ]
     },
     "execution_count": 11,
     "metadata": {},
     "output_type": "execute_result"
    }
   ],
   "source": [
    "np.log(np.abs(A))"
   ]
  },
  {
   "cell_type": "code",
   "execution_count": 12,
   "id": "2d3d12b0-93d8-41f6-a96d-5f7927353b0f",
   "metadata": {
    "tags": []
   },
   "outputs": [
    {
     "data": {
      "text/plain": [
       "array([[0.71515799, 0.34303896, 0.4292567 ],\n",
       "       [1.25266575, 1.8060189 , 0.79424146],\n",
       "       [4.82709653, 1.07676674, 0.51184431]])"
      ]
     },
     "execution_count": 12,
     "metadata": {},
     "output_type": "execute_result"
    }
   ],
   "source": [
    "np.exp(A)"
   ]
  },
  {
   "cell_type": "code",
   "execution_count": 15,
   "id": "ad1fda88-fada-4c16-aa56-6ae3b2e20a90",
   "metadata": {
    "tags": []
   },
   "outputs": [
    {
     "data": {
      "text/plain": [
       "array([[3, 9, 0],\n",
       "       [3, 5, 8],\n",
       "       [7, 1, 2]])"
      ]
     },
     "execution_count": 15,
     "metadata": {},
     "output_type": "execute_result"
    }
   ],
   "source": [
    "A = np.random.randint(0,10,(3,3))\n",
    "A"
   ]
  },
  {
   "cell_type": "code",
   "execution_count": 16,
   "id": "8d9ef5f5-9f2d-4458-9507-db161193f9d0",
   "metadata": {
    "tags": []
   },
   "outputs": [
    {
     "data": {
      "text/plain": [
       "array([[ 9, 81,  0],\n",
       "       [ 9, 25, 64],\n",
       "       [49,  1,  4]])"
      ]
     },
     "execution_count": 16,
     "metadata": {},
     "output_type": "execute_result"
    }
   ],
   "source": [
    "A**2"
   ]
  },
  {
   "cell_type": "code",
   "execution_count": 17,
   "id": "8835199a-0196-4882-b995-15f619898370",
   "metadata": {
    "tags": []
   },
   "outputs": [
    {
     "data": {
      "text/plain": [
       "array([[1.73205081, 3.        , 0.        ],\n",
       "       [1.73205081, 2.23606798, 2.82842712],\n",
       "       [2.64575131, 1.        , 1.41421356]])"
      ]
     },
     "execution_count": 17,
     "metadata": {},
     "output_type": "execute_result"
    }
   ],
   "source": [
    "A**0.5"
   ]
  },
  {
   "cell_type": "code",
   "execution_count": 18,
   "id": "641824d5-e078-4337-82f0-59c520546367",
   "metadata": {
    "tags": []
   },
   "outputs": [
    {
     "data": {
      "text/plain": [
       "array([[ 9, 81,  0],\n",
       "       [ 9, 25, 64],\n",
       "       [49,  1,  4]])"
      ]
     },
     "execution_count": 18,
     "metadata": {},
     "output_type": "execute_result"
    }
   ],
   "source": [
    "A*A"
   ]
  },
  {
   "cell_type": "code",
   "execution_count": 20,
   "id": "2c8afbe0-ad49-43af-b521-176b309f41be",
   "metadata": {
    "tags": []
   },
   "outputs": [
    {
     "data": {
      "text/plain": [
       "array([[1.11111111e-01, 2.32305731e-08, 0.00000000e+00],\n",
       "       [1.11111111e-01, 1.60000000e-03, 4.76837158e-07],\n",
       "       [8.49985975e-06, 1.00000000e+00, 5.00000000e-01]])"
      ]
     },
     "execution_count": 20,
     "metadata": {},
     "output_type": "execute_result"
    }
   ],
   "source": [
    "A/A**A"
   ]
  },
  {
   "cell_type": "code",
   "execution_count": 21,
   "id": "b55dffce-5beb-41ba-b23a-3b94b87e3856",
   "metadata": {
    "tags": []
   },
   "outputs": [
    {
     "data": {
      "text/plain": [
       "array([[       27, 387420489,         1],\n",
       "       [       27,      3125,  16777216],\n",
       "       [   823543,         1,         4]])"
      ]
     },
     "execution_count": 21,
     "metadata": {},
     "output_type": "execute_result"
    }
   ],
   "source": [
    "A**A"
   ]
  },
  {
   "cell_type": "markdown",
   "id": "d97b973d-739e-4008-9b63-45eadd47e5f8",
   "metadata": {
    "jp-MarkdownHeadingCollapsed": true,
    "tags": []
   },
   "source": [
    "## 1.5 Inverse Matrices"
   ]
  },
  {
   "cell_type": "code",
   "execution_count": 55,
   "id": "736e853c-5114-44e8-9f1c-d872996b0b95",
   "metadata": {
    "tags": []
   },
   "outputs": [],
   "source": [
    "A = np.random.randint(1,10, (2,2))"
   ]
  },
  {
   "cell_type": "code",
   "execution_count": 56,
   "id": "9b86653e-21c6-447a-97fa-1ddb96203feb",
   "metadata": {
    "tags": []
   },
   "outputs": [
    {
     "data": {
      "text/plain": [
       "array([[ 0.33333333, -0.11111111],\n",
       "       [-0.5       ,  0.33333333]])"
      ]
     },
     "execution_count": 56,
     "metadata": {},
     "output_type": "execute_result"
    }
   ],
   "source": [
    "np.linalg.inv(A)"
   ]
  },
  {
   "cell_type": "code",
   "execution_count": 57,
   "id": "bfcaa16e-ee4f-4f50-aabf-cf15edab0429",
   "metadata": {
    "tags": []
   },
   "outputs": [],
   "source": [
    "A = np.random.randint(1,10, (3,3))"
   ]
  },
  {
   "cell_type": "code",
   "execution_count": 58,
   "id": "1388a629-d1e1-4a58-b725-76e53ca6dc43",
   "metadata": {
    "tags": []
   },
   "outputs": [
    {
     "data": {
      "text/plain": [
       "array([[ 0.14285714,  0.03571429, -0.10714286],\n",
       "       [-0.14285714,  0.15178571,  0.04464286],\n",
       "       [ 0.04761905, -0.1547619 ,  0.13095238]])"
      ]
     },
     "execution_count": 58,
     "metadata": {},
     "output_type": "execute_result"
    }
   ],
   "source": [
    "np.linalg.inv(A)"
   ]
  },
  {
   "cell_type": "markdown",
   "id": "93a00fa7-923c-4d3c-9ea7-fd29cdfa07fe",
   "metadata": {
    "jp-MarkdownHeadingCollapsed": true,
    "tags": []
   },
   "source": [
    "## 1.6 Linear Equations"
   ]
  },
  {
   "cell_type": "markdown",
   "id": "bd809123-9d00-460f-abe2-495e5c28c863",
   "metadata": {},
   "source": [
    "### 1.6.1 Single variable $[ A.X = B ]$ "
   ]
  },
  {
   "cell_type": "markdown",
   "id": "8294c522-b51e-4b3d-8824-f5a9e63825c0",
   "metadata": {},
   "source": [
    "If you have a single linear equation with a single variable, you can represent it in matrix form, although it might seem unnecessary for such a simple case. Nevertheless, the representation follows the same principles. Let's say you have the equation:\n",
    "\n",
    "$A \\mathcal X = B$\n",
    "\n",
    "This can be represented in matrix form as:\n",
    "\n",
    "$\\left[ A \\right] \\left[ \\mathcal X \\right] = \\left[ B \\right] $\n",
    "\n",
    "which can be solved by:\n",
    "\n",
    "$\\left[ \\mathcal X \\right] = \\left[ B \\right] / \\left[ A \\right] $"
   ]
  },
  {
   "cell_type": "code",
   "execution_count": 24,
   "id": "098bc0af-70b4-43ef-ab6d-ce3f08b9ef72",
   "metadata": {
    "tags": []
   },
   "outputs": [],
   "source": [
    "A = np.array([10])\n",
    "B = np.array([5])"
   ]
  },
  {
   "cell_type": "code",
   "execution_count": 25,
   "id": "82354a3d-ff4b-44e9-bdbd-e3aa0ca87551",
   "metadata": {
    "tags": []
   },
   "outputs": [
    {
     "data": {
      "text/plain": [
       "array([0.5])"
      ]
     },
     "execution_count": 25,
     "metadata": {},
     "output_type": "execute_result"
    }
   ],
   "source": [
    "B/A"
   ]
  },
  {
   "cell_type": "markdown",
   "id": "fdd2739e-7f7f-41c6-a9a2-c4f0323b8b7b",
   "metadata": {},
   "source": [
    "### 1.6.2 Two variables (Simulteneous equations)"
   ]
  },
  {
   "cell_type": "markdown",
   "id": "bdf1a1a8-0f05-4ae3-a1a8-c18dba947b57",
   "metadata": {},
   "source": [
    "If you have a system of linear equations with two variables, you can represent it in matrix form as well. Let's consider a system of two linear equations:\n",
    "\n",
    "$$A_{0,0} X + A_{0,1} Y = B_{0,0} \\\\\n",
    "A_{1,0} X + A_{1,1} Y = B_{1,0}$$\n",
    "\n",
    "$$\n",
    "\\begin{align*}\n",
    "\\begin{bmatrix}\n",
    "A_{0,0} & A_{0,1} \\\\\n",
    "A_{1,0} & A_{1,1} \\\\\n",
    "\\end{bmatrix}\n",
    "\\begin{bmatrix}\n",
    "X \\\\\n",
    "Y \\\\\n",
    "\\end{bmatrix}\n",
    "=\n",
    "\\begin{bmatrix}\n",
    "B_{0,0} \\\\\n",
    "B_{1,0} \\\\\n",
    "\\end{bmatrix}\n",
    "\\end{align*}\n",
    "$$\n"
   ]
  },
  {
   "cell_type": "code",
   "execution_count": 26,
   "id": "81e7c77d-c65e-4c5f-8c01-95210c4065bb",
   "metadata": {
    "tags": []
   },
   "outputs": [],
   "source": [
    "A = np.random.randn(2,2)\n",
    "B = np.random.randint(20,25,(2,1))"
   ]
  },
  {
   "cell_type": "code",
   "execution_count": 27,
   "id": "69d91ed7-abb7-42dd-b111-34fbebff70cf",
   "metadata": {
    "tags": []
   },
   "outputs": [
    {
     "data": {
      "text/plain": [
       "array([[-0.60941527, -0.1874349 ],\n",
       "       [ 0.03972641,  0.674203  ]])"
      ]
     },
     "execution_count": 27,
     "metadata": {},
     "output_type": "execute_result"
    }
   ],
   "source": [
    "A"
   ]
  },
  {
   "cell_type": "code",
   "execution_count": 28,
   "id": "0cf72c79-1945-4300-a3d9-38bccdf3ed4b",
   "metadata": {
    "tags": []
   },
   "outputs": [
    {
     "data": {
      "text/plain": [
       "array([[23],\n",
       "       [21]])"
      ]
     },
     "execution_count": 28,
     "metadata": {},
     "output_type": "execute_result"
    }
   ],
   "source": [
    "B"
   ]
  },
  {
   "cell_type": "code",
   "execution_count": 30,
   "id": "13059a75-e050-404d-b3c6-a362b201b009",
   "metadata": {
    "tags": []
   },
   "outputs": [
    {
     "data": {
      "text/plain": [
       "array([[-48.19452154],\n",
       "       [ 33.98767977]])"
      ]
     },
     "execution_count": 30,
     "metadata": {},
     "output_type": "execute_result"
    }
   ],
   "source": [
    "np.linalg.solve(A,B)"
   ]
  },
  {
   "cell_type": "markdown",
   "id": "0ccd8e94-5adb-466c-81ab-cadab1266690",
   "metadata": {},
   "source": [
    "### 1.6.3 More than two variables"
   ]
  },
  {
   "cell_type": "code",
   "execution_count": 44,
   "id": "899d085c-3c96-46f5-8788-08ed213b08ca",
   "metadata": {
    "tags": []
   },
   "outputs": [],
   "source": [
    "A = np.random.randint(1,100,(5,5))\n",
    "B = np.random.randint(2,25,(5,1))"
   ]
  },
  {
   "cell_type": "code",
   "execution_count": 45,
   "id": "d05eb080-149b-4f96-a9ba-d2d3bd4aff30",
   "metadata": {
    "tags": []
   },
   "outputs": [
    {
     "data": {
      "text/plain": [
       "array([[ 6, 56, 58, 81, 30],\n",
       "       [48, 94, 70, 87, 84],\n",
       "       [18, 54, 26, 79,  4],\n",
       "       [62, 21,  9, 98, 91],\n",
       "       [47, 49, 72, 74, 37]])"
      ]
     },
     "execution_count": 45,
     "metadata": {},
     "output_type": "execute_result"
    }
   ],
   "source": [
    "A"
   ]
  },
  {
   "cell_type": "code",
   "execution_count": 46,
   "id": "d487058d-7b11-4566-b47b-611a7035b194",
   "metadata": {
    "tags": []
   },
   "outputs": [
    {
     "data": {
      "text/plain": [
       "array([[11],\n",
       "       [ 5],\n",
       "       [ 9],\n",
       "       [24],\n",
       "       [ 8]])"
      ]
     },
     "execution_count": 46,
     "metadata": {},
     "output_type": "execute_result"
    }
   ],
   "source": [
    "B"
   ]
  },
  {
   "cell_type": "code",
   "execution_count": 47,
   "id": "5e687469-2401-4865-bd29-6e0659c01583",
   "metadata": {
    "tags": []
   },
   "outputs": [
    {
     "data": {
      "text/plain": [
       "array([[-0.06681044],\n",
       "       [-0.21096538],\n",
       "       [-0.01741224],\n",
       "       [ 0.27591582],\n",
       "       [ 0.06252176]])"
      ]
     },
     "execution_count": 47,
     "metadata": {},
     "output_type": "execute_result"
    }
   ],
   "source": [
    "np.linalg.solve(A,B)"
   ]
  },
  {
   "cell_type": "code",
   "execution_count": 48,
   "id": "61dfbcb3-7707-4b3c-ae61-f8f1500f7225",
   "metadata": {
    "tags": []
   },
   "outputs": [],
   "source": [
    "A = np.random.randint(1,100,(10,10))\n",
    "B = np.random.randint(2,25,(10,1))"
   ]
  },
  {
   "cell_type": "code",
   "execution_count": 49,
   "id": "bb8bf073-1f5c-4e5d-b77b-c65eaf90d738",
   "metadata": {
    "tags": []
   },
   "outputs": [
    {
     "data": {
      "text/plain": [
       "array([[37, 41,  6, 10, 95, 31, 34,  4,  8, 40],\n",
       "       [93, 81, 54,  7, 41, 55, 59, 50, 24, 64],\n",
       "       [62, 85, 94,  7, 10, 61, 82,  8, 99, 30],\n",
       "       [22, 92, 17, 71, 44, 61, 92, 10, 53,  1],\n",
       "       [62, 76, 43, 20, 80, 33, 88, 50, 49, 57],\n",
       "       [73, 28, 62, 67,  2, 79, 73,  2, 19, 16],\n",
       "       [47, 21, 94, 23, 32, 49, 22, 75, 85, 44],\n",
       "       [47, 89, 15, 58, 53, 59, 72, 79, 61, 13],\n",
       "       [70, 41, 69, 55, 15, 60,  8, 58, 25, 29],\n",
       "       [80, 33, 98, 20, 90, 13,  9, 74, 66, 55]])"
      ]
     },
     "execution_count": 49,
     "metadata": {},
     "output_type": "execute_result"
    }
   ],
   "source": [
    "A"
   ]
  },
  {
   "cell_type": "code",
   "execution_count": 50,
   "id": "6afa5298-0cda-4d11-90d2-2ec846799d74",
   "metadata": {
    "tags": []
   },
   "outputs": [
    {
     "data": {
      "text/plain": [
       "array([[ 6],\n",
       "       [12],\n",
       "       [ 7],\n",
       "       [ 4],\n",
       "       [ 5],\n",
       "       [16],\n",
       "       [15],\n",
       "       [13],\n",
       "       [13],\n",
       "       [24]])"
      ]
     },
     "execution_count": 50,
     "metadata": {},
     "output_type": "execute_result"
    }
   ],
   "source": [
    "B"
   ]
  },
  {
   "cell_type": "code",
   "execution_count": 52,
   "id": "02fcc96e-e5da-4e25-9c3a-4ffaa3e0522d",
   "metadata": {
    "tags": []
   },
   "outputs": [
    {
     "data": {
      "text/plain": [
       "array([[  7.68639312],\n",
       "       [ -2.25244945],\n",
       "       [-12.13674552],\n",
       "       [  8.57398625],\n",
       "       [ -5.11362467],\n",
       "       [ -4.71431149],\n",
       "       [ -4.73876124],\n",
       "       [ -5.99176767],\n",
       "       [ 11.98297561],\n",
       "       [ 13.05484101]])"
      ]
     },
     "execution_count": 52,
     "metadata": {},
     "output_type": "execute_result"
    }
   ],
   "source": [
    "np.linalg.solve(A,B)"
   ]
  },
  {
   "cell_type": "markdown",
   "id": "faffecea-13de-4000-af95-396d0fd2ee13",
   "metadata": {},
   "source": []
  }
 ],
 "metadata": {
  "kernelspec": {
   "display_name": "Python 3 (ipykernel)",
   "language": "python",
   "name": "python3"
  },
  "language_info": {
   "codemirror_mode": {
    "name": "ipython",
    "version": 3
   },
   "file_extension": ".py",
   "mimetype": "text/x-python",
   "name": "python",
   "nbconvert_exporter": "python",
   "pygments_lexer": "ipython3",
   "version": "3.11.3"
  }
 },
 "nbformat": 4,
 "nbformat_minor": 5
}
