{
 "cells": [
  {
   "cell_type": "code",
   "execution_count": 1,
   "id": "94cd980c",
   "metadata": {},
   "outputs": [],
   "source": [
    "import numpy as np\n",
    "import scipy as sp\n",
    "import pandas as pd\n",
    "import seaborn as sns\n",
    "import matplotlib as mat\n",
    "import matplotlib.pyplot as plt\n",
    "from matplotlib.gridspec import GridSpec\n",
    "\n",
    "sns.set()\n",
    "%matplotlib inline"
   ]
  },
  {
   "cell_type": "markdown",
   "id": "f77ecf25",
   "metadata": {},
   "source": [
    "# Hypothesis Test"
   ]
  },
  {
   "cell_type": "markdown",
   "id": "9e2b5079",
   "metadata": {},
   "source": [
    "A statistical hypothesis is an assumption about a population parameter. *( A population represents every possible individual element that you’re interested in measuring, while a sample simply represents a portion of the population )*\n",
    "\n",
    "<table>\n",
    "<tbody>\n",
    "<tr>\n",
    "<th style=\"text-align: left;\"><span style=\"color: #000000;\"><strong>Measurement</strong></span></th>\n",
    "<th><strong><span style=\"color: #000000;\">Sample statistic</span></strong></th>\n",
    "<th><strong><span style=\"color: #000000;\">Population parameter</span></strong></th>\n",
    "</tr>\n",
    "<tr>\n",
    "<td style=\"text-align: left;\"><span style=\"color: #000000;\">Mean</span></td>\n",
    "<td style=\"text-align: center;\"><span style=\"color: #000000;\"><span style=\"text-decoration: overline;\">x</span></span></td>\n",
    "<td style=\"text-align: center;\"><span style=\"color: #000000;\">μ (mu)</span></td>\n",
    "</tr>\n",
    "<tr>\n",
    "<td style=\"text-align: left;\"><span style=\"color: #000000;\">Standard deviation</span></td>\n",
    "<td style=\"text-align: center;\"><span style=\"color: #000000;\">s</span></td>\n",
    "<td style=\"text-align: center;\"><span style=\"color: #000000;\">σ (sigma)</span></td>\n",
    "</tr>\n",
    "<tr>\n",
    "<td style=\"text-align: left;\"><span style=\"color: #000000;\">Variance</span></td>\n",
    "<td style=\"text-align: center;\"><span style=\"color: #000000;\">s<sup>2</sup></span></td>\n",
    "<td style=\"text-align: center;\"><span style=\"color: #000000;\">σ<sup>2</sup> (sigma squared)</span></td>\n",
    "</tr>\n",
    "<tr>\n",
    "<td style=\"text-align: left;\"><span style=\"color: #000000;\">Proportion</span></td>\n",
    "<td style=\"text-align: center;\"><span style=\"color: #000000;\">p</span></td>\n",
    "<td style=\"text-align: center;\"><span style=\"color: #000000;\">π (pi)</span></td>\n",
    "</tr>\n",
    "<tr>\n",
    "<td style=\"text-align: left;\"><span style=\"color: #000000;\">Correlation</span></td>\n",
    "<td style=\"text-align: center;\"><span style=\"color: #000000;\">r</span></td>\n",
    "<td style=\"text-align: center;\"><span style=\"color: #000000;\">ρ (rho)</span></td>\n",
    "</tr>\n",
    "<tr>\n",
    "<td style=\"text-align: left;\"><span style=\"color: #000000;\">Regression coefficient</span></td>\n",
    "<td style=\"text-align: center;\"><span style=\"color: #000000;\">b</span></td>\n",
    "<td style=\"text-align: center;\"><span style=\"color: #000000;\">β (beta)</span></td>\n",
    "</tr>\n",
    "</tbody>\n",
    "</table>\n",
    "\n",
    "A hypothesis test is a formal statistical test we use to reject or fail to reject a statistical hypothesis."
   ]
  },
  {
   "cell_type": "markdown",
   "id": "28e1f77b",
   "metadata": {},
   "source": [
    "## The Two Types of Statistical Hypotheses\n",
    "\n",
    "To test whether a statistical hypothesis about a population parameter is true, we obtain a random sample from the population and perform a hypothesis test on the sample data.\n",
    "\n",
    "There are two types of statistical hypotheses:\n",
    "\n",
    "1. The null hypothesis, denoted as $H_0$, is the hypothesis that the sample data occurs purely from chance.\n",
    "\n",
    "2. The alternative hypothesis, denoted as $H_1$ or $H_a$, is the hypothesis that the sample data is influenced by some non-random cause.\n",
    "\n",
    "## Hypothesis Tests\n",
    "\n",
    "A hypothesis test consists of five steps:\n",
    "\n",
    "1. State the hypotheses. \n",
    "\n",
    "State the null and alternative hypotheses. These two hypotheses need to be mutually exclusive, so if one is true then the other must be false.\n",
    "\n",
    "2. Determine a significance level to use for the hypothesis.\n",
    "\n",
    "Decide on a significance level. Common choices are $.01$, $.05$, and $.1$. \n",
    "\n",
    "3. Find the test statistic.\n",
    "\n",
    "Find the test statistic and the corresponding p-value. Often we are analyzing a population mean or proportion and the general formula to find the test statistic is: $$\\frac{\\text{sample statistic – population parameter}}{\\text{standard deviation of statistic}}$$\n",
    "\n",
    "4. Reject or fail to reject the null hypothesis.\n",
    "\n",
    "Using the test statistic or the p-value, determine if you can reject or fail to reject the null hypothesis based on the significance level.\n",
    "\n",
    "The p-value tells us the strength of evidence in support of a null hypothesis. If the p-value is less than the significance level, we reject the null hypothesis.\n",
    "\n",
    "5. Interpret the results. \n",
    "\n",
    "Interpret the results of the hypothesis test in the context of the question being asked. \n",
    "\n",
    "## The Two Types of Decision Errors\n",
    "\n",
    "There are two types of decision errors that one can make when doing a hypothesis test:\n",
    "\n",
    "* Type I error: You reject the null hypothesis when it is actually true. The probability of committing a Type I error is equal to the significance level, often called alpha, and denoted as $\\alpha$.\n",
    "\n",
    "* Type II error: You fail to reject the null hypothesis when it is actually false. The probability of committing a Type II error is called the Power of the test or Beta, denoted as $\\beta$.\n",
    "\n",
    "## One-Tailed and Two-Tailed Tests\n",
    "\n",
    "A statistical hypothesis can be one-tailed or two-tailed.\n",
    "\n",
    "> A one-tailed hypothesis involves making a “greater than” or “less than ” statement.\n",
    "\n",
    "For example, suppose we assume the mean height of a male in the U.S. is greater than or equal to 70 inches. The null hypothesis would be $H_0: µ ≥ 70$ inches and the alternative hypothesis would be $H_a: µ < 70$ inches.\n",
    "\n",
    "> A two-tailed hypothesis involves making an “equal to” or “not equal to” statement.\n",
    "\n",
    "For example, suppose we assume the mean height of a male in the U.S. is equal to 70 inches. The null hypothesis would be $H_0: µ = 70$ inches and the alternative hypothesis would be $H_a: µ ≠ 70$ inches.\n",
    "\n",
    "Note: The “equal” sign is always included in the null hypothesis, whether it is =, ≥, or ≤.\n",
    "\n",
    "> <font color = 'red' > A hypothesis test can either contain a directional hypothesis or a non-directional hypothesis:\n",
    "\n",
    "> **Directional hypothesis:** The alternative hypothesis contains the less than (“<“) or greater than (“>”) sign. This indicates that we’re testing whether or not there is a positive or negative effect.\n",
    "\n",
    "> **Non-directional hypothesis:** The alternative hypothesis contains the not equal (“≠”) sign. This indicates that we’re testing whether or not there is some effect, without specifying the direction of the effect.\n",
    "    \n",
    "## Types of Hypothesis Tests\n",
    "    \n",
    "There are many different types of hypothesis tests you can perform depending on the type of data you’re working with and the goal of your analysis.\n",
    "\n",
    "The following tutorials provide an explanation of the most common types of hypothesis tests:\n",
    "\n",
    "1. Introduction to the One Sample t-test\n",
    "2. Introduction to the Two Sample t-test\n",
    "3. Introduction to the Paired Samples t-test\n",
    "4. Introduction to the One Proportion Z-Test\n",
    "5. Introduction to the Two Proportion Z-Test"
   ]
  },
  {
   "cell_type": "markdown",
   "id": "b326b9d5",
   "metadata": {},
   "source": [
    "# 1. One Sample t-test:\n",
    "\n",
    "A one-sample t-test always uses the following null hypothesis:\n",
    "\n",
    "$H_0: μ = μ_0$ (population mean is equal to some hypothesized value $μ_0$)\n",
    "The alternative hypothesis can be either two-tailed, left-tailed, or right-tailed:\n",
    "\n",
    "$H_1 (two-tailed): μ ≠ μ_0$ (population mean is not equal to some hypothesized value $μ_0$)\n",
    "\n",
    "$H_1 (left-tailed): μ < μ_0$ (population mean is less than some hypothesized value $μ_0$)\n",
    "\n",
    "$H_1 (right-tailed): μ > μ_0$ (population mean is greater than some hypothesized value $μ_0$)\n",
    "\n",
    "We use the following formula to calculate the test statistic t:\n",
    "\n",
    "$$t = \\frac{\\left(x – \\mu \\right)}{\\left( \\frac{s}{\\sqrt{n}}\\right)}$$\n",
    "\n",
    "where:\n",
    "\n",
    "<ul>\n",
    "<li><span style=\"color: #000000;\"><strong><span style=\"text-decoration: overline;\">x</span>: </strong>sample mean</span></li>\n",
    "<li><span style=\"color: #000000;\"><strong>μ<sub>0</sub>:</strong> hypothesized population mean</span></li>\n",
    "<li><span style=\"color: #000000;\"><strong>s:&nbsp;</strong>sample standard deviation</span></li>\n",
    "<li><span style=\"color: #000000;\"><strong>n:&nbsp;</strong>sample size</span></li>\n",
    "</ul>\n",
    "\n",
    "If the p-value that corresponds to the test statistic t with (n-1) degrees of freedom is less than your chosen significance level (common choices are 0.10, 0.05, and 0.01) then you can reject the null hypothesis.\n",
    "\n",
    "### One Sample t-test: Assumptions\n",
    "\n",
    "For the results of a one sample t-test to be valid, the following assumptions should be met:\n",
    "\n",
    "<ul>\n",
    "<li><strong><span style=\"color: #000000;\">The variable under study should be either an interval or ratio variable</a>.</span></strong></li>\n",
    "<li><span style=\"color: #000000;\"><strong>The observations in the sample should be independent</a>.</strong></span></li>\n",
    "<li><span style=\"color: #000000;\"><strong>The variable under study should be approximately normally distributed.&nbsp;</strong><span style=\"color: #000000;\">You can check this assumption by creating a histogram and visually checking if the distribution has roughly a “bell shape.”</span></span></li>\n",
    "<li><span style=\"color: #000000;\"><strong>The variable under study should have no outliers.</strong> You can check this assumption by creating a boxplot</a> and visually checking for outliers.</span></li>\n",
    "</ul>\n",
    "\n",
    "# <font color = 'red'> Example 1:\n",
    "    \n",
    "suppose we want to know whether or not the mean weight of a certain species of some turtle is equal to 310 pounds.\n",
    "\n",
    "To test this, we go out and collect a simple random sample of turtles with the following weights:\n",
    "\n",
    "Weights: 300, 315, 320, 311, 314, 309, 300, 308, 305, 303, 305, 301, 303"
   ]
  },
  {
   "cell_type": "code",
   "execution_count": 17,
   "id": "ac703836",
   "metadata": {},
   "outputs": [
    {
     "data": {
      "image/png": "[encoded data removed]",
      "text/plain": [
       "<Figure size 1500x500 with 2 Axes>"
      ]
     },
     "metadata": {},
     "output_type": "display_data"
    }
   ],
   "source": [
    "# step 1: check sample:\n",
    "\n",
    "sample = [ 300, 315, 320, 311, 314, 309, 300, 308, 305, 303, 305, 301, 303]\n",
    "\n",
    "fig = plt.figure(figsize = (15,5), layout=\"tight\")\n",
    "\n",
    "gs = GridSpec(1, 2, figure=fig)\n",
    "ax1 = fig.add_subplot(gs[0,0])\n",
    "ax2 = fig.add_subplot(gs[0,1])\n",
    "\n",
    "sns.histplot(sample, ax = ax1)\n",
    "sns.boxplot(sample, ax = ax2)\n",
    "\n",
    "ax1.set_title('Distribution: Histogram')\n",
    "ax2.set_title('Distribution: Boxplot')\n",
    "\n",
    "plt.show()"
   ]
  },
  {
   "cell_type": "markdown",
   "id": "4af5738e",
   "metadata": {},
   "source": [
    "statement:\n",
    "\n",
    "$H_0: \\mu_0 = 310.0$\n",
    "\n",
    "$H_a: \\mu_0 \\neq 310.0$\n",
    "\n",
    "significance level chosen: \n",
    "\n",
    "$\\alpha = 0.05$"
   ]
  },
  {
   "cell_type": "code",
   "execution_count": 18,
   "id": "b2ab2234",
   "metadata": {},
   "outputs": [
    {
     "data": {
      "text/plain": [
       "TtestResult(statistic=-1.5848116313861254, pvalue=0.1389944275158753, df=12)"
      ]
     },
     "execution_count": 18,
     "metadata": {},
     "output_type": "execute_result"
    }
   ],
   "source": [
    "# Perform one sample t-test\n",
    "\n",
    "sp.stats.ttest_1samp(a = sample, popmean = 310.0, alternative='two-sided')"
   ]
  },
  {
   "cell_type": "markdown",
   "id": "347d3bb5",
   "metadata": {},
   "source": [
    "**RESULTS:**\n",
    "\n",
    "The t test statistic is $-1.5848$ and the corresponding two-sided p-value is $0.1389$.\n",
    "\n",
    "Because the p-value of our test ($0.1389$) is greater than $\\alpha = 0.05$, we fail to reject the null hypothesis of the test."
   ]
  },
  {
   "cell_type": "markdown",
   "id": "e5e2e4db",
   "metadata": {},
   "source": [
    "# <font color = 'red'> Example 2:\n",
    "    \n",
    "Suppose we given foolowing data for problem 1:\n",
    "* sample  size (n) = 40\n",
    "* sample mean ($\\bar{x}$) = 300\n",
    "* sample standard deviation ($\\sigma$)= 18.5\n",
    "* population mean ($\\mu$) = 310 (test)"
   ]
  },
  {
   "cell_type": "code",
   "execution_count": 26,
   "id": "6306bfbc",
   "metadata": {},
   "outputs": [],
   "source": [
    "# Built false data\n",
    "data = np.random.normal(loc=300, scale=18.5, size=40)"
   ]
  },
  {
   "cell_type": "code",
   "execution_count": 27,
   "id": "1fc23eb2",
   "metadata": {},
   "outputs": [
    {
     "data": {
      "image/png": "[encoded data removed]",
      "text/plain": [
       "<Figure size 1500x500 with 2 Axes>"
      ]
     },
     "metadata": {},
     "output_type": "display_data"
    }
   ],
   "source": [
    "fig = plt.figure(figsize = (15,5), layout=\"tight\")\n",
    "\n",
    "gs = GridSpec(1, 2, figure=fig)\n",
    "ax1 = fig.add_subplot(gs[0,0])\n",
    "ax2 = fig.add_subplot(gs[0,1])\n",
    "\n",
    "sns.histplot(data, ax = ax1)\n",
    "sns.boxplot(data, ax = ax2)\n",
    "\n",
    "ax1.set_title('Distribution: Histogram')\n",
    "ax2.set_title('Distribution: Boxplot')\n",
    "\n",
    "plt.show()"
   ]
  },
  {
   "cell_type": "code",
   "execution_count": 29,
   "id": "ea51186d",
   "metadata": {},
   "outputs": [],
   "source": [
    "t_statistic, p_value = sp.stats.ttest_1samp(a=data, popmean=310)"
   ]
  },
  {
   "cell_type": "code",
   "execution_count": 30,
   "id": "b39d1aeb",
   "metadata": {},
   "outputs": [
    {
     "data": {
      "text/plain": [
       "(-4.901598878982039, 1.707642831517964e-05)"
      ]
     },
     "execution_count": 30,
     "metadata": {},
     "output_type": "execute_result"
    }
   ],
   "source": [
    "t_statistic, p_value"
   ]
  },
  {
   "cell_type": "markdown",
   "id": "9a1bb2f2",
   "metadata": {},
   "source": [
    "# 2. Two Sample t-Test\n",
    "\n",
    "A two sample t-test is used to determine whether or not two population means are equal.\n",
    "\n",
    "<p><span style=\"color: #000000;\">A two-sample t-test always uses the following null hypothesis:</span></p>\n",
    "<ul>\n",
    "<li><span style=\"color: #000000;\"><strong>H<sub>0</sub>:</strong> μ<sub>1</sub>&nbsp;=&nbsp;μ<sub>2</sub> (the two population means are equal)</span></li>\n",
    "</ul>\n",
    "<p><span style=\"color: #000000;\">The alternative hypothesis can be either two-tailed, left-tailed, or right-tailed:</span></p>\n",
    "<ul>\n",
    "<li><span style=\"color: #000000;\"><strong>H<sub>1</sub> (two-tailed): </strong>μ<strong><sub>1</sub></strong>&nbsp;≠ μ<sub>2</sub> (the two population means are not equal)</span></li>\n",
    "<li><span style=\"color: #000000;\"><strong>H<sub>1</sub> (left-tailed): </strong>μ<sub>1</sub>&nbsp;&lt; μ<sub>2</sub>&nbsp;(population 1 mean is less than population 2 mean)</span></li>\n",
    "<li><span style=\"color: #000000;\"><strong>H<sub>1</sub> (right-tailed):&nbsp;</strong>μ<strong><sub>1</sub></strong>&gt; μ<sub>2</sub>&nbsp;(population 1 mean is greater than population 2 mean)</span></li>\n",
    "</ul>\n",
    "<p><span style=\"color: #000000;\">We use the following formula to calculate the test statistic t:</span></p>\n",
    "<p><span style=\"color: #000000;\"><strong>Test statistic:</strong>&nbsp;(<span style=\"border-top: 1px solid black;\">x</span><sub>1</sub>&nbsp;–&nbsp;<span style=\"border-top: 1px solid black;\">x</span><sub>2</sub>)&nbsp; /&nbsp; s<sub>p</sub>(√<span style=\"border-top: 1px solid black;\">1/n<sub>1</sub>&nbsp;+ 1/n<sub>2</sub></span>)</span></p>\n",
    "<p><span style=\"color: #000000;\">where&nbsp;<span style=\"border-top: 1px solid black;\">x</span><sub>1</sub>&nbsp;and&nbsp;<span style=\"border-top: 1px solid black;\">x</span><sub>2</sub> are the sample means,&nbsp;n<sub>1 </sub>and n<sub>2&nbsp;</sub>are the sample sizes, and where&nbsp;s<sub>p</sub> is calculated as:</span></p>\n",
    "<p data-slot-rendered-content=\"true\"><span style=\"color: #000000;\"><strong>s<sub>p</sub></strong> =&nbsp;√<span style=\"border-top: 1px solid black;\">&nbsp;(n<sub>1</sub>-1)s<sub>1</sub><sup>2</sup>&nbsp;+&nbsp;&nbsp;(n<sub>2</sub>-1)s<sub>2</sub><sup>2</sup>&nbsp;/&nbsp; (n<sub>1</sub>+n<sub>2</sub>-2)</span></span></p>\n",
    "<div class=\"mv-ad-box\" data-slotid=\"content_2_btf\" style=\"height: 400px; width: 100%; overflow: visible !important;\">\n",
    "<p><span style=\"color: #000000;\">where s<sub>1</sub><sup>2</sup>&nbsp;and s<sub>2</sub><sup>2</sup>&nbsp;are the sample variances.</span></p>\n",
    "<p><span style=\"color: #000000;\">If the p-value that corresponds to the test statistic t with (n<sub>1</sub>+n<sub>2</sub>-1) degrees of freedom is less than your chosen significance level (common choices are 0.10, 0.05, and 0.01) then you can reject the null hypothesis.</span></p>\n",
    "<h3><span style=\"color: #000000;\"><strong>Two Sample t-test: Assumptions</strong></span></h3>\n",
    "<p><span style=\"color: #000000;\">For the results of a two sample t-test to be valid, the following assumptions should be met:</span></p>\n",
    "<ul>\n",
    "<li><span style=\"color: #000000;\">The observations in one sample should be independent of the observations in the other sample.</span></li>\n",
    "<li><span style=\"color: #000000;\">The data should be approximately normally distributed.</span></li>\n",
    "<li><span style=\"color: #000000;\"><span style=\"color: #000000;\">The two samples should have approximately the same variance. If this assumption is not met, you should instead perform Welch’s t-test</a>.</span></span></li>\n",
    "<li><span style=\"color: #000000;\">The data in both samples was obtained using a random sampling method</a>.</span></li>\n",
    "</ul>\n",
    "\n",
    "# <font color = 'red'> Example 1:\n",
    "    \n",
    "* group1 = np.array([14, 15, 15, 16, 13, 8, 14, 17, 16, 14, 19, 20, 21, 15, 15, 16, 16, 13, 14, 12])\n",
    "* group2 = np.array([15, 17, 14, 17, 14, 8, 12, 19, 19, 14, 17, 22, 24, 16, 13, 16, 13, 18, 15, 13])"
   ]
  },
  {
   "cell_type": "code",
   "execution_count": 2,
   "id": "a5026442",
   "metadata": {},
   "outputs": [],
   "source": [
    "group1 = np.array([14, 15, 15, 16, 13, 8, 14, 17, 16, 14, 19, 20, 21, 15, 15, 16, 16, 13, 14, 12])\n",
    "group2 = np.array([15, 17, 14, 17, 14, 8, 12, 19, 19, 14, 17, 22, 24, 16, 13, 16, 13, 18, 15, 13])"
   ]
  },
  {
   "cell_type": "code",
   "execution_count": 11,
   "id": "67ab6f38",
   "metadata": {},
   "outputs": [
    {
     "name": "stdout",
     "output_type": "stream",
     "text": [
      "G1: 7.727500000000001 G2: 12.260000000000002 Ratio: 1.586541572306697\n"
     ]
    }
   ],
   "source": [
    "# check varience if 4:1 ratio is followed\n",
    "\n",
    "print(f\"G1: {np.var(group1)} G2: {np.var(group2)} Ratio: {np.var(group2)/np.var(group1)}\")"
   ]
  },
  {
   "cell_type": "code",
   "execution_count": 13,
   "id": "98c37b4b",
   "metadata": {},
   "outputs": [
    {
     "data": {
      "text/plain": [
       "Ttest_indResult(statistic=-0.6337397070250238, pvalue=0.5300471010405257)"
      ]
     },
     "execution_count": 13,
     "metadata": {},
     "output_type": "execute_result"
    }
   ],
   "source": [
    "sp.stats.ttest_ind(a=group1, b=group2, equal_var=True)"
   ]
  },
  {
   "cell_type": "markdown",
   "id": "f87bc1a4",
   "metadata": {},
   "source": [
    "Because the p-value of our test (0.5300471010405257) is greater than alpha = 0.05, we fail to reject the null hypothesis of the test. We do not have sufficient evidence to say that the mean height of plants between the two populations is different."
   ]
  },
  {
   "cell_type": "markdown",
   "id": "a33ac67c",
   "metadata": {},
   "source": [
    "# 3. Paired Samples t-test\n",
    "\n",
    "A paired samples t-test is used to compare the means of two samples when each observation in one sample can be paired with an observation in the other sample.\n",
    "\n",
    "<p><span style=\"color: #000000;\">A paired samples t-test is commonly used in two scenarios:</span></p>\n",
    "<p><span style=\"color: #000000;\"><strong>1. A measurement is taken on a subject before and after some treatment</strong> – e.g. the max vertical jump of college basketball players is measured before and after participating in a training program.</span></p>\n",
    "<p><span style=\"color: #000000;\"><strong>2. A measurement is taken under two different conditions&nbsp;</strong>– e.g. the response time of a patient is measured on two different drugs.</span></p>\n",
    "<p><span style=\"color: #000000;\">In both cases we are interested in comparing the mean measurement between two groups in which each observation in one sample can be paired with an observation in the other sample.</span></p>\n",
    "\n",
    "<h3><span style=\"color: #000000;\"><strong>Paired Samples t-test:</strong></span><span style=\"color: #000000;\"><strong> Formula</strong></span></h3>\n",
    "<p data-slot-rendered-content=\"true\"><span style=\"color: #000000;\">A paired samples t-test always uses the following null hypothesis:</span></p>\n",
    "<div class=\"mv-ad-box\" data-slotid=\"content_btf\" style=\"height: 400px; width: 100%; overflow: visible !important;\">\n",
    "\n",
    "<ul>\n",
    "<li><span style=\"color: #000000;\"><strong>H<sub>0</sub>:</strong> μ<sub>1</sub>&nbsp;=&nbsp;μ<sub>2</sub> (the two population means are equal)</span></li>\n",
    "</ul>\n",
    "<p><span style=\"color: #000000;\">The alternative hypothesis can be either two-tailed, left-tailed, or right-tailed:</span></p>\n",
    "<ul>\n",
    "<li><span style=\"color: #000000;\"><strong>H<sub>1</sub> (two-tailed): </strong>μ<strong><sub>1</sub></strong>&nbsp;≠ μ<sub>2</sub> (the two population means are not equal)</span></li>\n",
    "<li><span style=\"color: #000000;\"><strong>H<sub>1</sub> (left-tailed): </strong>μ<sub>1</sub>&nbsp;&lt; μ<sub>2</sub>&nbsp;(population 1 mean is less than population 2 mean)</span></li>\n",
    "<li><span style=\"color: #000000;\"><strong>H<sub>1</sub> (right-tailed):&nbsp;</strong>μ<strong><sub>1</sub></strong>&gt; μ<sub>2</sub>&nbsp;(population 1 mean is greater than population 2 mean)</span></li>\n",
    "</ul>\n",
    "<p><span style=\"color: #000000;\">We use the following formula to calculate the test statistic t:</span></p>\n",
    "<p><span style=\"color: #000000;\"><strong>t = <span style=\"text-decoration: overline;\">x</span><sub>diff</sub>&nbsp;/ (s<sub>diff</sub>/√n)</strong></span></p>\n",
    "<p><span style=\"color: #000000;\">where:</span></p>\n",
    "<ul>\n",
    "<li><span style=\"color: #000000;\"><strong><span style=\"text-decoration: overline;\">x</span><sub>diff</sub>:&nbsp;</strong>sample mean of the differences</span></li>\n",
    "<li><span style=\"color: #000000;\"><strong>s:&nbsp;</strong>sample standard deviation of the differences</span></li>\n",
    "<li><span style=\"color: #000000;\"><strong>n:&nbsp;</strong>sample size (i.e. number of pairs)</span></li>\n",
    "</ul>\n",
    "<p><span style=\"color: #000000;\">If the p-value that corresponds to the test statistic t with (n-1) degrees of freedom is less than your chosen significance level (common choices are 0.10, 0.05, and 0.01) then you can reject the null hypothesis.</span></p>"
   ]
  },
  {
   "cell_type": "markdown",
   "id": "be2e01cb",
   "metadata": {},
   "source": [
    "<h3><span style=\"color: #000000;\"><strong>Paired Samples t-test: Assumptions</strong></span></h3>\n",
    "<p data-slot-rendered-content=\"true\"><span style=\"color: #000000;\">For the results of a paired samples t-test to be valid, the following assumptions should be met:</span></p>\n",
    "\n",
    "<ul>\n",
    "<li><span style=\"color: #000000;\">The participants should be selected randomly from the population.</span></li>\n",
    "<li><span style=\"color: #000000;\">The differences between the pairs should be approximately normally distributed.</span></li>\n",
    "<li><span style=\"color: #000000;\">There should be no extreme outliers in the differences.</span></li>\n",
    "</ul>"
   ]
  },
  {
   "cell_type": "code",
   "execution_count": 15,
   "id": "bcba9899",
   "metadata": {},
   "outputs": [],
   "source": [
    "# DATA\n",
    "pre = [88, 82, 84, 93, 75, 78, 84, 87, 95, 91, 83, 89, 77, 68, 91]\n",
    "post = [91, 84, 88, 90, 79, 80, 88, 90, 90, 96, 88, 89, 81, 74, 92]"
   ]
  },
  {
   "cell_type": "code",
   "execution_count": 16,
   "id": "9a955550",
   "metadata": {},
   "outputs": [
    {
     "data": {
      "text/plain": [
       "TtestResult(statistic=-2.9732484231168796, pvalue=0.01007144862643272, df=14)"
      ]
     },
     "execution_count": 16,
     "metadata": {},
     "output_type": "execute_result"
    }
   ],
   "source": [
    "sp.stats.ttest_rel(pre, post)"
   ]
  },
  {
   "cell_type": "markdown",
   "id": "9cff0b07",
   "metadata": {},
   "source": [
    "Since the p-value (0.01007144862643272) is less than 0.05, we reject the null hypothesis. We have sufficient evidence to say that the true mean test score is different for students before and after participating in the study program."
   ]
  },
  {
   "cell_type": "markdown",
   "id": "f07e2cc5",
   "metadata": {},
   "source": [
    "# One - Tailed Hypothesis test"
   ]
  },
  {
   "cell_type": "code",
   "execution_count": 22,
   "id": "369129d9",
   "metadata": {},
   "outputs": [
    {
     "name": "stdout",
     "output_type": "stream",
     "text": [
      "T-statistic: -0.7330078385292123\n",
      "P-value: 0.7673571257422149\n",
      "Fail to reject the null hypothesis: The sample mean is not significantly greater than the known mean.\n"
     ]
    }
   ],
   "source": [
    "# Sample data\n",
    "sample_data = np.random.randint(low=60, high=90, size=100)\n",
    "\n",
    "# Known or hypothesized mean\n",
    "known_mean = 75\n",
    "\n",
    "# Perform one-tailed one-sample t-test (alternative='greater' for a one-tailed test)\n",
    "t_statistic, p_value = sp.stats.ttest_1samp(sample_data, known_mean, alternative='greater')\n",
    "\n",
    "# Print the results\n",
    "print(\"T-statistic:\", t_statistic)\n",
    "print(\"P-value:\", p_value)\n",
    "\n",
    "alpha = 0.05  # Significance level\n",
    "\n",
    "if p_value < alpha:\n",
    "    print(\"Reject the null hypothesis: The sample mean is significantly greater than the known mean.\")\n",
    "else:\n",
    "    print(\"Fail to reject the null hypothesis: The sample mean is not significantly greater than the known mean.\")"
   ]
  },
  {
   "cell_type": "code",
   "execution_count": 25,
   "id": "0558cf35",
   "metadata": {},
   "outputs": [
    {
     "name": "stdout",
     "output_type": "stream",
     "text": [
      "T-statistic: -0.33890286201843767\n",
      "P-value: 0.3677003438322777\n",
      "Fail to reject the null hypothesis: The sample mean is not significantly less than the known mean.\n"
     ]
    }
   ],
   "source": [
    "# Sample data\n",
    "sample_data = np.random.randint(low=60, high=90, size=100)\n",
    "\n",
    "# Known or hypothesized mean\n",
    "known_mean = 75\n",
    "\n",
    "# Perform one-tailed one-sample t-test (alternative='greater' for a one-tailed test)\n",
    "t_statistic, p_value = sp.stats.ttest_1samp(sample_data, known_mean, alternative='less')\n",
    "\n",
    "# Print the results\n",
    "print(\"T-statistic:\", t_statistic)\n",
    "print(\"P-value:\", p_value)\n",
    "\n",
    "alpha = 0.05  # Significance level\n",
    "\n",
    "if p_value < alpha:\n",
    "    print(\"Reject the null hypothesis: The sample mean is significantly greater than the known mean.\")\n",
    "else:\n",
    "    print(\"Fail to reject the null hypothesis: The sample mean is not significantly less than the known mean.\")"
   ]
  },
  {
   "cell_type": "code",
   "execution_count": 27,
   "id": "b28461ea",
   "metadata": {},
   "outputs": [
    {
     "name": "stdout",
     "output_type": "stream",
     "text": [
      "T-statistic: -0.757816666943299\n",
      "P-value: 0.4503608550835404\n",
      "Fail to reject the null hypothesis: The sample mean is not significantly differ than the known mean.\n"
     ]
    }
   ],
   "source": [
    "# Sample data\n",
    "sample_data = np.random.randint(low=60, high=90, size=100)\n",
    "\n",
    "# Known or hypothesized mean\n",
    "known_mean = 75\n",
    "\n",
    "# Perform one-tailed one-sample t-test (alternative='greater' for a one-tailed test)\n",
    "t_statistic, p_value = sp.stats.ttest_1samp(sample_data, known_mean, alternative='two-sided')\n",
    "\n",
    "# Print the results\n",
    "print(\"T-statistic:\", t_statistic)\n",
    "print(\"P-value:\", p_value)\n",
    "\n",
    "alpha = 0.05  # Significance level\n",
    "\n",
    "if p_value < alpha:\n",
    "    print(\"Reject the null hypothesis: The sample mean is significantly differ than the known mean.\")\n",
    "else:\n",
    "    print(\"Fail to reject the null hypothesis: The sample mean is not significantly differ than the known mean.\")"
   ]
  },
  {
   "cell_type": "code",
   "execution_count": null,
   "id": "a082185f",
   "metadata": {},
   "outputs": [],
   "source": []
  }
 ],
 "metadata": {
  "kernelspec": {
   "display_name": "Python 3 (ipykernel)",
   "language": "python",
   "name": "python3"
  },
  "language_info": {
   "codemirror_mode": {
    "name": "ipython",
    "version": 3
   },
   "file_extension": ".py",
   "mimetype": "text/x-python",
   "name": "python",
   "nbconvert_exporter": "python",
   "pygments_lexer": "ipython3",
   "version": "3.11.3"
  }
 },
 "nbformat": 4,
 "nbformat_minor": 5
}
