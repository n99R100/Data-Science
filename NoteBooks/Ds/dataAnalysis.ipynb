{
 "cells": [
  {
   "cell_type": "code",
   "execution_count": 1,
   "id": "b625b1ad-f75b-49c3-b88d-de7768083dab",
   "metadata": {
    "tags": []
   },
   "outputs": [],
   "source": [
    "import numpy as np\n",
    "import pandas as pd"
   ]
  },
  {
   "cell_type": "code",
   "execution_count": 45,
   "id": "1fb22bc4-504e-4b10-bda6-f82ef2c7631a",
   "metadata": {
    "tags": []
   },
   "outputs": [],
   "source": [
    "import matplotlib.pyplot as plt\n",
    "import matplotlib as mpl\n",
    "import seaborn as sns\n",
    "sns.set()\n",
    "%matplotlib inline"
   ]
  },
  {
   "cell_type": "code",
   "execution_count": 2,
   "id": "774219d7-7eb4-4402-9f83-7e58d43e3d32",
   "metadata": {
    "tags": []
   },
   "outputs": [],
   "source": [
    "df = pd.read_csv(\"A:\\Data SETS\\loan_approval_dataset.csv\")"
   ]
  },
  {
   "cell_type": "code",
   "execution_count": 4,
   "id": "0fe0d838-f35a-4b59-b4ea-2c87d87947aa",
   "metadata": {
    "tags": []
   },
   "outputs": [
    {
     "data": {
      "text/html": [
       "<div>\n",
       "<style scoped>\n",
       "    .dataframe tbody tr th:only-of-type {\n",
       "        vertical-align: middle;\n",
       "    }\n",
       "\n",
       "    .dataframe tbody tr th {\n",
       "        vertical-align: top;\n",
       "    }\n",
       "\n",
       "    .dataframe thead th {\n",
       "        text-align: right;\n",
       "    }\n",
       "</style>\n",
       "<table border=\"1\" class=\"dataframe\">\n",
       "  <thead>\n",
       "    <tr style=\"text-align: right;\">\n",
       "      <th></th>\n",
       "      <th>loan_id</th>\n",
       "      <th>no_of_dependents</th>\n",
       "      <th>education</th>\n",
       "      <th>self_employed</th>\n",
       "      <th>income_annum</th>\n",
       "      <th>loan_amount</th>\n",
       "      <th>loan_term</th>\n",
       "      <th>cibil_score</th>\n",
       "      <th>residential_assets_value</th>\n",
       "      <th>commercial_assets_value</th>\n",
       "      <th>luxury_assets_value</th>\n",
       "      <th>bank_asset_value</th>\n",
       "      <th>loan_status</th>\n",
       "    </tr>\n",
       "  </thead>\n",
       "  <tbody>\n",
       "    <tr>\n",
       "      <th>0</th>\n",
       "      <td>1</td>\n",
       "      <td>2</td>\n",
       "      <td>Graduate</td>\n",
       "      <td>No</td>\n",
       "      <td>9600000</td>\n",
       "      <td>29900000</td>\n",
       "      <td>12</td>\n",
       "      <td>778</td>\n",
       "      <td>2400000</td>\n",
       "      <td>17600000</td>\n",
       "      <td>22700000</td>\n",
       "      <td>8000000</td>\n",
       "      <td>Approved</td>\n",
       "    </tr>\n",
       "    <tr>\n",
       "      <th>1</th>\n",
       "      <td>2</td>\n",
       "      <td>0</td>\n",
       "      <td>Not Graduate</td>\n",
       "      <td>Yes</td>\n",
       "      <td>4100000</td>\n",
       "      <td>12200000</td>\n",
       "      <td>8</td>\n",
       "      <td>417</td>\n",
       "      <td>2700000</td>\n",
       "      <td>2200000</td>\n",
       "      <td>8800000</td>\n",
       "      <td>3300000</td>\n",
       "      <td>Rejected</td>\n",
       "    </tr>\n",
       "    <tr>\n",
       "      <th>2</th>\n",
       "      <td>3</td>\n",
       "      <td>3</td>\n",
       "      <td>Graduate</td>\n",
       "      <td>No</td>\n",
       "      <td>9100000</td>\n",
       "      <td>29700000</td>\n",
       "      <td>20</td>\n",
       "      <td>506</td>\n",
       "      <td>7100000</td>\n",
       "      <td>4500000</td>\n",
       "      <td>33300000</td>\n",
       "      <td>12800000</td>\n",
       "      <td>Rejected</td>\n",
       "    </tr>\n",
       "    <tr>\n",
       "      <th>3</th>\n",
       "      <td>4</td>\n",
       "      <td>3</td>\n",
       "      <td>Graduate</td>\n",
       "      <td>No</td>\n",
       "      <td>8200000</td>\n",
       "      <td>30700000</td>\n",
       "      <td>8</td>\n",
       "      <td>467</td>\n",
       "      <td>18200000</td>\n",
       "      <td>3300000</td>\n",
       "      <td>23300000</td>\n",
       "      <td>7900000</td>\n",
       "      <td>Rejected</td>\n",
       "    </tr>\n",
       "    <tr>\n",
       "      <th>4</th>\n",
       "      <td>5</td>\n",
       "      <td>5</td>\n",
       "      <td>Not Graduate</td>\n",
       "      <td>Yes</td>\n",
       "      <td>9800000</td>\n",
       "      <td>24200000</td>\n",
       "      <td>20</td>\n",
       "      <td>382</td>\n",
       "      <td>12400000</td>\n",
       "      <td>8200000</td>\n",
       "      <td>29400000</td>\n",
       "      <td>5000000</td>\n",
       "      <td>Rejected</td>\n",
       "    </tr>\n",
       "  </tbody>\n",
       "</table>\n",
       "</div>"
      ],
      "text/plain": [
       "   loan_id   no_of_dependents      education  self_employed   income_annum  \\\n",
       "0        1                  2       Graduate             No        9600000   \n",
       "1        2                  0   Not Graduate            Yes        4100000   \n",
       "2        3                  3       Graduate             No        9100000   \n",
       "3        4                  3       Graduate             No        8200000   \n",
       "4        5                  5   Not Graduate            Yes        9800000   \n",
       "\n",
       "    loan_amount   loan_term   cibil_score   residential_assets_value  \\\n",
       "0      29900000          12           778                    2400000   \n",
       "1      12200000           8           417                    2700000   \n",
       "2      29700000          20           506                    7100000   \n",
       "3      30700000           8           467                   18200000   \n",
       "4      24200000          20           382                   12400000   \n",
       "\n",
       "    commercial_assets_value   luxury_assets_value   bank_asset_value  \\\n",
       "0                  17600000              22700000            8000000   \n",
       "1                   2200000               8800000            3300000   \n",
       "2                   4500000              33300000           12800000   \n",
       "3                   3300000              23300000            7900000   \n",
       "4                   8200000              29400000            5000000   \n",
       "\n",
       "   loan_status  \n",
       "0     Approved  \n",
       "1     Rejected  \n",
       "2     Rejected  \n",
       "3     Rejected  \n",
       "4     Rejected  "
      ]
     },
     "execution_count": 4,
     "metadata": {},
     "output_type": "execute_result"
    }
   ],
   "source": [
    "df.head()"
   ]
  },
  {
   "cell_type": "raw",
   "id": "1df1ef22-1388-4440-bb1f-6aed66374caf",
   "metadata": {
    "tags": []
   },
   "source": [
    "df.tail()"
   ]
  },
  {
   "cell_type": "code",
   "execution_count": 21,
   "id": "ab7defa0-6657-4e3b-91da-90e95bd77750",
   "metadata": {
    "tags": []
   },
   "outputs": [
    {
     "data": {
      "text/plain": [
       "False    4269\n",
       "Name:  no_of_dependents, dtype: int64"
      ]
     },
     "execution_count": 21,
     "metadata": {},
     "output_type": "execute_result"
    }
   ],
   "source": [
    "pd.value_counts(df[\" no_of_dependents\"].isnull())"
   ]
  },
  {
   "cell_type": "code",
   "execution_count": 9,
   "id": "6d0e3383-001c-43b4-bfb6-9a00def8f0b6",
   "metadata": {
    "tags": []
   },
   "outputs": [
    {
     "data": {
      "text/plain": [
       "Index(['loan_id', ' no_of_dependents', ' education', ' self_employed',\n",
       "       ' income_annum', ' loan_amount', ' loan_term', ' cibil_score',\n",
       "       ' residential_assets_value', ' commercial_assets_value',\n",
       "       ' luxury_assets_value', ' bank_asset_value', ' loan_status'],\n",
       "      dtype='object')"
      ]
     },
     "execution_count": 9,
     "metadata": {},
     "output_type": "execute_result"
    }
   ],
   "source": [
    "df.keys()"
   ]
  },
  {
   "cell_type": "code",
   "execution_count": 17,
   "id": "4d5f6c55-8771-4775-bb53-21c93209c87a",
   "metadata": {
    "tags": []
   },
   "outputs": [
    {
     "name": "stdout",
     "output_type": "stream",
     "text": [
      "loan_id: False    4269\n",
      "Name: loan_id, dtype: int64\n",
      " no_of_dependents: False    4269\n",
      "Name:  no_of_dependents, dtype: int64\n",
      " education: False    4269\n",
      "Name:  education, dtype: int64\n",
      " self_employed: False    4269\n",
      "Name:  self_employed, dtype: int64\n",
      " income_annum: False    4269\n",
      "Name:  income_annum, dtype: int64\n",
      " loan_amount: False    4269\n",
      "Name:  loan_amount, dtype: int64\n",
      " loan_term: False    4269\n",
      "Name:  loan_term, dtype: int64\n",
      " cibil_score: False    4269\n",
      "Name:  cibil_score, dtype: int64\n",
      " residential_assets_value: False    4269\n",
      "Name:  residential_assets_value, dtype: int64\n",
      " commercial_assets_value: False    4269\n",
      "Name:  commercial_assets_value, dtype: int64\n",
      " luxury_assets_value: False    4269\n",
      "Name:  luxury_assets_value, dtype: int64\n",
      " bank_asset_value: False    4269\n",
      "Name:  bank_asset_value, dtype: int64\n",
      " loan_status: False    4269\n",
      "Name:  loan_status, dtype: int64\n"
     ]
    }
   ],
   "source": [
    "for i in df.keys():\n",
    "    print(f\"{i}: {df[i].isnull().value_counts()}\")"
   ]
  },
  {
   "cell_type": "markdown",
   "id": "1b373ef0-da11-42a0-be34-de02c0b7e170",
   "metadata": {},
   "source": [
    "# Filter Loan approved "
   ]
  },
  {
   "cell_type": "code",
   "execution_count": 29,
   "id": "b52a6a19-7aca-49c5-9503-90ad71876ab9",
   "metadata": {
    "tags": []
   },
   "outputs": [],
   "source": [
    "lapp = df[df[' loan_status'] == ' Approved']"
   ]
  },
  {
   "cell_type": "code",
   "execution_count": 31,
   "id": "b1eecda2-ac3e-4223-adf6-f6a23a1e8c18",
   "metadata": {
    "tags": []
   },
   "outputs": [
    {
     "data": {
      "text/html": [
       "<div>\n",
       "<style scoped>\n",
       "    .dataframe tbody tr th:only-of-type {\n",
       "        vertical-align: middle;\n",
       "    }\n",
       "\n",
       "    .dataframe tbody tr th {\n",
       "        vertical-align: top;\n",
       "    }\n",
       "\n",
       "    .dataframe thead th {\n",
       "        text-align: right;\n",
       "    }\n",
       "</style>\n",
       "<table border=\"1\" class=\"dataframe\">\n",
       "  <thead>\n",
       "    <tr style=\"text-align: right;\">\n",
       "      <th></th>\n",
       "      <th>loan_id</th>\n",
       "      <th>no_of_dependents</th>\n",
       "      <th>income_annum</th>\n",
       "      <th>loan_amount</th>\n",
       "      <th>loan_term</th>\n",
       "      <th>cibil_score</th>\n",
       "      <th>residential_assets_value</th>\n",
       "      <th>commercial_assets_value</th>\n",
       "      <th>luxury_assets_value</th>\n",
       "      <th>bank_asset_value</th>\n",
       "    </tr>\n",
       "  </thead>\n",
       "  <tbody>\n",
       "    <tr>\n",
       "      <th>count</th>\n",
       "      <td>2656.000000</td>\n",
       "      <td>2656.000000</td>\n",
       "      <td>2.656000e+03</td>\n",
       "      <td>2.656000e+03</td>\n",
       "      <td>2656.000000</td>\n",
       "      <td>2656.000000</td>\n",
       "      <td>2.656000e+03</td>\n",
       "      <td>2.656000e+03</td>\n",
       "      <td>2.656000e+03</td>\n",
       "      <td>2.656000e+03</td>\n",
       "    </tr>\n",
       "    <tr>\n",
       "      <th>mean</th>\n",
       "      <td>2151.984187</td>\n",
       "      <td>2.474774</td>\n",
       "      <td>5.025904e+06</td>\n",
       "      <td>1.524725e+07</td>\n",
       "      <td>10.397590</td>\n",
       "      <td>703.461973</td>\n",
       "      <td>7.399812e+06</td>\n",
       "      <td>5.001355e+06</td>\n",
       "      <td>1.501660e+07</td>\n",
       "      <td>4.959526e+06</td>\n",
       "    </tr>\n",
       "    <tr>\n",
       "      <th>std</th>\n",
       "      <td>1236.515715</td>\n",
       "      <td>1.695270</td>\n",
       "      <td>2.827228e+06</td>\n",
       "      <td>9.221696e+06</td>\n",
       "      <td>5.879523</td>\n",
       "      <td>125.249016</td>\n",
       "      <td>6.501363e+06</td>\n",
       "      <td>4.390803e+06</td>\n",
       "      <td>9.154286e+06</td>\n",
       "      <td>3.273718e+06</td>\n",
       "    </tr>\n",
       "    <tr>\n",
       "      <th>min</th>\n",
       "      <td>1.000000</td>\n",
       "      <td>0.000000</td>\n",
       "      <td>2.000000e+05</td>\n",
       "      <td>3.000000e+05</td>\n",
       "      <td>2.000000</td>\n",
       "      <td>300.000000</td>\n",
       "      <td>-1.000000e+05</td>\n",
       "      <td>0.000000e+00</td>\n",
       "      <td>3.000000e+05</td>\n",
       "      <td>0.000000e+00</td>\n",
       "    </tr>\n",
       "    <tr>\n",
       "      <th>25%</th>\n",
       "      <td>1084.500000</td>\n",
       "      <td>1.000000</td>\n",
       "      <td>2.600000e+06</td>\n",
       "      <td>7.500000e+06</td>\n",
       "      <td>4.000000</td>\n",
       "      <td>618.000000</td>\n",
       "      <td>2.100000e+06</td>\n",
       "      <td>1.400000e+06</td>\n",
       "      <td>7.100000e+06</td>\n",
       "      <td>2.300000e+06</td>\n",
       "    </tr>\n",
       "    <tr>\n",
       "      <th>50%</th>\n",
       "      <td>2157.500000</td>\n",
       "      <td>2.500000</td>\n",
       "      <td>5.000000e+06</td>\n",
       "      <td>1.460000e+07</td>\n",
       "      <td>10.000000</td>\n",
       "      <td>711.000000</td>\n",
       "      <td>5.400000e+06</td>\n",
       "      <td>3.700000e+06</td>\n",
       "      <td>1.440000e+07</td>\n",
       "      <td>4.500000e+06</td>\n",
       "    </tr>\n",
       "    <tr>\n",
       "      <th>75%</th>\n",
       "      <td>3229.000000</td>\n",
       "      <td>4.000000</td>\n",
       "      <td>7.500000e+06</td>\n",
       "      <td>2.210000e+07</td>\n",
       "      <td>16.000000</td>\n",
       "      <td>803.000000</td>\n",
       "      <td>1.120000e+07</td>\n",
       "      <td>7.800000e+06</td>\n",
       "      <td>2.160000e+07</td>\n",
       "      <td>7.200000e+06</td>\n",
       "    </tr>\n",
       "    <tr>\n",
       "      <th>max</th>\n",
       "      <td>4269.000000</td>\n",
       "      <td>5.000000</td>\n",
       "      <td>9.900000e+06</td>\n",
       "      <td>3.950000e+07</td>\n",
       "      <td>20.000000</td>\n",
       "      <td>900.000000</td>\n",
       "      <td>2.910000e+07</td>\n",
       "      <td>1.940000e+07</td>\n",
       "      <td>3.860000e+07</td>\n",
       "      <td>1.470000e+07</td>\n",
       "    </tr>\n",
       "  </tbody>\n",
       "</table>\n",
       "</div>"
      ],
      "text/plain": [
       "           loan_id   no_of_dependents   income_annum   loan_amount  \\\n",
       "count  2656.000000        2656.000000   2.656000e+03  2.656000e+03   \n",
       "mean   2151.984187           2.474774   5.025904e+06  1.524725e+07   \n",
       "std    1236.515715           1.695270   2.827228e+06  9.221696e+06   \n",
       "min       1.000000           0.000000   2.000000e+05  3.000000e+05   \n",
       "25%    1084.500000           1.000000   2.600000e+06  7.500000e+06   \n",
       "50%    2157.500000           2.500000   5.000000e+06  1.460000e+07   \n",
       "75%    3229.000000           4.000000   7.500000e+06  2.210000e+07   \n",
       "max    4269.000000           5.000000   9.900000e+06  3.950000e+07   \n",
       "\n",
       "         loan_term   cibil_score   residential_assets_value  \\\n",
       "count  2656.000000   2656.000000               2.656000e+03   \n",
       "mean     10.397590    703.461973               7.399812e+06   \n",
       "std       5.879523    125.249016               6.501363e+06   \n",
       "min       2.000000    300.000000              -1.000000e+05   \n",
       "25%       4.000000    618.000000               2.100000e+06   \n",
       "50%      10.000000    711.000000               5.400000e+06   \n",
       "75%      16.000000    803.000000               1.120000e+07   \n",
       "max      20.000000    900.000000               2.910000e+07   \n",
       "\n",
       "        commercial_assets_value   luxury_assets_value   bank_asset_value  \n",
       "count              2.656000e+03          2.656000e+03       2.656000e+03  \n",
       "mean               5.001355e+06          1.501660e+07       4.959526e+06  \n",
       "std                4.390803e+06          9.154286e+06       3.273718e+06  \n",
       "min                0.000000e+00          3.000000e+05       0.000000e+00  \n",
       "25%                1.400000e+06          7.100000e+06       2.300000e+06  \n",
       "50%                3.700000e+06          1.440000e+07       4.500000e+06  \n",
       "75%                7.800000e+06          2.160000e+07       7.200000e+06  \n",
       "max                1.940000e+07          3.860000e+07       1.470000e+07  "
      ]
     },
     "execution_count": 31,
     "metadata": {},
     "output_type": "execute_result"
    }
   ],
   "source": [
    "lapp.describe()"
   ]
  },
  {
   "cell_type": "code",
   "execution_count": 32,
   "id": "e507d16a-4103-404a-a9a4-5dcea789d898",
   "metadata": {
    "tags": []
   },
   "outputs": [
    {
     "data": {
      "text/html": [
       "<div>\n",
       "<style scoped>\n",
       "    .dataframe tbody tr th:only-of-type {\n",
       "        vertical-align: middle;\n",
       "    }\n",
       "\n",
       "    .dataframe tbody tr th {\n",
       "        vertical-align: top;\n",
       "    }\n",
       "\n",
       "    .dataframe thead th {\n",
       "        text-align: right;\n",
       "    }\n",
       "</style>\n",
       "<table border=\"1\" class=\"dataframe\">\n",
       "  <thead>\n",
       "    <tr style=\"text-align: right;\">\n",
       "      <th></th>\n",
       "      <th>loan_id</th>\n",
       "      <th>no_of_dependents</th>\n",
       "      <th>education</th>\n",
       "      <th>self_employed</th>\n",
       "      <th>income_annum</th>\n",
       "      <th>loan_amount</th>\n",
       "      <th>loan_term</th>\n",
       "      <th>cibil_score</th>\n",
       "      <th>residential_assets_value</th>\n",
       "      <th>commercial_assets_value</th>\n",
       "      <th>luxury_assets_value</th>\n",
       "      <th>bank_asset_value</th>\n",
       "      <th>loan_status</th>\n",
       "    </tr>\n",
       "  </thead>\n",
       "  <tbody>\n",
       "    <tr>\n",
       "      <th>0</th>\n",
       "      <td>1</td>\n",
       "      <td>2</td>\n",
       "      <td>Graduate</td>\n",
       "      <td>No</td>\n",
       "      <td>9600000</td>\n",
       "      <td>29900000</td>\n",
       "      <td>12</td>\n",
       "      <td>778</td>\n",
       "      <td>2400000</td>\n",
       "      <td>17600000</td>\n",
       "      <td>22700000</td>\n",
       "      <td>8000000</td>\n",
       "      <td>Approved</td>\n",
       "    </tr>\n",
       "    <tr>\n",
       "      <th>6</th>\n",
       "      <td>7</td>\n",
       "      <td>5</td>\n",
       "      <td>Graduate</td>\n",
       "      <td>No</td>\n",
       "      <td>8700000</td>\n",
       "      <td>33000000</td>\n",
       "      <td>4</td>\n",
       "      <td>678</td>\n",
       "      <td>22500000</td>\n",
       "      <td>14800000</td>\n",
       "      <td>29200000</td>\n",
       "      <td>4300000</td>\n",
       "      <td>Approved</td>\n",
       "    </tr>\n",
       "    <tr>\n",
       "      <th>8</th>\n",
       "      <td>9</td>\n",
       "      <td>0</td>\n",
       "      <td>Graduate</td>\n",
       "      <td>Yes</td>\n",
       "      <td>800000</td>\n",
       "      <td>2200000</td>\n",
       "      <td>20</td>\n",
       "      <td>782</td>\n",
       "      <td>1300000</td>\n",
       "      <td>800000</td>\n",
       "      <td>2800000</td>\n",
       "      <td>600000</td>\n",
       "      <td>Approved</td>\n",
       "    </tr>\n",
       "    <tr>\n",
       "      <th>10</th>\n",
       "      <td>11</td>\n",
       "      <td>4</td>\n",
       "      <td>Graduate</td>\n",
       "      <td>Yes</td>\n",
       "      <td>2900000</td>\n",
       "      <td>11200000</td>\n",
       "      <td>2</td>\n",
       "      <td>547</td>\n",
       "      <td>8100000</td>\n",
       "      <td>4700000</td>\n",
       "      <td>9500000</td>\n",
       "      <td>3100000</td>\n",
       "      <td>Approved</td>\n",
       "    </tr>\n",
       "    <tr>\n",
       "      <th>13</th>\n",
       "      <td>14</td>\n",
       "      <td>2</td>\n",
       "      <td>Graduate</td>\n",
       "      <td>Yes</td>\n",
       "      <td>9100000</td>\n",
       "      <td>31500000</td>\n",
       "      <td>14</td>\n",
       "      <td>679</td>\n",
       "      <td>10800000</td>\n",
       "      <td>16600000</td>\n",
       "      <td>20900000</td>\n",
       "      <td>5000000</td>\n",
       "      <td>Approved</td>\n",
       "    </tr>\n",
       "  </tbody>\n",
       "</table>\n",
       "</div>"
      ],
      "text/plain": [
       "    loan_id   no_of_dependents  education  self_employed   income_annum  \\\n",
       "0         1                  2   Graduate             No        9600000   \n",
       "6         7                  5   Graduate             No        8700000   \n",
       "8         9                  0   Graduate            Yes         800000   \n",
       "10       11                  4   Graduate            Yes        2900000   \n",
       "13       14                  2   Graduate            Yes        9100000   \n",
       "\n",
       "     loan_amount   loan_term   cibil_score   residential_assets_value  \\\n",
       "0       29900000          12           778                    2400000   \n",
       "6       33000000           4           678                   22500000   \n",
       "8        2200000          20           782                    1300000   \n",
       "10      11200000           2           547                    8100000   \n",
       "13      31500000          14           679                   10800000   \n",
       "\n",
       "     commercial_assets_value   luxury_assets_value   bank_asset_value  \\\n",
       "0                   17600000              22700000            8000000   \n",
       "6                   14800000              29200000            4300000   \n",
       "8                     800000               2800000             600000   \n",
       "10                   4700000               9500000            3100000   \n",
       "13                  16600000              20900000            5000000   \n",
       "\n",
       "    loan_status  \n",
       "0      Approved  \n",
       "6      Approved  \n",
       "8      Approved  \n",
       "10     Approved  \n",
       "13     Approved  "
      ]
     },
     "execution_count": 32,
     "metadata": {},
     "output_type": "execute_result"
    }
   ],
   "source": [
    "lapp.head()"
   ]
  },
  {
   "cell_type": "code",
   "execution_count": 33,
   "id": "958e863b-527e-4950-8ec2-c3578860422b",
   "metadata": {
    "tags": []
   },
   "outputs": [
    {
     "data": {
      "text/html": [
       "<div>\n",
       "<style scoped>\n",
       "    .dataframe tbody tr th:only-of-type {\n",
       "        vertical-align: middle;\n",
       "    }\n",
       "\n",
       "    .dataframe tbody tr th {\n",
       "        vertical-align: top;\n",
       "    }\n",
       "\n",
       "    .dataframe thead th {\n",
       "        text-align: right;\n",
       "    }\n",
       "</style>\n",
       "<table border=\"1\" class=\"dataframe\">\n",
       "  <thead>\n",
       "    <tr style=\"text-align: right;\">\n",
       "      <th></th>\n",
       "      <th>loan_id</th>\n",
       "      <th>no_of_dependents</th>\n",
       "      <th>education</th>\n",
       "      <th>self_employed</th>\n",
       "      <th>income_annum</th>\n",
       "      <th>loan_amount</th>\n",
       "      <th>loan_term</th>\n",
       "      <th>cibil_score</th>\n",
       "      <th>residential_assets_value</th>\n",
       "      <th>commercial_assets_value</th>\n",
       "      <th>luxury_assets_value</th>\n",
       "      <th>bank_asset_value</th>\n",
       "      <th>loan_status</th>\n",
       "    </tr>\n",
       "  </thead>\n",
       "  <tbody>\n",
       "    <tr>\n",
       "      <th>4261</th>\n",
       "      <td>4262</td>\n",
       "      <td>3</td>\n",
       "      <td>Graduate</td>\n",
       "      <td>Yes</td>\n",
       "      <td>3000000</td>\n",
       "      <td>7500000</td>\n",
       "      <td>6</td>\n",
       "      <td>881</td>\n",
       "      <td>1400000</td>\n",
       "      <td>4500000</td>\n",
       "      <td>6100000</td>\n",
       "      <td>2300000</td>\n",
       "      <td>Approved</td>\n",
       "    </tr>\n",
       "    <tr>\n",
       "      <th>4263</th>\n",
       "      <td>4264</td>\n",
       "      <td>3</td>\n",
       "      <td>Graduate</td>\n",
       "      <td>No</td>\n",
       "      <td>5000000</td>\n",
       "      <td>12700000</td>\n",
       "      <td>14</td>\n",
       "      <td>865</td>\n",
       "      <td>4700000</td>\n",
       "      <td>8100000</td>\n",
       "      <td>19500000</td>\n",
       "      <td>6300000</td>\n",
       "      <td>Approved</td>\n",
       "    </tr>\n",
       "    <tr>\n",
       "      <th>4265</th>\n",
       "      <td>4266</td>\n",
       "      <td>0</td>\n",
       "      <td>Not Graduate</td>\n",
       "      <td>Yes</td>\n",
       "      <td>3300000</td>\n",
       "      <td>11300000</td>\n",
       "      <td>20</td>\n",
       "      <td>559</td>\n",
       "      <td>4200000</td>\n",
       "      <td>2900000</td>\n",
       "      <td>11000000</td>\n",
       "      <td>1900000</td>\n",
       "      <td>Approved</td>\n",
       "    </tr>\n",
       "    <tr>\n",
       "      <th>4267</th>\n",
       "      <td>4268</td>\n",
       "      <td>1</td>\n",
       "      <td>Not Graduate</td>\n",
       "      <td>No</td>\n",
       "      <td>4100000</td>\n",
       "      <td>12800000</td>\n",
       "      <td>8</td>\n",
       "      <td>780</td>\n",
       "      <td>8200000</td>\n",
       "      <td>700000</td>\n",
       "      <td>14100000</td>\n",
       "      <td>5800000</td>\n",
       "      <td>Approved</td>\n",
       "    </tr>\n",
       "    <tr>\n",
       "      <th>4268</th>\n",
       "      <td>4269</td>\n",
       "      <td>1</td>\n",
       "      <td>Graduate</td>\n",
       "      <td>No</td>\n",
       "      <td>9200000</td>\n",
       "      <td>29700000</td>\n",
       "      <td>10</td>\n",
       "      <td>607</td>\n",
       "      <td>17800000</td>\n",
       "      <td>11800000</td>\n",
       "      <td>35700000</td>\n",
       "      <td>12000000</td>\n",
       "      <td>Approved</td>\n",
       "    </tr>\n",
       "  </tbody>\n",
       "</table>\n",
       "</div>"
      ],
      "text/plain": [
       "      loan_id   no_of_dependents      education  self_employed   income_annum  \\\n",
       "4261     4262                  3       Graduate            Yes        3000000   \n",
       "4263     4264                  3       Graduate             No        5000000   \n",
       "4265     4266                  0   Not Graduate            Yes        3300000   \n",
       "4267     4268                  1   Not Graduate             No        4100000   \n",
       "4268     4269                  1       Graduate             No        9200000   \n",
       "\n",
       "       loan_amount   loan_term   cibil_score   residential_assets_value  \\\n",
       "4261       7500000           6           881                    1400000   \n",
       "4263      12700000          14           865                    4700000   \n",
       "4265      11300000          20           559                    4200000   \n",
       "4267      12800000           8           780                    8200000   \n",
       "4268      29700000          10           607                   17800000   \n",
       "\n",
       "       commercial_assets_value   luxury_assets_value   bank_asset_value  \\\n",
       "4261                   4500000               6100000            2300000   \n",
       "4263                   8100000              19500000            6300000   \n",
       "4265                   2900000              11000000            1900000   \n",
       "4267                    700000              14100000            5800000   \n",
       "4268                  11800000              35700000           12000000   \n",
       "\n",
       "      loan_status  \n",
       "4261     Approved  \n",
       "4263     Approved  \n",
       "4265     Approved  \n",
       "4267     Approved  \n",
       "4268     Approved  "
      ]
     },
     "execution_count": 33,
     "metadata": {},
     "output_type": "execute_result"
    }
   ],
   "source": [
    "lapp.tail()"
   ]
  },
  {
   "cell_type": "code",
   "execution_count": 40,
   "id": "43c45fa7-5394-41b5-b0e4-7047d7df659b",
   "metadata": {
    "tags": []
   },
   "outputs": [
    {
     "data": {
      "text/plain": [
       "True     1339\n",
       "False    1317\n",
       "Name:  education, dtype: int64"
      ]
     },
     "execution_count": 40,
     "metadata": {},
     "output_type": "execute_result"
    }
   ],
   "source": [
    "pd.value_counts(lapp[\" education\"] == \" Graduate\")"
   ]
  },
  {
   "cell_type": "code",
   "execution_count": 49,
   "id": "eb3126b8-bd21-4a8b-b368-043647761820",
   "metadata": {
    "tags": []
   },
   "outputs": [],
   "source": [
    "xser = ['Graduated', 'Not Graduated']\n",
    "yser = [pd.value_counts(lapp[\" education\"] == \" Graduate\")[0], pd.value_counts(lapp[\" education\"] == \" Graduate\")[1]]"
   ]
  },
  {
   "cell_type": "code",
   "execution_count": 50,
   "id": "2a5bf152-5175-4523-9a45-ae790b2016a1",
   "metadata": {
    "tags": []
   },
   "outputs": [
    {
     "data": {
      "image/png": "[encoded data removed]",
      "text/plain": [
       "<Figure size 640x480 with 1 Axes>"
      ]
     },
     "metadata": {},
     "output_type": "display_data"
    }
   ],
   "source": [
    "plt.bar(xser,yser)\n",
    "plt.ylabel('Count')\n",
    "plt.show()"
   ]
  },
  {
   "cell_type": "code",
   "execution_count": 52,
   "id": "2d6cba2e-2791-4c87-b652-85c8f136d95f",
   "metadata": {
    "tags": []
   },
   "outputs": [],
   "source": [
    "pdata = []\n",
    "\n",
    "for i in df.keys():\n",
    "    pdata.append(df[i])"
   ]
  },
  {
   "cell_type": "code",
   "execution_count": 64,
   "id": "a77aa663-4c34-48bb-9720-dad77dc21746",
   "metadata": {
    "tags": []
   },
   "outputs": [
    {
     "data": {
      "text/plain": [
       "{'whiskers': [<matplotlib.lines.Line2D at 0x1cecc3d2790>,\n",
       "  <matplotlib.lines.Line2D at 0x1cecc3c6b50>],\n",
       " 'caps': [<matplotlib.lines.Line2D at 0x1cecc3d3910>,\n",
       "  <matplotlib.lines.Line2D at 0x1cecc3ec150>],\n",
       " 'boxes': [<matplotlib.lines.Line2D at 0x1cecc3d1f50>],\n",
       " 'medians': [<matplotlib.lines.Line2D at 0x1cecc3ec990>],\n",
       " 'fliers': [<matplotlib.lines.Line2D at 0x1cecc39df10>],\n",
       " 'means': []}"
      ]
     },
     "execution_count": 64,
     "metadata": {},
     "output_type": "execute_result"
    },
    {
     "data": {
      "image/png": "[encoded data removed]",
      "text/plain": [
       "<Figure size 640x480 with 1 Axes>"
      ]
     },
     "metadata": {},
     "output_type": "display_data"
    }
   ],
   "source": [
    "plt.boxplot(pdata[8])"
   ]
  },
  {
   "cell_type": "code",
   "execution_count": null,
   "id": "d07342e5-f5d0-42da-bbed-0158ddb06099",
   "metadata": {},
   "outputs": [],
   "source": []
  }
 ],
 "metadata": {
  "kernelspec": {
   "display_name": "Python 3 (ipykernel)",
   "language": "python",
   "name": "python3"
  },
  "language_info": {
   "codemirror_mode": {
    "name": "ipython",
    "version": 3
   },
   "file_extension": ".py",
   "mimetype": "text/x-python",
   "name": "python",
   "nbconvert_exporter": "python",
   "pygments_lexer": "ipython3",
   "version": "3.11.3"
  }
 },
 "nbformat": 4,
 "nbformat_minor": 5
}
