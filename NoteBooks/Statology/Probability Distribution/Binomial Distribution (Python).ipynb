{
 "cells": [
  {
   "cell_type": "code",
   "execution_count": 1,
   "id": "d4eaa47b-3ebb-46d8-a0ee-49e0256cf69f",
   "metadata": {
    "tags": []
   },
   "outputs": [],
   "source": [
    "import numpy as np\n",
    "import scipy as sp\n",
    "import statistics as stat\n",
    "import matplotlib.pyplot as plt\n",
    "import seaborn as sns\n",
    "import matplotlib.gridspec as Gs"
   ]
  },
  {
   "cell_type": "code",
   "execution_count": 2,
   "id": "a583e298-765d-4cbe-b141-59549d058629",
   "metadata": {
    "tags": []
   },
   "outputs": [],
   "source": [
    "sns.set()\n",
    "%matplotlib inline"
   ]
  },
  {
   "cell_type": "markdown",
   "id": "0f2d454b-719a-4392-9da8-0efedc18dca6",
   "metadata": {},
   "source": [
    "# Binomial Distribution"
   ]
  },
  {
   "cell_type": "markdown",
   "id": "3803ff4d-82e7-4b4d-80f9-4388ead89006",
   "metadata": {},
   "source": [
    "The binomial distribution is one of the most commonly used distributions in statistics. It describes the probability of obtaining `k` successes in n binomial experiments.\n",
    "\n",
    "If a random variable `X` follows a binomial distribution, then the probability that $X = k$ successes can be found by the following formula:\n",
    "\n",
    "$$P(X=k) =  _nC^k * p^k * (1-p)^{n-k}$$\n",
    "\n",
    "where:\n",
    "\n",
    "- $n$: number of trials\n",
    "- $k$: number of successes\n",
    "- $p$: probability of success on a given trial\n",
    "- $_nC^k$: the number of ways to obtain `k` successes in n trials"
   ]
  },
  {
   "cell_type": "code",
   "execution_count": 3,
   "id": "f72b5943-b21f-4070-8c82-9877687a743e",
   "metadata": {
    "tags": []
   },
   "outputs": [
    {
     "data": {
      "image/png": "[encoded data removed]",
      "text/plain": [
       "<Figure size 640x480 with 1 Axes>"
      ]
     },
     "metadata": {},
     "output_type": "display_data"
    }
   ],
   "source": [
    "fig = plt.figure(num = 1)\n",
    "x = np.random.binomial(n=10, p=0.5, size=1000)\n",
    "\n",
    "hist_plot = sns.histplot(x, stat='probability')\n",
    "\n",
    "hist_fig = hist_plot.get_figure()\n",
    "\n",
    "plt.xlabel('Trials')\n",
    "plt.title('Binomial Distribution')\n",
    "hist_fig.savefig('D:\\Statology/Probability Distribution/Binomial distribution plot.png')\n",
    "plt.show()"
   ]
  },
  {
   "cell_type": "markdown",
   "id": "601b4cc6-7349-4129-8b00-e81bc609f6df",
   "metadata": {},
   "source": [
    "<div class=\"alert alert-block alert-info\">\n",
    "<b>Question 1:</b> Nathan makes 60% of his free-throw attempts. If he shoots 12 free throws, what is the probability that he makes exactly 10?\n",
    "</div>"
   ]
  },
  {
   "cell_type": "code",
   "execution_count": 4,
   "id": "f3662a98-e6cf-49aa-a9bf-638e61d38683",
   "metadata": {
    "tags": []
   },
   "outputs": [
    {
     "data": {
      "text/plain": [
       "0.063852281856"
      ]
     },
     "execution_count": 4,
     "metadata": {},
     "output_type": "execute_result"
    }
   ],
   "source": [
    "sp.stats.binom.pmf(k=10, n=12, p=0.6)"
   ]
  },
  {
   "cell_type": "markdown",
   "id": "a35c2d8d-5517-410e-8541-5350b4ba04d2",
   "metadata": {},
   "source": [
    "<div class=\"alert alert-block alert-info\">\n",
    "<b>Question 2:</b> Marty flips a fair coin 5 times. What is the probability that the coin lands on heads 2 times or fewer?\n",
    "</div>"
   ]
  },
  {
   "cell_type": "code",
   "execution_count": 5,
   "id": "44fff5ef-a16f-463c-86e6-34b05e1bf0dc",
   "metadata": {
    "tags": []
   },
   "outputs": [
    {
     "data": {
      "text/plain": [
       "0.31249999999999983"
      ]
     },
     "execution_count": 5,
     "metadata": {},
     "output_type": "execute_result"
    }
   ],
   "source": [
    "sp.stats.binom.pmf(n = 5, k = 2, p = 0.5)"
   ]
  },
  {
   "cell_type": "markdown",
   "id": "009f4183-b41a-4bfb-adb7-3f67b2941664",
   "metadata": {},
   "source": [
    "<div class=\"alert alert-block alert-info\">\n",
    "<b>Question 3:</b> It is known that 70% of individuals support a certain law. If 10 individuals are randomly selected, what is the probability that between 4 and 6 of them support the law?\n",
    "</div>"
   ]
  },
  {
   "cell_type": "code",
   "execution_count": 6,
   "id": "4b2fa178-b7c4-4e48-be83-a91fd1ea6195",
   "metadata": {
    "tags": []
   },
   "outputs": [
    {
     "data": {
      "text/plain": [
       "0.33979720320000006"
      ]
     },
     "execution_count": 6,
     "metadata": {},
     "output_type": "execute_result"
    }
   ],
   "source": [
    "sp.stats.binom.cdf(k=6, n=10, p=0.7) - sp.stats.binom.cdf(k=3, n=10, p=0.7)"
   ]
  }
 ],
 "metadata": {
  "kernelspec": {
   "display_name": "Python 3 (ipykernel)",
   "language": "python",
   "name": "python3"
  },
  "language_info": {
   "codemirror_mode": {
    "name": "ipython",
    "version": 3
   },
   "file_extension": ".py",
   "mimetype": "text/x-python",
   "name": "python",
   "nbconvert_exporter": "python",
   "pygments_lexer": "ipython3",
   "version": "3.11.3"
  }
 },
 "nbformat": 4,
 "nbformat_minor": 5
}
