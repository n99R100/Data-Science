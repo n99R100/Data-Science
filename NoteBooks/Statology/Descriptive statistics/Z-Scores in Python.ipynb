{
 "cells": [
  {
   "cell_type": "code",
   "execution_count": 2,
   "id": "9876d72f-be87-42d4-999c-77f8b245e322",
   "metadata": {
    "tags": []
   },
   "outputs": [],
   "source": [
    "import numpy as np\n",
    "import scipy as sp\n",
    "import pandas as pd"
   ]
  },
  {
   "cell_type": "markdown",
   "id": "5edf48fc-227b-4e2e-b55e-36f3f7cf5a0f",
   "metadata": {},
   "source": [
    "In statistics, a z-score tells us how many standard deviations away a value is from the mean. We use the following formula to calculate a z-score:\n",
    "\n",
    "$$\\mathcal Z = \\frac {X - \\mu}{\\sigma}$$\n",
    "\n",
    "where:\n",
    "\n",
    "- X is a single raw data value\n",
    "- μ is the population mean\n",
    "- σ is the population standard deviation"
   ]
  },
  {
   "cell_type": "markdown",
   "id": "d69c7eb5-7c37-4816-8bd5-224bc52661a6",
   "metadata": {},
   "source": [
    "# Calculate Z-Scores in Python\n",
    "\n",
    "We can calculate z-scores in Python using `scipy.stats.zscore`, which uses the following syntax:\n",
    "\n",
    "```\n",
    "scipy.stats.zscore(a, axis=0, ddof=0, nan_policy=’propagate’)\n",
    "```\n",
    "\n",
    "where:\n",
    "\n",
    "- `a`: an array like object containing data\n",
    "- `axis`: the axis along which to calculate the z-scores. Default is 0.\n",
    "- `ddof`: degrees of freedom correction in the calculation of the standard deviation. Default is 0.\n",
    "- `nan_policy`: how to handle when input contains nan. Default is propagate, which returns nan. ‘raise’ throws an error and ‘omit’ performs calculations ignoring nan values."
   ]
  },
  {
   "cell_type": "code",
   "execution_count": 3,
   "id": "e68b6487-c1b6-45c2-a7fa-90340a928252",
   "metadata": {
    "tags": []
   },
   "outputs": [],
   "source": [
    "data = np.array([6, 7, 7, 12, 13, 13, 15, 16, 19, 22])"
   ]
  },
  {
   "cell_type": "code",
   "execution_count": 4,
   "id": "1f9a5a6b-7fa9-4a68-a2a6-b8275436af8e",
   "metadata": {
    "tags": []
   },
   "outputs": [
    {
     "data": {
      "text/plain": [
       "array([-1.39443338, -1.19522861, -1.19522861, -0.19920477,  0.        ,\n",
       "        0.        ,  0.39840954,  0.5976143 ,  1.19522861,  1.79284291])"
      ]
     },
     "execution_count": 4,
     "metadata": {},
     "output_type": "execute_result"
    }
   ],
   "source": [
    "sp.stats.zscore(data)"
   ]
  },
  {
   "cell_type": "code",
   "execution_count": 10,
   "id": "8d33788e-c3cc-4dd5-aad1-67a2a52c028b",
   "metadata": {
    "tags": []
   },
   "outputs": [],
   "source": [
    "data = np.array([[5, 6, 7, 7, 8],\n",
    "                 [8, 8, 8, 9, 9],\n",
    "                 [2, 2, 4, 4, 5]])"
   ]
  },
  {
   "cell_type": "code",
   "execution_count": 11,
   "id": "11d266e7-c8c6-434b-ada6-d71cec356343",
   "metadata": {
    "tags": []
   },
   "outputs": [
    {
     "data": {
      "text/plain": [
       "array([[-1.56892908, -0.58834841,  0.39223227,  0.39223227,  1.37281295],\n",
       "       [-0.81649658, -0.81649658, -0.81649658,  1.22474487,  1.22474487],\n",
       "       [-1.16666667, -1.16666667,  0.5       ,  0.5       ,  1.33333333]])"
      ]
     },
     "execution_count": 11,
     "metadata": {},
     "output_type": "execute_result"
    }
   ],
   "source": [
    "sp.stats.zscore(data, axis=1)"
   ]
  },
  {
   "cell_type": "code",
   "execution_count": 12,
   "id": "0dd3f291-3877-4cda-b7e7-abd76e3f13c6",
   "metadata": {
    "tags": []
   },
   "outputs": [
    {
     "data": {
      "text/plain": [
       "array([[ 0.        ,  0.26726124,  0.39223227,  0.16222142,  0.39223227],\n",
       "       [ 1.22474487,  1.06904497,  0.98058068,  1.13554995,  0.98058068],\n",
       "       [-1.22474487, -1.33630621, -1.37281295, -1.29777137, -1.37281295]])"
      ]
     },
     "execution_count": 12,
     "metadata": {},
     "output_type": "execute_result"
    }
   ],
   "source": [
    "sp.stats.zscore(data, axis = 0)"
   ]
  },
  {
   "cell_type": "code",
   "execution_count": 7,
   "id": "0580d4f5-eca3-4595-b65b-f0a199cd24e5",
   "metadata": {
    "tags": []
   },
   "outputs": [],
   "source": [
    "data = pd.DataFrame(np.random.randint(0, 10, size=(5, 3)), columns=['A', 'B', 'C'])"
   ]
  },
  {
   "cell_type": "code",
   "execution_count": 8,
   "id": "5f89e338-78d2-44f5-8d69-0ec518f59dec",
   "metadata": {
    "tags": []
   },
   "outputs": [
    {
     "data": {
      "text/html": [
       "<div>\n",
       "<style scoped>\n",
       "    .dataframe tbody tr th:only-of-type {\n",
       "        vertical-align: middle;\n",
       "    }\n",
       "\n",
       "    .dataframe tbody tr th {\n",
       "        vertical-align: top;\n",
       "    }\n",
       "\n",
       "    .dataframe thead th {\n",
       "        text-align: right;\n",
       "    }\n",
       "</style>\n",
       "<table border=\"1\" class=\"dataframe\">\n",
       "  <thead>\n",
       "    <tr style=\"text-align: right;\">\n",
       "      <th></th>\n",
       "      <th>A</th>\n",
       "      <th>B</th>\n",
       "      <th>C</th>\n",
       "    </tr>\n",
       "  </thead>\n",
       "  <tbody>\n",
       "    <tr>\n",
       "      <th>0</th>\n",
       "      <td>8</td>\n",
       "      <td>8</td>\n",
       "      <td>4</td>\n",
       "    </tr>\n",
       "    <tr>\n",
       "      <th>1</th>\n",
       "      <td>5</td>\n",
       "      <td>2</td>\n",
       "      <td>7</td>\n",
       "    </tr>\n",
       "    <tr>\n",
       "      <th>2</th>\n",
       "      <td>5</td>\n",
       "      <td>2</td>\n",
       "      <td>1</td>\n",
       "    </tr>\n",
       "    <tr>\n",
       "      <th>3</th>\n",
       "      <td>3</td>\n",
       "      <td>8</td>\n",
       "      <td>4</td>\n",
       "    </tr>\n",
       "    <tr>\n",
       "      <th>4</th>\n",
       "      <td>3</td>\n",
       "      <td>8</td>\n",
       "      <td>3</td>\n",
       "    </tr>\n",
       "  </tbody>\n",
       "</table>\n",
       "</div>"
      ],
      "text/plain": [
       "   A  B  C\n",
       "0  8  8  4\n",
       "1  5  2  7\n",
       "2  5  2  1\n",
       "3  3  8  4\n",
       "4  3  8  3"
      ]
     },
     "execution_count": 8,
     "metadata": {},
     "output_type": "execute_result"
    }
   ],
   "source": [
    "data"
   ]
  },
  {
   "cell_type": "code",
   "execution_count": 9,
   "id": "35b04fec-f06f-4333-ae94-3845e8efdc08",
   "metadata": {
    "tags": []
   },
   "outputs": [
    {
     "data": {
      "text/html": [
       "<div>\n",
       "<style scoped>\n",
       "    .dataframe tbody tr th:only-of-type {\n",
       "        vertical-align: middle;\n",
       "    }\n",
       "\n",
       "    .dataframe tbody tr th {\n",
       "        vertical-align: top;\n",
       "    }\n",
       "\n",
       "    .dataframe thead th {\n",
       "        text-align: right;\n",
       "    }\n",
       "</style>\n",
       "<table border=\"1\" class=\"dataframe\">\n",
       "  <thead>\n",
       "    <tr style=\"text-align: right;\">\n",
       "      <th></th>\n",
       "      <th>A</th>\n",
       "      <th>B</th>\n",
       "      <th>C</th>\n",
       "    </tr>\n",
       "  </thead>\n",
       "  <tbody>\n",
       "    <tr>\n",
       "      <th>0</th>\n",
       "      <td>1.745743</td>\n",
       "      <td>0.816497</td>\n",
       "      <td>0.103142</td>\n",
       "    </tr>\n",
       "    <tr>\n",
       "      <th>1</th>\n",
       "      <td>0.109109</td>\n",
       "      <td>-1.224745</td>\n",
       "      <td>1.650274</td>\n",
       "    </tr>\n",
       "    <tr>\n",
       "      <th>2</th>\n",
       "      <td>0.109109</td>\n",
       "      <td>-1.224745</td>\n",
       "      <td>-1.443990</td>\n",
       "    </tr>\n",
       "    <tr>\n",
       "      <th>3</th>\n",
       "      <td>-0.981981</td>\n",
       "      <td>0.816497</td>\n",
       "      <td>0.103142</td>\n",
       "    </tr>\n",
       "    <tr>\n",
       "      <th>4</th>\n",
       "      <td>-0.981981</td>\n",
       "      <td>0.816497</td>\n",
       "      <td>-0.412568</td>\n",
       "    </tr>\n",
       "  </tbody>\n",
       "</table>\n",
       "</div>"
      ],
      "text/plain": [
       "          A         B         C\n",
       "0  1.745743  0.816497  0.103142\n",
       "1  0.109109 -1.224745  1.650274\n",
       "2  0.109109 -1.224745 -1.443990\n",
       "3 -0.981981  0.816497  0.103142\n",
       "4 -0.981981  0.816497 -0.412568"
      ]
     },
     "execution_count": 9,
     "metadata": {},
     "output_type": "execute_result"
    }
   ],
   "source": [
    "data.apply(sp.stats.zscore)"
   ]
  },
  {
   "cell_type": "code",
   "execution_count": null,
   "id": "34dbf08d-aaf0-47bd-848c-19273685a422",
   "metadata": {},
   "outputs": [],
   "source": []
  }
 ],
 "metadata": {
  "kernelspec": {
   "display_name": "Python 3 (ipykernel)",
   "language": "python",
   "name": "python3"
  },
  "language_info": {
   "codemirror_mode": {
    "name": "ipython",
    "version": 3
   },
   "file_extension": ".py",
   "mimetype": "text/x-python",
   "name": "python",
   "nbconvert_exporter": "python",
   "pygments_lexer": "ipython3",
   "version": "3.11.3"
  }
 },
 "nbformat": 4,
 "nbformat_minor": 5
}
