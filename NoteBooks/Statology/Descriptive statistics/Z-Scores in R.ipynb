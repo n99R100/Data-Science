{
 "cells": [
  {
   "cell_type": "markdown",
   "id": "48437a50-3369-4a15-b131-a782987dabdc",
   "metadata": {},
   "source": [
    "In statistics, a z-score tells us how many standard deviations away a value is from the mean. We use the following formula to calculate a z-score:\n",
    "\n",
    "$$\\mathcal Z = \\frac {X - \\mu}{\\sigma}$$\n",
    "\n",
    "where:\n",
    "\n",
    "- X is a single raw data value\n",
    "- μ is the population mean\n",
    "- σ is the population standard deviation"
   ]
  },
  {
   "cell_type": "markdown",
   "id": "e9058567-80d9-4338-8985-f6c951df600e",
   "metadata": {},
   "source": [
    "<h1> Z-score calculation in R </h1>"
   ]
  },
  {
   "cell_type": "code",
   "execution_count": 1,
   "id": "4b0641a2-353d-498f-a831-94d39e23199e",
   "metadata": {
    "tags": []
   },
   "outputs": [],
   "source": [
    "#create vector of data\n",
    "data <- c(6, 7, 7, 12, 13, 13, 15, 16, 19, 22)"
   ]
  },
  {
   "cell_type": "code",
   "execution_count": 2,
   "id": "5f2d65f9-b9a8-479e-b7e6-56e424c0680f",
   "metadata": {
    "tags": []
   },
   "outputs": [],
   "source": [
    "#find z-score for each data value \n",
    "z_scores <- (data-mean(data))/sd(data)"
   ]
  },
  {
   "cell_type": "code",
   "execution_count": 3,
   "id": "4840f878-d22a-4dc9-b8a2-701dcacfb940",
   "metadata": {
    "tags": []
   },
   "outputs": [
    {
     "data": {
      "text/html": [
       "<style>\n",
       ".list-inline {list-style: none; margin:0; padding: 0}\n",
       ".list-inline>li {display: inline-block}\n",
       ".list-inline>li:not(:last-child)::after {content: \"\\00b7\"; padding: 0 .5ex}\n",
       "</style>\n",
       "<ol class=list-inline><li>-1.3228756555323</li><li>-1.13389341902768</li><li>-1.13389341902768</li><li>-0.188982236504614</li><li>0</li><li>0</li><li>0.377964473009227</li><li>0.566946709513841</li><li>1.13389341902768</li><li>1.70084012854152</li></ol>\n"
      ],
      "text/latex": [
       "\\begin{enumerate*}\n",
       "\\item -1.3228756555323\n",
       "\\item -1.13389341902768\n",
       "\\item -1.13389341902768\n",
       "\\item -0.188982236504614\n",
       "\\item 0\n",
       "\\item 0\n",
       "\\item 0.377964473009227\n",
       "\\item 0.566946709513841\n",
       "\\item 1.13389341902768\n",
       "\\item 1.70084012854152\n",
       "\\end{enumerate*}\n"
      ],
      "text/markdown": [
       "1. -1.3228756555323\n",
       "2. -1.13389341902768\n",
       "3. -1.13389341902768\n",
       "4. -0.188982236504614\n",
       "5. 0\n",
       "6. 0\n",
       "7. 0.377964473009227\n",
       "8. 0.566946709513841\n",
       "9. 1.13389341902768\n",
       "10. 1.70084012854152\n",
       "\n",
       "\n"
      ],
      "text/plain": [
       " [1] -1.3228757 -1.1338934 -1.1338934 -0.1889822  0.0000000  0.0000000\n",
       " [7]  0.3779645  0.5669467  1.1338934  1.7008401"
      ]
     },
     "metadata": {},
     "output_type": "display_data"
    }
   ],
   "source": [
    "z_scores"
   ]
  },
  {
   "cell_type": "code",
   "execution_count": 4,
   "id": "491798ad-535e-48dc-948d-437c86b701dd",
   "metadata": {
    "tags": []
   },
   "outputs": [],
   "source": [
    "#create dataframe\n",
    "df <- data.frame(assists = c(4, 4, 6, 7, 9, 13),\n",
    "                 points = c(24, 29, 13, 15, 19, 22),\n",
    "                 rebounds = c(5, 5, 7, 8, 14, 15))"
   ]
  },
  {
   "cell_type": "code",
   "execution_count": 5,
   "id": "5cc5ac75-af2d-4119-aee2-f6b0eb4373ae",
   "metadata": {
    "tags": []
   },
   "outputs": [],
   "source": [
    "#find z-score for each data value in the 'points' column\n",
    "z_scores <- (df$points-mean(df$points))/sd(df$points)"
   ]
  },
  {
   "cell_type": "code",
   "execution_count": 6,
   "id": "3b5b7125-c604-44f3-b530-7b37b0428732",
   "metadata": {
    "tags": []
   },
   "outputs": [
    {
     "data": {
      "text/html": [
       "<style>\n",
       ".list-inline {list-style: none; margin:0; padding: 0}\n",
       ".list-inline>li {display: inline-block}\n",
       ".list-inline>li:not(:last-child)::after {content: \"\\00b7\"; padding: 0 .5ex}\n",
       "</style>\n",
       "<ol class=list-inline><li>0.619190362238852</li><li>1.46354085620092</li><li>-1.2383807244777</li><li>-0.900640526892875</li><li>-0.225160131723219</li><li>0.281450164654024</li></ol>\n"
      ],
      "text/latex": [
       "\\begin{enumerate*}\n",
       "\\item 0.619190362238852\n",
       "\\item 1.46354085620092\n",
       "\\item -1.2383807244777\n",
       "\\item -0.900640526892875\n",
       "\\item -0.225160131723219\n",
       "\\item 0.281450164654024\n",
       "\\end{enumerate*}\n"
      ],
      "text/markdown": [
       "1. 0.619190362238852\n",
       "2. 1.46354085620092\n",
       "3. -1.2383807244777\n",
       "4. -0.900640526892875\n",
       "5. -0.225160131723219\n",
       "6. 0.281450164654024\n",
       "\n",
       "\n"
      ],
      "text/plain": [
       "[1]  0.6191904  1.4635409 -1.2383807 -0.9006405 -0.2251601  0.2814502"
      ]
     },
     "metadata": {},
     "output_type": "display_data"
    }
   ],
   "source": [
    "z_scores"
   ]
  },
  {
   "cell_type": "code",
   "execution_count": 7,
   "id": "f278cd6e-a51f-4bad-b3f1-7db70267f6fd",
   "metadata": {
    "tags": []
   },
   "outputs": [
    {
     "data": {
      "text/html": [
       "<table class=\"dataframe\">\n",
       "<caption>A matrix: 6 × 3 of type dbl</caption>\n",
       "<thead>\n",
       "\t<tr><th scope=col>assists</th><th scope=col>points</th><th scope=col>rebounds</th></tr>\n",
       "</thead>\n",
       "<tbody>\n",
       "\t<tr><td>-0.92315712</td><td> 0.6191904</td><td>-0.9035079</td></tr>\n",
       "\t<tr><td>-0.92315712</td><td> 1.4635409</td><td>-0.9035079</td></tr>\n",
       "\t<tr><td>-0.34011052</td><td>-1.2383807</td><td>-0.4517540</td></tr>\n",
       "\t<tr><td>-0.04858722</td><td>-0.9006405</td><td>-0.2258770</td></tr>\n",
       "\t<tr><td> 0.53445939</td><td>-0.2251601</td><td> 1.1293849</td></tr>\n",
       "\t<tr><td> 1.70055260</td><td> 0.2814502</td><td> 1.3552619</td></tr>\n",
       "</tbody>\n",
       "</table>\n"
      ],
      "text/latex": [
       "A matrix: 6 × 3 of type dbl\n",
       "\\begin{tabular}{lll}\n",
       " assists & points & rebounds\\\\\n",
       "\\hline\n",
       "\t -0.92315712 &  0.6191904 & -0.9035079\\\\\n",
       "\t -0.92315712 &  1.4635409 & -0.9035079\\\\\n",
       "\t -0.34011052 & -1.2383807 & -0.4517540\\\\\n",
       "\t -0.04858722 & -0.9006405 & -0.2258770\\\\\n",
       "\t  0.53445939 & -0.2251601 &  1.1293849\\\\\n",
       "\t  1.70055260 &  0.2814502 &  1.3552619\\\\\n",
       "\\end{tabular}\n"
      ],
      "text/markdown": [
       "\n",
       "A matrix: 6 × 3 of type dbl\n",
       "\n",
       "| assists | points | rebounds |\n",
       "|---|---|---|\n",
       "| -0.92315712 |  0.6191904 | -0.9035079 |\n",
       "| -0.92315712 |  1.4635409 | -0.9035079 |\n",
       "| -0.34011052 | -1.2383807 | -0.4517540 |\n",
       "| -0.04858722 | -0.9006405 | -0.2258770 |\n",
       "|  0.53445939 | -0.2251601 |  1.1293849 |\n",
       "|  1.70055260 |  0.2814502 |  1.3552619 |\n",
       "\n"
      ],
      "text/plain": [
       "     assists     points     rebounds  \n",
       "[1,] -0.92315712  0.6191904 -0.9035079\n",
       "[2,] -0.92315712  1.4635409 -0.9035079\n",
       "[3,] -0.34011052 -1.2383807 -0.4517540\n",
       "[4,] -0.04858722 -0.9006405 -0.2258770\n",
       "[5,]  0.53445939 -0.2251601  1.1293849\n",
       "[6,]  1.70055260  0.2814502  1.3552619"
      ]
     },
     "metadata": {},
     "output_type": "display_data"
    }
   ],
   "source": [
    "#find z-scores of each column\n",
    "sapply(df, function(df) (df-mean(df))/sd(df))"
   ]
  },
  {
   "cell_type": "code",
   "execution_count": null,
   "id": "b2d5a82f-22d9-4fa5-b4b9-e81ee83c75d9",
   "metadata": {},
   "outputs": [],
   "source": []
  }
 ],
 "metadata": {
  "kernelspec": {
   "display_name": "R",
   "language": "R",
   "name": "ir"
  },
  "language_info": {
   "codemirror_mode": "r",
   "file_extension": ".r",
   "mimetype": "text/x-r-source",
   "name": "R",
   "pygments_lexer": "r",
   "version": "4.3.1"
  }
 },
 "nbformat": 4,
 "nbformat_minor": 5
}
