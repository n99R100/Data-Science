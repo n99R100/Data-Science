{
 "cells": [
  {
   "cell_type": "markdown",
   "id": "489b64a7",
   "metadata": {},
   "source": [
    "1. Linear Algebra:\n",
    "\n",
    "- Vectors and vector spaces\n",
    "- Matrix operations (addition, multiplication)\n",
    "- Eigenvalues and eigenvectors\n",
    "- Matrix decomposition (e.g., singular value decomposition)\n",
    "\n",
    "2. Calculus:\n",
    "\n",
    "- Differentiation and integration\n",
    "- Partial derivatives\n",
    "- Gradient descent (optimization)\n",
    "- Limits and continuity\n",
    "\n",
    "3. Probability:\n",
    "\n",
    "- Probability distributions (e.g., Gaussian, Poisson, binomial)\n",
    "- Conditional probability\n",
    "- Bayes' theorem\n",
    "- Random variables and expected values\n",
    "- Probability density and mass functions\n",
    "\n",
    "4. Statistics:\n",
    "\n",
    "- Descriptive statistics (mean, median, variance, standard deviation)\n",
    "- Hypothesis testing\n",
    "- Confidence intervals\n",
    "- Regression analysis (linear and logistic regression)\n",
    "- ANOVA (Analysis of Variance)\n",
    "- Sampling techniques\n",
    "- Bayesian statistics\n",
    "\n",
    "5. Multivariate Calculus:\n",
    "\n",
    "- Gradients, Hessians, and Jacobians\n",
    "- Multiple integrals\n",
    "- Lagrange multipliers (constrained optimization)\n",
    "- Principal component analysis (PCA)\n",
    "\n",
    "6. Optimization:\n",
    "\n",
    "- Convex optimization\n",
    "- Non-linear optimization\n",
    "- Gradient descent variants (e.g., stochastic gradient descent)\n",
    "\n",
    "7. Information Theory:\n",
    "\n",
    "- Entropy and cross-entropy\n",
    "- Kullback-Leibler divergence\n",
    "\n",
    "8. Discrete Mathematics:\n",
    "\n",
    "- Set theory\n",
    "- Combinatorics\n",
    "- Graph theory\n",
    "- Discrete probability distributions\n",
    "\n",
    "9. Numerical Methods:\n",
    "\n",
    "- Root finding (e.g., Newton's method)\n",
    "- Numerical integration\n",
    "- Linear and nonlinear solvers\n",
    "- Interpolation and approximation\n",
    "\n",
    "10. Differential Equations:\n",
    "- Ordinary differential equations (ODEs)\n",
    "- Partial differential equations (PDEs)\n",
    "\n",
    "11. Linear Programming:\n",
    "- Linear programming problems and solutions\n",
    "\n",
    "12. Time Series Analysis:\n",
    "- Autocorrelation and cross-correlation\n",
    "- Seasonality and trend analysis\n",
    "- ARIMA models\n",
    "\n",
    "13. Real Analysis (optional but beneficial):\n",
    "- Limits, continuity, and differentiability\n",
    "- Sequences and series\n",
    "\n",
    "14. Functional Analysis (optional but beneficial):\n",
    "- Normed vector spaces\n",
    "- Hilbert spaces\n",
    "\n",
    "15. Complex Analysis (optional but beneficial):\n",
    "- Analytic functions\n",
    "- Contour integration"
   ]
  },
  {
   "cell_type": "markdown",
   "id": "0cfe5467",
   "metadata": {},
   "source": [
    "<h1><font face='Verdana'; size='20'; color='Navy'><b>1. Linear Algebra</b></font></h1>"
   ]
  },
  {
   "cell_type": "markdown",
   "id": "2b1f5ae9",
   "metadata": {},
   "source": [
    "<h3><font face='callibri'; size='6'; color='tomato'><b>Modules / Packages</b></font></h3>"
   ]
  },
  {
   "cell_type": "markdown",
   "id": "5723854f",
   "metadata": {},
   "source": [
    "## Numerical"
   ]
  },
  {
   "cell_type": "code",
   "execution_count": null,
   "id": "2aa0c146",
   "metadata": {},
   "outputs": [],
   "source": [
    "import numpy as np\n",
    "import scipy as sp\n",
    "import pandas as pd"
   ]
  },
  {
   "cell_type": "markdown",
   "id": "e0465140",
   "metadata": {},
   "source": [
    "## Symbolic"
   ]
  },
  {
   "cell_type": "code",
   "execution_count": null,
   "id": "8a1c26fe",
   "metadata": {},
   "outputs": [],
   "source": [
    "import sympy as sym"
   ]
  },
  {
   "cell_type": "markdown",
   "id": "32044072",
   "metadata": {},
   "source": [
    "## Plots"
   ]
  },
  {
   "cell_type": "code",
   "execution_count": null,
   "id": "2787a56b",
   "metadata": {},
   "outputs": [],
   "source": [
    "import plotly.graph_objects as go\n",
    "from plotly.subplots import make_subplots\n",
    "from plotly.offline import init_notebook_mode, iplot"
   ]
  },
  {
   "cell_type": "code",
   "execution_count": null,
   "id": "b24ec56f",
   "metadata": {},
   "outputs": [],
   "source": [
    "init_notebook_mode(connected=True)"
   ]
  },
  {
   "cell_type": "markdown",
   "id": "0a03e4b4",
   "metadata": {},
   "source": [
    "<h3><font face='callibri'; size='6'; color='tomato'><b>Constants</b></font></h3>"
   ]
  },
  {
   "cell_type": "code",
   "execution_count": null,
   "id": "383670dc",
   "metadata": {},
   "outputs": [],
   "source": []
  },
  {
   "cell_type": "markdown",
   "id": "cdb76716",
   "metadata": {},
   "source": [
    "<h3><font face='callibri'; size='6'; color='tomato'><b>Variables</b></font></h3>"
   ]
  },
  {
   "cell_type": "code",
   "execution_count": null,
   "id": "53000788",
   "metadata": {},
   "outputs": [],
   "source": []
  },
  {
   "cell_type": "markdown",
   "id": "83233e25",
   "metadata": {},
   "source": [
    "<h3><font face='callibri'; size='6'; color='tomato'><b>Exponents</b></font></h3>"
   ]
  },
  {
   "cell_type": "code",
   "execution_count": null,
   "id": "52041edf",
   "metadata": {},
   "outputs": [],
   "source": []
  },
  {
   "cell_type": "markdown",
   "id": "13969733",
   "metadata": {},
   "source": [
    "<h3><font face='callibri'; size='6'; color='tomato'><b></b>Expression</font></h3>"
   ]
  },
  {
   "cell_type": "code",
   "execution_count": null,
   "id": "348ca4d1",
   "metadata": {},
   "outputs": [],
   "source": []
  },
  {
   "cell_type": "markdown",
   "id": "6d17123e",
   "metadata": {},
   "source": [
    "<h3><font face='callibri'; size='6'; color='tomato'><b>Equations</b></font></h3>"
   ]
  },
  {
   "cell_type": "code",
   "execution_count": null,
   "id": "b214b715",
   "metadata": {},
   "outputs": [],
   "source": []
  },
  {
   "cell_type": "markdown",
   "id": "68aa9206",
   "metadata": {},
   "source": [
    "<h3><font face='callibri'; size='6'; color='tomato'><b>Inequalities</b></font></h3>"
   ]
  },
  {
   "cell_type": "code",
   "execution_count": null,
   "id": "37bf7237",
   "metadata": {},
   "outputs": [],
   "source": []
  },
  {
   "cell_type": "markdown",
   "id": "1e616a7a",
   "metadata": {},
   "source": [
    "<h3><font face='callibri'; size='6'; color='tomato'><b>Logarithms</b></font></h3>"
   ]
  },
  {
   "cell_type": "code",
   "execution_count": null,
   "id": "1e177382",
   "metadata": {},
   "outputs": [],
   "source": []
  },
  {
   "cell_type": "markdown",
   "id": "5b211fbc",
   "metadata": {},
   "source": [
    "<h3><font face='callibri'; size='6'; color='tomato'><b>Functions</b></font></h3>"
   ]
  },
  {
   "cell_type": "code",
   "execution_count": null,
   "id": "8f3af25e",
   "metadata": {},
   "outputs": [],
   "source": []
  },
  {
   "cell_type": "markdown",
   "id": "8cbee236",
   "metadata": {},
   "source": [
    "<h3><font face='callibri'; size='6'; color='tomato'><b>Composite Functions</b></font></h3>"
   ]
  },
  {
   "cell_type": "code",
   "execution_count": null,
   "id": "57574e97",
   "metadata": {},
   "outputs": [],
   "source": []
  },
  {
   "cell_type": "markdown",
   "id": "bded2464",
   "metadata": {},
   "source": [
    "<h3><font face='callibri'; size='6'; color='tomato'><b>Absolute value Functions</b></font></h3>"
   ]
  },
  {
   "cell_type": "code",
   "execution_count": null,
   "id": "76095004",
   "metadata": {},
   "outputs": [],
   "source": []
  },
  {
   "cell_type": "markdown",
   "id": "a3f742f4",
   "metadata": {},
   "source": [
    "<h3><font face='callibri'; size='6'; color='tomato'><b>Complex Numbers</b></font></h3>"
   ]
  },
  {
   "cell_type": "code",
   "execution_count": null,
   "id": "ec59eca0",
   "metadata": {},
   "outputs": [],
   "source": []
  },
  {
   "cell_type": "markdown",
   "id": "dc1fa5fa",
   "metadata": {},
   "source": [
    "<h3><font face='callibri'; size='6'; color='tomato'><b>Polynomials</b></font></h3>"
   ]
  },
  {
   "cell_type": "code",
   "execution_count": null,
   "id": "442bb3ec",
   "metadata": {},
   "outputs": [],
   "source": []
  },
  {
   "cell_type": "markdown",
   "id": "db6bde9a",
   "metadata": {},
   "source": [
    "<h3><font face='callibri'; size='6'; color='tomato'><b>Trigonometry</b></font></h3>"
   ]
  },
  {
   "cell_type": "code",
   "execution_count": null,
   "id": "abfec393",
   "metadata": {},
   "outputs": [],
   "source": []
  },
  {
   "cell_type": "markdown",
   "id": "7cbf2f18",
   "metadata": {},
   "source": [
    "<h3><font face='callibri'; size='6'; color='tomato'><b>Vectors</b></font></h3>"
   ]
  },
  {
   "cell_type": "code",
   "execution_count": null,
   "id": "11eda543",
   "metadata": {},
   "outputs": [],
   "source": []
  },
  {
   "cell_type": "markdown",
   "id": "daac8577",
   "metadata": {},
   "source": [
    "<h3><font face='callibri'; size='6'; color='tomato'><b>Matrix</b></font></h3>"
   ]
  },
  {
   "cell_type": "code",
   "execution_count": null,
   "id": "2012f911",
   "metadata": {},
   "outputs": [],
   "source": []
  },
  {
   "cell_type": "markdown",
   "id": "85d60591",
   "metadata": {},
   "source": [
    "<h3><font face='callibri'; size='6'; color='tomato'><b>Matrix Decomposition</b></font></h3>"
   ]
  },
  {
   "cell_type": "code",
   "execution_count": null,
   "id": "1902b12f",
   "metadata": {},
   "outputs": [],
   "source": []
  },
  {
   "cell_type": "markdown",
   "id": "acfc00e1",
   "metadata": {},
   "source": [
    "<h1><font face='Verdana'; size='20'; color='Navy'><b>2. Calculus</b></font></h1>"
   ]
  },
  {
   "cell_type": "markdown",
   "id": "77e0ea42",
   "metadata": {},
   "source": [
    "<h3><font face='callibri'; size='6'; color='salmon'><b>Limits</b></font></h3>"
   ]
  },
  {
   "cell_type": "code",
   "execution_count": null,
   "id": "cd17807e",
   "metadata": {},
   "outputs": [],
   "source": []
  },
  {
   "cell_type": "markdown",
   "id": "63443521",
   "metadata": {},
   "source": [
    "<h3><font face='callibri'; size='6'; color='salmon'><b>Differentiation</b></font></h3>"
   ]
  },
  {
   "cell_type": "code",
   "execution_count": null,
   "id": "be223d4e",
   "metadata": {},
   "outputs": [],
   "source": []
  },
  {
   "cell_type": "markdown",
   "id": "0f4539ef",
   "metadata": {},
   "source": [
    "<h3><font face='callibri'; size='6'; color='salmon'><b>Integration</b></font></h3>"
   ]
  },
  {
   "cell_type": "code",
   "execution_count": null,
   "id": "f992d9b6",
   "metadata": {},
   "outputs": [],
   "source": []
  },
  {
   "cell_type": "markdown",
   "id": "77a1bf5e",
   "metadata": {},
   "source": [
    "<h3><font face='callibri'; size='6'; color='salmon'><b>Multi-variable calculus</b></font></h3>"
   ]
  },
  {
   "cell_type": "code",
   "execution_count": null,
   "id": "57ecfe55",
   "metadata": {},
   "outputs": [],
   "source": []
  },
  {
   "cell_type": "markdown",
   "id": "f99b24e6",
   "metadata": {},
   "source": [
    "<h3><font face='callibri'; size='6'; color='salmon'><b>Gradient Descent</b></font></h3>"
   ]
  },
  {
   "cell_type": "code",
   "execution_count": null,
   "id": "53f26bae",
   "metadata": {},
   "outputs": [],
   "source": []
  },
  {
   "cell_type": "markdown",
   "id": "4b9ce69b",
   "metadata": {},
   "source": [
    "<h3><font face='callibri'; size='6'; color='salmon'><b>Optimization</b></font></h3>"
   ]
  },
  {
   "cell_type": "code",
   "execution_count": null,
   "id": "8a3b1b06",
   "metadata": {},
   "outputs": [],
   "source": []
  },
  {
   "cell_type": "markdown",
   "id": "33257513",
   "metadata": {},
   "source": [
    "<h3><font face='callibri'; size='6'; color='salmon'><b>ODE</b></font></h3>"
   ]
  },
  {
   "cell_type": "code",
   "execution_count": null,
   "id": "e145730d",
   "metadata": {},
   "outputs": [],
   "source": []
  },
  {
   "cell_type": "markdown",
   "id": "f2999f6f",
   "metadata": {},
   "source": [
    "<h3><font face='callibri'; size='6'; color='salmon'><b>PDE</b></font></h3>"
   ]
  },
  {
   "cell_type": "code",
   "execution_count": null,
   "id": "677c6ca1",
   "metadata": {},
   "outputs": [],
   "source": []
  }
 ],
 "metadata": {
  "kernelspec": {
   "display_name": "Python 3 (ipykernel)",
   "language": "python",
   "name": "python3"
  },
  "language_info": {
   "codemirror_mode": {
    "name": "ipython",
    "version": 3
   },
   "file_extension": ".py",
   "mimetype": "text/x-python",
   "name": "python",
   "nbconvert_exporter": "python",
   "pygments_lexer": "ipython3",
   "version": "3.11.3"
  }
 },
 "nbformat": 4,
 "nbformat_minor": 5
}
